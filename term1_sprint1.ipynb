{
 "cells": [
  {
   "cell_type": "markdown",
   "metadata": {},
   "source": [
    "# Sprint 機械学習フロー"
   ]
  },
  {
   "cell_type": "markdown",
   "metadata": {},
   "source": [
    "## 1.このSprintについて\n",
    "### Sprintの目的\n",
    "- 機械学習の実践的な流れを知る\n",
    "- 高い汎化性能を持つモデルを完成させる\n",
    "\n",
    "### どのように学ぶか\n",
    "丁寧な検証が行える状態にした上で、他者の解法を参考に汎化性能の高いモデル作りを進めます。\n",
    "\n",
    "## 2.機械学習フロー\n",
    "Kaggleの Home Credit Default Risk コンペティションを題材に、機械学習の実践的な流れを学びます。<br>\n",
    "特に適切な 検証 を行い、高い 汎化性能 のあるモデルを完成させることを目指します。<br>"
   ]
  },
  {
   "cell_type": "markdown",
   "metadata": {},
   "source": [
    "### 【問題1】クロスバリデーション\n",
    "事前学習期間では検証データをはじめに分割しておき、それに対して指標値を計算することで検証を行っていました。（ホールドアウト法）<br>\n",
    "しかし、分割の仕方により精度は変化します。実践的には クロスバリデーション（交差検証） を行います。<br>\n",
    "分割を複数回行い、それぞれに対して学習と検証を行う方法です。複数回の分割のためにscikit-learnにはKFoldクラスが用意されています。<br>\n",
    "事前学習期間の課題で作成したベースラインモデルに対してKFoldクラスによるクロスバリデーションを行うコードを作成し実行してください。<br>"
   ]
  },
  {
   "cell_type": "code",
   "execution_count": 1,
   "metadata": {},
   "outputs": [],
   "source": [
    "import numpy as np\n",
    "import pandas as pd"
   ]
  },
  {
   "cell_type": "code",
   "execution_count": 2,
   "metadata": {},
   "outputs": [],
   "source": [
    "train_df = pd.read_csv(\"application_train.csv\")\n",
    "test_df = pd.read_csv(\"application_test.csv\")\n",
    "df_copy = test_df.copy(deep=False)"
   ]
  },
  {
   "cell_type": "code",
   "execution_count": 3,
   "metadata": {},
   "outputs": [
    {
     "data": {
      "text/html": [
       "<div>\n",
       "<style scoped>\n",
       "    .dataframe tbody tr th:only-of-type {\n",
       "        vertical-align: middle;\n",
       "    }\n",
       "\n",
       "    .dataframe tbody tr th {\n",
       "        vertical-align: top;\n",
       "    }\n",
       "\n",
       "    .dataframe thead th {\n",
       "        text-align: right;\n",
       "    }\n",
       "</style>\n",
       "<table border=\"1\" class=\"dataframe\">\n",
       "  <thead>\n",
       "    <tr style=\"text-align: right;\">\n",
       "      <th></th>\n",
       "      <th>SK_ID_CURR</th>\n",
       "      <th>TARGET</th>\n",
       "      <th>NAME_CONTRACT_TYPE</th>\n",
       "      <th>CODE_GENDER</th>\n",
       "      <th>FLAG_OWN_CAR</th>\n",
       "      <th>FLAG_OWN_REALTY</th>\n",
       "      <th>CNT_CHILDREN</th>\n",
       "      <th>AMT_INCOME_TOTAL</th>\n",
       "      <th>AMT_CREDIT</th>\n",
       "      <th>AMT_ANNUITY</th>\n",
       "      <th>...</th>\n",
       "      <th>FLAG_DOCUMENT_18</th>\n",
       "      <th>FLAG_DOCUMENT_19</th>\n",
       "      <th>FLAG_DOCUMENT_20</th>\n",
       "      <th>FLAG_DOCUMENT_21</th>\n",
       "      <th>AMT_REQ_CREDIT_BUREAU_HOUR</th>\n",
       "      <th>AMT_REQ_CREDIT_BUREAU_DAY</th>\n",
       "      <th>AMT_REQ_CREDIT_BUREAU_WEEK</th>\n",
       "      <th>AMT_REQ_CREDIT_BUREAU_MON</th>\n",
       "      <th>AMT_REQ_CREDIT_BUREAU_QRT</th>\n",
       "      <th>AMT_REQ_CREDIT_BUREAU_YEAR</th>\n",
       "    </tr>\n",
       "  </thead>\n",
       "  <tbody>\n",
       "    <tr>\n",
       "      <th>0</th>\n",
       "      <td>100002</td>\n",
       "      <td>1</td>\n",
       "      <td>Cash loans</td>\n",
       "      <td>M</td>\n",
       "      <td>N</td>\n",
       "      <td>Y</td>\n",
       "      <td>0</td>\n",
       "      <td>202500.0</td>\n",
       "      <td>406597.5</td>\n",
       "      <td>24700.5</td>\n",
       "      <td>...</td>\n",
       "      <td>0</td>\n",
       "      <td>0</td>\n",
       "      <td>0</td>\n",
       "      <td>0</td>\n",
       "      <td>0.0</td>\n",
       "      <td>0.0</td>\n",
       "      <td>0.0</td>\n",
       "      <td>0.0</td>\n",
       "      <td>0.0</td>\n",
       "      <td>1.0</td>\n",
       "    </tr>\n",
       "    <tr>\n",
       "      <th>1</th>\n",
       "      <td>100003</td>\n",
       "      <td>0</td>\n",
       "      <td>Cash loans</td>\n",
       "      <td>F</td>\n",
       "      <td>N</td>\n",
       "      <td>N</td>\n",
       "      <td>0</td>\n",
       "      <td>270000.0</td>\n",
       "      <td>1293502.5</td>\n",
       "      <td>35698.5</td>\n",
       "      <td>...</td>\n",
       "      <td>0</td>\n",
       "      <td>0</td>\n",
       "      <td>0</td>\n",
       "      <td>0</td>\n",
       "      <td>0.0</td>\n",
       "      <td>0.0</td>\n",
       "      <td>0.0</td>\n",
       "      <td>0.0</td>\n",
       "      <td>0.0</td>\n",
       "      <td>0.0</td>\n",
       "    </tr>\n",
       "    <tr>\n",
       "      <th>2</th>\n",
       "      <td>100004</td>\n",
       "      <td>0</td>\n",
       "      <td>Revolving loans</td>\n",
       "      <td>M</td>\n",
       "      <td>Y</td>\n",
       "      <td>Y</td>\n",
       "      <td>0</td>\n",
       "      <td>67500.0</td>\n",
       "      <td>135000.0</td>\n",
       "      <td>6750.0</td>\n",
       "      <td>...</td>\n",
       "      <td>0</td>\n",
       "      <td>0</td>\n",
       "      <td>0</td>\n",
       "      <td>0</td>\n",
       "      <td>0.0</td>\n",
       "      <td>0.0</td>\n",
       "      <td>0.0</td>\n",
       "      <td>0.0</td>\n",
       "      <td>0.0</td>\n",
       "      <td>0.0</td>\n",
       "    </tr>\n",
       "    <tr>\n",
       "      <th>3</th>\n",
       "      <td>100006</td>\n",
       "      <td>0</td>\n",
       "      <td>Cash loans</td>\n",
       "      <td>F</td>\n",
       "      <td>N</td>\n",
       "      <td>Y</td>\n",
       "      <td>0</td>\n",
       "      <td>135000.0</td>\n",
       "      <td>312682.5</td>\n",
       "      <td>29686.5</td>\n",
       "      <td>...</td>\n",
       "      <td>0</td>\n",
       "      <td>0</td>\n",
       "      <td>0</td>\n",
       "      <td>0</td>\n",
       "      <td>NaN</td>\n",
       "      <td>NaN</td>\n",
       "      <td>NaN</td>\n",
       "      <td>NaN</td>\n",
       "      <td>NaN</td>\n",
       "      <td>NaN</td>\n",
       "    </tr>\n",
       "    <tr>\n",
       "      <th>4</th>\n",
       "      <td>100007</td>\n",
       "      <td>0</td>\n",
       "      <td>Cash loans</td>\n",
       "      <td>M</td>\n",
       "      <td>N</td>\n",
       "      <td>Y</td>\n",
       "      <td>0</td>\n",
       "      <td>121500.0</td>\n",
       "      <td>513000.0</td>\n",
       "      <td>21865.5</td>\n",
       "      <td>...</td>\n",
       "      <td>0</td>\n",
       "      <td>0</td>\n",
       "      <td>0</td>\n",
       "      <td>0</td>\n",
       "      <td>0.0</td>\n",
       "      <td>0.0</td>\n",
       "      <td>0.0</td>\n",
       "      <td>0.0</td>\n",
       "      <td>0.0</td>\n",
       "      <td>0.0</td>\n",
       "    </tr>\n",
       "  </tbody>\n",
       "</table>\n",
       "<p>5 rows × 122 columns</p>\n",
       "</div>"
      ],
      "text/plain": [
       "   SK_ID_CURR  TARGET NAME_CONTRACT_TYPE CODE_GENDER FLAG_OWN_CAR  \\\n",
       "0      100002       1         Cash loans           M            N   \n",
       "1      100003       0         Cash loans           F            N   \n",
       "2      100004       0    Revolving loans           M            Y   \n",
       "3      100006       0         Cash loans           F            N   \n",
       "4      100007       0         Cash loans           M            N   \n",
       "\n",
       "  FLAG_OWN_REALTY  CNT_CHILDREN  AMT_INCOME_TOTAL  AMT_CREDIT  AMT_ANNUITY  \\\n",
       "0               Y             0          202500.0    406597.5      24700.5   \n",
       "1               N             0          270000.0   1293502.5      35698.5   \n",
       "2               Y             0           67500.0    135000.0       6750.0   \n",
       "3               Y             0          135000.0    312682.5      29686.5   \n",
       "4               Y             0          121500.0    513000.0      21865.5   \n",
       "\n",
       "              ...              FLAG_DOCUMENT_18 FLAG_DOCUMENT_19  \\\n",
       "0             ...                             0                0   \n",
       "1             ...                             0                0   \n",
       "2             ...                             0                0   \n",
       "3             ...                             0                0   \n",
       "4             ...                             0                0   \n",
       "\n",
       "  FLAG_DOCUMENT_20 FLAG_DOCUMENT_21 AMT_REQ_CREDIT_BUREAU_HOUR  \\\n",
       "0                0                0                        0.0   \n",
       "1                0                0                        0.0   \n",
       "2                0                0                        0.0   \n",
       "3                0                0                        NaN   \n",
       "4                0                0                        0.0   \n",
       "\n",
       "  AMT_REQ_CREDIT_BUREAU_DAY  AMT_REQ_CREDIT_BUREAU_WEEK  \\\n",
       "0                       0.0                         0.0   \n",
       "1                       0.0                         0.0   \n",
       "2                       0.0                         0.0   \n",
       "3                       NaN                         NaN   \n",
       "4                       0.0                         0.0   \n",
       "\n",
       "   AMT_REQ_CREDIT_BUREAU_MON  AMT_REQ_CREDIT_BUREAU_QRT  \\\n",
       "0                        0.0                        0.0   \n",
       "1                        0.0                        0.0   \n",
       "2                        0.0                        0.0   \n",
       "3                        NaN                        NaN   \n",
       "4                        0.0                        0.0   \n",
       "\n",
       "   AMT_REQ_CREDIT_BUREAU_YEAR  \n",
       "0                         1.0  \n",
       "1                         0.0  \n",
       "2                         0.0  \n",
       "3                         NaN  \n",
       "4                         0.0  \n",
       "\n",
       "[5 rows x 122 columns]"
      ]
     },
     "execution_count": 3,
     "metadata": {},
     "output_type": "execute_result"
    }
   ],
   "source": [
    "train_df.head()"
   ]
  },
  {
   "cell_type": "code",
   "execution_count": 4,
   "metadata": {},
   "outputs": [
    {
     "name": "stderr",
     "output_type": "stream",
     "text": [
      "/Users/arisa/.pyenv/versions/anaconda3-5.3.1/lib/python3.7/site-packages/ipykernel_launcher.py:5: FutureWarning: Sorting because non-concatenation axis is not aligned. A future version\n",
      "of pandas will change to not sort by default.\n",
      "\n",
      "To accept the future behavior, pass 'sort=False'.\n",
      "\n",
      "To retain the current behavior and silence the warning, pass 'sort=True'.\n",
      "\n",
      "  \"\"\"\n"
     ]
    }
   ],
   "source": [
    "# 学習データから目的変数を分ける\n",
    "X_train_df = train_df.iloc[:, 2:]\n",
    "y_train_df = train_df.iloc[:, 1:2]\n",
    "# 学習データの説明変数とテストデータを結合\n",
    "X_all_df = pd.concat([X_train_df, test_df]) "
   ]
  },
  {
   "cell_type": "code",
   "execution_count": 5,
   "metadata": {},
   "outputs": [
    {
     "data": {
      "text/html": [
       "<div>\n",
       "<style scoped>\n",
       "    .dataframe tbody tr th:only-of-type {\n",
       "        vertical-align: middle;\n",
       "    }\n",
       "\n",
       "    .dataframe tbody tr th {\n",
       "        vertical-align: top;\n",
       "    }\n",
       "\n",
       "    .dataframe thead th {\n",
       "        text-align: right;\n",
       "    }\n",
       "</style>\n",
       "<table border=\"1\" class=\"dataframe\">\n",
       "  <thead>\n",
       "    <tr style=\"text-align: right;\">\n",
       "      <th></th>\n",
       "      <th>NAME_CONTRACT_TYPE</th>\n",
       "      <th>CODE_GENDER</th>\n",
       "      <th>FLAG_OWN_CAR</th>\n",
       "      <th>FLAG_OWN_REALTY</th>\n",
       "      <th>CNT_CHILDREN</th>\n",
       "      <th>AMT_INCOME_TOTAL</th>\n",
       "      <th>AMT_CREDIT</th>\n",
       "      <th>AMT_ANNUITY</th>\n",
       "      <th>AMT_GOODS_PRICE</th>\n",
       "      <th>NAME_TYPE_SUITE</th>\n",
       "      <th>...</th>\n",
       "      <th>FLAG_DOCUMENT_18</th>\n",
       "      <th>FLAG_DOCUMENT_19</th>\n",
       "      <th>FLAG_DOCUMENT_20</th>\n",
       "      <th>FLAG_DOCUMENT_21</th>\n",
       "      <th>AMT_REQ_CREDIT_BUREAU_HOUR</th>\n",
       "      <th>AMT_REQ_CREDIT_BUREAU_DAY</th>\n",
       "      <th>AMT_REQ_CREDIT_BUREAU_WEEK</th>\n",
       "      <th>AMT_REQ_CREDIT_BUREAU_MON</th>\n",
       "      <th>AMT_REQ_CREDIT_BUREAU_QRT</th>\n",
       "      <th>AMT_REQ_CREDIT_BUREAU_YEAR</th>\n",
       "    </tr>\n",
       "  </thead>\n",
       "  <tbody>\n",
       "    <tr>\n",
       "      <th>0</th>\n",
       "      <td>Cash loans</td>\n",
       "      <td>M</td>\n",
       "      <td>N</td>\n",
       "      <td>Y</td>\n",
       "      <td>0</td>\n",
       "      <td>202500.0</td>\n",
       "      <td>406597.5</td>\n",
       "      <td>24700.5</td>\n",
       "      <td>351000.0</td>\n",
       "      <td>Unaccompanied</td>\n",
       "      <td>...</td>\n",
       "      <td>0</td>\n",
       "      <td>0</td>\n",
       "      <td>0</td>\n",
       "      <td>0</td>\n",
       "      <td>0.0</td>\n",
       "      <td>0.0</td>\n",
       "      <td>0.0</td>\n",
       "      <td>0.0</td>\n",
       "      <td>0.0</td>\n",
       "      <td>1.0</td>\n",
       "    </tr>\n",
       "    <tr>\n",
       "      <th>1</th>\n",
       "      <td>Cash loans</td>\n",
       "      <td>F</td>\n",
       "      <td>N</td>\n",
       "      <td>N</td>\n",
       "      <td>0</td>\n",
       "      <td>270000.0</td>\n",
       "      <td>1293502.5</td>\n",
       "      <td>35698.5</td>\n",
       "      <td>1129500.0</td>\n",
       "      <td>Family</td>\n",
       "      <td>...</td>\n",
       "      <td>0</td>\n",
       "      <td>0</td>\n",
       "      <td>0</td>\n",
       "      <td>0</td>\n",
       "      <td>0.0</td>\n",
       "      <td>0.0</td>\n",
       "      <td>0.0</td>\n",
       "      <td>0.0</td>\n",
       "      <td>0.0</td>\n",
       "      <td>0.0</td>\n",
       "    </tr>\n",
       "    <tr>\n",
       "      <th>2</th>\n",
       "      <td>Revolving loans</td>\n",
       "      <td>M</td>\n",
       "      <td>Y</td>\n",
       "      <td>Y</td>\n",
       "      <td>0</td>\n",
       "      <td>67500.0</td>\n",
       "      <td>135000.0</td>\n",
       "      <td>6750.0</td>\n",
       "      <td>135000.0</td>\n",
       "      <td>Unaccompanied</td>\n",
       "      <td>...</td>\n",
       "      <td>0</td>\n",
       "      <td>0</td>\n",
       "      <td>0</td>\n",
       "      <td>0</td>\n",
       "      <td>0.0</td>\n",
       "      <td>0.0</td>\n",
       "      <td>0.0</td>\n",
       "      <td>0.0</td>\n",
       "      <td>0.0</td>\n",
       "      <td>0.0</td>\n",
       "    </tr>\n",
       "    <tr>\n",
       "      <th>3</th>\n",
       "      <td>Cash loans</td>\n",
       "      <td>F</td>\n",
       "      <td>N</td>\n",
       "      <td>Y</td>\n",
       "      <td>0</td>\n",
       "      <td>135000.0</td>\n",
       "      <td>312682.5</td>\n",
       "      <td>29686.5</td>\n",
       "      <td>297000.0</td>\n",
       "      <td>Unaccompanied</td>\n",
       "      <td>...</td>\n",
       "      <td>0</td>\n",
       "      <td>0</td>\n",
       "      <td>0</td>\n",
       "      <td>0</td>\n",
       "      <td>NaN</td>\n",
       "      <td>NaN</td>\n",
       "      <td>NaN</td>\n",
       "      <td>NaN</td>\n",
       "      <td>NaN</td>\n",
       "      <td>NaN</td>\n",
       "    </tr>\n",
       "    <tr>\n",
       "      <th>4</th>\n",
       "      <td>Cash loans</td>\n",
       "      <td>M</td>\n",
       "      <td>N</td>\n",
       "      <td>Y</td>\n",
       "      <td>0</td>\n",
       "      <td>121500.0</td>\n",
       "      <td>513000.0</td>\n",
       "      <td>21865.5</td>\n",
       "      <td>513000.0</td>\n",
       "      <td>Unaccompanied</td>\n",
       "      <td>...</td>\n",
       "      <td>0</td>\n",
       "      <td>0</td>\n",
       "      <td>0</td>\n",
       "      <td>0</td>\n",
       "      <td>0.0</td>\n",
       "      <td>0.0</td>\n",
       "      <td>0.0</td>\n",
       "      <td>0.0</td>\n",
       "      <td>0.0</td>\n",
       "      <td>0.0</td>\n",
       "    </tr>\n",
       "  </tbody>\n",
       "</table>\n",
       "<p>5 rows × 120 columns</p>\n",
       "</div>"
      ],
      "text/plain": [
       "  NAME_CONTRACT_TYPE CODE_GENDER FLAG_OWN_CAR FLAG_OWN_REALTY  CNT_CHILDREN  \\\n",
       "0         Cash loans           M            N               Y             0   \n",
       "1         Cash loans           F            N               N             0   \n",
       "2    Revolving loans           M            Y               Y             0   \n",
       "3         Cash loans           F            N               Y             0   \n",
       "4         Cash loans           M            N               Y             0   \n",
       "\n",
       "   AMT_INCOME_TOTAL  AMT_CREDIT  AMT_ANNUITY  AMT_GOODS_PRICE NAME_TYPE_SUITE  \\\n",
       "0          202500.0    406597.5      24700.5         351000.0   Unaccompanied   \n",
       "1          270000.0   1293502.5      35698.5        1129500.0          Family   \n",
       "2           67500.0    135000.0       6750.0         135000.0   Unaccompanied   \n",
       "3          135000.0    312682.5      29686.5         297000.0   Unaccompanied   \n",
       "4          121500.0    513000.0      21865.5         513000.0   Unaccompanied   \n",
       "\n",
       "              ...             FLAG_DOCUMENT_18 FLAG_DOCUMENT_19  \\\n",
       "0             ...                            0                0   \n",
       "1             ...                            0                0   \n",
       "2             ...                            0                0   \n",
       "3             ...                            0                0   \n",
       "4             ...                            0                0   \n",
       "\n",
       "  FLAG_DOCUMENT_20 FLAG_DOCUMENT_21  AMT_REQ_CREDIT_BUREAU_HOUR  \\\n",
       "0                0                0                         0.0   \n",
       "1                0                0                         0.0   \n",
       "2                0                0                         0.0   \n",
       "3                0                0                         NaN   \n",
       "4                0                0                         0.0   \n",
       "\n",
       "   AMT_REQ_CREDIT_BUREAU_DAY  AMT_REQ_CREDIT_BUREAU_WEEK  \\\n",
       "0                        0.0                         0.0   \n",
       "1                        0.0                         0.0   \n",
       "2                        0.0                         0.0   \n",
       "3                        NaN                         NaN   \n",
       "4                        0.0                         0.0   \n",
       "\n",
       "   AMT_REQ_CREDIT_BUREAU_MON  AMT_REQ_CREDIT_BUREAU_QRT  \\\n",
       "0                        0.0                        0.0   \n",
       "1                        0.0                        0.0   \n",
       "2                        0.0                        0.0   \n",
       "3                        NaN                        NaN   \n",
       "4                        0.0                        0.0   \n",
       "\n",
       "   AMT_REQ_CREDIT_BUREAU_YEAR  \n",
       "0                         1.0  \n",
       "1                         0.0  \n",
       "2                         0.0  \n",
       "3                         NaN  \n",
       "4                         0.0  \n",
       "\n",
       "[5 rows x 120 columns]"
      ]
     },
     "execution_count": 5,
     "metadata": {},
     "output_type": "execute_result"
    }
   ],
   "source": [
    "X_train_df.head()"
   ]
  },
  {
   "cell_type": "code",
   "execution_count": 6,
   "metadata": {},
   "outputs": [
    {
     "data": {
      "text/html": [
       "<div>\n",
       "<style scoped>\n",
       "    .dataframe tbody tr th:only-of-type {\n",
       "        vertical-align: middle;\n",
       "    }\n",
       "\n",
       "    .dataframe tbody tr th {\n",
       "        vertical-align: top;\n",
       "    }\n",
       "\n",
       "    .dataframe thead th {\n",
       "        text-align: right;\n",
       "    }\n",
       "</style>\n",
       "<table border=\"1\" class=\"dataframe\">\n",
       "  <thead>\n",
       "    <tr style=\"text-align: right;\">\n",
       "      <th></th>\n",
       "      <th>TARGET</th>\n",
       "    </tr>\n",
       "  </thead>\n",
       "  <tbody>\n",
       "    <tr>\n",
       "      <th>0</th>\n",
       "      <td>1</td>\n",
       "    </tr>\n",
       "    <tr>\n",
       "      <th>1</th>\n",
       "      <td>0</td>\n",
       "    </tr>\n",
       "    <tr>\n",
       "      <th>2</th>\n",
       "      <td>0</td>\n",
       "    </tr>\n",
       "    <tr>\n",
       "      <th>3</th>\n",
       "      <td>0</td>\n",
       "    </tr>\n",
       "    <tr>\n",
       "      <th>4</th>\n",
       "      <td>0</td>\n",
       "    </tr>\n",
       "  </tbody>\n",
       "</table>\n",
       "</div>"
      ],
      "text/plain": [
       "   TARGET\n",
       "0       1\n",
       "1       0\n",
       "2       0\n",
       "3       0\n",
       "4       0"
      ]
     },
     "execution_count": 6,
     "metadata": {},
     "output_type": "execute_result"
    }
   ],
   "source": [
    "y_train_df.head()"
   ]
  },
  {
   "cell_type": "code",
   "execution_count": 7,
   "metadata": {},
   "outputs": [],
   "source": [
    "# 学習に使う特徴量を絞る\n",
    "index_array = X_all_df.columns\n",
    "index_list = index_array.tolist()\n",
    "index_list.remove(\"DAYS_BIRTH\")\n",
    "index_list.remove(\"EXT_SOURCE_1\")\n",
    "index_list.remove(\"EXT_SOURCE_2\")\n",
    "index_list.remove(\"EXT_SOURCE_3\")\n",
    "X_all_df.drop(columns=index_list, inplace=True)"
   ]
  },
  {
   "cell_type": "code",
   "execution_count": 8,
   "metadata": {},
   "outputs": [
    {
     "data": {
      "text/plain": [
       "DAYS_BIRTH           0\n",
       "EXT_SOURCE_1    193910\n",
       "EXT_SOURCE_2       668\n",
       "EXT_SOURCE_3     69633\n",
       "dtype: int64"
      ]
     },
     "execution_count": 8,
     "metadata": {},
     "output_type": "execute_result"
    }
   ],
   "source": [
    "# 欠損値を確認する\n",
    "X_all_df.isnull().sum()"
   ]
  },
  {
   "cell_type": "code",
   "execution_count": 9,
   "metadata": {},
   "outputs": [],
   "source": [
    "# 欠損値を0で埋める\n",
    "X_all_df.fillna(0, inplace=True)"
   ]
  },
  {
   "cell_type": "code",
   "execution_count": 10,
   "metadata": {},
   "outputs": [
    {
     "data": {
      "text/plain": [
       "DAYS_BIRTH      0\n",
       "EXT_SOURCE_1    0\n",
       "EXT_SOURCE_2    0\n",
       "EXT_SOURCE_3    0\n",
       "dtype: int64"
      ]
     },
     "execution_count": 10,
     "metadata": {},
     "output_type": "execute_result"
    }
   ],
   "source": [
    "X_all_df.isnull().sum()"
   ]
  },
  {
   "cell_type": "code",
   "execution_count": 11,
   "metadata": {},
   "outputs": [],
   "source": [
    "# 結合データをtrainデータとtestデータに分ける\n",
    "X_train_df = X_all_df.iloc[:train_df.shape[0], :]\n",
    "X_test_df = X_all_df.iloc[train_df.shape[0]:, :]"
   ]
  },
  {
   "cell_type": "code",
   "execution_count": 12,
   "metadata": {},
   "outputs": [],
   "source": [
    "# df→ndarray\n",
    "X_train = X_train_df.values\n",
    "X_test = X_test_df.values\n",
    "# y.shape(sample,)に型変換\n",
    "y_train = y_train_df.values\n",
    "y_train = y_train.reshape(y_train.shape[0])"
   ]
  },
  {
   "cell_type": "code",
   "execution_count": 13,
   "metadata": {},
   "outputs": [
    {
     "name": "stdout",
     "output_type": "stream",
     "text": [
      "(307511, 4)\n",
      "(48744, 4)\n",
      "(307511,)\n"
     ]
    }
   ],
   "source": [
    "print(X_train.shape)\n",
    "print(X_test.shape)\n",
    "print(y_train.shape)"
   ]
  },
  {
   "cell_type": "markdown",
   "metadata": {},
   "source": [
    "【ROC曲線について】\n",
    "ROC曲線(Receiver Operatorating Characteristic curve、受信者動作特性曲線)は、もともとレーダーシステムの通信工学理論として開発されたものであり、レーダー信号のノイズの中から敵機の存在を検出するための方法として開発された方法です。<br>\n",
    "ROC解析を行う前提条件としては、説明変数が連続変数であり、アウトカムである目的変数が二分変数であるという事です<br>\n",
    "参考<br>\n",
    "http://www.med.osaka-u.ac.jp/pub/kid/clinicaljournalclub6.html"
   ]
  },
  {
   "cell_type": "code",
   "execution_count": 14,
   "metadata": {},
   "outputs": [
    {
     "name": "stdout",
     "output_type": "stream",
     "text": [
      "0.7017859086738075\n"
     ]
    }
   ],
   "source": [
    "# KFoldクラスでtrainデータをクロスバリデーションで分割\n",
    "# 標準化\n",
    "# ロジスティック回帰で学習\n",
    "# ROC曲線下面積(AUC)で評価:スコアが高い方が良いモデル\n",
    "from sklearn.model_selection import KFold\n",
    "from sklearn.preprocessing import StandardScaler\n",
    "from sklearn.linear_model import LogisticRegression\n",
    "from sklearn.metrics import roc_auc_score\n",
    "\n",
    "kf = KFold(n_splits=4, shuffle=True, random_state=71)\n",
    "scores = [] \n",
    "for tr_idx, va_idx in kf.split(X_train):\n",
    "    tr_x, va_x = X_train[tr_idx], X_train[va_idx]\n",
    "    tr_y, va_y = y_train[tr_idx], y_train[va_idx]\n",
    "    # 標準化\n",
    "    scaler_x = StandardScaler()\n",
    "    # Xのみ標準化\n",
    "    scaler_x.fit(tr_x)\n",
    "    tr_x_std = scaler_x.transform(tr_x)\n",
    "    va_x_std = scaler_x.transform(va_x)\n",
    "    \n",
    "    # 学習の実行、バリデーションデータの予測値の出力、スコア計算\n",
    "    # ロジスティック回帰\n",
    "    model = LogisticRegression()\n",
    "    model.fit(tr_x_std, tr_y)\n",
    "    # predict_probaで1の確率を配列で渡す\n",
    "    va_pred = model.predict_proba(va_x_std)[:, 1]\n",
    "    # roc aucで評価\n",
    "    score = roc_auc_score(va_y, va_pred)\n",
    "    scores.append(score)\n",
    "    \n",
    "print(np.mean(scores))"
   ]
  },
  {
   "cell_type": "markdown",
   "metadata": {},
   "source": [
    "### 【問題2】グリッドサーチ\n",
    "scikit-learnのGridSearchCVを使い、グリッドサーチを行うコードを作成してください。そして、ベースラインモデルに対して何らかしらのパラメータチューニングを行なってください。どのパラメータをチューニングするかは、使用した手法の公式ドキュメントを参考にしてください。"
   ]
  },
  {
   "cell_type": "markdown",
   "metadata": {},
   "source": [
    "【ロジスティック回帰の計算方法】<br>\n",
    "$y = S(u)$<br>\n",
    "ニューロンの出力yは、uの値をシグモイド関数に欠けた結果<br>\n",
    "$u = \\sum_{w_i,x_i} + B$<br>\n",
    "u とは、それぞれの入力データ$x_i$と重み$w_i$の積の合計に、バイアスBを加えた値<br>\n",
    "$S(u) = \\frac{1}{1 + exp(-u)}$<br>\n",
    "本参照"
   ]
  },
  {
   "cell_type": "markdown",
   "metadata": {},
   "source": [
    "ロジスティック回帰について\n",
    "最適化問題として、バイナリクラス 　ペナルティ付きロジスティック回帰は，次のコスト関数を最小化する．\n",
    "$$\n",
    "\\min_{w, c} \\frac{1}{2}w^T w + C \\sum_{i=1}^n \\log(\\exp(- y_i (X_i^T w + c)) + 1) .\n",
    "$$\n",
    "https://scikit-learn.org/stable/modules/linear_model.html#logistic-regression"
   ]
  },
  {
   "cell_type": "markdown",
   "metadata": {},
   "source": [
    "【正則化】\n",
    "正則化はモデルのパラメータの学習に使われ、特に過学習を防ぎ、汎化能力を高めるために使われる。<br>\n",
    "機械学習において最も一般的なのは L1 正則化 (p=1) と L2 正則化 (p=2) である。損失関数 ${\\displaystyle E({\\boldsymbol {w}})}$の代わりに、<br>\n",
    "$E({\\boldsymbol {w}})+\\lambda {\\frac {1}{p}}\\sum _{i}|w_{i}|^{p}$\n",
    "を使用する。<br>\n",
    "L2の場合ならp=2なので<br>\n",
    "$E({\\boldsymbol {w}})+\\lambda {\\frac {1}{2}}\\sum _{i}|w_{i}|^{2}$<br>\n",
    "$\\frac{1}{2}$かけるのは微分しやすいように<br>\n",
    "今回のCは逆数なので$C=1÷\\lambda = \\frac {1}{\\lambda}$であり、正の値。<br>\n",
    "一般的に0.001、0.01など$10^{-10*x}$の数が入る\n",
    "参考：https://ja.wikipedia.org/wiki/%E6%AD%A3%E5%89%87%E5%8C%96\n",
    "https://ai-trend.jp/basic-study/neural-network/regularization/"
   ]
  },
  {
   "cell_type": "code",
   "execution_count": 15,
   "metadata": {},
   "outputs": [],
   "source": [
    "# trainデータを訓練データ（train）75%、検証データ(var)25%で分割\n",
    "from sklearn.model_selection import train_test_split\n",
    "tr_x, va_x, tr_y, va_y = train_test_split(X_train_df, y_train_df, test_size=0.25, random_state=0)"
   ]
  },
  {
   "cell_type": "code",
   "execution_count": 16,
   "metadata": {},
   "outputs": [],
   "source": [
    "# y.shape(sample,)に型変換\n",
    "tr_y = tr_y.values.reshape(tr_y.shape[0])\n",
    "va_y = va_y.values.reshape(va_y.shape[0])"
   ]
  },
  {
   "cell_type": "code",
   "execution_count": 17,
   "metadata": {},
   "outputs": [
    {
     "data": {
      "text/plain": [
       "(76878,)"
      ]
     },
     "execution_count": 17,
     "metadata": {},
     "output_type": "execute_result"
    }
   ],
   "source": [
    "va_y.shape"
   ]
  },
  {
   "cell_type": "code",
   "execution_count": 18,
   "metadata": {},
   "outputs": [],
   "source": [
    "# Xのみ標準化\n",
    "from sklearn.preprocessing import StandardScaler\n",
    "scaler_x = StandardScaler()\n",
    "scaler_x.fit(tr_x)\n",
    "tr_x_std = scaler_x.transform(tr_x)\n",
    "va_x_std = scaler_x.transform(va_x)"
   ]
  },
  {
   "cell_type": "code",
   "execution_count": 19,
   "metadata": {},
   "outputs": [
    {
     "name": "stdout",
     "output_type": "stream",
     "text": [
      "0.7013727730104501\n"
     ]
    }
   ],
   "source": [
    "# train_test_splitで分割したtrainデータでグリッドサーチ\n",
    "from sklearn.model_selection import GridSearchCV\n",
    "parameters = {\"penalty\":[\"l1\",\"l2\"],\"C\":[0.001, 0.01,0.1]}\n",
    "logreg= LogisticRegression()\n",
    "clf = GridSearchCV(logreg, parameters)\n",
    "clf.fit(tr_x_std, tr_y)\n",
    "# predict_probaで1の確率を配列で渡す\n",
    "va_pred = clf.predict_proba(tr_x_std)[:, 1]\n",
    "# roc aucで評価\n",
    "score = roc_auc_score(tr_y, va_pred)\n",
    "print(score)"
   ]
  },
  {
   "cell_type": "markdown",
   "metadata": {},
   "source": [
    "【考察】\n",
    "同じ条件で、グリッドサーチをしなかった場合のRUCスコアは0.701192403718053だったので0.00004ほどしか上がらなかった"
   ]
  },
  {
   "cell_type": "code",
   "execution_count": 20,
   "metadata": {},
   "outputs": [],
   "source": [
    "# 分割前のXのみ標準化\n",
    "scaler = StandardScaler()\n",
    "scaler.fit(X_train)\n",
    "X_train_std = scaler.transform(X_train)"
   ]
  },
  {
   "cell_type": "code",
   "execution_count": 21,
   "metadata": {},
   "outputs": [
    {
     "name": "stdout",
     "output_type": "stream",
     "text": [
      "0.7015516811934406\n"
     ]
    }
   ],
   "source": [
    "# グリッドサーチ+クロスバリデーション4のときの結果も確認\n",
    "parameters = {\"penalty\":[\"l1\",\"l2\"],\"C\":[0.001, 0.01,0.1]}\n",
    "logreg= LogisticRegression()\n",
    "clf = GridSearchCV(logreg, parameters, cv=4)\n",
    "clf.fit(X_train_std, y_train)\n",
    "# predict_probaで1の確率を配列で渡す\n",
    "va_pred = clf.predict_proba(X_train_std)[:, 1]\n",
    "# roc aucで評価\n",
    "score = roc_auc_score(y_train, va_pred)\n",
    "print(score)"
   ]
  },
  {
   "cell_type": "markdown",
   "metadata": {},
   "source": [
    "【考察】<br>\n",
    "クロスバリデーションも行うと、グリッドサーチともにしなかった時に比べ、0.0002ほど上がった"
   ]
  },
  {
   "cell_type": "code",
   "execution_count": 22,
   "metadata": {},
   "outputs": [
    {
     "name": "stderr",
     "output_type": "stream",
     "text": [
      "/Users/arisa/.pyenv/versions/anaconda3-5.3.1/lib/python3.7/site-packages/sklearn/utils/deprecation.py:122: FutureWarning: You are accessing a training score ('split0_train_score'), which will not be available by default any more in 0.21. If you need training scores, please set return_train_score=True\n",
      "  warnings.warn(*warn_args, **warn_kwargs)\n",
      "/Users/arisa/.pyenv/versions/anaconda3-5.3.1/lib/python3.7/site-packages/sklearn/utils/deprecation.py:122: FutureWarning: You are accessing a training score ('split1_train_score'), which will not be available by default any more in 0.21. If you need training scores, please set return_train_score=True\n",
      "  warnings.warn(*warn_args, **warn_kwargs)\n",
      "/Users/arisa/.pyenv/versions/anaconda3-5.3.1/lib/python3.7/site-packages/sklearn/utils/deprecation.py:122: FutureWarning: You are accessing a training score ('split2_train_score'), which will not be available by default any more in 0.21. If you need training scores, please set return_train_score=True\n",
      "  warnings.warn(*warn_args, **warn_kwargs)\n",
      "/Users/arisa/.pyenv/versions/anaconda3-5.3.1/lib/python3.7/site-packages/sklearn/utils/deprecation.py:122: FutureWarning: You are accessing a training score ('split3_train_score'), which will not be available by default any more in 0.21. If you need training scores, please set return_train_score=True\n",
      "  warnings.warn(*warn_args, **warn_kwargs)\n",
      "/Users/arisa/.pyenv/versions/anaconda3-5.3.1/lib/python3.7/site-packages/sklearn/utils/deprecation.py:122: FutureWarning: You are accessing a training score ('mean_train_score'), which will not be available by default any more in 0.21. If you need training scores, please set return_train_score=True\n",
      "  warnings.warn(*warn_args, **warn_kwargs)\n",
      "/Users/arisa/.pyenv/versions/anaconda3-5.3.1/lib/python3.7/site-packages/sklearn/utils/deprecation.py:122: FutureWarning: You are accessing a training score ('std_train_score'), which will not be available by default any more in 0.21. If you need training scores, please set return_train_score=True\n",
      "  warnings.warn(*warn_args, **warn_kwargs)\n"
     ]
    },
    {
     "data": {
      "text/html": [
       "<div>\n",
       "<style scoped>\n",
       "    .dataframe tbody tr th:only-of-type {\n",
       "        vertical-align: middle;\n",
       "    }\n",
       "\n",
       "    .dataframe tbody tr th {\n",
       "        vertical-align: top;\n",
       "    }\n",
       "\n",
       "    .dataframe thead th {\n",
       "        text-align: right;\n",
       "    }\n",
       "</style>\n",
       "<table border=\"1\" class=\"dataframe\">\n",
       "  <thead>\n",
       "    <tr style=\"text-align: right;\">\n",
       "      <th></th>\n",
       "      <th>mean_fit_time</th>\n",
       "      <th>std_fit_time</th>\n",
       "      <th>mean_score_time</th>\n",
       "      <th>std_score_time</th>\n",
       "      <th>param_C</th>\n",
       "      <th>param_penalty</th>\n",
       "      <th>params</th>\n",
       "      <th>split0_test_score</th>\n",
       "      <th>split1_test_score</th>\n",
       "      <th>split2_test_score</th>\n",
       "      <th>split3_test_score</th>\n",
       "      <th>mean_test_score</th>\n",
       "      <th>std_test_score</th>\n",
       "      <th>rank_test_score</th>\n",
       "      <th>split0_train_score</th>\n",
       "      <th>split1_train_score</th>\n",
       "      <th>split2_train_score</th>\n",
       "      <th>split3_train_score</th>\n",
       "      <th>mean_train_score</th>\n",
       "      <th>std_train_score</th>\n",
       "    </tr>\n",
       "  </thead>\n",
       "  <tbody>\n",
       "    <tr>\n",
       "      <th>0</th>\n",
       "      <td>0.201597</td>\n",
       "      <td>0.002668</td>\n",
       "      <td>0.005401</td>\n",
       "      <td>0.000567</td>\n",
       "      <td>0.001</td>\n",
       "      <td>l1</td>\n",
       "      <td>{'C': 0.001, 'penalty': 'l1'}</td>\n",
       "      <td>0.919263</td>\n",
       "      <td>0.919275</td>\n",
       "      <td>0.919274</td>\n",
       "      <td>0.919274</td>\n",
       "      <td>0.919271</td>\n",
       "      <td>0.000005</td>\n",
       "      <td>1</td>\n",
       "      <td>0.919274</td>\n",
       "      <td>0.91927</td>\n",
       "      <td>0.91927</td>\n",
       "      <td>0.91927</td>\n",
       "      <td>0.919271</td>\n",
       "      <td>0.000002</td>\n",
       "    </tr>\n",
       "    <tr>\n",
       "      <th>1</th>\n",
       "      <td>0.185024</td>\n",
       "      <td>0.001575</td>\n",
       "      <td>0.005259</td>\n",
       "      <td>0.000362</td>\n",
       "      <td>0.001</td>\n",
       "      <td>l2</td>\n",
       "      <td>{'C': 0.001, 'penalty': 'l2'}</td>\n",
       "      <td>0.919263</td>\n",
       "      <td>0.919275</td>\n",
       "      <td>0.919274</td>\n",
       "      <td>0.919274</td>\n",
       "      <td>0.919271</td>\n",
       "      <td>0.000005</td>\n",
       "      <td>1</td>\n",
       "      <td>0.919274</td>\n",
       "      <td>0.91927</td>\n",
       "      <td>0.91927</td>\n",
       "      <td>0.91927</td>\n",
       "      <td>0.919271</td>\n",
       "      <td>0.000002</td>\n",
       "    </tr>\n",
       "    <tr>\n",
       "      <th>2</th>\n",
       "      <td>0.204581</td>\n",
       "      <td>0.005383</td>\n",
       "      <td>0.005289</td>\n",
       "      <td>0.000263</td>\n",
       "      <td>0.01</td>\n",
       "      <td>l1</td>\n",
       "      <td>{'C': 0.01, 'penalty': 'l1'}</td>\n",
       "      <td>0.919263</td>\n",
       "      <td>0.919275</td>\n",
       "      <td>0.919274</td>\n",
       "      <td>0.919274</td>\n",
       "      <td>0.919271</td>\n",
       "      <td>0.000005</td>\n",
       "      <td>1</td>\n",
       "      <td>0.919274</td>\n",
       "      <td>0.91927</td>\n",
       "      <td>0.91927</td>\n",
       "      <td>0.91927</td>\n",
       "      <td>0.919271</td>\n",
       "      <td>0.000002</td>\n",
       "    </tr>\n",
       "    <tr>\n",
       "      <th>3</th>\n",
       "      <td>0.181204</td>\n",
       "      <td>0.005183</td>\n",
       "      <td>0.005258</td>\n",
       "      <td>0.000180</td>\n",
       "      <td>0.01</td>\n",
       "      <td>l2</td>\n",
       "      <td>{'C': 0.01, 'penalty': 'l2'}</td>\n",
       "      <td>0.919263</td>\n",
       "      <td>0.919275</td>\n",
       "      <td>0.919274</td>\n",
       "      <td>0.919274</td>\n",
       "      <td>0.919271</td>\n",
       "      <td>0.000005</td>\n",
       "      <td>1</td>\n",
       "      <td>0.919274</td>\n",
       "      <td>0.91927</td>\n",
       "      <td>0.91927</td>\n",
       "      <td>0.91927</td>\n",
       "      <td>0.919271</td>\n",
       "      <td>0.000002</td>\n",
       "    </tr>\n",
       "    <tr>\n",
       "      <th>4</th>\n",
       "      <td>0.211123</td>\n",
       "      <td>0.005383</td>\n",
       "      <td>0.005250</td>\n",
       "      <td>0.000285</td>\n",
       "      <td>0.1</td>\n",
       "      <td>l1</td>\n",
       "      <td>{'C': 0.1, 'penalty': 'l1'}</td>\n",
       "      <td>0.919263</td>\n",
       "      <td>0.919275</td>\n",
       "      <td>0.919274</td>\n",
       "      <td>0.919274</td>\n",
       "      <td>0.919271</td>\n",
       "      <td>0.000005</td>\n",
       "      <td>1</td>\n",
       "      <td>0.919274</td>\n",
       "      <td>0.91927</td>\n",
       "      <td>0.91927</td>\n",
       "      <td>0.91927</td>\n",
       "      <td>0.919271</td>\n",
       "      <td>0.000002</td>\n",
       "    </tr>\n",
       "    <tr>\n",
       "      <th>5</th>\n",
       "      <td>0.184339</td>\n",
       "      <td>0.000761</td>\n",
       "      <td>0.004975</td>\n",
       "      <td>0.000183</td>\n",
       "      <td>0.1</td>\n",
       "      <td>l2</td>\n",
       "      <td>{'C': 0.1, 'penalty': 'l2'}</td>\n",
       "      <td>0.919263</td>\n",
       "      <td>0.919275</td>\n",
       "      <td>0.919274</td>\n",
       "      <td>0.919274</td>\n",
       "      <td>0.919271</td>\n",
       "      <td>0.000005</td>\n",
       "      <td>1</td>\n",
       "      <td>0.919274</td>\n",
       "      <td>0.91927</td>\n",
       "      <td>0.91927</td>\n",
       "      <td>0.91927</td>\n",
       "      <td>0.919271</td>\n",
       "      <td>0.000002</td>\n",
       "    </tr>\n",
       "  </tbody>\n",
       "</table>\n",
       "</div>"
      ],
      "text/plain": [
       "   mean_fit_time  std_fit_time  mean_score_time  std_score_time param_C  \\\n",
       "0       0.201597      0.002668         0.005401        0.000567   0.001   \n",
       "1       0.185024      0.001575         0.005259        0.000362   0.001   \n",
       "2       0.204581      0.005383         0.005289        0.000263    0.01   \n",
       "3       0.181204      0.005183         0.005258        0.000180    0.01   \n",
       "4       0.211123      0.005383         0.005250        0.000285     0.1   \n",
       "5       0.184339      0.000761         0.004975        0.000183     0.1   \n",
       "\n",
       "  param_penalty                         params  split0_test_score  \\\n",
       "0            l1  {'C': 0.001, 'penalty': 'l1'}           0.919263   \n",
       "1            l2  {'C': 0.001, 'penalty': 'l2'}           0.919263   \n",
       "2            l1   {'C': 0.01, 'penalty': 'l1'}           0.919263   \n",
       "3            l2   {'C': 0.01, 'penalty': 'l2'}           0.919263   \n",
       "4            l1    {'C': 0.1, 'penalty': 'l1'}           0.919263   \n",
       "5            l2    {'C': 0.1, 'penalty': 'l2'}           0.919263   \n",
       "\n",
       "   split1_test_score  split2_test_score  split3_test_score  mean_test_score  \\\n",
       "0           0.919275           0.919274           0.919274         0.919271   \n",
       "1           0.919275           0.919274           0.919274         0.919271   \n",
       "2           0.919275           0.919274           0.919274         0.919271   \n",
       "3           0.919275           0.919274           0.919274         0.919271   \n",
       "4           0.919275           0.919274           0.919274         0.919271   \n",
       "5           0.919275           0.919274           0.919274         0.919271   \n",
       "\n",
       "   std_test_score  rank_test_score  split0_train_score  split1_train_score  \\\n",
       "0        0.000005                1            0.919274             0.91927   \n",
       "1        0.000005                1            0.919274             0.91927   \n",
       "2        0.000005                1            0.919274             0.91927   \n",
       "3        0.000005                1            0.919274             0.91927   \n",
       "4        0.000005                1            0.919274             0.91927   \n",
       "5        0.000005                1            0.919274             0.91927   \n",
       "\n",
       "   split2_train_score  split3_train_score  mean_train_score  std_train_score  \n",
       "0             0.91927             0.91927          0.919271         0.000002  \n",
       "1             0.91927             0.91927          0.919271         0.000002  \n",
       "2             0.91927             0.91927          0.919271         0.000002  \n",
       "3             0.91927             0.91927          0.919271         0.000002  \n",
       "4             0.91927             0.91927          0.919271         0.000002  \n",
       "5             0.91927             0.91927          0.919271         0.000002  "
      ]
     },
     "execution_count": 22,
     "metadata": {},
     "output_type": "execute_result"
    }
   ],
   "source": [
    "pd.DataFrame.from_dict(clf.cv_results_)"
   ]
  },
  {
   "cell_type": "code",
   "execution_count": 23,
   "metadata": {},
   "outputs": [
    {
     "data": {
      "text/plain": [
       "{'C': 0.001, 'penalty': 'l1'}"
      ]
     },
     "execution_count": 23,
     "metadata": {},
     "output_type": "execute_result"
    }
   ],
   "source": [
    "clf.best_params_"
   ]
  },
  {
   "cell_type": "markdown",
   "metadata": {},
   "source": [
    "## 【問題3】Kaggle Notebooksからの調査\n",
    "KaggleのNotebooksから様々なアイデアを見つけ出して、列挙してください。"
   ]
  },
  {
   "cell_type": "markdown",
   "metadata": {},
   "source": [
    "- LightGBMを使用している人が多い（Microsoftが提供している決定木の勾配ブースティング）　google colabではそのまま使える\n",
    "- StratifiedKFoldを使用している人もいた（目的変数「TARGET」の値が1の割合が1割程度と少なかったので、比べてみるのも良いかも）\n",
    "- 欠損値を平均した値で埋めている人がいた\n",
    "- ランダムフォレストを使用している人もいた"
   ]
  },
  {
   "cell_type": "markdown",
   "metadata": {},
   "source": [
    " ## 【問題4】高い汎化性能のモデル作成\n",
    "問題3で見つけたアイデアと、独自のアイデアを組み合わせ高い汎化性能のモデル作りを進めてください。<br>\n",
    "その過程として、何を行うことで、クロスバリデーションの結果がどの程度変化したかを表にまとめてください。"
   ]
  },
  {
   "cell_type": "markdown",
   "metadata": {},
   "source": [
    "- 決定木のバギングがランダムフォレストなので、モデルをランダムフォレストにしてみる\n",
    "- StratifiedKFoldを使用してみる\n",
    "- 欠損値を平均した値で埋める\n",
    "- グリッドサーチのCの値に0.0001を追加してみる\n",
    "- 比較のベースモデルはクロスバリデーション4、ロジスティック回帰C: 0.001, penalty: l1、欠損値は0で埋める"
   ]
  },
  {
   "cell_type": "code",
   "execution_count": 24,
   "metadata": {},
   "outputs": [],
   "source": [
    "df = pd.DataFrame({\"base\":score}, index=[\"ROCAUC\"])"
   ]
  },
  {
   "cell_type": "code",
   "execution_count": 25,
   "metadata": {},
   "outputs": [
    {
     "name": "stderr",
     "output_type": "stream",
     "text": [
      "/Users/arisa/.pyenv/versions/anaconda3-5.3.1/lib/python3.7/site-packages/sklearn/ensemble/weight_boosting.py:29: DeprecationWarning: numpy.core.umath_tests is an internal NumPy module and should not be imported. It will be removed in a future NumPy release.\n",
      "  from numpy.core.umath_tests import inner1d\n"
     ]
    },
    {
     "name": "stdout",
     "output_type": "stream",
     "text": [
      "0.7193368574414214\n"
     ]
    }
   ],
   "source": [
    "# クロスバリデーション4+ランダムフォレスト\n",
    "from sklearn.ensemble import RandomForestClassifier\n",
    "kf = KFold(n_splits=4, shuffle=True, random_state=71)\n",
    "scores = [] \n",
    "for tr_idx, va_idx in kf.split(X_train):\n",
    "    tr_x, va_x = X_train[tr_idx], X_train[va_idx]\n",
    "    tr_y, va_y = y_train[tr_idx], y_train[va_idx]\n",
    "    # 標準化\n",
    "    scaler_x = StandardScaler()\n",
    "    # Xのみ標準化\n",
    "    scaler_x.fit(tr_x)\n",
    "    tr_x_std = scaler_x.transform(tr_x)\n",
    "    va_x_std = scaler_x.transform(va_x)\n",
    "    \n",
    "    # 学習の実行、バリデーションデータの予測値の出力、スコア計算\n",
    "    # ランダムフォレスト\n",
    "    model = RandomForestClassifier(n_estimators=50, max_depth=5, min_samples_split=2, min_samples_leaf=1)\n",
    "    model.fit(tr_x_std, tr_y)\n",
    "    # predict_probaで1の確率を配列で渡す\n",
    "    va_pred = model.predict_proba(va_x_std)[:, 1]\n",
    "    # roc aucで評価\n",
    "    score = roc_auc_score(va_y, va_pred)\n",
    "    scores.append(score)\n",
    "    \n",
    "print(np.mean(scores))"
   ]
  },
  {
   "cell_type": "code",
   "execution_count": 26,
   "metadata": {},
   "outputs": [
    {
     "data": {
      "text/html": [
       "<div>\n",
       "<style scoped>\n",
       "    .dataframe tbody tr th:only-of-type {\n",
       "        vertical-align: middle;\n",
       "    }\n",
       "\n",
       "    .dataframe tbody tr th {\n",
       "        vertical-align: top;\n",
       "    }\n",
       "\n",
       "    .dataframe thead th {\n",
       "        text-align: right;\n",
       "    }\n",
       "</style>\n",
       "<table border=\"1\" class=\"dataframe\">\n",
       "  <thead>\n",
       "    <tr style=\"text-align: right;\">\n",
       "      <th></th>\n",
       "      <th>base</th>\n",
       "      <th>ランダムフォレスト</th>\n",
       "    </tr>\n",
       "  </thead>\n",
       "  <tbody>\n",
       "    <tr>\n",
       "      <th>ROCAUC</th>\n",
       "      <td>0.701552</td>\n",
       "      <td>0.719337</td>\n",
       "    </tr>\n",
       "  </tbody>\n",
       "</table>\n",
       "</div>"
      ],
      "text/plain": [
       "            base  ランダムフォレスト\n",
       "ROCAUC  0.701552   0.719337"
      ]
     },
     "execution_count": 26,
     "metadata": {},
     "output_type": "execute_result"
    }
   ],
   "source": [
    "df = df.assign(ランダムフォレスト=[np.mean(scores)])\n",
    "df"
   ]
  },
  {
   "cell_type": "code",
   "execution_count": 27,
   "metadata": {},
   "outputs": [
    {
     "name": "stdout",
     "output_type": "stream",
     "text": [
      "0.7011298583091462\n"
     ]
    }
   ],
   "source": [
    "# StratifiedKFoldクラスでtrainデータを層化クロスバリデーションで分割\n",
    "# 標準化\n",
    "# ロジスティック回帰で学習\n",
    "# ROC曲線下面積(AUC)で評価:スコアが高い方が良いモデル\n",
    "from sklearn.model_selection import StratifiedKFold\n",
    "\n",
    "skf = KFold(n_splits=4, shuffle=True, random_state=71)\n",
    "scores = [] \n",
    "for tr_idx, va_idx in skf.split(X_train):\n",
    "    tr_x, va_x = X_train[tr_idx], X_train[va_idx]\n",
    "    tr_y, va_y = y_train[tr_idx], y_train[va_idx]\n",
    "    # 標準化\n",
    "    scaler_x = StandardScaler()\n",
    "    # Xのみ標準化\n",
    "    scaler_x.fit(tr_x)\n",
    "    tr_x_std = scaler_x.transform(tr_x)\n",
    "    va_x_std = scaler_x.transform(va_x)\n",
    "    \n",
    "    # 学習の実行、バリデーションデータの予測値の出力、スコア計算\n",
    "    # ロジスティック回帰 \n",
    "    model = LogisticRegression(C=0.001, penalty=\"l1\")\n",
    "    model.fit(tr_x_std, tr_y)\n",
    "    # predict_probaで1の確率を配列で渡す\n",
    "    va_pred = model.predict_proba(va_x_std)[:, 1]\n",
    "    # roc aucで評価\n",
    "    score = roc_auc_score(va_y, va_pred)\n",
    "    scores.append(score)\n",
    "    \n",
    "print(np.mean(scores))"
   ]
  },
  {
   "cell_type": "code",
   "execution_count": 28,
   "metadata": {},
   "outputs": [
    {
     "data": {
      "text/html": [
       "<div>\n",
       "<style scoped>\n",
       "    .dataframe tbody tr th:only-of-type {\n",
       "        vertical-align: middle;\n",
       "    }\n",
       "\n",
       "    .dataframe tbody tr th {\n",
       "        vertical-align: top;\n",
       "    }\n",
       "\n",
       "    .dataframe thead th {\n",
       "        text-align: right;\n",
       "    }\n",
       "</style>\n",
       "<table border=\"1\" class=\"dataframe\">\n",
       "  <thead>\n",
       "    <tr style=\"text-align: right;\">\n",
       "      <th></th>\n",
       "      <th>base</th>\n",
       "      <th>ランダムフォレスト</th>\n",
       "      <th>層化CV</th>\n",
       "    </tr>\n",
       "  </thead>\n",
       "  <tbody>\n",
       "    <tr>\n",
       "      <th>ROCAUC</th>\n",
       "      <td>0.701552</td>\n",
       "      <td>0.719337</td>\n",
       "      <td>0.70113</td>\n",
       "    </tr>\n",
       "  </tbody>\n",
       "</table>\n",
       "</div>"
      ],
      "text/plain": [
       "            base  ランダムフォレスト     層化CV\n",
       "ROCAUC  0.701552   0.719337  0.70113"
      ]
     },
     "execution_count": 28,
     "metadata": {},
     "output_type": "execute_result"
    }
   ],
   "source": [
    "df = df.assign(層化CV=[np.mean(scores)])\n",
    "df"
   ]
  },
  {
   "cell_type": "code",
   "execution_count": 29,
   "metadata": {},
   "outputs": [
    {
     "name": "stdout",
     "output_type": "stream",
     "text": [
      "0.6554299749021755\n"
     ]
    }
   ],
   "source": [
    "# グリッドサーチ+CV:Cの値に0.0001を追加してみる\n",
    "parameters = {\"penalty\":[\"l1\",\"l2\"],\"C\":[0.0001, 0.001]}\n",
    "logreg= LogisticRegression()\n",
    "clf = GridSearchCV(logreg, parameters, cv=4)\n",
    "clf.fit(X_train_std, y_train)\n",
    "# predict_probaで1の確率を配列で渡す\n",
    "va_pred = clf.predict_proba(X_train_std)[:, 1]\n",
    "# roc aucで評価\n",
    "score = roc_auc_score(y_train, va_pred)\n",
    "print(score)"
   ]
  },
  {
   "cell_type": "code",
   "execution_count": 30,
   "metadata": {},
   "outputs": [
    {
     "data": {
      "text/plain": [
       "{'C': 0.0001, 'penalty': 'l1'}"
      ]
     },
     "execution_count": 30,
     "metadata": {},
     "output_type": "execute_result"
    }
   ],
   "source": [
    "clf.best_params_"
   ]
  },
  {
   "cell_type": "code",
   "execution_count": 35,
   "metadata": {},
   "outputs": [
    {
     "data": {
      "text/html": [
       "<div>\n",
       "<style scoped>\n",
       "    .dataframe tbody tr th:only-of-type {\n",
       "        vertical-align: middle;\n",
       "    }\n",
       "\n",
       "    .dataframe tbody tr th {\n",
       "        vertical-align: top;\n",
       "    }\n",
       "\n",
       "    .dataframe thead th {\n",
       "        text-align: right;\n",
       "    }\n",
       "</style>\n",
       "<table border=\"1\" class=\"dataframe\">\n",
       "  <thead>\n",
       "    <tr style=\"text-align: right;\">\n",
       "      <th></th>\n",
       "      <th>base</th>\n",
       "      <th>ランダムフォレスト</th>\n",
       "      <th>層化CV</th>\n",
       "      <th>paramC</th>\n",
       "    </tr>\n",
       "  </thead>\n",
       "  <tbody>\n",
       "    <tr>\n",
       "      <th>ROCAUC</th>\n",
       "      <td>0.701552</td>\n",
       "      <td>0.719337</td>\n",
       "      <td>0.70113</td>\n",
       "      <td>0.65543</td>\n",
       "    </tr>\n",
       "  </tbody>\n",
       "</table>\n",
       "</div>"
      ],
      "text/plain": [
       "            base  ランダムフォレスト     層化CV   paramC\n",
       "ROCAUC  0.701552   0.719337  0.70113  0.65543"
      ]
     },
     "execution_count": 35,
     "metadata": {},
     "output_type": "execute_result"
    }
   ],
   "source": [
    "df = df.assign(paramC=[score])\n",
    "df"
   ]
  },
  {
   "cell_type": "code",
   "execution_count": 36,
   "metadata": {},
   "outputs": [],
   "source": [
    "# 読み込み直して、欠損値を平均で埋める\n",
    "train_df = pd.read_csv(\"application_train.csv\")\n",
    "test_df = pd.read_csv(\"application_test.csv\")\n",
    "df_copy = test_df.copy(deep=False)"
   ]
  },
  {
   "cell_type": "code",
   "execution_count": 37,
   "metadata": {},
   "outputs": [
    {
     "name": "stderr",
     "output_type": "stream",
     "text": [
      "/Users/arisa/.pyenv/versions/anaconda3-5.3.1/lib/python3.7/site-packages/ipykernel_launcher.py:5: FutureWarning: Sorting because non-concatenation axis is not aligned. A future version\n",
      "of pandas will change to not sort by default.\n",
      "\n",
      "To accept the future behavior, pass 'sort=False'.\n",
      "\n",
      "To retain the current behavior and silence the warning, pass 'sort=True'.\n",
      "\n",
      "  \"\"\"\n"
     ]
    }
   ],
   "source": [
    "# 学習データから目的変数を分ける\n",
    "X_train_df = train_df.iloc[:, 2:]\n",
    "y_train_df = train_df.iloc[:, 1:2]\n",
    "# 学習データの説明変数とテストデータを結合\n",
    "X_all_df = pd.concat([X_train_df, test_df]) "
   ]
  },
  {
   "cell_type": "code",
   "execution_count": 38,
   "metadata": {},
   "outputs": [],
   "source": [
    "# 学習に使う特徴量を絞る\n",
    "index_array = X_all_df.columns\n",
    "index_list = index_array.tolist()\n",
    "index_list.remove(\"DAYS_BIRTH\")\n",
    "index_list.remove(\"EXT_SOURCE_1\")\n",
    "index_list.remove(\"EXT_SOURCE_2\")\n",
    "index_list.remove(\"EXT_SOURCE_3\")\n",
    "X_all_df.drop(columns=index_list, inplace=True)"
   ]
  },
  {
   "cell_type": "code",
   "execution_count": 39,
   "metadata": {},
   "outputs": [
    {
     "data": {
      "text/plain": [
       "DAYS_BIRTH           0\n",
       "EXT_SOURCE_1    193910\n",
       "EXT_SOURCE_2       668\n",
       "EXT_SOURCE_3     69633\n",
       "dtype: int64"
      ]
     },
     "execution_count": 39,
     "metadata": {},
     "output_type": "execute_result"
    }
   ],
   "source": [
    "# 欠損値を確認する\n",
    "X_all_df.isnull().sum()"
   ]
  },
  {
   "cell_type": "code",
   "execution_count": 43,
   "metadata": {},
   "outputs": [
    {
     "data": {
      "text/plain": [
       "DAYS_BIRTH     -16041.248841\n",
       "EXT_SOURCE_1        0.501965\n",
       "EXT_SOURCE_2        0.514890\n",
       "EXT_SOURCE_3        0.509350\n",
       "dtype: float64"
      ]
     },
     "execution_count": 43,
     "metadata": {},
     "output_type": "execute_result"
    }
   ],
   "source": [
    "X_all_df.mean(axis=0)"
   ]
  },
  {
   "cell_type": "code",
   "execution_count": 46,
   "metadata": {},
   "outputs": [],
   "source": [
    "X_all_df = X_all_df.fillna({\"EXT_SOURCE_1\":0.501965, \"EXT_SOURCE_2\":0.514890, \"EXT_SOURCE_3\":0.509350})"
   ]
  },
  {
   "cell_type": "code",
   "execution_count": 49,
   "metadata": {},
   "outputs": [],
   "source": [
    "# 結合データをtrainデータとtestデータに分ける\n",
    "X_train_df = X_all_df.iloc[:train_df.shape[0], :]\n",
    "X_test_df = X_all_df.iloc[train_df.shape[0]:, :]"
   ]
  },
  {
   "cell_type": "code",
   "execution_count": 50,
   "metadata": {},
   "outputs": [],
   "source": [
    "# df→ndarray\n",
    "X_train = X_train_df.values\n",
    "X_test = X_test_df.values\n",
    "# y.shape(sample,)に型変換\n",
    "y_train = y_train_df.values\n",
    "y_train = y_train.reshape(y_train.shape[0])"
   ]
  },
  {
   "cell_type": "code",
   "execution_count": 61,
   "metadata": {},
   "outputs": [],
   "source": [
    "# 分割前のXのみ標準化\n",
    "scaler = StandardScaler()\n",
    "scaler.fit(X_train)\n",
    "X_train_std = scaler.transform(X_train)\n",
    "X_test_std = scaler.transform(X_test)"
   ]
  },
  {
   "cell_type": "code",
   "execution_count": 52,
   "metadata": {},
   "outputs": [
    {
     "name": "stdout",
     "output_type": "stream",
     "text": [
      "0.7200057708530866\n"
     ]
    }
   ],
   "source": [
    "# グリッドサーチ+クロスバリデーション4のときの結果も確認\n",
    "parameters = {\"penalty\":[\"l1\",\"l2\"],\"C\":[0.001, 0.01,0.1]}\n",
    "logreg= LogisticRegression()\n",
    "clf = GridSearchCV(logreg, parameters, cv=4)\n",
    "clf.fit(X_train_std, y_train)\n",
    "# predict_probaで1の確率を配列で渡す\n",
    "va_pred = clf.predict_proba(X_train_std)[:, 1]\n",
    "# roc aucで評価\n",
    "score = roc_auc_score(y_train, va_pred)\n",
    "print(score)"
   ]
  },
  {
   "cell_type": "code",
   "execution_count": 53,
   "metadata": {},
   "outputs": [
    {
     "data": {
      "text/plain": [
       "{'C': 0.001, 'penalty': 'l2'}"
      ]
     },
     "execution_count": 53,
     "metadata": {},
     "output_type": "execute_result"
    }
   ],
   "source": [
    "clf.best_params_"
   ]
  },
  {
   "cell_type": "code",
   "execution_count": 54,
   "metadata": {},
   "outputs": [
    {
     "data": {
      "text/html": [
       "<div>\n",
       "<style scoped>\n",
       "    .dataframe tbody tr th:only-of-type {\n",
       "        vertical-align: middle;\n",
       "    }\n",
       "\n",
       "    .dataframe tbody tr th {\n",
       "        vertical-align: top;\n",
       "    }\n",
       "\n",
       "    .dataframe thead th {\n",
       "        text-align: right;\n",
       "    }\n",
       "</style>\n",
       "<table border=\"1\" class=\"dataframe\">\n",
       "  <thead>\n",
       "    <tr style=\"text-align: right;\">\n",
       "      <th></th>\n",
       "      <th>base</th>\n",
       "      <th>ランダムフォレスト</th>\n",
       "      <th>層化CV</th>\n",
       "      <th>paramC</th>\n",
       "      <th>平均値で置換</th>\n",
       "    </tr>\n",
       "  </thead>\n",
       "  <tbody>\n",
       "    <tr>\n",
       "      <th>ROCAUC</th>\n",
       "      <td>0.701552</td>\n",
       "      <td>0.719337</td>\n",
       "      <td>0.70113</td>\n",
       "      <td>0.65543</td>\n",
       "      <td>0.720006</td>\n",
       "    </tr>\n",
       "  </tbody>\n",
       "</table>\n",
       "</div>"
      ],
      "text/plain": [
       "            base  ランダムフォレスト     層化CV   paramC    平均値で置換\n",
       "ROCAUC  0.701552   0.719337  0.70113  0.65543  0.720006"
      ]
     },
     "execution_count": 54,
     "metadata": {},
     "output_type": "execute_result"
    }
   ],
   "source": [
    "df = df.assign(平均値で置換=[score])\n",
    "df"
   ]
  },
  {
   "cell_type": "markdown",
   "metadata": {},
   "source": [
    "平均値で欠損値を置換+ランダムフォレストでより良いモデルになりそうなので検証する"
   ]
  },
  {
   "cell_type": "code",
   "execution_count": 55,
   "metadata": {},
   "outputs": [
    {
     "name": "stdout",
     "output_type": "stream",
     "text": [
      "0.7210132041110708\n"
     ]
    }
   ],
   "source": [
    "# クロスバリデーション4+ランダムフォレスト\n",
    "kf = KFold(n_splits=4, shuffle=True, random_state=71)\n",
    "scores = [] \n",
    "for tr_idx, va_idx in kf.split(X_train):\n",
    "    tr_x, va_x = X_train[tr_idx], X_train[va_idx]\n",
    "    tr_y, va_y = y_train[tr_idx], y_train[va_idx]\n",
    "    # 標準化\n",
    "    scaler_x = StandardScaler()\n",
    "    # Xのみ標準化\n",
    "    scaler_x.fit(tr_x)\n",
    "    tr_x_std = scaler_x.transform(tr_x)\n",
    "    va_x_std = scaler_x.transform(va_x)\n",
    "    \n",
    "    # 学習の実行、バリデーションデータの予測値の出力、スコア計算\n",
    "    # ランダムフォレスト\n",
    "    model = RandomForestClassifier(n_estimators=50, max_depth=5, min_samples_split=2, min_samples_leaf=1)\n",
    "    model.fit(tr_x_std, tr_y)\n",
    "    # predict_probaで1の確率を配列で渡す\n",
    "    va_pred = model.predict_proba(va_x_std)[:, 1]\n",
    "    # roc aucで評価\n",
    "    score = roc_auc_score(va_y, va_pred)\n",
    "    scores.append(score)\n",
    "    \n",
    "print(np.mean(scores))"
   ]
  },
  {
   "cell_type": "code",
   "execution_count": 56,
   "metadata": {},
   "outputs": [
    {
     "data": {
      "text/html": [
       "<div>\n",
       "<style scoped>\n",
       "    .dataframe tbody tr th:only-of-type {\n",
       "        vertical-align: middle;\n",
       "    }\n",
       "\n",
       "    .dataframe tbody tr th {\n",
       "        vertical-align: top;\n",
       "    }\n",
       "\n",
       "    .dataframe thead th {\n",
       "        text-align: right;\n",
       "    }\n",
       "</style>\n",
       "<table border=\"1\" class=\"dataframe\">\n",
       "  <thead>\n",
       "    <tr style=\"text-align: right;\">\n",
       "      <th></th>\n",
       "      <th>base</th>\n",
       "      <th>ランダムフォレスト</th>\n",
       "      <th>層化CV</th>\n",
       "      <th>paramC</th>\n",
       "      <th>平均値で置換</th>\n",
       "      <th>平均値で置換とランダムF</th>\n",
       "    </tr>\n",
       "  </thead>\n",
       "  <tbody>\n",
       "    <tr>\n",
       "      <th>ROCAUC</th>\n",
       "      <td>0.701552</td>\n",
       "      <td>0.719337</td>\n",
       "      <td>0.70113</td>\n",
       "      <td>0.65543</td>\n",
       "      <td>0.720006</td>\n",
       "      <td>0.721013</td>\n",
       "    </tr>\n",
       "  </tbody>\n",
       "</table>\n",
       "</div>"
      ],
      "text/plain": [
       "            base  ランダムフォレスト     層化CV   paramC    平均値で置換  平均値で置換とランダムF\n",
       "ROCAUC  0.701552   0.719337  0.70113  0.65543  0.720006      0.721013"
      ]
     },
     "execution_count": 56,
     "metadata": {},
     "output_type": "execute_result"
    }
   ],
   "source": [
    "df = df.assign(平均値で置換とランダムF=[np.mean(scores)])\n",
    "df"
   ]
  },
  {
   "cell_type": "markdown",
   "metadata": {},
   "source": [
    "ランダムフォレストのパラメータを微調整"
   ]
  },
  {
   "cell_type": "code",
   "execution_count": 57,
   "metadata": {},
   "outputs": [
    {
     "name": "stdout",
     "output_type": "stream",
     "text": [
      "0.7213289295710005\n"
     ]
    }
   ],
   "source": [
    "# クロスバリデーション4+ランダムフォレストn_estimators=100\n",
    "kf = KFold(n_splits=4, shuffle=True, random_state=71)\n",
    "scores = [] \n",
    "for tr_idx, va_idx in kf.split(X_train):\n",
    "    tr_x, va_x = X_train[tr_idx], X_train[va_idx]\n",
    "    tr_y, va_y = y_train[tr_idx], y_train[va_idx]\n",
    "    # 標準化\n",
    "    scaler_x = StandardScaler()\n",
    "    # Xのみ標準化\n",
    "    scaler_x.fit(tr_x)\n",
    "    tr_x_std = scaler_x.transform(tr_x)\n",
    "    va_x_std = scaler_x.transform(va_x)\n",
    "    \n",
    "    # 学習の実行、バリデーションデータの予測値の出力、スコア計算\n",
    "    # ランダムフォレスト\n",
    "    model = RandomForestClassifier(n_estimators=100, max_depth=5, min_samples_split=2, min_samples_leaf=1)\n",
    "    model.fit(tr_x_std, tr_y)\n",
    "    # predict_probaで1の確率を配列で渡す\n",
    "    va_pred = model.predict_proba(va_x_std)[:, 1]\n",
    "    # roc aucで評価\n",
    "    score = roc_auc_score(va_y, va_pred)\n",
    "    scores.append(score)\n",
    "    \n",
    "print(np.mean(scores))"
   ]
  },
  {
   "cell_type": "code",
   "execution_count": 58,
   "metadata": {},
   "outputs": [
    {
     "name": "stdout",
     "output_type": "stream",
     "text": [
      "0.7213946629493284\n"
     ]
    }
   ],
   "source": [
    "# クロスバリデーション4+ランダムフォレストn_estimators=150\n",
    "kf = KFold(n_splits=4, shuffle=True, random_state=71)\n",
    "scores = [] \n",
    "for tr_idx, va_idx in kf.split(X_train):\n",
    "    tr_x, va_x = X_train[tr_idx], X_train[va_idx]\n",
    "    tr_y, va_y = y_train[tr_idx], y_train[va_idx]\n",
    "    # 標準化\n",
    "    scaler_x = StandardScaler()\n",
    "    # Xのみ標準化\n",
    "    scaler_x.fit(tr_x)\n",
    "    tr_x_std = scaler_x.transform(tr_x)\n",
    "    va_x_std = scaler_x.transform(va_x)\n",
    "    \n",
    "    # 学習の実行、バリデーションデータの予測値の出力、スコア計算\n",
    "    # ランダムフォレスト\n",
    "    model = RandomForestClassifier(n_estimators=150, max_depth=5, min_samples_split=2, min_samples_leaf=1)\n",
    "    model.fit(tr_x_std, tr_y)\n",
    "    # predict_probaで1の確率を配列で渡す\n",
    "    va_pred = model.predict_proba(va_x_std)[:, 1]\n",
    "    # roc aucで評価\n",
    "    score = roc_auc_score(va_y, va_pred)\n",
    "    scores.append(score)\n",
    "    \n",
    "print(np.mean(scores))"
   ]
  },
  {
   "cell_type": "code",
   "execution_count": 59,
   "metadata": {},
   "outputs": [
    {
     "name": "stdout",
     "output_type": "stream",
     "text": [
      "0.7212446744632026\n"
     ]
    }
   ],
   "source": [
    "# クロスバリデーション4+ランダムフォレストn_estimators=300\n",
    "kf = KFold(n_splits=4, shuffle=True, random_state=71)\n",
    "scores = [] \n",
    "for tr_idx, va_idx in kf.split(X_train):\n",
    "    tr_x, va_x = X_train[tr_idx], X_train[va_idx]\n",
    "    tr_y, va_y = y_train[tr_idx], y_train[va_idx]\n",
    "    # 標準化\n",
    "    scaler_x = StandardScaler()\n",
    "    # Xのみ標準化\n",
    "    scaler_x.fit(tr_x)\n",
    "    tr_x_std = scaler_x.transform(tr_x)\n",
    "    va_x_std = scaler_x.transform(va_x)\n",
    "    \n",
    "    # 学習の実行、バリデーションデータの予測値の出力、スコア計算\n",
    "    # ランダムフォレスト\n",
    "    model = RandomForestClassifier(n_estimators=300, max_depth=5, min_samples_split=2, min_samples_leaf=1)\n",
    "    model.fit(tr_x_std, tr_y)\n",
    "    # predict_probaで1の確率を配列で渡す\n",
    "    va_pred = model.predict_proba(va_x_std)[:, 1]\n",
    "    # roc aucで評価\n",
    "    score = roc_auc_score(va_y, va_pred)\n",
    "    scores.append(score)\n",
    "    \n",
    "print(np.mean(scores))"
   ]
  },
  {
   "cell_type": "markdown",
   "metadata": {},
   "source": [
    "## 【問題5】最終的なモデルの選定\n",
    "最終的にこれは良いというモデルを選び、推定した結果をKaggleに提出してスコアを確認してください。<br>\n",
    "どういったアイデアを取り入れ、どの程度のスコアになったかを記載してください。"
   ]
  },
  {
   "cell_type": "code",
   "execution_count": 65,
   "metadata": {},
   "outputs": [],
   "source": [
    "# クロスバリデーション5+ランダムフォレストn_estimators=150\n",
    "kf = KFold(n_splits=5, shuffle=True, random_state=71)\n",
    "model = RandomForestClassifier(n_estimators=150, max_depth=5, min_samples_split=2, min_samples_leaf=1)\n",
    "# 標準化\n",
    "scaler_x = StandardScaler()\n",
    "scores = [] \n",
    "for tr_idx, va_idx in kf.split(X_train):\n",
    "    tr_x, va_x = X_train[tr_idx], X_train[va_idx]\n",
    "    tr_y, va_y = y_train[tr_idx], y_train[va_idx]\n",
    "    \n",
    "    # Xのみ標準化\n",
    "    scaler_x.fit(tr_x)\n",
    "    tr_x_std = scaler_x.transform(tr_x)\n",
    "    va_x_std = scaler_x.transform(va_x)\n",
    "    \n",
    "    # 学習の実行、バリデーションデータの予測値の出力、スコア計算\n",
    "    # ランダムフォレスト\n",
    "    model.fit(tr_x_std, tr_y)\n",
    "    # predict_probaで1の確率を配列で渡す\n",
    "    va_pred = model.predict_proba(va_x_std)[:, 1]\n",
    "    # roc aucで評価\n",
    "    score = roc_auc_score(va_y, va_pred)\n",
    "    scores.append(score)\n",
    "X_test_std = scaler_x.transform(X_test)\n",
    "y_pred = model.predict_proba(X_test_std)[:, 1]"
   ]
  },
  {
   "cell_type": "code",
   "execution_count": 66,
   "metadata": {},
   "outputs": [
    {
     "name": "stdout",
     "output_type": "stream",
     "text": [
      "0.7212282468017754\n"
     ]
    }
   ],
   "source": [
    "print(np.mean(scores))"
   ]
  },
  {
   "cell_type": "code",
   "execution_count": 67,
   "metadata": {},
   "outputs": [],
   "source": [
    "submission = pd.DataFrame({\"SK_ID_CURR\": df_copy[\"SK_ID_CURR\"], \"TARGET\": y_pred})\n",
    "submission.to_csv(\"submission_5.csv\", index=False)"
   ]
  },
  {
   "cell_type": "markdown",
   "metadata": {},
   "source": [
    "【回答】ランダムフォレストでパラメータを（n_estimators=150,max_depth=50）で設定、欠損値は平均で置き換え<br>\n",
    "クロスバリデーションfold4で学習したモデルでkaggleへ提出したところPublic Scoreは0.70768であった<br>\n",
    "クロスバリデーションfold5に変更したモデルでは0.70889であった<br>\n",
    "week4の授業課題では調整前で0.50367、調整後に0.68014だったので、0.2ほどスコアをのばせた。<br>\n",
    "しかし、現状では2年前の順位で6100位ほどで上位には遠く及ばなかった"
   ]
  },
  {
   "cell_type": "markdown",
   "metadata": {},
   "source": []
  }
 ],
 "metadata": {
  "kernelspec": {
   "display_name": "Python 3",
   "language": "python",
   "name": "python3"
  },
  "language_info": {
   "codemirror_mode": {
    "name": "ipython",
    "version": 3
   },
   "file_extension": ".py",
   "mimetype": "text/x-python",
   "name": "python",
   "nbconvert_exporter": "python",
   "pygments_lexer": "ipython3",
   "version": "3.7.2"
  }
 },
 "nbformat": 4,
 "nbformat_minor": 2
}
