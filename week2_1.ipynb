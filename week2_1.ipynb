{
 "cells": [
  {
   "cell_type": "markdown",
   "metadata": {},
   "source": [
    "# week2 授業前課題１小麦とチェス盤問題"
   ]
  },
  {
   "cell_type": "code",
   "execution_count": 1,
   "metadata": {},
   "outputs": [
    {
     "name": "stdout",
     "output_type": "stream",
     "text": [
      "4マスの板に小麦を並べる（リスト）：[1, 2, 4, 8]\n"
     ]
    }
   ],
   "source": [
    "# sample code\n",
    "n_squares = 4\n",
    "small_board_list = [1]\n",
    "for _ in range(n_squares - 1):\n",
    "    small_board_list.append(2*small_board_list[-1])\n",
    "print(\"4マスの板に小麦を並べる（リスト）：{}\".format(small_board_list))"
   ]
  },
  {
   "cell_type": "code",
   "execution_count": 22,
   "metadata": {},
   "outputs": [
    {
     "name": "stdout",
     "output_type": "stream",
     "text": [
      "4マスの板に小麦を並べる（ndarray）：[1 2 4 8]\n"
     ]
    }
   ],
   "source": [
    "# このリストにnp.array()を使うことで、ndarrayを作成することができます。\n",
    "import numpy as np\n",
    "small_board_ndarray = np.array(small_board_list)\n",
    "print(\"4マスの板に小麦を並べる（ndarray）：{}\".format(small_board_ndarray))\n",
    "# print(type(small_board_ndarray))"
   ]
  },
  {
   "cell_type": "markdown",
   "metadata": {},
   "source": [
    "## 【問題1】2×2マスのチェス盤の小麦の数\n",
    "2×2マスのチェス盤をndarrayによって表現し、各マスの小麦の数を計算してください。左上のマスに小麦を1つ置いた後、その右が2つ、左下が4つ、右下が8つという風に進みます。\n",
    "\n",
    "サンプルコードで作成したndarrayのshapeの変形を行ってください。"
   ]
  },
  {
   "cell_type": "code",
   "execution_count": 27,
   "metadata": {},
   "outputs": [
    {
     "name": "stdout",
     "output_type": "stream",
     "text": [
      "(4,)\n"
     ]
    },
    {
     "data": {
      "text/plain": [
       "array([[1, 2],\n",
       "       [4, 8]])"
      ]
     },
     "execution_count": 27,
     "metadata": {},
     "output_type": "execute_result"
    }
   ],
   "source": [
    "# 4行ベクトルを 2x2行列に変形\n",
    "print(small_board_ndarray.shape)\n",
    "small_board_ndarray.reshape(2, 2)"
   ]
  },
  {
   "cell_type": "markdown",
   "metadata": {},
   "source": [
    "## 【問題2】n×mマスへの拡張\n",
    "n×mマスのチェス盤の小麦の数を記したndarrayを返す関数を作成してください。そして、この関数を使い8×8マスのチェス盤の小麦の数を求めてください。"
   ]
  },
  {
   "cell_type": "code",
   "execution_count": 170,
   "metadata": {},
   "outputs": [],
   "source": [
    "# ndarrayで返す仕様は満たすが、自由に書いてみる\n",
    "def chess_board_wheat(n, m):\n",
    "    # 2で満たしたndarrayを作る\n",
    "    two_list = np.full(n*m, 2)\n",
    "    # 0~ n*m - 1 のndarrayを作る\n",
    "    exp = np.arange(n*m)\n",
    "    # べき乗したndarray 2^0 = 1, 2^1 = 2, 2^2 = 4,....\n",
    "    # 2^64はint64ではオーバーフローとなるためuint64に型を変更\n",
    "    nd_wheat = np.power(two_list, exp).astype(np.uint64) \n",
    "    # print(nd_wheat[63])\n",
    "    # n*m行列に変換して返す\n",
    "    return nd_wheat.reshape(n, m)"
   ]
  },
  {
   "cell_type": "code",
   "execution_count": 171,
   "metadata": {},
   "outputs": [
    {
     "name": "stdout",
     "output_type": "stream",
     "text": [
      "8x8マスのチェス盤の小麦の数は\n",
      "[[                  1                   2                   4\n",
      "                    8                  16                  32\n",
      "                   64                 128]\n",
      " [                256                 512                1024\n",
      "                 2048                4096                8192\n",
      "                16384               32768]\n",
      " [              65536              131072              262144\n",
      "               524288             1048576             2097152\n",
      "              4194304             8388608]\n",
      " [           16777216            33554432            67108864\n",
      "            134217728           268435456           536870912\n",
      "           1073741824          2147483648]\n",
      " [         4294967296          8589934592         17179869184\n",
      "          34359738368         68719476736        137438953472\n",
      "         274877906944        549755813888]\n",
      " [      1099511627776       2199023255552       4398046511104\n",
      "        8796093022208      17592186044416      35184372088832\n",
      "       70368744177664     140737488355328]\n",
      " [    281474976710656     562949953421312    1125899906842624\n",
      "     2251799813685248    4503599627370496    9007199254740992\n",
      "    18014398509481984   36028797018963968]\n",
      " [  72057594037927936  144115188075855872  288230376151711744\n",
      "   576460752303423488 1152921504606846976 2305843009213693952\n",
      "  4611686018427387904 9223372036854775808]]です\n",
      "合計は18446744073709551615です\n"
     ]
    }
   ],
   "source": [
    "n = 8\n",
    "m = 8\n",
    "mat_wheat = chess_board_wheat(n, m)\n",
    "# print(mat_wheat)\n",
    "print(\"{}x{}マスのチェス盤の小麦の数は\\n{}です\\n合計は{}です\".format(n ,m , mat_wheat, np.sum(mat_wheat)))  #行列の和 np.sum()"
   ]
  },
  {
   "cell_type": "markdown",
   "metadata": {},
   "source": [
    "## 【問題3】小麦の数の合計\n",
    "8×8マスのチェス盤の小麦の数の合計を求めてください。また、各列の平均を求め、それを棒グラフで可視化してください。"
   ]
  },
  {
   "cell_type": "code",
   "execution_count": 172,
   "metadata": {},
   "outputs": [
    {
     "name": "stdout",
     "output_type": "stream",
     "text": [
      "8x8マスのチェス盤の小麦の数の合計は18446744073709551615です\n",
      "各列の平均は\n",
      "[9.04252160e+15 1.80850432e+16 3.61700864e+16 7.23401728e+16\n",
      " 1.44680346e+17 2.89360691e+17 5.78721383e+17 1.15744277e+18]です\n"
     ]
    },
    {
     "data": {
      "image/png": "[encoded data removed]",
      "text/plain": [
       "<Figure size 432x288 with 1 Axes>"
      ]
     },
     "metadata": {
      "needs_background": "light"
     },
     "output_type": "display_data"
    }
   ],
   "source": [
    "n = 8\n",
    "m = 8\n",
    "mat_wheat = chess_board_wheat(n, m)\n",
    "print(\"{}x{}マスのチェス盤の小麦の数の合計は{}です\".format(n, m, np.sum(mat_wheat)))  #行列の和 np.sum()\n",
    "col_mean = np.mean(mat_wheat, axis=0)\n",
    "print(\"各列の平均は\\n{}です\".format(col_mean))\n",
    "\n",
    "import matplotlib.pyplot as plt\n",
    "import matplotlib.ticker as ticker\n",
    "%matplotlib inline\n",
    "plt.xlabel(\"column\")\n",
    "plt.ylabel(\"number\")\n",
    "plt.title(\"number in each column\")\n",
    "plt.bar(np.arange(1, m + 1),col_mean, align=\"edge\")\n",
    "# x軸を整数にする\n",
    "plt.gca().get_xaxis().set_major_locator(ticker.MaxNLocator(integer=True))\n",
    "plt.show()"
   ]
  },
  {
   "cell_type": "markdown",
   "metadata": {},
   "source": [
    "## 【問題4】小麦の数のヒートマップ\n",
    "8×8マスのチェス盤の小麦の数をヒートマップとして可視化してください。\n",
    "\n",
    "ヒートマップはサンプルコードを用意しています。"
   ]
  },
  {
   "cell_type": "code",
   "execution_count": 173,
   "metadata": {},
   "outputs": [
    {
     "data": {
      "image/png": "[encoded data removed]",
      "text/plain": [
       "<Figure size 432x288 with 1 Axes>"
      ]
     },
     "metadata": {
      "needs_background": "light"
     },
     "output_type": "display_data"
    }
   ],
   "source": [
    "fig, ax = plt.subplots()\n",
    "# y軸の反転\n",
    "ax.invert_yaxis()\n",
    "plt.pcolor(mat_wheat)\n",
    "plt.xlabel(\"column\")\n",
    "plt.ylabel(\"row\")\n",
    "plt.title(\"heatmap\")\n",
    "plt.show()"
   ]
  },
  {
   "cell_type": "markdown",
   "metadata": {},
   "source": [
    "## 【問題5】後半は前半の何倍か\n",
    "チェス盤の後半にある小麦の数は前半にある小麦の数の何倍かを求めてください。前半とは配列の0から3行目、後半は4から7行目です。"
   ]
  },
  {
   "cell_type": "code",
   "execution_count": 174,
   "metadata": {},
   "outputs": [
    {
     "name": "stdout",
     "output_type": "stream",
     "text": [
      "チェス盤の後半にある小麦の数は、前半にある小麦の数の\n",
      "4294967296.0倍です\n"
     ]
    }
   ],
   "source": [
    "# print(mat_wheat)\n",
    "row_sum = np.sum(mat_wheat, axis=1)\n",
    "# print(row_sum[0] + row_sum[1] + row_sum[2] + row_sum[3])\n",
    "# print(row_sum[4] + row_sum[5] + row_sum[6] + row_sum[7])\n",
    "print(\"チェス盤の後半にある小麦の数は、前半にある小麦の数の\\n{}倍です\"\n",
    "      .format((row_sum[4] + row_sum[5] + row_sum[6] + row_sum[7])/(row_sum[0] + row_sum[1] + row_sum[2] + row_sum[3])))"
   ]
  },
  {
   "cell_type": "markdown",
   "metadata": {},
   "source": [
    "## 【問題6】他の計算方法によるn×mマスへの拡張\n",
    "問題2と同様の「n×mマスのチェス盤の小麦の数を記したndarrayを返す関数」を、np.append()を使ったものと、ブロードキャストを使ったもので新たに作成してください。\n",
    "\n",
    "それらの関数を使い8×8マスのチェス盤の小麦の数を再び求めてください。"
   ]
  },
  {
   "cell_type": "code",
   "execution_count": 187,
   "metadata": {},
   "outputs": [],
   "source": [
    "# np.append()を使う\n",
    "def append_chess_board_wheat(n, m):\n",
    "    n_squares = n*m\n",
    "    chess_board_ndarray = []\n",
    "    chess_board_ndarray = np.array([1])\n",
    "    for _ in range(n_squares - 1):\n",
    "        chess_board_ndarray = np.append(chess_board_ndarray, 2*chess_board_ndarray[-1]).astype(np.uint64)\n",
    "    return chess_board_ndarray\n",
    "    #print(\"{}x{}マスの板に小麦を並べる（ndarray）：{}\".format(n, m, small_board_ndarray))"
   ]
  },
  {
   "cell_type": "code",
   "execution_count": 188,
   "metadata": {},
   "outputs": [
    {
     "data": {
      "text/plain": [
       "array([                  1,                   2,                   4,\n",
       "                         8,                  16,                  32,\n",
       "                        64,                 128,                 256,\n",
       "                       512,                1024,                2048,\n",
       "                      4096,                8192,               16384,\n",
       "                     32768,               65536,              131072,\n",
       "                    262144,              524288,             1048576,\n",
       "                   2097152,             4194304,             8388608,\n",
       "                  16777216,            33554432,            67108864,\n",
       "                 134217728,           268435456,           536870912,\n",
       "                1073741824,          2147483648,          4294967296,\n",
       "                8589934592,         17179869184,         34359738368,\n",
       "               68719476736,        137438953472,        274877906944,\n",
       "              549755813888,       1099511627776,       2199023255552,\n",
       "             4398046511104,       8796093022208,      17592186044416,\n",
       "            35184372088832,      70368744177664,     140737488355328,\n",
       "           281474976710656,     562949953421312,    1125899906842624,\n",
       "          2251799813685248,    4503599627370496,    9007199254740992,\n",
       "         18014398509481984,   36028797018963968,   72057594037927936,\n",
       "        144115188075855872,  288230376151711744,  576460752303423488,\n",
       "       1152921504606846976, 2305843009213693952, 4611686018427387904,\n",
       "       9223372036854775808], dtype=uint64)"
      ]
     },
     "execution_count": 188,
     "metadata": {},
     "output_type": "execute_result"
    }
   ],
   "source": [
    "append_chess_board_wheat(8, 8)"
   ]
  },
  {
   "cell_type": "code",
   "execution_count": 219,
   "metadata": {},
   "outputs": [],
   "source": [
    "# ブロードキャストで求める\n",
    "def broadcast_chess_board_wheat(n, m):\n",
    "    # 0~ n*m-1 のndarrayを作る\n",
    "    exp = np.arange(n*m)\n",
    "    #print(exp)\n",
    "    #print(2**exp)\n",
    "    wheat = []\n",
    "    wheat = (2**exp).astype(np.uint64)\n",
    "    return wheat.reshape(n, m)"
   ]
  },
  {
   "cell_type": "code",
   "execution_count": 220,
   "metadata": {},
   "outputs": [
    {
     "data": {
      "text/plain": [
       "array([[                  1,                   2,                   4,\n",
       "                          8,                  16,                  32,\n",
       "                         64,                 128],\n",
       "       [                256,                 512,                1024,\n",
       "                       2048,                4096,                8192,\n",
       "                      16384,               32768],\n",
       "       [              65536,              131072,              262144,\n",
       "                     524288,             1048576,             2097152,\n",
       "                    4194304,             8388608],\n",
       "       [           16777216,            33554432,            67108864,\n",
       "                  134217728,           268435456,           536870912,\n",
       "                 1073741824,          2147483648],\n",
       "       [         4294967296,          8589934592,         17179869184,\n",
       "                34359738368,         68719476736,        137438953472,\n",
       "               274877906944,        549755813888],\n",
       "       [      1099511627776,       2199023255552,       4398046511104,\n",
       "              8796093022208,      17592186044416,      35184372088832,\n",
       "             70368744177664,     140737488355328],\n",
       "       [    281474976710656,     562949953421312,    1125899906842624,\n",
       "           2251799813685248,    4503599627370496,    9007199254740992,\n",
       "          18014398509481984,   36028797018963968],\n",
       "       [  72057594037927936,  144115188075855872,  288230376151711744,\n",
       "         576460752303423488, 1152921504606846976, 2305843009213693952,\n",
       "        4611686018427387904, 9223372036854775808]], dtype=uint64)"
      ]
     },
     "execution_count": 220,
     "metadata": {},
     "output_type": "execute_result"
    }
   ],
   "source": [
    "broadcast_chess_board_wheat(8, 8)"
   ]
  },
  {
   "cell_type": "markdown",
   "metadata": {},
   "source": [
    "## 【問題7】計算時間の比較\n",
    "3種類の方法を見てきました。それぞれの計算時間をJupyter Notebookの%%timeitを用いて計測し、比較と考察を行ってください。\n",
    "\n",
    "%%timeitはセル内のコードを複数回実行し、その平均実行時間を出力する働きをします。"
   ]
  },
  {
   "cell_type": "code",
   "execution_count": 228,
   "metadata": {},
   "outputs": [
    {
     "name": "stdout",
     "output_type": "stream",
     "text": [
      "409 µs ± 9.67 µs per loop (mean ± std. dev. of 7 runs, 1000 loops each)\n"
     ]
    }
   ],
   "source": [
    "%%timeit\n",
    "n, m  = 8, 8\n",
    "n_squares = n*m\n",
    "chess_board_ndarray = []\n",
    "chess_board_ndarray = np.array([1])\n",
    "for _ in range(n_squares - 1):\n",
    "    chess_board_ndarray = np.append(chess_board_ndarray, 2*chess_board_ndarray[-1]).astype(np.uint64)"
   ]
  },
  {
   "cell_type": "code",
   "execution_count": 229,
   "metadata": {},
   "outputs": [
    {
     "name": "stdout",
     "output_type": "stream",
     "text": [
      "2.51 µs ± 35.7 ns per loop (mean ± std. dev. of 7 runs, 100000 loops each)\n"
     ]
    }
   ],
   "source": [
    "%%timeit\n",
    "n, m = 8, 8\n",
    "# 0~ n*m-1 のndarrayを作る\n",
    "exp = np.arange(n*m)\n",
    "#print(exp)\n",
    "#print(2**exp)\n",
    "wheat = []\n",
    "wheat = (2**exp).astype(np.uint64)"
   ]
  },
  {
   "cell_type": "markdown",
   "metadata": {},
   "source": [
    "### 結論：ブロードキャストの方がappendするより約160倍早い"
   ]
  },
  {
   "cell_type": "code",
   "execution_count": null,
   "metadata": {},
   "outputs": [],
   "source": []
  }
 ],
 "metadata": {
  "kernelspec": {
   "display_name": "Python 3",
   "language": "python",
   "name": "python3"
  },
  "language_info": {
   "codemirror_mode": {
    "name": "ipython",
    "version": 3
   },
   "file_extension": ".py",
   "mimetype": "text/x-python",
   "name": "python",
   "nbconvert_exporter": "python",
   "pygments_lexer": "ipython3",
   "version": "3.7.0"
  }
 },
 "nbformat": 4,
 "nbformat_minor": 2
}
