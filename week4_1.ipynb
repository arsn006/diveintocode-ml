{
 "cells": [
  {
   "cell_type": "markdown",
   "metadata": {},
   "source": [
    "# week4 授業前課題1 アヤメの分類"
   ]
  },
  {
   "cell_type": "markdown",
   "metadata": {},
   "source": [
    "## 目的\n",
    "- 教師あり学習（分類問題）の概観を知る\n",
    "- scikit-laernを使い分類を行えるようにする\n",
    "- 手法の簡単な比較をする\n",
    "\n",
    "## どのように学ぶか\n",
    "- 定番のデータセットを通じて、分類問題を解く流れやライブラリの使い方を学びます。\n",
    "\n",
    "## 今回使う手法\n",
    "- 最近傍法\n",
    "- ロジスティック回帰\n",
    "- SVM\n",
    "- 決定木\n",
    "- ランダムフォレスト\n",
    "\n",
    "## 前提条件\n",
    "- 特徴量「sepal_length（がく片の長さ）」と「petal_length（花弁の長さ）」の2つだけ使用する\n",
    "- アヤメの種類を「virgicolor」と「virginica」の2つにする"
   ]
  },
  {
   "cell_type": "markdown",
   "metadata": {},
   "source": [
    "## 【課題1】練習のために特徴量とカテゴリを選択\n",
    "選び方は合計18通りありますが、以下の組み合わせで練習することにします。irisデータセットをWeek3同様に取得した後、データフレームからこれらを抜き出してください。<br>\n",
    "- virgicolorとvirginica\n",
    "- sepal_lengthとpetal_length\n",
    "<br>\n",
    "【深堀り】\n",
    "選び方は18通り...${}_4 C_2 \\times {}_3 C_2 = \\frac{4!}{2!(4 - 2)!}\\times \\frac{3!}{2!(3 - 2)!} = 6\\times3 = 18$"
   ]
  },
  {
   "cell_type": "code",
   "execution_count": 1,
   "metadata": {},
   "outputs": [],
   "source": [
    "from sklearn import datasets\n",
    "from sklearn.model_selection import train_test_split\n",
    "from sklearn.preprocessing import StandardScaler\n",
    "\n",
    "import numpy as np\n",
    "import matplotlib.pyplot as plt\n",
    "plt.style.use('ggplot')\n",
    "import pandas as pd\n"
   ]
  },
  {
   "cell_type": "code",
   "execution_count": 2,
   "metadata": {},
   "outputs": [],
   "source": [
    "iris_data = datasets.load_iris()\n",
    "input_data = iris_data.data\n",
    "X = pd.DataFrame(data=input_data, columns=[\"sepal_length\", \"sepal_width\", \"petal_length\", \"petal_width\"])\n",
    "correct = iris_data.target\n",
    "y = pd.DataFrame(data=correct, columns=[\"Species\"])\n",
    "df = pd.concat([X, y], axis=1)"
   ]
  },
  {
   "cell_type": "code",
   "execution_count": 3,
   "metadata": {},
   "outputs": [],
   "source": [
    "df.drop(columns=[\"sepal_width\", \"petal_width\"], inplace=True)"
   ]
  },
  {
   "cell_type": "code",
   "execution_count": 4,
   "metadata": {},
   "outputs": [],
   "source": [
    "df.drop(df.index[df[\"Species\"]==0], inplace=True)"
   ]
  },
  {
   "cell_type": "code",
   "execution_count": 5,
   "metadata": {},
   "outputs": [
    {
     "data": {
      "text/html": [
       "<div>\n",
       "<style scoped>\n",
       "    .dataframe tbody tr th:only-of-type {\n",
       "        vertical-align: middle;\n",
       "    }\n",
       "\n",
       "    .dataframe tbody tr th {\n",
       "        vertical-align: top;\n",
       "    }\n",
       "\n",
       "    .dataframe thead th {\n",
       "        text-align: right;\n",
       "    }\n",
       "</style>\n",
       "<table border=\"1\" class=\"dataframe\">\n",
       "  <thead>\n",
       "    <tr style=\"text-align: right;\">\n",
       "      <th></th>\n",
       "      <th>sepal_length</th>\n",
       "      <th>petal_length</th>\n",
       "      <th>Species</th>\n",
       "    </tr>\n",
       "  </thead>\n",
       "  <tbody>\n",
       "    <tr>\n",
       "      <th>50</th>\n",
       "      <td>7.0</td>\n",
       "      <td>4.7</td>\n",
       "      <td>1</td>\n",
       "    </tr>\n",
       "    <tr>\n",
       "      <th>51</th>\n",
       "      <td>6.4</td>\n",
       "      <td>4.5</td>\n",
       "      <td>1</td>\n",
       "    </tr>\n",
       "    <tr>\n",
       "      <th>52</th>\n",
       "      <td>6.9</td>\n",
       "      <td>4.9</td>\n",
       "      <td>1</td>\n",
       "    </tr>\n",
       "    <tr>\n",
       "      <th>53</th>\n",
       "      <td>5.5</td>\n",
       "      <td>4.0</td>\n",
       "      <td>1</td>\n",
       "    </tr>\n",
       "    <tr>\n",
       "      <th>54</th>\n",
       "      <td>6.5</td>\n",
       "      <td>4.6</td>\n",
       "      <td>1</td>\n",
       "    </tr>\n",
       "    <tr>\n",
       "      <th>55</th>\n",
       "      <td>5.7</td>\n",
       "      <td>4.5</td>\n",
       "      <td>1</td>\n",
       "    </tr>\n",
       "    <tr>\n",
       "      <th>56</th>\n",
       "      <td>6.3</td>\n",
       "      <td>4.7</td>\n",
       "      <td>1</td>\n",
       "    </tr>\n",
       "    <tr>\n",
       "      <th>57</th>\n",
       "      <td>4.9</td>\n",
       "      <td>3.3</td>\n",
       "      <td>1</td>\n",
       "    </tr>\n",
       "    <tr>\n",
       "      <th>58</th>\n",
       "      <td>6.6</td>\n",
       "      <td>4.6</td>\n",
       "      <td>1</td>\n",
       "    </tr>\n",
       "    <tr>\n",
       "      <th>59</th>\n",
       "      <td>5.2</td>\n",
       "      <td>3.9</td>\n",
       "      <td>1</td>\n",
       "    </tr>\n",
       "    <tr>\n",
       "      <th>60</th>\n",
       "      <td>5.0</td>\n",
       "      <td>3.5</td>\n",
       "      <td>1</td>\n",
       "    </tr>\n",
       "    <tr>\n",
       "      <th>61</th>\n",
       "      <td>5.9</td>\n",
       "      <td>4.2</td>\n",
       "      <td>1</td>\n",
       "    </tr>\n",
       "    <tr>\n",
       "      <th>62</th>\n",
       "      <td>6.0</td>\n",
       "      <td>4.0</td>\n",
       "      <td>1</td>\n",
       "    </tr>\n",
       "    <tr>\n",
       "      <th>63</th>\n",
       "      <td>6.1</td>\n",
       "      <td>4.7</td>\n",
       "      <td>1</td>\n",
       "    </tr>\n",
       "    <tr>\n",
       "      <th>64</th>\n",
       "      <td>5.6</td>\n",
       "      <td>3.6</td>\n",
       "      <td>1</td>\n",
       "    </tr>\n",
       "    <tr>\n",
       "      <th>65</th>\n",
       "      <td>6.7</td>\n",
       "      <td>4.4</td>\n",
       "      <td>1</td>\n",
       "    </tr>\n",
       "    <tr>\n",
       "      <th>66</th>\n",
       "      <td>5.6</td>\n",
       "      <td>4.5</td>\n",
       "      <td>1</td>\n",
       "    </tr>\n",
       "    <tr>\n",
       "      <th>67</th>\n",
       "      <td>5.8</td>\n",
       "      <td>4.1</td>\n",
       "      <td>1</td>\n",
       "    </tr>\n",
       "    <tr>\n",
       "      <th>68</th>\n",
       "      <td>6.2</td>\n",
       "      <td>4.5</td>\n",
       "      <td>1</td>\n",
       "    </tr>\n",
       "    <tr>\n",
       "      <th>69</th>\n",
       "      <td>5.6</td>\n",
       "      <td>3.9</td>\n",
       "      <td>1</td>\n",
       "    </tr>\n",
       "    <tr>\n",
       "      <th>70</th>\n",
       "      <td>5.9</td>\n",
       "      <td>4.8</td>\n",
       "      <td>1</td>\n",
       "    </tr>\n",
       "    <tr>\n",
       "      <th>71</th>\n",
       "      <td>6.1</td>\n",
       "      <td>4.0</td>\n",
       "      <td>1</td>\n",
       "    </tr>\n",
       "    <tr>\n",
       "      <th>72</th>\n",
       "      <td>6.3</td>\n",
       "      <td>4.9</td>\n",
       "      <td>1</td>\n",
       "    </tr>\n",
       "    <tr>\n",
       "      <th>73</th>\n",
       "      <td>6.1</td>\n",
       "      <td>4.7</td>\n",
       "      <td>1</td>\n",
       "    </tr>\n",
       "    <tr>\n",
       "      <th>74</th>\n",
       "      <td>6.4</td>\n",
       "      <td>4.3</td>\n",
       "      <td>1</td>\n",
       "    </tr>\n",
       "    <tr>\n",
       "      <th>75</th>\n",
       "      <td>6.6</td>\n",
       "      <td>4.4</td>\n",
       "      <td>1</td>\n",
       "    </tr>\n",
       "    <tr>\n",
       "      <th>76</th>\n",
       "      <td>6.8</td>\n",
       "      <td>4.8</td>\n",
       "      <td>1</td>\n",
       "    </tr>\n",
       "    <tr>\n",
       "      <th>77</th>\n",
       "      <td>6.7</td>\n",
       "      <td>5.0</td>\n",
       "      <td>1</td>\n",
       "    </tr>\n",
       "    <tr>\n",
       "      <th>78</th>\n",
       "      <td>6.0</td>\n",
       "      <td>4.5</td>\n",
       "      <td>1</td>\n",
       "    </tr>\n",
       "    <tr>\n",
       "      <th>79</th>\n",
       "      <td>5.7</td>\n",
       "      <td>3.5</td>\n",
       "      <td>1</td>\n",
       "    </tr>\n",
       "    <tr>\n",
       "      <th>...</th>\n",
       "      <td>...</td>\n",
       "      <td>...</td>\n",
       "      <td>...</td>\n",
       "    </tr>\n",
       "    <tr>\n",
       "      <th>120</th>\n",
       "      <td>6.9</td>\n",
       "      <td>5.7</td>\n",
       "      <td>2</td>\n",
       "    </tr>\n",
       "    <tr>\n",
       "      <th>121</th>\n",
       "      <td>5.6</td>\n",
       "      <td>4.9</td>\n",
       "      <td>2</td>\n",
       "    </tr>\n",
       "    <tr>\n",
       "      <th>122</th>\n",
       "      <td>7.7</td>\n",
       "      <td>6.7</td>\n",
       "      <td>2</td>\n",
       "    </tr>\n",
       "    <tr>\n",
       "      <th>123</th>\n",
       "      <td>6.3</td>\n",
       "      <td>4.9</td>\n",
       "      <td>2</td>\n",
       "    </tr>\n",
       "    <tr>\n",
       "      <th>124</th>\n",
       "      <td>6.7</td>\n",
       "      <td>5.7</td>\n",
       "      <td>2</td>\n",
       "    </tr>\n",
       "    <tr>\n",
       "      <th>125</th>\n",
       "      <td>7.2</td>\n",
       "      <td>6.0</td>\n",
       "      <td>2</td>\n",
       "    </tr>\n",
       "    <tr>\n",
       "      <th>126</th>\n",
       "      <td>6.2</td>\n",
       "      <td>4.8</td>\n",
       "      <td>2</td>\n",
       "    </tr>\n",
       "    <tr>\n",
       "      <th>127</th>\n",
       "      <td>6.1</td>\n",
       "      <td>4.9</td>\n",
       "      <td>2</td>\n",
       "    </tr>\n",
       "    <tr>\n",
       "      <th>128</th>\n",
       "      <td>6.4</td>\n",
       "      <td>5.6</td>\n",
       "      <td>2</td>\n",
       "    </tr>\n",
       "    <tr>\n",
       "      <th>129</th>\n",
       "      <td>7.2</td>\n",
       "      <td>5.8</td>\n",
       "      <td>2</td>\n",
       "    </tr>\n",
       "    <tr>\n",
       "      <th>130</th>\n",
       "      <td>7.4</td>\n",
       "      <td>6.1</td>\n",
       "      <td>2</td>\n",
       "    </tr>\n",
       "    <tr>\n",
       "      <th>131</th>\n",
       "      <td>7.9</td>\n",
       "      <td>6.4</td>\n",
       "      <td>2</td>\n",
       "    </tr>\n",
       "    <tr>\n",
       "      <th>132</th>\n",
       "      <td>6.4</td>\n",
       "      <td>5.6</td>\n",
       "      <td>2</td>\n",
       "    </tr>\n",
       "    <tr>\n",
       "      <th>133</th>\n",
       "      <td>6.3</td>\n",
       "      <td>5.1</td>\n",
       "      <td>2</td>\n",
       "    </tr>\n",
       "    <tr>\n",
       "      <th>134</th>\n",
       "      <td>6.1</td>\n",
       "      <td>5.6</td>\n",
       "      <td>2</td>\n",
       "    </tr>\n",
       "    <tr>\n",
       "      <th>135</th>\n",
       "      <td>7.7</td>\n",
       "      <td>6.1</td>\n",
       "      <td>2</td>\n",
       "    </tr>\n",
       "    <tr>\n",
       "      <th>136</th>\n",
       "      <td>6.3</td>\n",
       "      <td>5.6</td>\n",
       "      <td>2</td>\n",
       "    </tr>\n",
       "    <tr>\n",
       "      <th>137</th>\n",
       "      <td>6.4</td>\n",
       "      <td>5.5</td>\n",
       "      <td>2</td>\n",
       "    </tr>\n",
       "    <tr>\n",
       "      <th>138</th>\n",
       "      <td>6.0</td>\n",
       "      <td>4.8</td>\n",
       "      <td>2</td>\n",
       "    </tr>\n",
       "    <tr>\n",
       "      <th>139</th>\n",
       "      <td>6.9</td>\n",
       "      <td>5.4</td>\n",
       "      <td>2</td>\n",
       "    </tr>\n",
       "    <tr>\n",
       "      <th>140</th>\n",
       "      <td>6.7</td>\n",
       "      <td>5.6</td>\n",
       "      <td>2</td>\n",
       "    </tr>\n",
       "    <tr>\n",
       "      <th>141</th>\n",
       "      <td>6.9</td>\n",
       "      <td>5.1</td>\n",
       "      <td>2</td>\n",
       "    </tr>\n",
       "    <tr>\n",
       "      <th>142</th>\n",
       "      <td>5.8</td>\n",
       "      <td>5.1</td>\n",
       "      <td>2</td>\n",
       "    </tr>\n",
       "    <tr>\n",
       "      <th>143</th>\n",
       "      <td>6.8</td>\n",
       "      <td>5.9</td>\n",
       "      <td>2</td>\n",
       "    </tr>\n",
       "    <tr>\n",
       "      <th>144</th>\n",
       "      <td>6.7</td>\n",
       "      <td>5.7</td>\n",
       "      <td>2</td>\n",
       "    </tr>\n",
       "    <tr>\n",
       "      <th>145</th>\n",
       "      <td>6.7</td>\n",
       "      <td>5.2</td>\n",
       "      <td>2</td>\n",
       "    </tr>\n",
       "    <tr>\n",
       "      <th>146</th>\n",
       "      <td>6.3</td>\n",
       "      <td>5.0</td>\n",
       "      <td>2</td>\n",
       "    </tr>\n",
       "    <tr>\n",
       "      <th>147</th>\n",
       "      <td>6.5</td>\n",
       "      <td>5.2</td>\n",
       "      <td>2</td>\n",
       "    </tr>\n",
       "    <tr>\n",
       "      <th>148</th>\n",
       "      <td>6.2</td>\n",
       "      <td>5.4</td>\n",
       "      <td>2</td>\n",
       "    </tr>\n",
       "    <tr>\n",
       "      <th>149</th>\n",
       "      <td>5.9</td>\n",
       "      <td>5.1</td>\n",
       "      <td>2</td>\n",
       "    </tr>\n",
       "  </tbody>\n",
       "</table>\n",
       "<p>100 rows × 3 columns</p>\n",
       "</div>"
      ],
      "text/plain": [
       "     sepal_length  petal_length  Species\n",
       "50            7.0           4.7        1\n",
       "51            6.4           4.5        1\n",
       "52            6.9           4.9        1\n",
       "53            5.5           4.0        1\n",
       "54            6.5           4.6        1\n",
       "55            5.7           4.5        1\n",
       "56            6.3           4.7        1\n",
       "57            4.9           3.3        1\n",
       "58            6.6           4.6        1\n",
       "59            5.2           3.9        1\n",
       "60            5.0           3.5        1\n",
       "61            5.9           4.2        1\n",
       "62            6.0           4.0        1\n",
       "63            6.1           4.7        1\n",
       "64            5.6           3.6        1\n",
       "65            6.7           4.4        1\n",
       "66            5.6           4.5        1\n",
       "67            5.8           4.1        1\n",
       "68            6.2           4.5        1\n",
       "69            5.6           3.9        1\n",
       "70            5.9           4.8        1\n",
       "71            6.1           4.0        1\n",
       "72            6.3           4.9        1\n",
       "73            6.1           4.7        1\n",
       "74            6.4           4.3        1\n",
       "75            6.6           4.4        1\n",
       "76            6.8           4.8        1\n",
       "77            6.7           5.0        1\n",
       "78            6.0           4.5        1\n",
       "79            5.7           3.5        1\n",
       "..            ...           ...      ...\n",
       "120           6.9           5.7        2\n",
       "121           5.6           4.9        2\n",
       "122           7.7           6.7        2\n",
       "123           6.3           4.9        2\n",
       "124           6.7           5.7        2\n",
       "125           7.2           6.0        2\n",
       "126           6.2           4.8        2\n",
       "127           6.1           4.9        2\n",
       "128           6.4           5.6        2\n",
       "129           7.2           5.8        2\n",
       "130           7.4           6.1        2\n",
       "131           7.9           6.4        2\n",
       "132           6.4           5.6        2\n",
       "133           6.3           5.1        2\n",
       "134           6.1           5.6        2\n",
       "135           7.7           6.1        2\n",
       "136           6.3           5.6        2\n",
       "137           6.4           5.5        2\n",
       "138           6.0           4.8        2\n",
       "139           6.9           5.4        2\n",
       "140           6.7           5.6        2\n",
       "141           6.9           5.1        2\n",
       "142           5.8           5.1        2\n",
       "143           6.8           5.9        2\n",
       "144           6.7           5.7        2\n",
       "145           6.7           5.2        2\n",
       "146           6.3           5.0        2\n",
       "147           6.5           5.2        2\n",
       "148           6.2           5.4        2\n",
       "149           5.9           5.1        2\n",
       "\n",
       "[100 rows x 3 columns]"
      ]
     },
     "execution_count": 5,
     "metadata": {},
     "output_type": "execute_result"
    }
   ],
   "source": [
    "df"
   ]
  },
  {
   "cell_type": "markdown",
   "metadata": {},
   "source": [
    "## 【問題2】データの分析\n",
    "まずはデータの分析を行いますが、これはWeek3の課題1で行いました。<br>\n",
    "その際出力した散布図行列を見ることで、先ほどの18通りそれぞれの散布図も確認できます。sepal_lengthとpetal_lengthを使い、virgicolorとvirginicaを分類するのは少し難しそうな状況であることが分かるはずです。<br>\n",
    "\n",
    "ここでは復習を兼ねて、抜き出したデータの散布図と箱ひげ図（boxplot）、バイオリン図（violinplot）を表示してください。"
   ]
  },
  {
   "cell_type": "markdown",
   "metadata": {},
   "source": [
    "散布図"
   ]
  },
  {
   "cell_type": "code",
   "execution_count": 6,
   "metadata": {},
   "outputs": [
    {
     "data": {
      "text/plain": [
       "<matplotlib.collections.PathCollection at 0x7fb2676995c0>"
      ]
     },
     "execution_count": 6,
     "metadata": {},
     "output_type": "execute_result"
    },
    {
     "data": {
      "image/png": "[encoded data removed]",
      "text/plain": [
       "<Figure size 432x288 with 1 Axes>"
      ]
     },
     "metadata": {
      "needs_background": "light"
     },
     "output_type": "display_data"
    }
   ],
   "source": [
    "x_1 = df[df.Species==1].iloc[:, 0]   #sepal_lengthでラベル1（virgicolor）\n",
    "x_2 = df[df.Species==2].iloc[:, 0]   #sepal_lengthでラベル2（virginica）\n",
    "\n",
    "y_1 = df[df.Species==1].iloc[:, 1]   #petal_lengthでラベル1（virgicolor）\n",
    "y_2 = df[df.Species==2].iloc[:, 1]   #petal_lengthでラベル2（virgicolor）\n",
    "\n",
    "# 散布図を描画\n",
    "plt.title(\"Iris\")\n",
    "plt.xlabel(\"sepal_length\")\n",
    "plt.ylabel(\"petal_length\")\n",
    "plt.scatter(x_1, y_1, c=\"r\")\n",
    "plt.scatter(x_2, y_2, c=\"b\")"
   ]
  },
  {
   "cell_type": "markdown",
   "metadata": {},
   "source": [
    "箱ひげ図"
   ]
  },
  {
   "cell_type": "code",
   "execution_count": 7,
   "metadata": {},
   "outputs": [
    {
     "data": {
      "image/png": "[encoded data removed]",
      "text/plain": [
       "<Figure size 432x288 with 1 Axes>"
      ]
     },
     "metadata": {
      "needs_background": "light"
     },
     "output_type": "display_data"
    },
    {
     "data": {
      "image/png": "[encoded data removed]",
      "text/plain": [
       "<Figure size 432x288 with 1 Axes>"
      ]
     },
     "metadata": {
      "needs_background": "light"
     },
     "output_type": "display_data"
    }
   ],
   "source": [
    "features = [\"sepal_length\", \"petal_length\"]\n",
    "for featur in features:\n",
    "    plt.boxplot([df[df[\"Species\"]==1][featur], df[df[\"Species\"]==2][featur]] )\n",
    "    plt.xticks([1, 2], [\"virgicolor\", \"virginica\"])\n",
    "    plt.title(featur)\n",
    "    plt.ylabel(\"[cm]\")\n",
    "    plt.xlabel(\"Species\")\n",
    "    plt.show()"
   ]
  },
  {
   "cell_type": "markdown",
   "metadata": {},
   "source": [
    "バイオリン図"
   ]
  },
  {
   "cell_type": "code",
   "execution_count": 8,
   "metadata": {},
   "outputs": [
    {
     "data": {
      "image/png": "[encoded data removed]",
      "text/plain": [
       "<Figure size 432x288 with 1 Axes>"
      ]
     },
     "metadata": {
      "needs_background": "light"
     },
     "output_type": "display_data"
    },
    {
     "data": {
      "image/png": "[encoded data removed]",
      "text/plain": [
       "<Figure size 432x288 with 1 Axes>"
      ]
     },
     "metadata": {
      "needs_background": "light"
     },
     "output_type": "display_data"
    }
   ],
   "source": [
    "features = [\"sepal_length\", \"petal_length\"]\n",
    "for featur in features:\n",
    "    plt.violinplot([df[df[\"Species\"]==1][featur], df[df[\"Species\"]==2][featur]] )\n",
    "    plt.xticks([1, 2], [\"virgicolor\", \"virginica\"])\n",
    "    plt.title(featur)\n",
    "    plt.ylabel(\"[cm]\")\n",
    "    plt.xlabel(\"Species\")\n",
    "    plt.show()"
   ]
  },
  {
   "cell_type": "markdown",
   "metadata": {},
   "source": [
    "## 【問題3】前処理・訓練データと検証データの分割\n",
    "NumPyのndarrayへの変換を行いましょう。特徴量（説明変数）をX、正解（目的変数）をyというndarrayに格納します<br>\n",
    "訓練データ75%、検証データ25%として分割してください。<br>\n",
    "scikit-learnのtrain_test_splitが利用できます。公式ドキュメントのExamplesを参考に動かしてください。<br>"
   ]
  },
  {
   "cell_type": "code",
   "execution_count": 9,
   "metadata": {},
   "outputs": [
    {
     "data": {
      "text/plain": [
       "numpy.ndarray"
      ]
     },
     "execution_count": 9,
     "metadata": {},
     "output_type": "execute_result"
    }
   ],
   "source": [
    "X = df.iloc[:, :2].values\n",
    "y = df.iloc[:, 2:].values\n",
    "type(y)"
   ]
  },
  {
   "cell_type": "code",
   "execution_count": 10,
   "metadata": {},
   "outputs": [],
   "source": [
    "#np.array"
   ]
  },
  {
   "cell_type": "code",
   "execution_count": 11,
   "metadata": {},
   "outputs": [],
   "source": [
    "X_train, X_test, y_train, y_test = train_test_split(X, y, test_size=0.25)"
   ]
  },
  {
   "cell_type": "markdown",
   "metadata": {},
   "source": [
    "## 【問題4】前処理・標準化\n",
    "標準化は訓練用(X_train)のデータでfitを行い、訓練用(X_train)、検証用(X_test)双方のデータにtransformを行う"
   ]
  },
  {
   "cell_type": "markdown",
   "metadata": {},
   "source": [
    "### 【深掘り】標準化とは\n",
    "データの規格を揃えること。基準化とも言う。どんな単位でも特徴量の平均を0、分散を1にする<br>\n",
    "例えばテストの科目ごとで平均やばらつきによって、1点の重みが違う物を反映させる役割<br>\n",
    "$$\n",
    "\\frac{個々のデータ　-　平均}{標準偏差}\n",
    "$$\n",
    "訓練用データの平均と標準偏差（fit）を使用して、テストデータのオートスケーリング（センタリング:個々のデータ　-　平均、スケーリング：標準偏差で割る）を行わないと\n",
    "検証用データのスケーリングがテストデータを変わってしまう"
   ]
  },
  {
   "cell_type": "code",
   "execution_count": 12,
   "metadata": {},
   "outputs": [],
   "source": [
    "scaler = StandardScaler()\n",
    "scaler.fit(X_train)\n",
    "X_train_std = scaler.transform(X_train)\n",
    "X_test_std = scaler.transform(X_test)"
   ]
  },
  {
   "cell_type": "code",
   "execution_count": 13,
   "metadata": {},
   "outputs": [
    {
     "name": "stdout",
     "output_type": "stream",
     "text": [
      "5.581333333333333\n",
      "2.0605739337042904e-15\n",
      "5.5920000000000005\n",
      "0.018339264501545483\n"
     ]
    }
   ],
   "source": [
    "print(X_train.mean())\n",
    "print(X_train_std.mean())\n",
    "print(X_test.mean())\n",
    "print(X_test_std.mean())"
   ]
  },
  {
   "cell_type": "markdown",
   "metadata": {},
   "source": [
    "## 【問題5】学習と推定\n",
    "最近傍法（k-nearest neighbors, k-nn）で学習を行います。<br>\n",
    "scikit-learnの公式ドキュメントのExamplesを参考に、k-nnの学習を行ってください。ここで入力するのは訓練データです。<br>\n",
    "\n",
    "学習が終わった後、検証データをpredictメソッドに入力し、推定を行ってください。<br>\n",
    "パラメータが複数ありますが、今はそれらの理解を重視しません。最も基本的な要素として、n_neighborsの数があるため、これは複数試してみましょう。<br>\n",
    "デフォルトの5、および1と3を最低限行ってください。5の場合を5-nn、3の場合を3-nnのように呼びます。"
   ]
  },
  {
   "cell_type": "markdown",
   "metadata": {},
   "source": [
    "### 【深堀】k近傍法\n",
    "ユークリッド距離（三平方の定理で求められる）を使って分類する<br>\n",
    "補足：k近傍法とk平均法は違う。k近傍法は教師あり、k平均法は教師なし<br>\n",
    "参考：<br>\n",
    "https://qiita.com/NoriakiOshita/items/698056cb74819624461f"
   ]
  },
  {
   "cell_type": "code",
   "execution_count": 14,
   "metadata": {},
   "outputs": [],
   "source": [
    "from sklearn.neighbors import KNeighborsClassifier"
   ]
  },
  {
   "cell_type": "code",
   "execution_count": 15,
   "metadata": {},
   "outputs": [
    {
     "name": "stderr",
     "output_type": "stream",
     "text": [
      "/Users/arisa/.pyenv/versions/anaconda3-5.3.1/lib/python3.7/site-packages/ipykernel_launcher.py:3: DataConversionWarning: A column-vector y was passed when a 1d array was expected. Please change the shape of y to (n_samples, ), for example using ravel().\n",
      "  This is separate from the ipykernel package so we can avoid doing imports until\n"
     ]
    },
    {
     "data": {
      "text/plain": [
       "array([2, 1, 1, 2, 2, 1, 1, 2, 2, 2, 1, 1, 2, 2, 1, 1, 2, 2, 1, 2, 1, 1,\n",
       "       2, 1, 1])"
      ]
     },
     "execution_count": 15,
     "metadata": {},
     "output_type": "execute_result"
    }
   ],
   "source": [
    "# 5-nn\n",
    "neigh = KNeighborsClassifier(n_neighbors=5)\n",
    "neigh.fit(X_train_std, y_train)\n",
    "y_pred_5nn = neigh.predict(X_test_std)\n",
    "y_pred_5nn"
   ]
  },
  {
   "cell_type": "code",
   "execution_count": 16,
   "metadata": {},
   "outputs": [
    {
     "name": "stderr",
     "output_type": "stream",
     "text": [
      "/Users/arisa/.pyenv/versions/anaconda3-5.3.1/lib/python3.7/site-packages/ipykernel_launcher.py:3: DataConversionWarning: A column-vector y was passed when a 1d array was expected. Please change the shape of y to (n_samples, ), for example using ravel().\n",
      "  This is separate from the ipykernel package so we can avoid doing imports until\n"
     ]
    },
    {
     "data": {
      "text/plain": [
       "array([1, 1, 1, 2, 2, 1, 1, 2, 2, 2, 1, 1, 2, 2, 1, 1, 2, 2, 1, 2, 1, 1,\n",
       "       2, 1, 1])"
      ]
     },
     "execution_count": 16,
     "metadata": {},
     "output_type": "execute_result"
    }
   ],
   "source": [
    "# 1-nn\n",
    "neigh = KNeighborsClassifier(n_neighbors=1)\n",
    "neigh.fit(X_train_std, y_train)\n",
    "y_pred_1nn = neigh.predict(X_test_std)\n",
    "y_pred_1nn"
   ]
  },
  {
   "cell_type": "code",
   "execution_count": 17,
   "metadata": {},
   "outputs": [
    {
     "name": "stderr",
     "output_type": "stream",
     "text": [
      "/Users/arisa/.pyenv/versions/anaconda3-5.3.1/lib/python3.7/site-packages/ipykernel_launcher.py:3: DataConversionWarning: A column-vector y was passed when a 1d array was expected. Please change the shape of y to (n_samples, ), for example using ravel().\n",
      "  This is separate from the ipykernel package so we can avoid doing imports until\n"
     ]
    },
    {
     "data": {
      "text/plain": [
       "array([2, 2, 1, 2, 2, 1, 1, 2, 2, 2, 1, 1, 2, 2, 1, 1, 2, 2, 1, 2, 1, 1,\n",
       "       2, 1, 1])"
      ]
     },
     "execution_count": 17,
     "metadata": {},
     "output_type": "execute_result"
    }
   ],
   "source": [
    "# 3-nn\n",
    "neigh = KNeighborsClassifier(n_neighbors=3)\n",
    "neigh.fit(X_train_std, y_train)\n",
    "y_pred_3nn = neigh.predict(X_test_std)\n",
    "y_pred_3nn"
   ]
  },
  {
   "cell_type": "code",
   "execution_count": 18,
   "metadata": {},
   "outputs": [
    {
     "data": {
      "text/plain": [
       "array([[2, 1, 1, 2, 1, 1, 2, 2, 1, 1, 2, 1, 2, 1, 2, 1, 1, 2, 2, 1, 1, 2,\n",
       "        2, 1, 1, 1, 2, 1, 2, 1, 1, 1, 1, 1, 2, 1, 1, 2, 2, 1, 2, 1, 2, 2,\n",
       "        1, 2, 2, 2, 2, 2, 2, 2, 1, 2, 1, 2, 2, 2, 2, 1, 1, 1, 2, 2, 2, 2,\n",
       "        1, 2, 1, 2, 2, 1, 2, 1, 1]])"
      ]
     },
     "execution_count": 18,
     "metadata": {},
     "output_type": "execute_result"
    }
   ],
   "source": [
    "# 正解と見比べてみる\n",
    "y_train.T"
   ]
  },
  {
   "cell_type": "markdown",
   "metadata": {},
   "source": [
    "## 【問題6】評価\n",
    "検証データの特徴量を入力して得られた推定値と、検証データの正解値の近さを計算し、学習したモデルを評価します。<br>\n",
    "2値分類を評価するための指標値には Accuracy（正解率）、Precision（適合率）、Recall（再現率）、F値 があります。<br>\n",
    "それぞれの意味を理解するには、 混同行列（confusion matrix） を見ることになります。\n",
    "- scikit-learnを使い4種類の指標を計算する\n",
    "- 混同行列をscikit-learnを使い表示する\n",
    "- 4種類の指標値の意味について簡単に調査して文章でまとめる"
   ]
  },
  {
   "cell_type": "code",
   "execution_count": 19,
   "metadata": {},
   "outputs": [
    {
     "name": "stdout",
     "output_type": "stream",
     "text": [
      "5nnの正解率は0.88です\n",
      "3nnの正解率は0.92です\n",
      "1nnの正解率は0.92です\n"
     ]
    }
   ],
   "source": [
    "# Accuracy(正解率)\n",
    "from sklearn.metrics import accuracy_score\n",
    "print(\"5nnの正解率は{}です\".format(accuracy_score(y_test, y_pred_5nn)))\n",
    "print(\"3nnの正解率は{}です\".format(accuracy_score(y_test, y_pred_3nn)))\n",
    "print(\"1nnの正解率は{}です\".format(accuracy_score(y_test, y_pred_1nn)))"
   ]
  },
  {
   "cell_type": "code",
   "execution_count": 20,
   "metadata": {},
   "outputs": [
    {
     "name": "stdout",
     "output_type": "stream",
     "text": [
      "5nnの適合率は0.9230769230769231です\n",
      "3nnの適合率は1.0です\n",
      "1nnの適合率は0.9285714285714286です\n"
     ]
    }
   ],
   "source": [
    "# Precision(適合率)\n",
    "from sklearn.metrics import precision_score\n",
    "print(\"5nnの適合率は{}です\".format(precision_score(y_test, y_pred_5nn)))\n",
    "print(\"3nnの適合率は{}です\".format(precision_score(y_test, y_pred_3nn)))\n",
    "print(\"1nnの適合率は{}です\".format(precision_score(y_test, y_pred_1nn)))"
   ]
  },
  {
   "cell_type": "code",
   "execution_count": 21,
   "metadata": {},
   "outputs": [
    {
     "name": "stdout",
     "output_type": "stream",
     "text": [
      "5nnの再現率は0.8571428571428571です\n",
      "3nnの再現率は0.8571428571428571です\n",
      "1nnの再現率は0.9285714285714286です\n"
     ]
    }
   ],
   "source": [
    "# Recall(再現率)\n",
    "from sklearn.metrics import recall_score\n",
    "print(\"5nnの再現率は{}です\".format(recall_score(y_test, y_pred_5nn)))\n",
    "print(\"3nnの再現率は{}です\".format(recall_score(y_test, y_pred_3nn)))\n",
    "print(\"1nnの再現率は{}です\".format(recall_score(y_test, y_pred_1nn)))"
   ]
  },
  {
   "cell_type": "code",
   "execution_count": 22,
   "metadata": {},
   "outputs": [
    {
     "name": "stdout",
     "output_type": "stream",
     "text": [
      "5nnのF値は0.888888888888889です\n",
      "3nnのF値は0.923076923076923です\n",
      "1nnのF値は0.9285714285714286です\n"
     ]
    }
   ],
   "source": [
    "# F値\n",
    "from sklearn.metrics import f1_score\n",
    "print(\"5nnのF値は{}です\".format(f1_score(y_test, y_pred_5nn)))\n",
    "print(\"3nnのF値は{}です\".format(f1_score(y_test, y_pred_3nn)))\n",
    "print(\"1nnのF値は{}です\".format(f1_score(y_test, y_pred_1nn)))"
   ]
  },
  {
   "cell_type": "code",
   "execution_count": 23,
   "metadata": {},
   "outputs": [
    {
     "name": "stdout",
     "output_type": "stream",
     "text": [
      "5nnの混同行列は\n",
      "[[12  2]\n",
      " [ 1 10]]です\n",
      "3nnの混同行列は\n",
      "[[12  2]\n",
      " [ 0 11]]です\n",
      "1nnの混同行列は\n",
      "[[13  1]\n",
      " [ 1 10]]です\n"
     ]
    }
   ],
   "source": [
    "# 混同行列\n",
    "from sklearn.metrics import confusion_matrix\n",
    "print(\"5nnの混同行列は\\n{}です\".format(confusion_matrix(y_test, y_pred_5nn)))\n",
    "print(\"3nnの混同行列は\\n{}です\".format(confusion_matrix(y_test, y_pred_3nn)))\n",
    "print(\"1nnの混同行列は\\n{}です\".format(confusion_matrix(y_test, y_pred_1nn)))"
   ]
  },
  {
   "cell_type": "code",
   "execution_count": 24,
   "metadata": {},
   "outputs": [],
   "source": [
    "# 問題８　表作成用\n",
    "pred_df = pd.DataFrame({\"5nn\": [accuracy_score(y_test, y_pred_5nn), precision_score(y_test, y_pred_5nn),\n",
    "                                recall_score(y_test, y_pred_5nn), f1_score(y_test, y_pred_5nn),\n",
    "                                confusion_matrix(y_test, y_pred_5nn)],\n",
    "                               \"3nn\": [accuracy_score(y_test, y_pred_3nn), precision_score(y_test, y_pred_3nn),\n",
    "                                recall_score(y_test, y_pred_3nn), f1_score(y_test, y_pred_3nn),\n",
    "                                       confusion_matrix(y_test, y_pred_3nn)],\n",
    "                               \"1nn\": [accuracy_score(y_test, y_pred_1nn), precision_score(y_test, y_pred_1nn),\n",
    "                                recall_score(y_test, y_pred_1nn), f1_score(y_test, y_pred_1nn),\n",
    "                                       confusion_matrix(y_test, y_pred_1nn)]},\n",
    "                               index=[\"正解率\", \"適合率\", \"再現率\", \"F値\", \"混同行列\"])"
   ]
  },
  {
   "cell_type": "markdown",
   "metadata": {},
   "source": [
    "### 4種類の指標値の意味について簡単に調査して文章でまとめる\n",
    "- 混同行列とは、各テストデータに対するモデルの予測結果を、真陽性(True Positive)、真陰性(True Negative)、偽陽性(False Positive)、偽陰性(False Negative)の4つの観点で分類 をし、それぞれに当てはまる予測結果の個数をまとめた表<br>\n",
    "T = True F = False P = Positive N = Negative<br>\n",
    "[[TP,FP],<br>\n",
    "[FN, TN]]<br>\n",
    "[[virgicolorをvirgicolorと判定, virginicaをvirgicolorと誤判定],<br>\n",
    "[virgicolorをvirginicaと誤判定,virginicaをvirginicaと判定]]<br>\n",
    "\n",
    "- 正解率は正解数を問題数で割ったもの 正解率 ＝ 正解数　/　問題数<br>\n",
    "Accuracy = $\\frac{TP + TN}{TP + FP + TN + FN}$\n",
    "- 適合率は、「陽性と予測したもののうち、実際に陽性であった割合」<br>\n",
    "Precision = $\\frac{TP}{TP + FP}$\n",
    "- 再現率は、「実際に陽性であるもののうち、正しく陽性と予測できたものの割合」<br>\n",
    "Recall = $\\frac{TP}{TP + FN}$\n",
    "- F値は、「対照的な特徴を持つ適合率と再現率の調和平均」<br>\n",
    "F-measure = $\\frac{2 x Precision x Recall}{Precision + Recall}$\n"
   ]
  },
  {
   "cell_type": "markdown",
   "metadata": {},
   "source": [
    "## 【問題7】可視化\n",
    "Xとyには訓練データまたは検証データを与えます。"
   ]
  },
  {
   "cell_type": "code",
   "execution_count": 25,
   "metadata": {},
   "outputs": [],
   "source": [
    "from matplotlib.colors import ListedColormap\n",
    "import matplotlib.patches as mpatches"
   ]
  },
  {
   "cell_type": "code",
   "execution_count": 26,
   "metadata": {},
   "outputs": [],
   "source": [
    "import matplotlib.pyplot as plt\n",
    "from matplotlib.colors import ListedColormap\n",
    "import matplotlib.patches as mpatches\n",
    "def decision_region(X, y, model, step=0.01, title='decision region', xlabel='xlabel', ylabel='ylabel', target_names=['versicolor', 'virginica']):\n",
    "    \"\"\"\n",
    "    2値分類を2次元の特徴量で学習したモデルの決定領域を描く。\n",
    "    背景の色が学習したモデルによる推定値から描画される。\n",
    "    散布図の点は訓練データまたは検証データである。\n",
    "\n",
    "    Parameters\n",
    "    ----------------\n",
    "    X : ndarray, shape(n_samples, 2)\n",
    "        特徴量\n",
    "    y : ndarray, shape(n_samples,)\n",
    "        ラベル\n",
    "    model : object\n",
    "        学習したモデルのインスンタスを入れる\n",
    "    step : float, (default : 0.1)\n",
    "        推定値を計算する間隔を設定する\n",
    "    title : str\n",
    "        グラフのタイトルの文章を与える\n",
    "    xlabel, ylabel : str\n",
    "        軸ラベルの文章を与える\n",
    "    target_names= : list of str\n",
    "        凡例の一覧を与える\n",
    "    \"\"\"\n",
    "    # setting\n",
    "    scatter_color = ['red', 'blue']\n",
    "    contourf_color = ['pink', 'skyblue']\n",
    "    n_class = 2\n",
    "    # pred\n",
    "    mesh_f0, mesh_f1  = np.meshgrid(np.arange(np.min(X[:,0])-0.5, np.max(X[:,0])+0.5, step), np.arange(np.min(X[:,1])-0.5, np.max(X[:,1])+0.5, step))\n",
    "    mesh = np.c_[np.ravel(mesh_f0),np.ravel(mesh_f1)]\n",
    "    y_pred = model.predict(mesh).reshape(mesh_f0.shape)\n",
    "    # plot\n",
    "    plt.title(title)\n",
    "    plt.xlabel(xlabel)\n",
    "    plt.ylabel(ylabel)\n",
    "    plt.contourf(mesh_f0, mesh_f1, y_pred, n_class-1, cmap=ListedColormap(contourf_color))\n",
    "    plt.contour(mesh_f0, mesh_f1, y_pred, n_class-1, colors='y', linewidths=3, alpha=0.5)\n",
    "\n",
    "    for i, target in enumerate(set(y)):\n",
    "        plt.scatter(X[y==target][:, 0], X[y==target][:, 1], s=80, color=scatter_color[i], label=target_names[i], marker='o')\n",
    "    patches = [mpatches.Patch(color=scatter_color[i], label=target_names[i]) for i in range(n_class)]\n",
    "    plt.legend(handles=patches)\n",
    "    plt.legend()\n",
    "    plt.show()"
   ]
  },
  {
   "cell_type": "code",
   "execution_count": 27,
   "metadata": {},
   "outputs": [
    {
     "name": "stderr",
     "output_type": "stream",
     "text": [
      "/Users/arisa/.pyenv/versions/anaconda3-5.3.1/lib/python3.7/site-packages/ipykernel_launcher.py:3: DataConversionWarning: A column-vector y was passed when a 1d array was expected. Please change the shape of y to (n_samples, ), for example using ravel().\n",
      "  This is separate from the ipykernel package so we can avoid doing imports until\n"
     ]
    },
    {
     "data": {
      "image/png": "[encoded data removed]",
      "text/plain": [
       "<Figure size 432x288 with 1 Axes>"
      ]
     },
     "metadata": {
      "needs_background": "light"
     },
     "output_type": "display_data"
    }
   ],
   "source": [
    "# 5-nn\n",
    "neigh = KNeighborsClassifier(n_neighbors=5)\n",
    "neigh.fit(X_train_std, y_train)\n",
    "y_pred_5nn = neigh.predict(X_test_std)\n",
    "decision_region(X_test_std, y_test.T[0], neigh, title=\"decision region of 5-nn\", xlabel=\"sepal_length\", ylabel=\"petal_length\")"
   ]
  },
  {
   "cell_type": "code",
   "execution_count": 28,
   "metadata": {},
   "outputs": [
    {
     "name": "stderr",
     "output_type": "stream",
     "text": [
      "/Users/arisa/.pyenv/versions/anaconda3-5.3.1/lib/python3.7/site-packages/ipykernel_launcher.py:3: DataConversionWarning: A column-vector y was passed when a 1d array was expected. Please change the shape of y to (n_samples, ), for example using ravel().\n",
      "  This is separate from the ipykernel package so we can avoid doing imports until\n"
     ]
    },
    {
     "data": {
      "image/png": "[encoded data removed]",
      "text/plain": [
       "<Figure size 432x288 with 1 Axes>"
      ]
     },
     "metadata": {
      "needs_background": "light"
     },
     "output_type": "display_data"
    }
   ],
   "source": [
    "# 3-nn\n",
    "neigh = KNeighborsClassifier(n_neighbors=3)\n",
    "neigh.fit(X_train_std, y_train)\n",
    "y_pred_3nn = neigh.predict(X_test_std)\n",
    "decision_region(X_test_std, y_test.T[0], neigh, title=\"decision region of 3-nn\", xlabel=\"sepal_length\", ylabel=\"petal_length\")"
   ]
  },
  {
   "cell_type": "code",
   "execution_count": 29,
   "metadata": {},
   "outputs": [
    {
     "name": "stderr",
     "output_type": "stream",
     "text": [
      "/Users/arisa/.pyenv/versions/anaconda3-5.3.1/lib/python3.7/site-packages/ipykernel_launcher.py:3: DataConversionWarning: A column-vector y was passed when a 1d array was expected. Please change the shape of y to (n_samples, ), for example using ravel().\n",
      "  This is separate from the ipykernel package so we can avoid doing imports until\n"
     ]
    },
    {
     "data": {
      "image/png": "[encoded data removed]",
      "text/plain": [
       "<Figure size 432x288 with 1 Axes>"
      ]
     },
     "metadata": {
      "needs_background": "light"
     },
     "output_type": "display_data"
    }
   ],
   "source": [
    "# 1-nn\n",
    "neigh = KNeighborsClassifier(n_neighbors=1)\n",
    "neigh.fit(X_train_std, y_train)\n",
    "y_pred_1nn = neigh.predict(X_test_std)\n",
    "decision_region(X_test_std, y_test.T[0], neigh, title=\"decision region of 1-nn\", xlabel=\"sepal_length\", ylabel=\"petal_length\")"
   ]
  },
  {
   "cell_type": "markdown",
   "metadata": {},
   "source": [
    "## 【問題8】他の手法の学習\n",
    "以下の全ての手法について学習(fit)・推定(predict)・評価(4種類の指標値と混同行列)・可視化（散布図）を行ってください。\n",
    "- 8-1 最近傍法\n",
    "- 8-2 ロジスティック回帰\n",
    "- 8-3 SVM\n",
    "- 8-4 決定木\n",
    "- 8-5 ランダムフォレスト\n",
    "\n",
    "指標値を１つの表にまとめてください。<br>\n",
    "その表と決定領域を利用して結果を簡単に考察してください。<br>\n",
    "どの手法がどの指標値で良かったかや、どういった決定領域になっていたかを述べてください。<br>"
   ]
  },
  {
   "cell_type": "markdown",
   "metadata": {},
   "source": [
    "### 8-1 最近傍法\n",
    "問題5〜7までで対応済み"
   ]
  },
  {
   "cell_type": "markdown",
   "metadata": {},
   "source": [
    "### 8-2　ロジスティック回帰"
   ]
  },
  {
   "cell_type": "code",
   "execution_count": 30,
   "metadata": {},
   "outputs": [
    {
     "name": "stderr",
     "output_type": "stream",
     "text": [
      "/Users/arisa/.pyenv/versions/anaconda3-5.3.1/lib/python3.7/site-packages/sklearn/utils/validation.py:578: DataConversionWarning: A column-vector y was passed when a 1d array was expected. Please change the shape of y to (n_samples, ), for example using ravel().\n",
      "  y = column_or_1d(y, warn=True)\n"
     ]
    },
    {
     "data": {
      "text/plain": [
       "array([1, 2, 1, 2, 2, 1, 1, 2, 2, 2, 1, 1, 2, 2, 1, 1, 2, 2, 1, 2, 1, 1,\n",
       "       2, 1, 1])"
      ]
     },
     "execution_count": 30,
     "metadata": {},
     "output_type": "execute_result"
    }
   ],
   "source": [
    "# 学習と推定\n",
    "from sklearn.linear_model import LogisticRegression\n",
    "clf = LogisticRegression(random_state=0).fit(X_train_std, y_train)\n",
    "y_pred_logistic = clf.predict(X_test_std)\n",
    "y_pred_logistic"
   ]
  },
  {
   "cell_type": "code",
   "execution_count": 31,
   "metadata": {},
   "outputs": [
    {
     "name": "stdout",
     "output_type": "stream",
     "text": [
      "ロジスティック回帰の正解率は0.96です\n",
      "ロジスティック回帰の適合率は1.0です\n",
      "ロジスティック回帰の再現率は0.9285714285714286です\n",
      "ロジスティック回帰のF値は0.962962962962963です\n",
      "ロジスティック回帰の混同行列は\n",
      "[[13  1]\n",
      " [ 0 11]]です\n"
     ]
    }
   ],
   "source": [
    "# 評価\n",
    "print(\"ロジスティック回帰の正解率は{}です\".format(accuracy_score(y_test, y_pred_logistic)))\n",
    "print(\"ロジスティック回帰の適合率は{}です\".format(precision_score(y_test, y_pred_logistic)))\n",
    "print(\"ロジスティック回帰の再現率は{}です\".format(recall_score(y_test, y_pred_logistic)))\n",
    "print(\"ロジスティック回帰のF値は{}です\".format(f1_score(y_test, y_pred_logistic)))\n",
    "print(\"ロジスティック回帰の混同行列は\\n{}です\".format(confusion_matrix(y_test, y_pred_logistic)))"
   ]
  },
  {
   "cell_type": "code",
   "execution_count": 32,
   "metadata": {},
   "outputs": [],
   "source": [
    "# 問題８　表作成用\n",
    "pred_df = pred_df.assign(ロジスティック回帰=[accuracy_score(y_test, y_pred_logistic),\n",
    "                                   precision_score(y_test, y_pred_logistic),\n",
    "                                   recall_score(y_test, y_pred_logistic),\n",
    "                                   f1_score(y_test, y_pred_logistic),\n",
    "                                   confusion_matrix(y_test, y_pred_logistic)])"
   ]
  },
  {
   "cell_type": "code",
   "execution_count": 33,
   "metadata": {},
   "outputs": [
    {
     "data": {
      "image/png": "[encoded data removed]",
      "text/plain": [
       "<Figure size 432x288 with 1 Axes>"
      ]
     },
     "metadata": {
      "needs_background": "light"
     },
     "output_type": "display_data"
    }
   ],
   "source": [
    "# 可視化\n",
    "decision_region(X_test_std, y_test.T[0], clf, title=\"decision region of Logistic\", xlabel=\"sepal_length\", ylabel=\"petal_length\")"
   ]
  },
  {
   "cell_type": "markdown",
   "metadata": {},
   "source": [
    "### 8-3 SVM"
   ]
  },
  {
   "cell_type": "code",
   "execution_count": 34,
   "metadata": {},
   "outputs": [
    {
     "name": "stderr",
     "output_type": "stream",
     "text": [
      "/Users/arisa/.pyenv/versions/anaconda3-5.3.1/lib/python3.7/site-packages/sklearn/utils/validation.py:578: DataConversionWarning: A column-vector y was passed when a 1d array was expected. Please change the shape of y to (n_samples, ), for example using ravel().\n",
      "  y = column_or_1d(y, warn=True)\n"
     ]
    },
    {
     "data": {
      "text/plain": [
       "array([1, 2, 1, 2, 2, 1, 1, 2, 2, 2, 1, 1, 2, 2, 1, 1, 2, 2, 1, 2, 1, 1,\n",
       "       2, 1, 1])"
      ]
     },
     "execution_count": 34,
     "metadata": {},
     "output_type": "execute_result"
    }
   ],
   "source": [
    "# 学習と推定\n",
    "# from sklearn.pipeline import make_pipeline\n",
    "# from sklearn.preprocessing import StandardScaler\n",
    "# from sklearn.svm import SVC\n",
    "# clf = make_pipeline(StandardScaler(), SVC(gamma=\"auto\"))\n",
    "# clf.fit(X_train_std, y_train)\n",
    "# y_pred_svm = clf.predict(X_test_std)\n",
    "# y_pred_svm\n",
    "from sklearn.svm import SVC\n",
    "clf = SVC()\n",
    "clf.fit(X_train_std, y_train)\n",
    "y_pred_svm = clf.predict(X_test_std)\n",
    "y_pred_svm"
   ]
  },
  {
   "cell_type": "code",
   "execution_count": 35,
   "metadata": {},
   "outputs": [
    {
     "name": "stdout",
     "output_type": "stream",
     "text": [
      "SVMの正解率は0.96です\n",
      "SVMの適合率は1.0です\n",
      "SVMの再現率は0.9285714285714286です\n",
      "SVMのF値は0.962962962962963です\n",
      "SVMの混同行列は\n",
      "[[13  1]\n",
      " [ 0 11]]です\n"
     ]
    }
   ],
   "source": [
    "# 評価\n",
    "print(\"SVMの正解率は{}です\".format(accuracy_score(y_test, y_pred_svm)))\n",
    "print(\"SVMの適合率は{}です\".format(precision_score(y_test, y_pred_svm)))\n",
    "print(\"SVMの再現率は{}です\".format(recall_score(y_test, y_pred_svm)))\n",
    "print(\"SVMのF値は{}です\".format(f1_score(y_test, y_pred_svm)))\n",
    "print(\"SVMの混同行列は\\n{}です\".format(confusion_matrix(y_test, y_pred_svm)))"
   ]
  },
  {
   "cell_type": "code",
   "execution_count": 36,
   "metadata": {},
   "outputs": [],
   "source": [
    "# 問題８　表作成用\n",
    "pred_df = pred_df.assign(SVM=[accuracy_score(y_test, y_pred_svm),\n",
    "                                   precision_score(y_test, y_pred_svm),\n",
    "                                   recall_score(y_test, y_pred_svm),\n",
    "                                   f1_score(y_test, y_pred_svm),\n",
    "                                   confusion_matrix(y_test, y_pred_svm)])"
   ]
  },
  {
   "cell_type": "code",
   "execution_count": 37,
   "metadata": {},
   "outputs": [
    {
     "data": {
      "image/png": "[encoded data removed]",
      "text/plain": [
       "<Figure size 432x288 with 1 Axes>"
      ]
     },
     "metadata": {
      "needs_background": "light"
     },
     "output_type": "display_data"
    }
   ],
   "source": [
    "# 可視化\n",
    "decision_region(X_test_std, y_test.T[0], clf, title=\"decision region of SVM\", xlabel=\"sepal_length\", ylabel=\"petal_length\")"
   ]
  },
  {
   "cell_type": "markdown",
   "metadata": {},
   "source": [
    "### 8-4 決定木"
   ]
  },
  {
   "cell_type": "code",
   "execution_count": 38,
   "metadata": {},
   "outputs": [
    {
     "data": {
      "text/plain": [
       "array([1, 1, 1, 2, 2, 1, 1, 2, 2, 2, 1, 1, 2, 2, 1, 1, 2, 2, 1, 2, 1, 1,\n",
       "       2, 1, 1])"
      ]
     },
     "execution_count": 38,
     "metadata": {},
     "output_type": "execute_result"
    }
   ],
   "source": [
    "# 学習と推定\n",
    "from sklearn.model_selection import cross_val_score\n",
    "from sklearn.tree import DecisionTreeClassifier\n",
    "clf = DecisionTreeClassifier()\n",
    "clf.fit(X_train_std, y_train)\n",
    "y_predict_DecisionTree = clf.predict(X_test_std)\n",
    "y_predict_DecisionTree"
   ]
  },
  {
   "cell_type": "code",
   "execution_count": 39,
   "metadata": {},
   "outputs": [
    {
     "name": "stdout",
     "output_type": "stream",
     "text": [
      "決定木の正解率は0.92です\n",
      "決定木の適合率は0.9285714285714286です\n",
      "決定木の再現率は0.9285714285714286です\n",
      "決定木のF値は0.9285714285714286です\n",
      "決定木の混同行列は\n",
      "[[13  1]\n",
      " [ 1 10]]です\n"
     ]
    }
   ],
   "source": [
    "# 評価\n",
    "print(\"決定木の正解率は{}です\".format(accuracy_score(y_test, y_predict_DecisionTree)))\n",
    "print(\"決定木の適合率は{}です\".format(precision_score(y_test, y_predict_DecisionTree)))\n",
    "print(\"決定木の再現率は{}です\".format(recall_score(y_test, y_predict_DecisionTree)))\n",
    "print(\"決定木のF値は{}です\".format(f1_score(y_test, y_predict_DecisionTree)))\n",
    "print(\"決定木の混同行列は\\n{}です\".format(confusion_matrix(y_test, y_predict_DecisionTree)))"
   ]
  },
  {
   "cell_type": "code",
   "execution_count": 40,
   "metadata": {},
   "outputs": [],
   "source": [
    "# 問題８　表作成用\n",
    "pred_df = pred_df.assign(決定木=[accuracy_score(y_test, y_predict_DecisionTree),\n",
    "                                   precision_score(y_test, y_predict_DecisionTree),\n",
    "                                   recall_score(y_test, y_predict_DecisionTree),\n",
    "                                   f1_score(y_test, y_predict_DecisionTree),\n",
    "                                   confusion_matrix(y_test, y_predict_DecisionTree)])"
   ]
  },
  {
   "cell_type": "code",
   "execution_count": 41,
   "metadata": {},
   "outputs": [
    {
     "data": {
      "image/png": "[encoded data removed]",
      "text/plain": [
       "<Figure size 432x288 with 1 Axes>"
      ]
     },
     "metadata": {
      "needs_background": "light"
     },
     "output_type": "display_data"
    }
   ],
   "source": [
    "# 可視化\n",
    "decision_region(X_test_std, y_test.T[0], clf, title=\"decision region of DecisionTree\", xlabel=\"sepal_length\", ylabel=\"petal_length\")"
   ]
  },
  {
   "cell_type": "markdown",
   "metadata": {},
   "source": [
    "### 8-5 ランダムフォレスト"
   ]
  },
  {
   "cell_type": "code",
   "execution_count": 42,
   "metadata": {},
   "outputs": [
    {
     "name": "stderr",
     "output_type": "stream",
     "text": [
      "/Users/arisa/.pyenv/versions/anaconda3-5.3.1/lib/python3.7/site-packages/sklearn/ensemble/weight_boosting.py:29: DeprecationWarning: numpy.core.umath_tests is an internal NumPy module and should not be imported. It will be removed in a future NumPy release.\n",
      "  from numpy.core.umath_tests import inner1d\n",
      "/Users/arisa/.pyenv/versions/anaconda3-5.3.1/lib/python3.7/site-packages/ipykernel_launcher.py:5: DataConversionWarning: A column-vector y was passed when a 1d array was expected. Please change the shape of y to (n_samples,), for example using ravel().\n",
      "  \"\"\"\n"
     ]
    },
    {
     "data": {
      "text/plain": [
       "array([1, 2, 1, 2, 2, 1, 2, 2, 2, 2, 1, 1, 2, 2, 1, 1, 2, 2, 1, 2, 1, 1,\n",
       "       2, 1, 1])"
      ]
     },
     "execution_count": 42,
     "metadata": {},
     "output_type": "execute_result"
    }
   ],
   "source": [
    "#  学習と推定\n",
    "from sklearn.ensemble import RandomForestClassifier\n",
    "from sklearn.datasets import make_classification\n",
    "clf = RandomForestClassifier()\n",
    "clf.fit(X_train_std, y_train)\n",
    "y_predict_RandomForest = clf.predict(X_test_std)\n",
    "y_predict_RandomForest"
   ]
  },
  {
   "cell_type": "code",
   "execution_count": 43,
   "metadata": {},
   "outputs": [
    {
     "name": "stdout",
     "output_type": "stream",
     "text": [
      "ランダムフォレストの正解率は0.92です\n",
      "ランダムフォレストの適合率は1.0です\n",
      "ランダムフォレストの再現率は0.8571428571428571です\n",
      "ランダムフォレストのF値は0.923076923076923です\n",
      "ランダムフォレストの混同行列は\n",
      "[[12  2]\n",
      " [ 0 11]]です\n"
     ]
    }
   ],
   "source": [
    "# 評価\n",
    "print(\"ランダムフォレストの正解率は{}です\".format(accuracy_score(y_test, y_predict_RandomForest)))\n",
    "print(\"ランダムフォレストの適合率は{}です\".format(precision_score(y_test, y_predict_RandomForest)))\n",
    "print(\"ランダムフォレストの再現率は{}です\".format(recall_score(y_test, y_predict_RandomForest)))\n",
    "print(\"ランダムフォレストのF値は{}です\".format(f1_score(y_test, y_predict_RandomForest)))\n",
    "print(\"ランダムフォレストの混同行列は\\n{}です\".format(confusion_matrix(y_test, y_predict_RandomForest)))"
   ]
  },
  {
   "cell_type": "code",
   "execution_count": 44,
   "metadata": {},
   "outputs": [],
   "source": [
    "# 問題８　表作成用\n",
    "pred_df = pred_df.assign(ランダムフォレスト=[accuracy_score(y_test, y_predict_RandomForest),\n",
    "                                   precision_score(y_test, y_predict_RandomForest),\n",
    "                                   recall_score(y_test, y_predict_RandomForest),\n",
    "                                   f1_score(y_test, y_predict_RandomForest),\n",
    "                                   confusion_matrix(y_test, y_predict_RandomForest)])"
   ]
  },
  {
   "cell_type": "code",
   "execution_count": 45,
   "metadata": {},
   "outputs": [
    {
     "data": {
      "image/png": "[encoded data removed]",
      "text/plain": [
       "<Figure size 432x288 with 1 Axes>"
      ]
     },
     "metadata": {
      "needs_background": "light"
     },
     "output_type": "display_data"
    }
   ],
   "source": [
    "# 可視化\n",
    "decision_region(X_test_std, y_test.T[0], clf, title=\"decision region of RandomForest\", xlabel=\"sepal_length\", ylabel=\"petal_length\")"
   ]
  },
  {
   "cell_type": "markdown",
   "metadata": {},
   "source": [
    "### 表にまとめる"
   ]
  },
  {
   "cell_type": "code",
   "execution_count": 46,
   "metadata": {},
   "outputs": [
    {
     "data": {
      "text/html": [
       "<div>\n",
       "<style scoped>\n",
       "    .dataframe tbody tr th:only-of-type {\n",
       "        vertical-align: middle;\n",
       "    }\n",
       "\n",
       "    .dataframe tbody tr th {\n",
       "        vertical-align: top;\n",
       "    }\n",
       "\n",
       "    .dataframe thead th {\n",
       "        text-align: right;\n",
       "    }\n",
       "</style>\n",
       "<table border=\"1\" class=\"dataframe\">\n",
       "  <thead>\n",
       "    <tr style=\"text-align: right;\">\n",
       "      <th></th>\n",
       "      <th>5nn</th>\n",
       "      <th>3nn</th>\n",
       "      <th>1nn</th>\n",
       "      <th>ロジスティック回帰</th>\n",
       "      <th>SVM</th>\n",
       "      <th>決定木</th>\n",
       "      <th>ランダムフォレスト</th>\n",
       "    </tr>\n",
       "  </thead>\n",
       "  <tbody>\n",
       "    <tr>\n",
       "      <th>正解率</th>\n",
       "      <td>0.88</td>\n",
       "      <td>0.92</td>\n",
       "      <td>0.92</td>\n",
       "      <td>0.96</td>\n",
       "      <td>0.96</td>\n",
       "      <td>0.92</td>\n",
       "      <td>0.92</td>\n",
       "    </tr>\n",
       "    <tr>\n",
       "      <th>適合率</th>\n",
       "      <td>0.923077</td>\n",
       "      <td>1</td>\n",
       "      <td>0.928571</td>\n",
       "      <td>1</td>\n",
       "      <td>1</td>\n",
       "      <td>0.928571</td>\n",
       "      <td>1</td>\n",
       "    </tr>\n",
       "    <tr>\n",
       "      <th>再現率</th>\n",
       "      <td>0.857143</td>\n",
       "      <td>0.857143</td>\n",
       "      <td>0.928571</td>\n",
       "      <td>0.928571</td>\n",
       "      <td>0.928571</td>\n",
       "      <td>0.928571</td>\n",
       "      <td>0.857143</td>\n",
       "    </tr>\n",
       "    <tr>\n",
       "      <th>F値</th>\n",
       "      <td>0.888889</td>\n",
       "      <td>0.923077</td>\n",
       "      <td>0.928571</td>\n",
       "      <td>0.962963</td>\n",
       "      <td>0.962963</td>\n",
       "      <td>0.928571</td>\n",
       "      <td>0.923077</td>\n",
       "    </tr>\n",
       "    <tr>\n",
       "      <th>混同行列</th>\n",
       "      <td>[[12, 2], [1, 10]]</td>\n",
       "      <td>[[12, 2], [0, 11]]</td>\n",
       "      <td>[[13, 1], [1, 10]]</td>\n",
       "      <td>[[13, 1], [0, 11]]</td>\n",
       "      <td>[[13, 1], [0, 11]]</td>\n",
       "      <td>[[13, 1], [1, 10]]</td>\n",
       "      <td>[[12, 2], [0, 11]]</td>\n",
       "    </tr>\n",
       "  </tbody>\n",
       "</table>\n",
       "</div>"
      ],
      "text/plain": [
       "                     5nn                 3nn                 1nn  \\\n",
       "正解率                 0.88                0.92                0.92   \n",
       "適合率             0.923077                   1            0.928571   \n",
       "再現率             0.857143            0.857143            0.928571   \n",
       "F値              0.888889            0.923077            0.928571   \n",
       "混同行列  [[12, 2], [1, 10]]  [[12, 2], [0, 11]]  [[13, 1], [1, 10]]   \n",
       "\n",
       "               ロジスティック回帰                 SVM                 決定木  \\\n",
       "正解率                 0.96                0.96                0.92   \n",
       "適合率                    1                   1            0.928571   \n",
       "再現率             0.928571            0.928571            0.928571   \n",
       "F値              0.962963            0.962963            0.928571   \n",
       "混同行列  [[13, 1], [0, 11]]  [[13, 1], [0, 11]]  [[13, 1], [1, 10]]   \n",
       "\n",
       "               ランダムフォレスト  \n",
       "正解率                 0.92  \n",
       "適合率                    1  \n",
       "再現率             0.857143  \n",
       "F値              0.923077  \n",
       "混同行列  [[12, 2], [0, 11]]  "
      ]
     },
     "execution_count": 46,
     "metadata": {},
     "output_type": "execute_result"
    }
   ],
   "source": [
    "pred_df"
   ]
  },
  {
   "cell_type": "markdown",
   "metadata": {},
   "source": [
    "### 考察する\n",
    "学習データと検証データの分類によって、結果が毎回変わるので5回ほど繰り返してみた。<br>\n",
    "最近傍法の距離が5と3、ロジスティック回帰、SVMでは比較的結果が安定していた。<br>\n",
    "最近傍法の距離1の散布図をみると、学習データによっては、飛び地のようになってしまっていた<br>\n",
    "学習データによって精度が変わってしまうので、精度が良かった学習データを使うようにした方が良いのか、そのためにシード値を指定し他方が良いのかもう少し調べる必要がありそう"
   ]
  },
  {
   "cell_type": "markdown",
   "metadata": {},
   "source": [
    "## 【問題9】（アドバンス課題）標準化の有無の比較"
   ]
  },
  {
   "cell_type": "code",
   "execution_count": 47,
   "metadata": {},
   "outputs": [
    {
     "name": "stderr",
     "output_type": "stream",
     "text": [
      "/Users/arisa/.pyenv/versions/anaconda3-5.3.1/lib/python3.7/site-packages/ipykernel_launcher.py:3: DataConversionWarning: A column-vector y was passed when a 1d array was expected. Please change the shape of y to (n_samples, ), for example using ravel().\n",
      "  This is separate from the ipykernel package so we can avoid doing imports until\n"
     ]
    },
    {
     "name": "stdout",
     "output_type": "stream",
     "text": [
      "[2 1 1 2 2 1 1 2 2 2 1 1 2 2 1 1 2 2 1 2 1 1 2 1 1]\n"
     ]
    },
    {
     "data": {
      "image/png": "[encoded data removed]",
      "text/plain": [
       "<Figure size 432x288 with 1 Axes>"
      ]
     },
     "metadata": {
      "needs_background": "light"
     },
     "output_type": "display_data"
    }
   ],
   "source": [
    "# 5-nn 標準化なし\n",
    "neigh = KNeighborsClassifier(n_neighbors=5)\n",
    "neigh.fit(X_train, y_train)\n",
    "y_pred_5nn_ns = neigh.predict(X_test)\n",
    "print(y_pred_5nn_ns)\n",
    "\n",
    "# 可視化\n",
    "decision_region(X_test, y_test.T[0], neigh, title=\"decision region of 5-nn no std\", xlabel=\"sepal_length\", ylabel=\"petal_length\")"
   ]
  },
  {
   "cell_type": "code",
   "execution_count": 48,
   "metadata": {},
   "outputs": [
    {
     "name": "stdout",
     "output_type": "stream",
     "text": [
      "5-nnの標準化なしの正解率は0.88です\n",
      "5-nnの標準化なしの適合率は0.9230769230769231です\n",
      "5-nnの標準化なしの再現率は0.8571428571428571です\n",
      "5-nnの標準化なしのF値は0.888888888888889です\n",
      "5-nnの標準化なしの混同行列は\n",
      "[[12  2]\n",
      " [ 1 10]]です\n"
     ]
    }
   ],
   "source": [
    "# 評価\n",
    "print(\"5-nnの標準化なしの正解率は{}です\".format(accuracy_score(y_test, y_pred_5nn_ns)))\n",
    "print(\"5-nnの標準化なしの適合率は{}です\".format(precision_score(y_test, y_pred_5nn_ns)))\n",
    "print(\"5-nnの標準化なしの再現率は{}です\".format(recall_score(y_test, y_pred_5nn_ns)))\n",
    "print(\"5-nnの標準化なしのF値は{}です\".format(f1_score(y_test, y_pred_5nn_ns)))\n",
    "print(\"5-nnの標準化なしの混同行列は\\n{}です\".format(confusion_matrix(y_test, y_pred_5nn_ns)))\n",
    "# 表に追加\n",
    "pred_df = pred_df.assign(k5nn標準化なし=[accuracy_score(y_test, y_pred_5nn_ns),\n",
    "                                   precision_score(y_test, y_pred_5nn_ns),\n",
    "                                   recall_score(y_test, y_pred_5nn_ns),\n",
    "                                   f1_score(y_test, y_pred_5nn_ns),\n",
    "                                   confusion_matrix(y_test, y_pred_5nn_ns)])"
   ]
  },
  {
   "cell_type": "code",
   "execution_count": 49,
   "metadata": {},
   "outputs": [
    {
     "name": "stdout",
     "output_type": "stream",
     "text": [
      "[2 2 1 2 2 1 1 2 2 2 1 1 2 2 1 1 2 2 1 2 1 1 2 1 1]\n"
     ]
    },
    {
     "name": "stderr",
     "output_type": "stream",
     "text": [
      "/Users/arisa/.pyenv/versions/anaconda3-5.3.1/lib/python3.7/site-packages/ipykernel_launcher.py:3: DataConversionWarning: A column-vector y was passed when a 1d array was expected. Please change the shape of y to (n_samples, ), for example using ravel().\n",
      "  This is separate from the ipykernel package so we can avoid doing imports until\n"
     ]
    },
    {
     "data": {
      "image/png": "[encoded data removed]",
      "text/plain": [
       "<Figure size 432x288 with 1 Axes>"
      ]
     },
     "metadata": {
      "needs_background": "light"
     },
     "output_type": "display_data"
    }
   ],
   "source": [
    "# 3-nn　標準化なし\n",
    "neigh = KNeighborsClassifier(n_neighbors=3)\n",
    "neigh.fit(X_train, y_train)\n",
    "y_pred_3nn_ns = neigh.predict(X_test)\n",
    "print(y_pred_3nn_ns)\n",
    "# 可視化\n",
    "decision_region(X_test, y_test.T[0], neigh, title=\"decision region of 3-nn no std\", xlabel=\"sepal_length\", ylabel=\"petal_length\")"
   ]
  },
  {
   "cell_type": "code",
   "execution_count": 50,
   "metadata": {},
   "outputs": [
    {
     "name": "stdout",
     "output_type": "stream",
     "text": [
      "3-nnの標準化なしの正解率は0.92です\n",
      "3-nnの標準化なしの適合率は1.0です\n",
      "3-nnの標準化なしの再現率は0.8571428571428571です\n",
      "3-nnの標準化なしのF値は0.923076923076923です\n",
      "3-nnの標準化なしの混同行列は\n",
      "[[12  2]\n",
      " [ 0 11]]です\n"
     ]
    }
   ],
   "source": [
    "# 評価\n",
    "print(\"3-nnの標準化なしの正解率は{}です\".format(accuracy_score(y_test, y_pred_3nn_ns)))\n",
    "print(\"3-nnの標準化なしの適合率は{}です\".format(precision_score(y_test, y_pred_3nn_ns)))\n",
    "print(\"3-nnの標準化なしの再現率は{}です\".format(recall_score(y_test, y_pred_3nn_ns)))\n",
    "print(\"3-nnの標準化なしのF値は{}です\".format(f1_score(y_test, y_pred_3nn_ns)))\n",
    "print(\"3-nnの標準化なしの混同行列は\\n{}です\".format(confusion_matrix(y_test, y_pred_3nn_ns)))\n",
    "# 表に追加\n",
    "pred_df = pred_df.assign(k3nn標準化なし=[accuracy_score(y_test, y_pred_3nn_ns),\n",
    "                                   precision_score(y_test, y_pred_3nn_ns),\n",
    "                                   recall_score(y_test, y_pred_3nn_ns),\n",
    "                                   f1_score(y_test, y_pred_3nn_ns),\n",
    "                                   confusion_matrix(y_test, y_pred_3nn_ns)])"
   ]
  },
  {
   "cell_type": "code",
   "execution_count": 51,
   "metadata": {},
   "outputs": [
    {
     "name": "stdout",
     "output_type": "stream",
     "text": [
      "[1 1 1 2 2 1 1 2 2 2 1 1 2 2 1 1 2 2 1 2 1 1 2 1 1]\n"
     ]
    },
    {
     "name": "stderr",
     "output_type": "stream",
     "text": [
      "/Users/arisa/.pyenv/versions/anaconda3-5.3.1/lib/python3.7/site-packages/ipykernel_launcher.py:3: DataConversionWarning: A column-vector y was passed when a 1d array was expected. Please change the shape of y to (n_samples, ), for example using ravel().\n",
      "  This is separate from the ipykernel package so we can avoid doing imports until\n"
     ]
    },
    {
     "data": {
      "image/png": "[encoded data removed]",
      "text/plain": [
       "<Figure size 432x288 with 1 Axes>"
      ]
     },
     "metadata": {
      "needs_background": "light"
     },
     "output_type": "display_data"
    }
   ],
   "source": [
    "# 1-nn　標準化なし\n",
    "neigh = KNeighborsClassifier(n_neighbors=1)\n",
    "neigh.fit(X_train, y_train)\n",
    "y_pred_1nn_ns = neigh.predict(X_test)\n",
    "print(y_pred_1nn_ns)\n",
    "# 可視化\n",
    "decision_region(X_test, y_test.T[0], neigh, title=\"decision region of 1-nn no std\", xlabel=\"sepal_length\", ylabel=\"petal_length\")"
   ]
  },
  {
   "cell_type": "code",
   "execution_count": 52,
   "metadata": {},
   "outputs": [
    {
     "name": "stdout",
     "output_type": "stream",
     "text": [
      "1-nnの標準化なしの正解率は0.92です\n",
      "1-nnの標準化なしの適合率は0.9285714285714286です\n",
      "1-nnの標準化なしの再現率は0.9285714285714286です\n",
      "1-nnの標準化なしのF値は0.9285714285714286です\n",
      "1-nnの標準化なしの混同行列は\n",
      "[[13  1]\n",
      " [ 1 10]]です\n"
     ]
    }
   ],
   "source": [
    "# 評価\n",
    "print(\"1-nnの標準化なしの正解率は{}です\".format(accuracy_score(y_test, y_pred_1nn_ns)))\n",
    "print(\"1-nnの標準化なしの適合率は{}です\".format(precision_score(y_test, y_pred_1nn_ns)))\n",
    "print(\"1-nnの標準化なしの再現率は{}です\".format(recall_score(y_test, y_pred_1nn_ns)))\n",
    "print(\"1-nnの標準化なしのF値は{}です\".format(f1_score(y_test, y_pred_1nn_ns)))\n",
    "print(\"1-nnの標準化なしの混同行列は\\n{}です\".format(confusion_matrix(y_test, y_pred_1nn_ns)))\n",
    "# 表に追加\n",
    "pred_df = pred_df.assign(k1nn標準化なし=[accuracy_score(y_test, y_pred_1nn_ns),\n",
    "                                   precision_score(y_test, y_pred_1nn_ns),\n",
    "                                   recall_score(y_test, y_pred_1nn_ns),\n",
    "                                   f1_score(y_test, y_pred_1nn_ns),\n",
    "                                   confusion_matrix(y_test, y_pred_1nn_ns)])"
   ]
  },
  {
   "cell_type": "code",
   "execution_count": 53,
   "metadata": {},
   "outputs": [
    {
     "name": "stderr",
     "output_type": "stream",
     "text": [
      "/Users/arisa/.pyenv/versions/anaconda3-5.3.1/lib/python3.7/site-packages/sklearn/utils/validation.py:578: DataConversionWarning: A column-vector y was passed when a 1d array was expected. Please change the shape of y to (n_samples, ), for example using ravel().\n",
      "  y = column_or_1d(y, warn=True)\n"
     ]
    },
    {
     "data": {
      "text/plain": [
       "array([1, 1, 1, 2, 2, 1, 1, 2, 2, 2, 1, 1, 2, 2, 1, 1, 2, 2, 1, 2, 1, 1,\n",
       "       2, 1, 1])"
      ]
     },
     "execution_count": 53,
     "metadata": {},
     "output_type": "execute_result"
    }
   ],
   "source": [
    "# ロジスティック回帰\n",
    "# 学習と推定\n",
    "clf = LogisticRegression(random_state=0).fit(X_train, y_train)\n",
    "y_pred_logistic_ns = clf.predict(X_test)\n",
    "y_pred_logistic_ns"
   ]
  },
  {
   "cell_type": "code",
   "execution_count": 54,
   "metadata": {},
   "outputs": [
    {
     "name": "stdout",
     "output_type": "stream",
     "text": [
      "ロジスティック回帰 標準化なしの正解率は0.92です\n",
      "ロジスティック回帰 標準化なしの適合率は0.9285714285714286です\n",
      "ロジスティック回帰 標準化なしの再現率は0.9285714285714286です\n",
      "ロジスティック回帰 標準化なしのF値は0.9285714285714286です\n",
      "ロジスティック回帰 標準化なしの混同行列は\n",
      "[[13  1]\n",
      " [ 1 10]]です\n"
     ]
    }
   ],
   "source": [
    "# 評価\n",
    "print(\"ロジスティック回帰 標準化なしの正解率は{}です\".format(accuracy_score(y_test, y_pred_logistic_ns)))\n",
    "print(\"ロジスティック回帰 標準化なしの適合率は{}です\".format(precision_score(y_test, y_pred_logistic_ns)))\n",
    "print(\"ロジスティック回帰 標準化なしの再現率は{}です\".format(recall_score(y_test, y_pred_logistic_ns)))\n",
    "print(\"ロジスティック回帰 標準化なしのF値は{}です\".format(f1_score(y_test, y_pred_logistic_ns)))\n",
    "print(\"ロジスティック回帰 標準化なしの混同行列は\\n{}です\".format(confusion_matrix(y_test, y_pred_logistic_ns)))"
   ]
  },
  {
   "cell_type": "code",
   "execution_count": 55,
   "metadata": {},
   "outputs": [],
   "source": [
    "pred_df = pred_df.assign(ロジスティック回帰標準化なし=[accuracy_score(y_test, y_pred_logistic_ns),\n",
    "                                   precision_score(y_test, y_pred_logistic_ns),\n",
    "                                   recall_score(y_test, y_pred_logistic_ns),\n",
    "                                   f1_score(y_test, y_pred_logistic_ns),\n",
    "                                   confusion_matrix(y_test, y_pred_logistic_ns)])"
   ]
  },
  {
   "cell_type": "code",
   "execution_count": 56,
   "metadata": {},
   "outputs": [
    {
     "data": {
      "image/png": "[encoded data removed]",
      "text/plain": [
       "<Figure size 432x288 with 1 Axes>"
      ]
     },
     "metadata": {
      "needs_background": "light"
     },
     "output_type": "display_data"
    }
   ],
   "source": [
    "# 可視化\n",
    "decision_region(X_test, y_test.T[0], clf, title=\"decision region of Logistic no std\", xlabel=\"sepal_length\", ylabel=\"petal_length\")"
   ]
  },
  {
   "cell_type": "code",
   "execution_count": 57,
   "metadata": {},
   "outputs": [
    {
     "name": "stderr",
     "output_type": "stream",
     "text": [
      "/Users/arisa/.pyenv/versions/anaconda3-5.3.1/lib/python3.7/site-packages/sklearn/utils/validation.py:578: DataConversionWarning: A column-vector y was passed when a 1d array was expected. Please change the shape of y to (n_samples, ), for example using ravel().\n",
      "  y = column_or_1d(y, warn=True)\n"
     ]
    },
    {
     "data": {
      "text/plain": [
       "array([1, 2, 1, 2, 2, 1, 1, 2, 2, 2, 1, 1, 2, 2, 1, 1, 2, 2, 1, 2, 1, 1,\n",
       "       2, 1, 1])"
      ]
     },
     "execution_count": 57,
     "metadata": {},
     "output_type": "execute_result"
    }
   ],
   "source": [
    "# SVM\n",
    "clf = SVC()\n",
    "clf.fit(X_train, y_train)\n",
    "y_pred_svm_ns = clf.predict(X_test)\n",
    "y_pred_svm_ns"
   ]
  },
  {
   "cell_type": "code",
   "execution_count": 58,
   "metadata": {},
   "outputs": [
    {
     "name": "stdout",
     "output_type": "stream",
     "text": [
      "SVM 標準化なしの正解率は0.96です\n",
      "SVM 標準化なしの適合率は1.0です\n",
      "SVM 標準化なしの再現率は0.9285714285714286です\n",
      "SVM 標準化なしのF値は0.962962962962963です\n",
      "SVM 標準化なしの混同行列は\n",
      "[[13  1]\n",
      " [ 0 11]]です\n"
     ]
    }
   ],
   "source": [
    "# 評価\n",
    "print(\"SVM 標準化なしの正解率は{}です\".format(accuracy_score(y_test, y_pred_svm_ns)))\n",
    "print(\"SVM 標準化なしの適合率は{}です\".format(precision_score(y_test, y_pred_svm_ns)))\n",
    "print(\"SVM 標準化なしの再現率は{}です\".format(recall_score(y_test, y_pred_svm_ns)))\n",
    "print(\"SVM 標準化なしのF値は{}です\".format(f1_score(y_test, y_pred_svm_ns)))\n",
    "print(\"SVM 標準化なしの混同行列は\\n{}です\".format(confusion_matrix(y_test, y_pred_svm_ns)))"
   ]
  },
  {
   "cell_type": "code",
   "execution_count": 59,
   "metadata": {},
   "outputs": [],
   "source": [
    "pred_df = pred_df.assign(SVM標準化なし=[accuracy_score(y_test, y_pred_svm_ns),\n",
    "                                   precision_score(y_test, y_pred_svm_ns),\n",
    "                                   recall_score(y_test, y_pred_svm_ns),\n",
    "                                   f1_score(y_test, y_pred_svm_ns),\n",
    "                                   confusion_matrix(y_test, y_pred_svm_ns)])"
   ]
  },
  {
   "cell_type": "code",
   "execution_count": 60,
   "metadata": {},
   "outputs": [
    {
     "data": {
      "image/png": "[encoded data removed]",
      "text/plain": [
       "<Figure size 432x288 with 1 Axes>"
      ]
     },
     "metadata": {
      "needs_background": "light"
     },
     "output_type": "display_data"
    }
   ],
   "source": [
    "# 可視化\n",
    "decision_region(X_test, y_test.T[0], clf, title=\"decision region of SVM no std\", xlabel=\"sepal_length\", ylabel=\"petal_length\")"
   ]
  },
  {
   "cell_type": "code",
   "execution_count": 61,
   "metadata": {},
   "outputs": [
    {
     "data": {
      "text/plain": [
       "array([1, 1, 1, 2, 2, 1, 1, 2, 2, 2, 1, 1, 2, 2, 1, 1, 2, 2, 1, 2, 1, 1,\n",
       "       2, 1, 1])"
      ]
     },
     "execution_count": 61,
     "metadata": {},
     "output_type": "execute_result"
    }
   ],
   "source": [
    "# 決定木\n",
    "clf = DecisionTreeClassifier()\n",
    "clf.fit(X_train, y_train)\n",
    "y_predict_DecisionTree_ns = clf.predict(X_test)\n",
    "y_predict_DecisionTree_ns"
   ]
  },
  {
   "cell_type": "code",
   "execution_count": 62,
   "metadata": {},
   "outputs": [
    {
     "name": "stdout",
     "output_type": "stream",
     "text": [
      "決定木 標準化なしの正解率は0.92です\n",
      "決定木 標準化なしの適合率は0.9285714285714286です\n",
      "決定木 標準化なしの再現率は0.9285714285714286です\n",
      "決定木 標準化なしのF値は0.9285714285714286です\n",
      "決定木 標準化なしの混同行列は\n",
      "[[13  1]\n",
      " [ 1 10]]です\n"
     ]
    }
   ],
   "source": [
    "# 評価\n",
    "print(\"決定木 標準化なしの正解率は{}です\".format(accuracy_score(y_test, y_predict_DecisionTree_ns)))\n",
    "print(\"決定木 標準化なしの適合率は{}です\".format(precision_score(y_test, y_predict_DecisionTree_ns)))\n",
    "print(\"決定木 標準化なしの再現率は{}です\".format(recall_score(y_test, y_predict_DecisionTree_ns)))\n",
    "print(\"決定木 標準化なしのF値は{}です\".format(f1_score(y_test, y_predict_DecisionTree_ns)))\n",
    "print(\"決定木 標準化なしの混同行列は\\n{}です\".format(confusion_matrix(y_test, y_predict_DecisionTree_ns)))"
   ]
  },
  {
   "cell_type": "code",
   "execution_count": 63,
   "metadata": {},
   "outputs": [],
   "source": [
    "pred_df = pred_df.assign(決定木標準化なし=[accuracy_score(y_test, y_predict_DecisionTree_ns),\n",
    "                                   precision_score(y_test, y_predict_DecisionTree_ns),\n",
    "                                   recall_score(y_test, y_predict_DecisionTree_ns),\n",
    "                                   f1_score(y_test, y_predict_DecisionTree_ns),\n",
    "                                   confusion_matrix(y_test, y_predict_DecisionTree_ns)])"
   ]
  },
  {
   "cell_type": "code",
   "execution_count": 64,
   "metadata": {},
   "outputs": [
    {
     "data": {
      "image/png": "[encoded data removed]",
      "text/plain": [
       "<Figure size 432x288 with 1 Axes>"
      ]
     },
     "metadata": {
      "needs_background": "light"
     },
     "output_type": "display_data"
    }
   ],
   "source": [
    "# 可視化\n",
    "decision_region(X_test, y_test.T[0], clf, title=\"decision region of DecisionTree no std\", xlabel=\"sepal_length\", ylabel=\"petal_length\")"
   ]
  },
  {
   "cell_type": "code",
   "execution_count": 65,
   "metadata": {},
   "outputs": [
    {
     "name": "stderr",
     "output_type": "stream",
     "text": [
      "/Users/arisa/.pyenv/versions/anaconda3-5.3.1/lib/python3.7/site-packages/ipykernel_launcher.py:3: DataConversionWarning: A column-vector y was passed when a 1d array was expected. Please change the shape of y to (n_samples,), for example using ravel().\n",
      "  This is separate from the ipykernel package so we can avoid doing imports until\n"
     ]
    },
    {
     "data": {
      "text/plain": [
       "array([1, 2, 1, 2, 2, 1, 1, 2, 2, 2, 1, 1, 2, 2, 1, 1, 2, 2, 1, 2, 1, 1,\n",
       "       2, 1, 1])"
      ]
     },
     "execution_count": 65,
     "metadata": {},
     "output_type": "execute_result"
    }
   ],
   "source": [
    "# ランダムフォレスト　\n",
    "clf = RandomForestClassifier()\n",
    "clf.fit(X_train, y_train)\n",
    "y_predict_RandomForest_ns = clf.predict(X_test)\n",
    "y_predict_RandomForest_ns"
   ]
  },
  {
   "cell_type": "code",
   "execution_count": 66,
   "metadata": {},
   "outputs": [
    {
     "name": "stdout",
     "output_type": "stream",
     "text": [
      "ランダムフォレスト 標準化なしの正解率は0.96です\n",
      "ランダムフォレスト 標準化なしの適合率は1.0です\n",
      "ランダムフォレスト 標準化なしの再現率は0.9285714285714286です\n",
      "ランダムフォレスト 標準化なしのF値は0.962962962962963です\n",
      "ランダムフォレスト 標準化なしの混同行列は\n",
      "[[13  1]\n",
      " [ 0 11]]です\n"
     ]
    }
   ],
   "source": [
    "# 評価\n",
    "print(\"ランダムフォレスト 標準化なしの正解率は{}です\".format(accuracy_score(y_test, y_predict_RandomForest_ns)))\n",
    "print(\"ランダムフォレスト 標準化なしの適合率は{}です\".format(precision_score(y_test, y_predict_RandomForest_ns)))\n",
    "print(\"ランダムフォレスト 標準化なしの再現率は{}です\".format(recall_score(y_test, y_predict_RandomForest_ns)))\n",
    "print(\"ランダムフォレスト 標準化なしのF値は{}です\".format(f1_score(y_test, y_predict_RandomForest_ns)))\n",
    "print(\"ランダムフォレスト 標準化なしの混同行列は\\n{}です\".format(confusion_matrix(y_test, y_predict_RandomForest_ns)))"
   ]
  },
  {
   "cell_type": "code",
   "execution_count": 67,
   "metadata": {},
   "outputs": [],
   "source": [
    "pred_df = pred_df.assign(ランダムフォレスト標準化なし=[accuracy_score(y_test, y_predict_RandomForest_ns),\n",
    "                                   precision_score(y_test, y_predict_RandomForest_ns),\n",
    "                                   recall_score(y_test, y_predict_RandomForest_ns),\n",
    "                                   f1_score(y_test, y_predict_RandomForest_ns),\n",
    "                                   confusion_matrix(y_test, y_predict_RandomForest_ns)])"
   ]
  },
  {
   "cell_type": "code",
   "execution_count": 68,
   "metadata": {},
   "outputs": [
    {
     "data": {
      "image/png": "[encoded data removed]",
      "text/plain": [
       "<Figure size 432x288 with 1 Axes>"
      ]
     },
     "metadata": {
      "needs_background": "light"
     },
     "output_type": "display_data"
    }
   ],
   "source": [
    "# 可視化\n",
    "decision_region(X_test, y_test.T[0], clf, title=\"decision region of RandomForest no std\", xlabel=\"sepal_length\", ylabel=\"petal_length\")"
   ]
  },
  {
   "cell_type": "code",
   "execution_count": 69,
   "metadata": {},
   "outputs": [
    {
     "data": {
      "text/html": [
       "<div>\n",
       "<style scoped>\n",
       "    .dataframe tbody tr th:only-of-type {\n",
       "        vertical-align: middle;\n",
       "    }\n",
       "\n",
       "    .dataframe tbody tr th {\n",
       "        vertical-align: top;\n",
       "    }\n",
       "\n",
       "    .dataframe thead th {\n",
       "        text-align: right;\n",
       "    }\n",
       "</style>\n",
       "<table border=\"1\" class=\"dataframe\">\n",
       "  <thead>\n",
       "    <tr style=\"text-align: right;\">\n",
       "      <th></th>\n",
       "      <th>5nn</th>\n",
       "      <th>3nn</th>\n",
       "      <th>1nn</th>\n",
       "      <th>ロジスティック回帰</th>\n",
       "      <th>SVM</th>\n",
       "      <th>決定木</th>\n",
       "      <th>ランダムフォレスト</th>\n",
       "      <th>k5nn標準化なし</th>\n",
       "      <th>k3nn標準化なし</th>\n",
       "      <th>k1nn標準化なし</th>\n",
       "      <th>ロジスティック回帰標準化なし</th>\n",
       "      <th>SVM標準化なし</th>\n",
       "      <th>決定木標準化なし</th>\n",
       "      <th>ランダムフォレスト標準化なし</th>\n",
       "    </tr>\n",
       "  </thead>\n",
       "  <tbody>\n",
       "    <tr>\n",
       "      <th>正解率</th>\n",
       "      <td>0.88</td>\n",
       "      <td>0.92</td>\n",
       "      <td>0.92</td>\n",
       "      <td>0.96</td>\n",
       "      <td>0.96</td>\n",
       "      <td>0.92</td>\n",
       "      <td>0.92</td>\n",
       "      <td>0.88</td>\n",
       "      <td>0.92</td>\n",
       "      <td>0.92</td>\n",
       "      <td>0.92</td>\n",
       "      <td>0.96</td>\n",
       "      <td>0.92</td>\n",
       "      <td>0.96</td>\n",
       "    </tr>\n",
       "    <tr>\n",
       "      <th>適合率</th>\n",
       "      <td>0.923077</td>\n",
       "      <td>1</td>\n",
       "      <td>0.928571</td>\n",
       "      <td>1</td>\n",
       "      <td>1</td>\n",
       "      <td>0.928571</td>\n",
       "      <td>1</td>\n",
       "      <td>0.923077</td>\n",
       "      <td>1</td>\n",
       "      <td>0.928571</td>\n",
       "      <td>0.928571</td>\n",
       "      <td>1</td>\n",
       "      <td>0.928571</td>\n",
       "      <td>1</td>\n",
       "    </tr>\n",
       "    <tr>\n",
       "      <th>再現率</th>\n",
       "      <td>0.857143</td>\n",
       "      <td>0.857143</td>\n",
       "      <td>0.928571</td>\n",
       "      <td>0.928571</td>\n",
       "      <td>0.928571</td>\n",
       "      <td>0.928571</td>\n",
       "      <td>0.857143</td>\n",
       "      <td>0.857143</td>\n",
       "      <td>0.857143</td>\n",
       "      <td>0.928571</td>\n",
       "      <td>0.928571</td>\n",
       "      <td>0.928571</td>\n",
       "      <td>0.928571</td>\n",
       "      <td>0.928571</td>\n",
       "    </tr>\n",
       "    <tr>\n",
       "      <th>F値</th>\n",
       "      <td>0.888889</td>\n",
       "      <td>0.923077</td>\n",
       "      <td>0.928571</td>\n",
       "      <td>0.962963</td>\n",
       "      <td>0.962963</td>\n",
       "      <td>0.928571</td>\n",
       "      <td>0.923077</td>\n",
       "      <td>0.888889</td>\n",
       "      <td>0.923077</td>\n",
       "      <td>0.928571</td>\n",
       "      <td>0.928571</td>\n",
       "      <td>0.962963</td>\n",
       "      <td>0.928571</td>\n",
       "      <td>0.962963</td>\n",
       "    </tr>\n",
       "    <tr>\n",
       "      <th>混同行列</th>\n",
       "      <td>[[12, 2], [1, 10]]</td>\n",
       "      <td>[[12, 2], [0, 11]]</td>\n",
       "      <td>[[13, 1], [1, 10]]</td>\n",
       "      <td>[[13, 1], [0, 11]]</td>\n",
       "      <td>[[13, 1], [0, 11]]</td>\n",
       "      <td>[[13, 1], [1, 10]]</td>\n",
       "      <td>[[12, 2], [0, 11]]</td>\n",
       "      <td>[[12, 2], [1, 10]]</td>\n",
       "      <td>[[12, 2], [0, 11]]</td>\n",
       "      <td>[[13, 1], [1, 10]]</td>\n",
       "      <td>[[13, 1], [1, 10]]</td>\n",
       "      <td>[[13, 1], [0, 11]]</td>\n",
       "      <td>[[13, 1], [1, 10]]</td>\n",
       "      <td>[[13, 1], [0, 11]]</td>\n",
       "    </tr>\n",
       "  </tbody>\n",
       "</table>\n",
       "</div>"
      ],
      "text/plain": [
       "                     5nn                 3nn                 1nn  \\\n",
       "正解率                 0.88                0.92                0.92   \n",
       "適合率             0.923077                   1            0.928571   \n",
       "再現率             0.857143            0.857143            0.928571   \n",
       "F値              0.888889            0.923077            0.928571   \n",
       "混同行列  [[12, 2], [1, 10]]  [[12, 2], [0, 11]]  [[13, 1], [1, 10]]   \n",
       "\n",
       "               ロジスティック回帰                 SVM                 決定木  \\\n",
       "正解率                 0.96                0.96                0.92   \n",
       "適合率                    1                   1            0.928571   \n",
       "再現率             0.928571            0.928571            0.928571   \n",
       "F値              0.962963            0.962963            0.928571   \n",
       "混同行列  [[13, 1], [0, 11]]  [[13, 1], [0, 11]]  [[13, 1], [1, 10]]   \n",
       "\n",
       "               ランダムフォレスト           k5nn標準化なし           k3nn標準化なし  \\\n",
       "正解率                 0.92                0.88                0.92   \n",
       "適合率                    1            0.923077                   1   \n",
       "再現率             0.857143            0.857143            0.857143   \n",
       "F値              0.923077            0.888889            0.923077   \n",
       "混同行列  [[12, 2], [0, 11]]  [[12, 2], [1, 10]]  [[12, 2], [0, 11]]   \n",
       "\n",
       "               k1nn標準化なし      ロジスティック回帰標準化なし            SVM標準化なし  \\\n",
       "正解率                 0.92                0.92                0.96   \n",
       "適合率             0.928571            0.928571                   1   \n",
       "再現率             0.928571            0.928571            0.928571   \n",
       "F値              0.928571            0.928571            0.962963   \n",
       "混同行列  [[13, 1], [1, 10]]  [[13, 1], [1, 10]]  [[13, 1], [0, 11]]   \n",
       "\n",
       "                決定木標準化なし      ランダムフォレスト標準化なし  \n",
       "正解率                 0.92                0.96  \n",
       "適合率             0.928571                   1  \n",
       "再現率             0.928571            0.928571  \n",
       "F値              0.928571            0.962963  \n",
       "混同行列  [[13, 1], [1, 10]]  [[13, 1], [0, 11]]  "
      ]
     },
     "execution_count": 69,
     "metadata": {},
     "output_type": "execute_result"
    }
   ],
   "source": [
    "pred_df"
   ]
  },
  {
   "cell_type": "markdown",
   "metadata": {},
   "source": [
    "### 考察\n",
    "標準化を行った方がわずかに精度が上がった。今回のデータは5~8cm、3~7cmとどちらも単位が同じで、数値の幅も近いことから大きな差にはならなかったが、単位は揃えるべきと考える"
   ]
  },
  {
   "cell_type": "markdown",
   "metadata": {},
   "source": [
    "## 【問題10】（アドバンス課題）全ての目的変数を使用して精度が高い手法"
   ]
  },
  {
   "cell_type": "code",
   "execution_count": 70,
   "metadata": {},
   "outputs": [
    {
     "data": {
      "text/html": [
       "<div>\n",
       "<style scoped>\n",
       "    .dataframe tbody tr th:only-of-type {\n",
       "        vertical-align: middle;\n",
       "    }\n",
       "\n",
       "    .dataframe tbody tr th {\n",
       "        vertical-align: top;\n",
       "    }\n",
       "\n",
       "    .dataframe thead th {\n",
       "        text-align: right;\n",
       "    }\n",
       "</style>\n",
       "<table border=\"1\" class=\"dataframe\">\n",
       "  <thead>\n",
       "    <tr style=\"text-align: right;\">\n",
       "      <th></th>\n",
       "      <th>sepal_length</th>\n",
       "      <th>petal_length</th>\n",
       "      <th>Species</th>\n",
       "    </tr>\n",
       "  </thead>\n",
       "  <tbody>\n",
       "    <tr>\n",
       "      <th>0</th>\n",
       "      <td>5.1</td>\n",
       "      <td>1.4</td>\n",
       "      <td>0</td>\n",
       "    </tr>\n",
       "    <tr>\n",
       "      <th>1</th>\n",
       "      <td>4.9</td>\n",
       "      <td>1.4</td>\n",
       "      <td>0</td>\n",
       "    </tr>\n",
       "    <tr>\n",
       "      <th>2</th>\n",
       "      <td>4.7</td>\n",
       "      <td>1.3</td>\n",
       "      <td>0</td>\n",
       "    </tr>\n",
       "    <tr>\n",
       "      <th>3</th>\n",
       "      <td>4.6</td>\n",
       "      <td>1.5</td>\n",
       "      <td>0</td>\n",
       "    </tr>\n",
       "    <tr>\n",
       "      <th>4</th>\n",
       "      <td>5.0</td>\n",
       "      <td>1.4</td>\n",
       "      <td>0</td>\n",
       "    </tr>\n",
       "    <tr>\n",
       "      <th>5</th>\n",
       "      <td>5.4</td>\n",
       "      <td>1.7</td>\n",
       "      <td>0</td>\n",
       "    </tr>\n",
       "    <tr>\n",
       "      <th>6</th>\n",
       "      <td>4.6</td>\n",
       "      <td>1.4</td>\n",
       "      <td>0</td>\n",
       "    </tr>\n",
       "    <tr>\n",
       "      <th>7</th>\n",
       "      <td>5.0</td>\n",
       "      <td>1.5</td>\n",
       "      <td>0</td>\n",
       "    </tr>\n",
       "    <tr>\n",
       "      <th>8</th>\n",
       "      <td>4.4</td>\n",
       "      <td>1.4</td>\n",
       "      <td>0</td>\n",
       "    </tr>\n",
       "    <tr>\n",
       "      <th>9</th>\n",
       "      <td>4.9</td>\n",
       "      <td>1.5</td>\n",
       "      <td>0</td>\n",
       "    </tr>\n",
       "    <tr>\n",
       "      <th>10</th>\n",
       "      <td>5.4</td>\n",
       "      <td>1.5</td>\n",
       "      <td>0</td>\n",
       "    </tr>\n",
       "    <tr>\n",
       "      <th>11</th>\n",
       "      <td>4.8</td>\n",
       "      <td>1.6</td>\n",
       "      <td>0</td>\n",
       "    </tr>\n",
       "    <tr>\n",
       "      <th>12</th>\n",
       "      <td>4.8</td>\n",
       "      <td>1.4</td>\n",
       "      <td>0</td>\n",
       "    </tr>\n",
       "    <tr>\n",
       "      <th>13</th>\n",
       "      <td>4.3</td>\n",
       "      <td>1.1</td>\n",
       "      <td>0</td>\n",
       "    </tr>\n",
       "    <tr>\n",
       "      <th>14</th>\n",
       "      <td>5.8</td>\n",
       "      <td>1.2</td>\n",
       "      <td>0</td>\n",
       "    </tr>\n",
       "    <tr>\n",
       "      <th>15</th>\n",
       "      <td>5.7</td>\n",
       "      <td>1.5</td>\n",
       "      <td>0</td>\n",
       "    </tr>\n",
       "    <tr>\n",
       "      <th>16</th>\n",
       "      <td>5.4</td>\n",
       "      <td>1.3</td>\n",
       "      <td>0</td>\n",
       "    </tr>\n",
       "    <tr>\n",
       "      <th>17</th>\n",
       "      <td>5.1</td>\n",
       "      <td>1.4</td>\n",
       "      <td>0</td>\n",
       "    </tr>\n",
       "    <tr>\n",
       "      <th>18</th>\n",
       "      <td>5.7</td>\n",
       "      <td>1.7</td>\n",
       "      <td>0</td>\n",
       "    </tr>\n",
       "    <tr>\n",
       "      <th>19</th>\n",
       "      <td>5.1</td>\n",
       "      <td>1.5</td>\n",
       "      <td>0</td>\n",
       "    </tr>\n",
       "    <tr>\n",
       "      <th>20</th>\n",
       "      <td>5.4</td>\n",
       "      <td>1.7</td>\n",
       "      <td>0</td>\n",
       "    </tr>\n",
       "    <tr>\n",
       "      <th>21</th>\n",
       "      <td>5.1</td>\n",
       "      <td>1.5</td>\n",
       "      <td>0</td>\n",
       "    </tr>\n",
       "    <tr>\n",
       "      <th>22</th>\n",
       "      <td>4.6</td>\n",
       "      <td>1.0</td>\n",
       "      <td>0</td>\n",
       "    </tr>\n",
       "    <tr>\n",
       "      <th>23</th>\n",
       "      <td>5.1</td>\n",
       "      <td>1.7</td>\n",
       "      <td>0</td>\n",
       "    </tr>\n",
       "    <tr>\n",
       "      <th>24</th>\n",
       "      <td>4.8</td>\n",
       "      <td>1.9</td>\n",
       "      <td>0</td>\n",
       "    </tr>\n",
       "    <tr>\n",
       "      <th>25</th>\n",
       "      <td>5.0</td>\n",
       "      <td>1.6</td>\n",
       "      <td>0</td>\n",
       "    </tr>\n",
       "    <tr>\n",
       "      <th>26</th>\n",
       "      <td>5.0</td>\n",
       "      <td>1.6</td>\n",
       "      <td>0</td>\n",
       "    </tr>\n",
       "    <tr>\n",
       "      <th>27</th>\n",
       "      <td>5.2</td>\n",
       "      <td>1.5</td>\n",
       "      <td>0</td>\n",
       "    </tr>\n",
       "    <tr>\n",
       "      <th>28</th>\n",
       "      <td>5.2</td>\n",
       "      <td>1.4</td>\n",
       "      <td>0</td>\n",
       "    </tr>\n",
       "    <tr>\n",
       "      <th>29</th>\n",
       "      <td>4.7</td>\n",
       "      <td>1.6</td>\n",
       "      <td>0</td>\n",
       "    </tr>\n",
       "    <tr>\n",
       "      <th>...</th>\n",
       "      <td>...</td>\n",
       "      <td>...</td>\n",
       "      <td>...</td>\n",
       "    </tr>\n",
       "    <tr>\n",
       "      <th>120</th>\n",
       "      <td>6.9</td>\n",
       "      <td>5.7</td>\n",
       "      <td>2</td>\n",
       "    </tr>\n",
       "    <tr>\n",
       "      <th>121</th>\n",
       "      <td>5.6</td>\n",
       "      <td>4.9</td>\n",
       "      <td>2</td>\n",
       "    </tr>\n",
       "    <tr>\n",
       "      <th>122</th>\n",
       "      <td>7.7</td>\n",
       "      <td>6.7</td>\n",
       "      <td>2</td>\n",
       "    </tr>\n",
       "    <tr>\n",
       "      <th>123</th>\n",
       "      <td>6.3</td>\n",
       "      <td>4.9</td>\n",
       "      <td>2</td>\n",
       "    </tr>\n",
       "    <tr>\n",
       "      <th>124</th>\n",
       "      <td>6.7</td>\n",
       "      <td>5.7</td>\n",
       "      <td>2</td>\n",
       "    </tr>\n",
       "    <tr>\n",
       "      <th>125</th>\n",
       "      <td>7.2</td>\n",
       "      <td>6.0</td>\n",
       "      <td>2</td>\n",
       "    </tr>\n",
       "    <tr>\n",
       "      <th>126</th>\n",
       "      <td>6.2</td>\n",
       "      <td>4.8</td>\n",
       "      <td>2</td>\n",
       "    </tr>\n",
       "    <tr>\n",
       "      <th>127</th>\n",
       "      <td>6.1</td>\n",
       "      <td>4.9</td>\n",
       "      <td>2</td>\n",
       "    </tr>\n",
       "    <tr>\n",
       "      <th>128</th>\n",
       "      <td>6.4</td>\n",
       "      <td>5.6</td>\n",
       "      <td>2</td>\n",
       "    </tr>\n",
       "    <tr>\n",
       "      <th>129</th>\n",
       "      <td>7.2</td>\n",
       "      <td>5.8</td>\n",
       "      <td>2</td>\n",
       "    </tr>\n",
       "    <tr>\n",
       "      <th>130</th>\n",
       "      <td>7.4</td>\n",
       "      <td>6.1</td>\n",
       "      <td>2</td>\n",
       "    </tr>\n",
       "    <tr>\n",
       "      <th>131</th>\n",
       "      <td>7.9</td>\n",
       "      <td>6.4</td>\n",
       "      <td>2</td>\n",
       "    </tr>\n",
       "    <tr>\n",
       "      <th>132</th>\n",
       "      <td>6.4</td>\n",
       "      <td>5.6</td>\n",
       "      <td>2</td>\n",
       "    </tr>\n",
       "    <tr>\n",
       "      <th>133</th>\n",
       "      <td>6.3</td>\n",
       "      <td>5.1</td>\n",
       "      <td>2</td>\n",
       "    </tr>\n",
       "    <tr>\n",
       "      <th>134</th>\n",
       "      <td>6.1</td>\n",
       "      <td>5.6</td>\n",
       "      <td>2</td>\n",
       "    </tr>\n",
       "    <tr>\n",
       "      <th>135</th>\n",
       "      <td>7.7</td>\n",
       "      <td>6.1</td>\n",
       "      <td>2</td>\n",
       "    </tr>\n",
       "    <tr>\n",
       "      <th>136</th>\n",
       "      <td>6.3</td>\n",
       "      <td>5.6</td>\n",
       "      <td>2</td>\n",
       "    </tr>\n",
       "    <tr>\n",
       "      <th>137</th>\n",
       "      <td>6.4</td>\n",
       "      <td>5.5</td>\n",
       "      <td>2</td>\n",
       "    </tr>\n",
       "    <tr>\n",
       "      <th>138</th>\n",
       "      <td>6.0</td>\n",
       "      <td>4.8</td>\n",
       "      <td>2</td>\n",
       "    </tr>\n",
       "    <tr>\n",
       "      <th>139</th>\n",
       "      <td>6.9</td>\n",
       "      <td>5.4</td>\n",
       "      <td>2</td>\n",
       "    </tr>\n",
       "    <tr>\n",
       "      <th>140</th>\n",
       "      <td>6.7</td>\n",
       "      <td>5.6</td>\n",
       "      <td>2</td>\n",
       "    </tr>\n",
       "    <tr>\n",
       "      <th>141</th>\n",
       "      <td>6.9</td>\n",
       "      <td>5.1</td>\n",
       "      <td>2</td>\n",
       "    </tr>\n",
       "    <tr>\n",
       "      <th>142</th>\n",
       "      <td>5.8</td>\n",
       "      <td>5.1</td>\n",
       "      <td>2</td>\n",
       "    </tr>\n",
       "    <tr>\n",
       "      <th>143</th>\n",
       "      <td>6.8</td>\n",
       "      <td>5.9</td>\n",
       "      <td>2</td>\n",
       "    </tr>\n",
       "    <tr>\n",
       "      <th>144</th>\n",
       "      <td>6.7</td>\n",
       "      <td>5.7</td>\n",
       "      <td>2</td>\n",
       "    </tr>\n",
       "    <tr>\n",
       "      <th>145</th>\n",
       "      <td>6.7</td>\n",
       "      <td>5.2</td>\n",
       "      <td>2</td>\n",
       "    </tr>\n",
       "    <tr>\n",
       "      <th>146</th>\n",
       "      <td>6.3</td>\n",
       "      <td>5.0</td>\n",
       "      <td>2</td>\n",
       "    </tr>\n",
       "    <tr>\n",
       "      <th>147</th>\n",
       "      <td>6.5</td>\n",
       "      <td>5.2</td>\n",
       "      <td>2</td>\n",
       "    </tr>\n",
       "    <tr>\n",
       "      <th>148</th>\n",
       "      <td>6.2</td>\n",
       "      <td>5.4</td>\n",
       "      <td>2</td>\n",
       "    </tr>\n",
       "    <tr>\n",
       "      <th>149</th>\n",
       "      <td>5.9</td>\n",
       "      <td>5.1</td>\n",
       "      <td>2</td>\n",
       "    </tr>\n",
       "  </tbody>\n",
       "</table>\n",
       "<p>150 rows × 3 columns</p>\n",
       "</div>"
      ],
      "text/plain": [
       "     sepal_length  petal_length  Species\n",
       "0             5.1           1.4        0\n",
       "1             4.9           1.4        0\n",
       "2             4.7           1.3        0\n",
       "3             4.6           1.5        0\n",
       "4             5.0           1.4        0\n",
       "5             5.4           1.7        0\n",
       "6             4.6           1.4        0\n",
       "7             5.0           1.5        0\n",
       "8             4.4           1.4        0\n",
       "9             4.9           1.5        0\n",
       "10            5.4           1.5        0\n",
       "11            4.8           1.6        0\n",
       "12            4.8           1.4        0\n",
       "13            4.3           1.1        0\n",
       "14            5.8           1.2        0\n",
       "15            5.7           1.5        0\n",
       "16            5.4           1.3        0\n",
       "17            5.1           1.4        0\n",
       "18            5.7           1.7        0\n",
       "19            5.1           1.5        0\n",
       "20            5.4           1.7        0\n",
       "21            5.1           1.5        0\n",
       "22            4.6           1.0        0\n",
       "23            5.1           1.7        0\n",
       "24            4.8           1.9        0\n",
       "25            5.0           1.6        0\n",
       "26            5.0           1.6        0\n",
       "27            5.2           1.5        0\n",
       "28            5.2           1.4        0\n",
       "29            4.7           1.6        0\n",
       "..            ...           ...      ...\n",
       "120           6.9           5.7        2\n",
       "121           5.6           4.9        2\n",
       "122           7.7           6.7        2\n",
       "123           6.3           4.9        2\n",
       "124           6.7           5.7        2\n",
       "125           7.2           6.0        2\n",
       "126           6.2           4.8        2\n",
       "127           6.1           4.9        2\n",
       "128           6.4           5.6        2\n",
       "129           7.2           5.8        2\n",
       "130           7.4           6.1        2\n",
       "131           7.9           6.4        2\n",
       "132           6.4           5.6        2\n",
       "133           6.3           5.1        2\n",
       "134           6.1           5.6        2\n",
       "135           7.7           6.1        2\n",
       "136           6.3           5.6        2\n",
       "137           6.4           5.5        2\n",
       "138           6.0           4.8        2\n",
       "139           6.9           5.4        2\n",
       "140           6.7           5.6        2\n",
       "141           6.9           5.1        2\n",
       "142           5.8           5.1        2\n",
       "143           6.8           5.9        2\n",
       "144           6.7           5.7        2\n",
       "145           6.7           5.2        2\n",
       "146           6.3           5.0        2\n",
       "147           6.5           5.2        2\n",
       "148           6.2           5.4        2\n",
       "149           5.9           5.1        2\n",
       "\n",
       "[150 rows x 3 columns]"
      ]
     },
     "execution_count": 70,
     "metadata": {},
     "output_type": "execute_result"
    }
   ],
   "source": [
    "iris_data = datasets.load_iris()\n",
    "input_data = iris_data.data\n",
    "X_a = pd.DataFrame(data=input_data, columns=[\"sepal_length\", \"sepal_width\", \"petal_length\", \"petal_width\"])\n",
    "correct_a = iris_data.target\n",
    "y_a = pd.DataFrame(data=correct_a, columns=[\"Species\"])\n",
    "df_a = pd.concat([X_a, y_a], axis=1)\n",
    "df_a.drop(columns=[\"sepal_width\", \"petal_width\"], inplace=True)\n",
    "df_a"
   ]
  },
  {
   "cell_type": "code",
   "execution_count": 71,
   "metadata": {},
   "outputs": [
    {
     "data": {
      "text/plain": [
       "array([0, 0, 0, 0, 0, 0, 0, 0, 0, 0, 0, 0, 0, 0, 0, 0, 0, 0, 0, 0, 0, 0,\n",
       "       0, 0, 0, 0, 0, 0, 0, 0, 0, 0, 0, 0, 0, 0, 0, 0, 0, 0, 0, 0, 0, 0,\n",
       "       0, 0, 0, 0, 0, 0, 1, 1, 1, 1, 1, 1, 1, 1, 1, 1, 1, 1, 1, 1, 1, 1,\n",
       "       1, 1, 1, 1, 1, 1, 1, 1, 1, 1, 1, 1, 1, 1, 1, 1, 1, 1, 1, 1, 1, 1,\n",
       "       1, 1, 1, 1, 1, 1, 1, 1, 1, 1, 1, 1, 2, 2, 2, 2, 2, 2, 2, 2, 2, 2,\n",
       "       2, 2, 2, 2, 2, 2, 2, 2, 2, 2, 2, 2, 2, 2, 2, 2, 2, 2, 2, 2, 2, 2,\n",
       "       2, 2, 2, 2, 2, 2, 2, 2, 2, 2, 2, 2, 2, 2, 2, 2, 2, 2])"
      ]
     },
     "execution_count": 71,
     "metadata": {},
     "output_type": "execute_result"
    }
   ],
   "source": [
    "# 今までyが縦ベクトルの2次元shape(150,1)になっていたが、下記のようにすると(150,)の1次元になるので散布図描画でそのまま使える\n",
    "X_a = df_a[[\"sepal_length\",\"petal_length\"]].values\n",
    "y_a = df_a[\"Species\"].values\n",
    "y_a\n"
   ]
  },
  {
   "cell_type": "code",
   "execution_count": 72,
   "metadata": {},
   "outputs": [],
   "source": [
    "# データの分割\n",
    "X_train_a, X_test_a, y_train_a, y_test_a = train_test_split(X_a, y_a, test_size=0.25)"
   ]
  },
  {
   "cell_type": "code",
   "execution_count": 73,
   "metadata": {},
   "outputs": [],
   "source": [
    "# 標準化\n",
    "scaler_a = StandardScaler()\n",
    "scaler_a.fit(X_train_a)\n",
    "X_train_std_a = scaler_a.transform(X_train_a)\n",
    "X_test_std_a = scaler_a.transform(X_test_a)"
   ]
  },
  {
   "cell_type": "code",
   "execution_count": 74,
   "metadata": {},
   "outputs": [
    {
     "data": {
      "text/plain": [
       "array([1, 2, 2, 2, 2, 0, 0, 2, 0, 1, 2, 0, 0, 1, 1, 2, 1, 0, 0, 2, 0, 1,\n",
       "       0, 0, 1, 0, 2, 1, 1, 1, 2, 1, 2, 1, 2, 2, 1, 0])"
      ]
     },
     "execution_count": 74,
     "metadata": {},
     "output_type": "execute_result"
    }
   ],
   "source": [
    "# 学習\n",
    "# 5-nn\n",
    "neigh_a = KNeighborsClassifier(n_neighbors=5)\n",
    "neigh_a.fit(X_train_std_a, y_train_a)\n",
    "y_pred_5nn_a = neigh_a.predict(X_test_std_a)\n",
    "y_pred_5nn_a"
   ]
  },
  {
   "cell_type": "code",
   "execution_count": 75,
   "metadata": {},
   "outputs": [
    {
     "data": {
      "text/plain": [
       "array([1, 2, 2, 1, 2, 0, 0, 2, 0, 1, 2, 0, 0, 1, 1, 2, 1, 0, 0, 2, 0, 1,\n",
       "       0, 0, 1, 0, 2, 1, 1, 1, 2, 1, 2, 1, 2, 2, 1, 0])"
      ]
     },
     "execution_count": 75,
     "metadata": {},
     "output_type": "execute_result"
    }
   ],
   "source": [
    "# 正解と比べてみる\n",
    "y_test_a"
   ]
  },
  {
   "cell_type": "code",
   "execution_count": 76,
   "metadata": {},
   "outputs": [
    {
     "name": "stdout",
     "output_type": "stream",
     "text": [
      "5-nnの正解率は0.9736842105263158です\n",
      "5-nnの適合率は0.9743589743589745です\n",
      "5-nnの再現率は0.9761904761904763です\n",
      "5-nnのF値は0.9743209876543211です\n"
     ]
    }
   ],
   "source": [
    "# 評価\n",
    "print(\"5-nnの正解率は{}です\".format(accuracy_score(y_test_a, y_pred_5nn_a)))\n",
    "print(\"5-nnの適合率は{}です\".format(precision_score(y_test_a, y_pred_5nn_a, average=\"macro\")))\n",
    "print(\"5-nnの再現率は{}です\".format(recall_score(y_test_a, y_pred_5nn_a, average=\"macro\")))\n",
    "print(\"5-nnのF値は{}です\".format(f1_score(y_test_a, y_pred_5nn_a, average=\"macro\")))"
   ]
  },
  {
   "cell_type": "code",
   "execution_count": 77,
   "metadata": {},
   "outputs": [],
   "source": [
    "# 表作成\n",
    "pred_df = pred_df.assign(k5nn_3=[accuracy_score(y_test_a, y_pred_5nn_a),\n",
    "                                   precision_score(y_test_a, y_pred_5nn_a, average=\"macro\"),\n",
    "                                   recall_score(y_test_a, y_pred_5nn_a, average=\"macro\"),\n",
    "                                   f1_score(y_test_a, y_pred_5nn_a, average=\"macro\"),\n",
    "                                \"-\"])"
   ]
  },
  {
   "cell_type": "code",
   "execution_count": 78,
   "metadata": {},
   "outputs": [],
   "source": [
    "def decision_region_3(X, y, model, step=0.01, title='decision region', xlabel='xlabel', ylabel='ylabel', target_names=[\"setosa\", 'versicolor', 'virginica']):\n",
    "    \"\"\"\n",
    "    多値分類(今回は3)を2次元の特徴量で学習したモデルの決定領域を描く。\n",
    "    背景の色が学習したモデルによる推定値から描画される。\n",
    "    散布図の点は訓練データまたは検証データである。\n",
    "\n",
    "    Parameters\n",
    "    ----------------\n",
    "    X : ndarray, shape(n_samples, 2)\n",
    "        特徴量\n",
    "    y : ndarray, shape(n_samples,)\n",
    "        ラベル\n",
    "    model : object\n",
    "        学習したモデルのインスンタスを入れる\n",
    "    step : float, (default : 0.1)\n",
    "        推定値を計算する間隔を設定する\n",
    "    title : str\n",
    "        グラフのタイトルの文章を与える\n",
    "    xlabel, ylabel : str\n",
    "        軸ラベルの文章を与える\n",
    "    target_names= : list of str\n",
    "        凡例の一覧を与える\n",
    "    \"\"\"\n",
    "    # setting\n",
    "    scatter_color = ['red', 'blue', \"orange\"]\n",
    "    contourf_color = ['pink', 'skyblue', \"yellow\"]\n",
    "    n_class = 3\n",
    "    # pred\n",
    "    mesh_f0, mesh_f1  = np.meshgrid(np.arange(np.min(X[:,0])-0.5, np.max(X[:,0])+0.5, step),\n",
    "                                    np.arange(np.min(X[:,1])-0.5, np.max(X[:,1])+0.5, step))\n",
    "    mesh = np.c_[np.ravel(mesh_f0),np.ravel(mesh_f1)]\n",
    "    y_pred = model.predict(mesh).reshape(mesh_f0.shape)\n",
    "    # plot\n",
    "    plt.title(title)\n",
    "    plt.xlabel(xlabel)\n",
    "    plt.ylabel(ylabel)\n",
    "    plt.contourf(mesh_f0, mesh_f1, y_pred, n_class-1, cmap=ListedColormap(contourf_color))\n",
    "    plt.contour(mesh_f0, mesh_f1, y_pred, n_class-1, colors='m', linewidths=3, alpha=0.5)\n",
    "\n",
    "    for i, target in enumerate(set(y)):\n",
    "        plt.scatter(X[y==target][:, 0], X[y==target][:, 1], s=80, color=scatter_color[i], label=target_names[i], marker='o')\n",
    "    patches = [mpatches.Patch(color=scatter_color[i], label=target_names[i]) for i in range(n_class)]\n",
    "    plt.legend(handles=patches)\n",
    "    plt.legend()\n",
    "    plt.show()\n",
    "\n"
   ]
  },
  {
   "cell_type": "code",
   "execution_count": 79,
   "metadata": {},
   "outputs": [
    {
     "data": {
      "image/png": "[encoded data removed]",
      "text/plain": [
       "<Figure size 432x288 with 1 Axes>"
      ]
     },
     "metadata": {
      "needs_background": "light"
     },
     "output_type": "display_data"
    }
   ],
   "source": [
    "# 可視化\n",
    "decision_region_3(X_test_std_a, y_test_a, neigh_a, title=\"5-nn\", xlabel=\"sepal_length\", ylabel=\"petal_length\")"
   ]
  },
  {
   "cell_type": "code",
   "execution_count": 80,
   "metadata": {},
   "outputs": [
    {
     "data": {
      "text/plain": [
       "array([1, 2, 1, 1, 2, 0, 0, 2, 0, 1, 2, 0, 0, 1, 2, 2, 1, 0, 0, 2, 0, 1,\n",
       "       0, 0, 1, 0, 2, 1, 1, 1, 2, 1, 2, 1, 2, 2, 1, 0])"
      ]
     },
     "execution_count": 80,
     "metadata": {},
     "output_type": "execute_result"
    }
   ],
   "source": [
    "# 学習\n",
    "# 3-nn\n",
    "neigh_a = KNeighborsClassifier(n_neighbors=3)\n",
    "neigh_a.fit(X_train_std_a, y_train_a)\n",
    "y_pred_3nn_a = neigh_a.predict(X_test_std_a)\n",
    "y_pred_3nn_a"
   ]
  },
  {
   "cell_type": "code",
   "execution_count": 81,
   "metadata": {},
   "outputs": [
    {
     "name": "stdout",
     "output_type": "stream",
     "text": [
      "3-nnの正解率は0.9473684210526315です\n",
      "3-nnの適合率は0.9484126984126985です\n",
      "3-nnの再現率は0.9484126984126985です\n",
      "3-nnのF値は0.9484126984126985です\n"
     ]
    }
   ],
   "source": [
    "# 評価\n",
    "print(\"3-nnの正解率は{}です\".format(accuracy_score(y_test_a, y_pred_3nn_a)))\n",
    "print(\"3-nnの適合率は{}です\".format(precision_score(y_test_a, y_pred_3nn_a, average=\"macro\")))\n",
    "print(\"3-nnの再現率は{}です\".format(recall_score(y_test_a, y_pred_3nn_a, average=\"macro\")))\n",
    "print(\"3-nnのF値は{}です\".format(f1_score(y_test_a, y_pred_3nn_a, average=\"macro\")))"
   ]
  },
  {
   "cell_type": "code",
   "execution_count": 82,
   "metadata": {},
   "outputs": [],
   "source": [
    "# 表に追加\n",
    "pred_df = pred_df.assign(k3nn_3=[accuracy_score(y_test_a, y_pred_3nn_a),\n",
    "                                   precision_score(y_test_a, y_pred_3nn_a, average=\"macro\"),\n",
    "                                   recall_score(y_test_a, y_pred_3nn_a, average=\"macro\"),\n",
    "                                   f1_score(y_test_a, y_pred_3nn_a, average=\"macro\"),\n",
    "                                \"-\"])"
   ]
  },
  {
   "cell_type": "code",
   "execution_count": 83,
   "metadata": {},
   "outputs": [
    {
     "data": {
      "image/png": "[encoded data removed]",
      "text/plain": [
       "<Figure size 432x288 with 1 Axes>"
      ]
     },
     "metadata": {
      "needs_background": "light"
     },
     "output_type": "display_data"
    }
   ],
   "source": [
    "# 可視化\n",
    "decision_region_3(X_test_std_a, y_test_a, neigh_a, title=\"3-nn\", xlabel=\"sepal_length\", ylabel=\"petal_length\")"
   ]
  },
  {
   "cell_type": "code",
   "execution_count": 84,
   "metadata": {},
   "outputs": [
    {
     "data": {
      "text/plain": [
       "array([1, 2, 2, 1, 2, 0, 0, 2, 0, 1, 2, 0, 0, 1, 2, 2, 1, 0, 0, 2, 0, 1,\n",
       "       0, 0, 1, 0, 1, 1, 1, 1, 2, 1, 2, 1, 2, 2, 1, 0])"
      ]
     },
     "execution_count": 84,
     "metadata": {},
     "output_type": "execute_result"
    }
   ],
   "source": [
    "# 学習\n",
    "# 1-nn\n",
    "neigh_a = KNeighborsClassifier(n_neighbors=1)\n",
    "neigh_a.fit(X_train_std_a, y_train_a)\n",
    "y_pred_1nn_a = neigh_a.predict(X_test_std_a)\n",
    "y_pred_1nn_a"
   ]
  },
  {
   "cell_type": "code",
   "execution_count": 85,
   "metadata": {},
   "outputs": [
    {
     "name": "stdout",
     "output_type": "stream",
     "text": [
      "1-nnの正解率は0.9473684210526315です\n",
      "1-nnの適合率は0.9484126984126985です\n",
      "1-nnの再現率は0.9484126984126985です\n",
      "1-nnのF値は0.9484126984126985です\n"
     ]
    }
   ],
   "source": [
    "# 評価\n",
    "print(\"1-nnの正解率は{}です\".format(accuracy_score(y_test_a, y_pred_1nn_a)))\n",
    "print(\"1-nnの適合率は{}です\".format(precision_score(y_test_a, y_pred_1nn_a, average=\"macro\")))\n",
    "print(\"1-nnの再現率は{}です\".format(recall_score(y_test_a, y_pred_1nn_a, average=\"macro\")))\n",
    "print(\"1-nnのF値は{}です\".format(f1_score(y_test_a, y_pred_1nn_a, average=\"macro\")))"
   ]
  },
  {
   "cell_type": "code",
   "execution_count": 86,
   "metadata": {},
   "outputs": [],
   "source": [
    "# 表に追加\n",
    "pred_df = pred_df.assign(k1nn_3=[accuracy_score(y_test_a, y_pred_1nn_a),\n",
    "                                   precision_score(y_test_a, y_pred_1nn_a, average=\"macro\"),\n",
    "                                   recall_score(y_test_a, y_pred_1nn_a, average=\"macro\"),\n",
    "                                   f1_score(y_test_a, y_pred_1nn_a, average=\"macro\"),\n",
    "                                \"-\"])"
   ]
  },
  {
   "cell_type": "code",
   "execution_count": 87,
   "metadata": {},
   "outputs": [
    {
     "data": {
      "image/png": "[encoded data removed]",
      "text/plain": [
       "<Figure size 432x288 with 1 Axes>"
      ]
     },
     "metadata": {
      "needs_background": "light"
     },
     "output_type": "display_data"
    }
   ],
   "source": [
    "# 可視化\n",
    "decision_region_3(X_test_std_a, y_test_a, neigh_a, title=\"1-nn\", xlabel=\"sepal_length\", ylabel=\"petal_length\")"
   ]
  },
  {
   "cell_type": "code",
   "execution_count": 88,
   "metadata": {},
   "outputs": [
    {
     "data": {
      "text/plain": [
       "array([2, 2, 2, 2, 2, 0, 0, 2, 0, 1, 2, 0, 0, 1, 2, 2, 1, 0, 0, 2, 0, 1,\n",
       "       0, 0, 1, 0, 2, 1, 1, 1, 2, 1, 2, 0, 2, 2, 0, 0])"
      ]
     },
     "execution_count": 88,
     "metadata": {},
     "output_type": "execute_result"
    }
   ],
   "source": [
    "# ロジスティック回帰\n",
    "# 学習\n",
    "clf = LogisticRegression(random_state=0).fit(X_train_std_a, y_train_a)\n",
    "y_pred_logistic_a = clf.predict(X_test_std_a)\n",
    "y_pred_logistic_a"
   ]
  },
  {
   "cell_type": "code",
   "execution_count": 89,
   "metadata": {},
   "outputs": [
    {
     "name": "stdout",
     "output_type": "stream",
     "text": [
      "ロジスティック回帰の正解率は0.868421052631579です\n",
      "ロジスティック回帰の適合率は0.8857142857142858です\n",
      "ロジスティック回帰の再現率は0.8809523809523809です\n",
      "ロジスティック回帰のF値は0.8648581692059953です\n"
     ]
    }
   ],
   "source": [
    "# 評価\n",
    "print(\"ロジスティック回帰の正解率は{}です\".format(accuracy_score(y_test_a, y_pred_logistic_a)))\n",
    "print(\"ロジスティック回帰の適合率は{}です\".format(precision_score(y_test_a, y_pred_logistic_a, average=\"macro\")))\n",
    "print(\"ロジスティック回帰の再現率は{}です\".format(recall_score(y_test_a, y_pred_logistic_a, average=\"macro\")))\n",
    "print(\"ロジスティック回帰のF値は{}です\".format(f1_score(y_test_a, y_pred_logistic_a, average=\"macro\")))"
   ]
  },
  {
   "cell_type": "code",
   "execution_count": 90,
   "metadata": {},
   "outputs": [],
   "source": [
    "# 表に追加\n",
    "pred_df = pred_df.assign(Logistic_3=[accuracy_score(y_test_a, y_pred_logistic_a),\n",
    "                                   precision_score(y_test_a, y_pred_logistic_a, average=\"macro\"),\n",
    "                                   recall_score(y_test_a, y_pred_logistic_a, average=\"macro\"),\n",
    "                                   f1_score(y_test_a, y_pred_logistic_a, average=\"macro\"),\n",
    "                                \"-\"])"
   ]
  },
  {
   "cell_type": "code",
   "execution_count": 91,
   "metadata": {},
   "outputs": [
    {
     "data": {
      "image/png": "[encoded data removed]",
      "text/plain": [
       "<Figure size 432x288 with 1 Axes>"
      ]
     },
     "metadata": {
      "needs_background": "light"
     },
     "output_type": "display_data"
    }
   ],
   "source": [
    "# 可視化\n",
    "decision_region_3(X_test_std_a, y_test_a, clf, title=\"LogisticRegression\", xlabel=\"sepal_length\", ylabel=\"petal_length\")"
   ]
  },
  {
   "cell_type": "code",
   "execution_count": 92,
   "metadata": {},
   "outputs": [
    {
     "data": {
      "text/plain": [
       "array([1, 2, 2, 1, 2, 0, 0, 2, 0, 1, 2, 0, 0, 1, 1, 2, 1, 0, 0, 2, 0, 1,\n",
       "       0, 0, 1, 0, 2, 1, 1, 1, 2, 1, 2, 1, 2, 2, 1, 0])"
      ]
     },
     "execution_count": 92,
     "metadata": {},
     "output_type": "execute_result"
    }
   ],
   "source": [
    "# SVM\n",
    "clf = SVC()\n",
    "clf.fit(X_train_std_a, y_train_a)\n",
    "y_pred_svm_a = clf.predict(X_test_std_a)\n",
    "y_pred_svm_a"
   ]
  },
  {
   "cell_type": "code",
   "execution_count": 93,
   "metadata": {},
   "outputs": [
    {
     "name": "stdout",
     "output_type": "stream",
     "text": [
      "SVMの正解率は1.0です\n",
      "SVMの適合率は1.0です\n",
      "SVMの再現率は1.0です\n",
      "SVMのF値は1.0です\n"
     ]
    }
   ],
   "source": [
    "# 評価\n",
    "print(\"SVMの正解率は{}です\".format(accuracy_score(y_test_a, y_pred_svm_a)))\n",
    "print(\"SVMの適合率は{}です\".format(precision_score(y_test_a, y_pred_svm_a, average=\"macro\")))\n",
    "print(\"SVMの再現率は{}です\".format(recall_score(y_test_a, y_pred_svm_a, average=\"macro\")))\n",
    "print(\"SVMのF値は{}です\".format(f1_score(y_test_a, y_pred_svm_a, average=\"macro\")))"
   ]
  },
  {
   "cell_type": "code",
   "execution_count": 94,
   "metadata": {},
   "outputs": [],
   "source": [
    "# 表に追加\n",
    "pred_df = pred_df.assign(SVM_3=[accuracy_score(y_test_a, y_pred_svm_a),\n",
    "                                   precision_score(y_test_a, y_pred_svm_a, average=\"macro\"),\n",
    "                                   recall_score(y_test_a, y_pred_svm_a, average=\"macro\"),\n",
    "                                   f1_score(y_test_a, y_pred_svm_a, average=\"macro\"),\n",
    "                                \"-\"])"
   ]
  },
  {
   "cell_type": "code",
   "execution_count": 95,
   "metadata": {},
   "outputs": [
    {
     "data": {
      "image/png": "[encoded data removed]",
      "text/plain": [
       "<Figure size 432x288 with 1 Axes>"
      ]
     },
     "metadata": {
      "needs_background": "light"
     },
     "output_type": "display_data"
    }
   ],
   "source": [
    "# 可視化\n",
    "decision_region_3(X_test_std_a, y_test_a, clf, title=\"SVM\", xlabel=\"sepal_length\", ylabel=\"petal_length\")"
   ]
  },
  {
   "cell_type": "code",
   "execution_count": 96,
   "metadata": {},
   "outputs": [
    {
     "data": {
      "text/plain": [
       "array([1, 2, 1, 1, 2, 0, 0, 2, 0, 1, 2, 0, 0, 1, 1, 2, 1, 0, 0, 2, 0, 1,\n",
       "       0, 0, 1, 0, 2, 1, 1, 1, 2, 1, 2, 2, 2, 2, 1, 0])"
      ]
     },
     "execution_count": 96,
     "metadata": {},
     "output_type": "execute_result"
    }
   ],
   "source": [
    "# 決定木\n",
    "clf = DecisionTreeClassifier()\n",
    "clf.fit(X_train_std_a, y_train_a)\n",
    "y_predict_DecisionTree_a = clf.predict(X_test_std_a)\n",
    "y_predict_DecisionTree_a"
   ]
  },
  {
   "cell_type": "code",
   "execution_count": 97,
   "metadata": {},
   "outputs": [
    {
     "name": "stdout",
     "output_type": "stream",
     "text": [
      "決定木の正解率は0.9473684210526315です\n",
      "決定木の適合率は0.9484126984126985です\n",
      "決定木の再現率は0.9484126984126985です\n",
      "決定木のF値は0.9484126984126985です\n"
     ]
    }
   ],
   "source": [
    "# 評価\n",
    "print(\"決定木の正解率は{}です\".format(accuracy_score(y_test_a, y_predict_DecisionTree_a)))\n",
    "print(\"決定木の適合率は{}です\".format(precision_score(y_test_a, y_predict_DecisionTree_a, average=\"macro\")))\n",
    "print(\"決定木の再現率は{}です\".format(recall_score(y_test_a, y_predict_DecisionTree_a, average=\"macro\")))\n",
    "print(\"決定木のF値は{}です\".format(f1_score(y_test_a, y_predict_DecisionTree_a, average=\"macro\")))"
   ]
  },
  {
   "cell_type": "code",
   "execution_count": 98,
   "metadata": {},
   "outputs": [],
   "source": [
    "# 表に追加\n",
    "pred_df = pred_df.assign(DTree_3=[accuracy_score(y_test_a, y_predict_DecisionTree_a),\n",
    "                                   precision_score(y_test_a, y_predict_DecisionTree_a, average=\"macro\"),\n",
    "                                   recall_score(y_test_a, y_predict_DecisionTree_a, average=\"macro\"),\n",
    "                                   f1_score(y_test_a, y_predict_DecisionTree_a, average=\"macro\"),\n",
    "                                \"-\"])"
   ]
  },
  {
   "cell_type": "code",
   "execution_count": 99,
   "metadata": {},
   "outputs": [
    {
     "data": {
      "image/png": "[encoded data removed]",
      "text/plain": [
       "<Figure size 432x288 with 1 Axes>"
      ]
     },
     "metadata": {
      "needs_background": "light"
     },
     "output_type": "display_data"
    }
   ],
   "source": [
    "# 可視化\n",
    "decision_region_3(X_test_std_a, y_test_a, clf, title=\"DecisionTree\", xlabel=\"sepal_length\", ylabel=\"petal_length\")"
   ]
  },
  {
   "cell_type": "code",
   "execution_count": 100,
   "metadata": {},
   "outputs": [
    {
     "data": {
      "text/plain": [
       "array([1, 2, 1, 1, 2, 0, 0, 2, 0, 1, 2, 0, 0, 1, 1, 2, 1, 0, 0, 2, 0, 1,\n",
       "       0, 0, 1, 0, 2, 1, 1, 1, 2, 1, 2, 1, 2, 2, 1, 0])"
      ]
     },
     "execution_count": 100,
     "metadata": {},
     "output_type": "execute_result"
    }
   ],
   "source": [
    "# ランダムフォレスト\n",
    "clf = RandomForestClassifier()\n",
    "clf.fit(X_train_std_a, y_train_a)\n",
    "y_predict_RandomForest_a = clf.predict(X_test_std_a)\n",
    "y_predict_RandomForest_a"
   ]
  },
  {
   "cell_type": "code",
   "execution_count": 101,
   "metadata": {},
   "outputs": [
    {
     "name": "stdout",
     "output_type": "stream",
     "text": [
      "ランダムフォレストの正解率は0.9736842105263158です\n",
      "ランダムフォレストの適合率は0.9777777777777779です\n",
      "ランダムフォレストの再現率は0.9722222222222222です\n",
      "ランダムフォレストのF値は0.9740129935032483です\n"
     ]
    }
   ],
   "source": [
    "# 評価\n",
    "print(\"ランダムフォレストの正解率は{}です\".format(accuracy_score(y_test_a, y_predict_RandomForest_a)))\n",
    "print(\"ランダムフォレストの適合率は{}です\".format(precision_score(y_test_a, y_predict_RandomForest_a, average=\"macro\")))\n",
    "print(\"ランダムフォレストの再現率は{}です\".format(recall_score(y_test_a, y_predict_RandomForest_a, average=\"macro\")))\n",
    "print(\"ランダムフォレストのF値は{}です\".format(f1_score(y_test_a, y_predict_RandomForest_a, average=\"macro\")))"
   ]
  },
  {
   "cell_type": "code",
   "execution_count": 102,
   "metadata": {},
   "outputs": [],
   "source": [
    "# 表に追加\n",
    "pred_df = pred_df.assign(RandomF_3=[accuracy_score(y_test_a, y_predict_RandomForest_a),\n",
    "                                   precision_score(y_test_a, y_predict_RandomForest_a, average=\"macro\"),\n",
    "                                   recall_score(y_test_a, y_predict_RandomForest_a, average=\"macro\"),\n",
    "                                   f1_score(y_test_a, y_predict_RandomForest_a, average=\"macro\"),\n",
    "                                \"-\"])"
   ]
  },
  {
   "cell_type": "code",
   "execution_count": 103,
   "metadata": {},
   "outputs": [
    {
     "data": {
      "image/png": "[encoded data removed]",
      "text/plain": [
       "<Figure size 432x288 with 1 Axes>"
      ]
     },
     "metadata": {
      "needs_background": "light"
     },
     "output_type": "display_data"
    }
   ],
   "source": [
    "# 可視化\n",
    "decision_region_3(X_test_std_a, y_test_a, clf, title=\"RandomForest\", xlabel=\"sepal_length\", ylabel=\"petal_length\")"
   ]
  },
  {
   "cell_type": "code",
   "execution_count": 104,
   "metadata": {},
   "outputs": [
    {
     "data": {
      "text/html": [
       "<div>\n",
       "<style scoped>\n",
       "    .dataframe tbody tr th:only-of-type {\n",
       "        vertical-align: middle;\n",
       "    }\n",
       "\n",
       "    .dataframe tbody tr th {\n",
       "        vertical-align: top;\n",
       "    }\n",
       "\n",
       "    .dataframe thead th {\n",
       "        text-align: right;\n",
       "    }\n",
       "</style>\n",
       "<table border=\"1\" class=\"dataframe\">\n",
       "  <thead>\n",
       "    <tr style=\"text-align: right;\">\n",
       "      <th></th>\n",
       "      <th>5nn</th>\n",
       "      <th>3nn</th>\n",
       "      <th>1nn</th>\n",
       "      <th>ロジスティック回帰</th>\n",
       "      <th>SVM</th>\n",
       "      <th>決定木</th>\n",
       "      <th>ランダムフォレスト</th>\n",
       "      <th>k5nn標準化なし</th>\n",
       "      <th>k3nn標準化なし</th>\n",
       "      <th>k1nn標準化なし</th>\n",
       "      <th>...</th>\n",
       "      <th>SVM標準化なし</th>\n",
       "      <th>決定木標準化なし</th>\n",
       "      <th>ランダムフォレスト標準化なし</th>\n",
       "      <th>k5nn_3</th>\n",
       "      <th>k3nn_3</th>\n",
       "      <th>k1nn_3</th>\n",
       "      <th>Logistic_3</th>\n",
       "      <th>SVM_3</th>\n",
       "      <th>DTree_3</th>\n",
       "      <th>RandomF_3</th>\n",
       "    </tr>\n",
       "  </thead>\n",
       "  <tbody>\n",
       "    <tr>\n",
       "      <th>正解率</th>\n",
       "      <td>0.88</td>\n",
       "      <td>0.92</td>\n",
       "      <td>0.92</td>\n",
       "      <td>0.96</td>\n",
       "      <td>0.96</td>\n",
       "      <td>0.92</td>\n",
       "      <td>0.92</td>\n",
       "      <td>0.88</td>\n",
       "      <td>0.92</td>\n",
       "      <td>0.92</td>\n",
       "      <td>...</td>\n",
       "      <td>0.96</td>\n",
       "      <td>0.92</td>\n",
       "      <td>0.96</td>\n",
       "      <td>0.973684</td>\n",
       "      <td>0.947368</td>\n",
       "      <td>0.947368</td>\n",
       "      <td>0.868421</td>\n",
       "      <td>1</td>\n",
       "      <td>0.947368</td>\n",
       "      <td>0.973684</td>\n",
       "    </tr>\n",
       "    <tr>\n",
       "      <th>適合率</th>\n",
       "      <td>0.923077</td>\n",
       "      <td>1</td>\n",
       "      <td>0.928571</td>\n",
       "      <td>1</td>\n",
       "      <td>1</td>\n",
       "      <td>0.928571</td>\n",
       "      <td>1</td>\n",
       "      <td>0.923077</td>\n",
       "      <td>1</td>\n",
       "      <td>0.928571</td>\n",
       "      <td>...</td>\n",
       "      <td>1</td>\n",
       "      <td>0.928571</td>\n",
       "      <td>1</td>\n",
       "      <td>0.974359</td>\n",
       "      <td>0.948413</td>\n",
       "      <td>0.948413</td>\n",
       "      <td>0.885714</td>\n",
       "      <td>1</td>\n",
       "      <td>0.948413</td>\n",
       "      <td>0.977778</td>\n",
       "    </tr>\n",
       "    <tr>\n",
       "      <th>再現率</th>\n",
       "      <td>0.857143</td>\n",
       "      <td>0.857143</td>\n",
       "      <td>0.928571</td>\n",
       "      <td>0.928571</td>\n",
       "      <td>0.928571</td>\n",
       "      <td>0.928571</td>\n",
       "      <td>0.857143</td>\n",
       "      <td>0.857143</td>\n",
       "      <td>0.857143</td>\n",
       "      <td>0.928571</td>\n",
       "      <td>...</td>\n",
       "      <td>0.928571</td>\n",
       "      <td>0.928571</td>\n",
       "      <td>0.928571</td>\n",
       "      <td>0.97619</td>\n",
       "      <td>0.948413</td>\n",
       "      <td>0.948413</td>\n",
       "      <td>0.880952</td>\n",
       "      <td>1</td>\n",
       "      <td>0.948413</td>\n",
       "      <td>0.972222</td>\n",
       "    </tr>\n",
       "    <tr>\n",
       "      <th>F値</th>\n",
       "      <td>0.888889</td>\n",
       "      <td>0.923077</td>\n",
       "      <td>0.928571</td>\n",
       "      <td>0.962963</td>\n",
       "      <td>0.962963</td>\n",
       "      <td>0.928571</td>\n",
       "      <td>0.923077</td>\n",
       "      <td>0.888889</td>\n",
       "      <td>0.923077</td>\n",
       "      <td>0.928571</td>\n",
       "      <td>...</td>\n",
       "      <td>0.962963</td>\n",
       "      <td>0.928571</td>\n",
       "      <td>0.962963</td>\n",
       "      <td>0.974321</td>\n",
       "      <td>0.948413</td>\n",
       "      <td>0.948413</td>\n",
       "      <td>0.864858</td>\n",
       "      <td>1</td>\n",
       "      <td>0.948413</td>\n",
       "      <td>0.974013</td>\n",
       "    </tr>\n",
       "    <tr>\n",
       "      <th>混同行列</th>\n",
       "      <td>[[12, 2], [1, 10]]</td>\n",
       "      <td>[[12, 2], [0, 11]]</td>\n",
       "      <td>[[13, 1], [1, 10]]</td>\n",
       "      <td>[[13, 1], [0, 11]]</td>\n",
       "      <td>[[13, 1], [0, 11]]</td>\n",
       "      <td>[[13, 1], [1, 10]]</td>\n",
       "      <td>[[12, 2], [0, 11]]</td>\n",
       "      <td>[[12, 2], [1, 10]]</td>\n",
       "      <td>[[12, 2], [0, 11]]</td>\n",
       "      <td>[[13, 1], [1, 10]]</td>\n",
       "      <td>...</td>\n",
       "      <td>[[13, 1], [0, 11]]</td>\n",
       "      <td>[[13, 1], [1, 10]]</td>\n",
       "      <td>[[13, 1], [0, 11]]</td>\n",
       "      <td>-</td>\n",
       "      <td>-</td>\n",
       "      <td>-</td>\n",
       "      <td>-</td>\n",
       "      <td>-</td>\n",
       "      <td>-</td>\n",
       "      <td>-</td>\n",
       "    </tr>\n",
       "  </tbody>\n",
       "</table>\n",
       "<p>5 rows × 21 columns</p>\n",
       "</div>"
      ],
      "text/plain": [
       "                     5nn                 3nn                 1nn  \\\n",
       "正解率                 0.88                0.92                0.92   \n",
       "適合率             0.923077                   1            0.928571   \n",
       "再現率             0.857143            0.857143            0.928571   \n",
       "F値              0.888889            0.923077            0.928571   \n",
       "混同行列  [[12, 2], [1, 10]]  [[12, 2], [0, 11]]  [[13, 1], [1, 10]]   \n",
       "\n",
       "               ロジスティック回帰                 SVM                 決定木  \\\n",
       "正解率                 0.96                0.96                0.92   \n",
       "適合率                    1                   1            0.928571   \n",
       "再現率             0.928571            0.928571            0.928571   \n",
       "F値              0.962963            0.962963            0.928571   \n",
       "混同行列  [[13, 1], [0, 11]]  [[13, 1], [0, 11]]  [[13, 1], [1, 10]]   \n",
       "\n",
       "               ランダムフォレスト           k5nn標準化なし           k3nn標準化なし  \\\n",
       "正解率                 0.92                0.88                0.92   \n",
       "適合率                    1            0.923077                   1   \n",
       "再現率             0.857143            0.857143            0.857143   \n",
       "F値              0.923077            0.888889            0.923077   \n",
       "混同行列  [[12, 2], [0, 11]]  [[12, 2], [1, 10]]  [[12, 2], [0, 11]]   \n",
       "\n",
       "               k1nn標準化なし    ...               SVM標準化なし            決定木標準化なし  \\\n",
       "正解率                 0.92    ...                   0.96                0.92   \n",
       "適合率             0.928571    ...                      1            0.928571   \n",
       "再現率             0.928571    ...               0.928571            0.928571   \n",
       "F値              0.928571    ...               0.962963            0.928571   \n",
       "混同行列  [[13, 1], [1, 10]]    ...     [[13, 1], [0, 11]]  [[13, 1], [1, 10]]   \n",
       "\n",
       "          ランダムフォレスト標準化なし    k5nn_3    k3nn_3    k1nn_3 Logistic_3 SVM_3  \\\n",
       "正解率                 0.96  0.973684  0.947368  0.947368   0.868421     1   \n",
       "適合率                    1  0.974359  0.948413  0.948413   0.885714     1   \n",
       "再現率             0.928571   0.97619  0.948413  0.948413   0.880952     1   \n",
       "F値              0.962963  0.974321  0.948413  0.948413   0.864858     1   \n",
       "混同行列  [[13, 1], [0, 11]]         -         -         -          -     -   \n",
       "\n",
       "       DTree_3 RandomF_3  \n",
       "正解率   0.947368  0.973684  \n",
       "適合率   0.948413  0.977778  \n",
       "再現率   0.948413  0.972222  \n",
       "F値    0.948413  0.974013  \n",
       "混同行列         -         -  \n",
       "\n",
       "[5 rows x 21 columns]"
      ]
     },
     "execution_count": 104,
     "metadata": {},
     "output_type": "execute_result"
    }
   ],
   "source": [
    "pred_df"
   ]
  },
  {
   "cell_type": "markdown",
   "metadata": {},
   "source": [
    "### 考察\n",
    "複数回学習データを変更して検証した結果、SVMが1番精度が高かった。\n",
    "しかし、学習データによっては、SVMでも大きく精度が下がることがあった"
   ]
  },
  {
   "cell_type": "code",
   "execution_count": null,
   "metadata": {},
   "outputs": [],
   "source": []
  }
 ],
 "metadata": {
  "kernelspec": {
   "display_name": "Python 3",
   "language": "python",
   "name": "python3"
  },
  "language_info": {
   "codemirror_mode": {
    "name": "ipython",
    "version": 3
   },
   "file_extension": ".py",
   "mimetype": "text/x-python",
   "name": "python",
   "nbconvert_exporter": "python",
   "pygments_lexer": "ipython3",
   "version": "3.7.2"
  }
 },
 "nbformat": 4,
 "nbformat_minor": 2
}
