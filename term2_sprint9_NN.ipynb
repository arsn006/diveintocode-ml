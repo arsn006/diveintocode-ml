{
 "cells": [
  {
   "cell_type": "markdown",
   "metadata": {},
   "source": [
    "# sprint9 深層学習スクラッチ ニューラルネットワーク"
   ]
  },
  {
   "cell_type": "markdown",
   "metadata": {},
   "source": [
    "## 1.このSprintについて\n",
    "### Sprintの目的\n",
    "スクラッチを通してニューラルネットワークの基礎を理解する\n",
    "画像データの扱い方を知る\n",
    "\n",
    "### どのように学ぶか\n",
    "スクラッチで単純なニューラルネットワークを実装した後、学習と検証を行なっていきます。\n",
    "\n",
    "## 2.MNISTデータセット\n",
    "ニューラルネットワークスクラッチの検証にはMNISTデータセットを使用します。各種ライブラリやサイトからダウンロードできますが、ここでは深層学習フレームワークのKerasを用います。以下のコードを実行すればデータセットをダウンロードし、展開まで行えます。"
   ]
  },
  {
   "cell_type": "code",
   "execution_count": 1,
   "metadata": {},
   "outputs": [],
   "source": [
    "import numpy as np\n",
    "np.set_printoptions(precision=8)    # 小数点以下出力桁数\n",
    "np.set_printoptions(suppress=True)    #指数表示禁止"
   ]
  },
  {
   "cell_type": "code",
   "execution_count": 2,
   "metadata": {},
   "outputs": [
    {
     "name": "stderr",
     "output_type": "stream",
     "text": [
      "Using TensorFlow backend.\n",
      "/Users/arisa/.pyenv/versions/anaconda3-5.3.1/lib/python3.7/site-packages/tensorflow/python/framework/dtypes.py:526: FutureWarning: Passing (type, 1) or '1type' as a synonym of type is deprecated; in a future version of numpy, it will be understood as (type, (1,)) / '(1,)type'.\n",
      "  _np_qint8 = np.dtype([(\"qint8\", np.int8, 1)])\n",
      "/Users/arisa/.pyenv/versions/anaconda3-5.3.1/lib/python3.7/site-packages/tensorflow/python/framework/dtypes.py:527: FutureWarning: Passing (type, 1) or '1type' as a synonym of type is deprecated; in a future version of numpy, it will be understood as (type, (1,)) / '(1,)type'.\n",
      "  _np_quint8 = np.dtype([(\"quint8\", np.uint8, 1)])\n",
      "/Users/arisa/.pyenv/versions/anaconda3-5.3.1/lib/python3.7/site-packages/tensorflow/python/framework/dtypes.py:528: FutureWarning: Passing (type, 1) or '1type' as a synonym of type is deprecated; in a future version of numpy, it will be understood as (type, (1,)) / '(1,)type'.\n",
      "  _np_qint16 = np.dtype([(\"qint16\", np.int16, 1)])\n",
      "/Users/arisa/.pyenv/versions/anaconda3-5.3.1/lib/python3.7/site-packages/tensorflow/python/framework/dtypes.py:529: FutureWarning: Passing (type, 1) or '1type' as a synonym of type is deprecated; in a future version of numpy, it will be understood as (type, (1,)) / '(1,)type'.\n",
      "  _np_quint16 = np.dtype([(\"quint16\", np.uint16, 1)])\n",
      "/Users/arisa/.pyenv/versions/anaconda3-5.3.1/lib/python3.7/site-packages/tensorflow/python/framework/dtypes.py:530: FutureWarning: Passing (type, 1) or '1type' as a synonym of type is deprecated; in a future version of numpy, it will be understood as (type, (1,)) / '(1,)type'.\n",
      "  _np_qint32 = np.dtype([(\"qint32\", np.int32, 1)])\n",
      "/Users/arisa/.pyenv/versions/anaconda3-5.3.1/lib/python3.7/site-packages/tensorflow/python/framework/dtypes.py:535: FutureWarning: Passing (type, 1) or '1type' as a synonym of type is deprecated; in a future version of numpy, it will be understood as (type, (1,)) / '(1,)type'.\n",
      "  np_resource = np.dtype([(\"resource\", np.ubyte, 1)])\n"
     ]
    }
   ],
   "source": [
    "# 《データセットをダウンロードするコード》\n",
    "from keras.datasets import mnist\n",
    "(X_train, y_train), (X_test, y_test) = mnist.load_data()"
   ]
  },
  {
   "cell_type": "markdown",
   "metadata": {},
   "source": [
    "#### 《MNISTとは？》\n",
    "画像分類のための定番データセットで、手書き数字認識を行います。このデータセットには訓練用6万枚、テスト用1万枚の28×28ピクセルの白黒画像、およびそれらが0〜9のどの数字であるかというラベルが含まれています。\n",
    "\n",
    "\n",
    "\n",
    "#### 《画像データとは？》\n",
    "デジタル画像は点の集合で、これをピクセルと呼びます。一般的に白黒画像であればピクセルには0〜255の値が含まれます。一方、カラー画像であればR（赤）、G（緑）、B（青）それぞれに対応する0〜255の値が含まれます。機械学習をする上では、この0〜255の値一つひとつが特徴量として扱われます。0〜255は符号なしの8ビット整数で表せる範囲になるため、NumPyであれば「uint8」型の変数として保持できます。\n",
    "\n",
    "### データセットの確認\n",
    "どういったデータなのかを見てみます。"
   ]
  },
  {
   "cell_type": "code",
   "execution_count": 3,
   "metadata": {},
   "outputs": [
    {
     "name": "stdout",
     "output_type": "stream",
     "text": [
      "(60000, 28, 28)\n",
      "(10000, 28, 28)\n",
      "uint8\n",
      "[[  0   0   0   0   0   0   0   0   0   0   0   0   0   0   0   0   0   0\n",
      "    0   0   0   0   0   0   0   0   0   0]\n",
      " [  0   0   0   0   0   0   0   0   0   0   0   0   0   0   0   0   0   0\n",
      "    0   0   0   0   0   0   0   0   0   0]\n",
      " [  0   0   0   0   0   0   0   0   0   0   0   0   0   0   0   0   0   0\n",
      "    0   0   0   0   0   0   0   0   0   0]\n",
      " [  0   0   0   0   0   0   0   0   0   0   0   0   0   0   0   0   0   0\n",
      "    0   0   0   0   0   0   0   0   0   0]\n",
      " [  0   0   0   0   0   0   0   0   0   0   0   0   0   0   0   0   0   0\n",
      "    0   0   0   0   0   0   0   0   0   0]\n",
      " [  0   0   0   0   0   0   0   0   0   0   0   0   3  18  18  18 126 136\n",
      "  175  26 166 255 247 127   0   0   0   0]\n",
      " [  0   0   0   0   0   0   0   0  30  36  94 154 170 253 253 253 253 253\n",
      "  225 172 253 242 195  64   0   0   0   0]\n",
      " [  0   0   0   0   0   0   0  49 238 253 253 253 253 253 253 253 253 251\n",
      "   93  82  82  56  39   0   0   0   0   0]\n",
      " [  0   0   0   0   0   0   0  18 219 253 253 253 253 253 198 182 247 241\n",
      "    0   0   0   0   0   0   0   0   0   0]\n",
      " [  0   0   0   0   0   0   0   0  80 156 107 253 253 205  11   0  43 154\n",
      "    0   0   0   0   0   0   0   0   0   0]\n",
      " [  0   0   0   0   0   0   0   0   0  14   1 154 253  90   0   0   0   0\n",
      "    0   0   0   0   0   0   0   0   0   0]\n",
      " [  0   0   0   0   0   0   0   0   0   0   0 139 253 190   2   0   0   0\n",
      "    0   0   0   0   0   0   0   0   0   0]\n",
      " [  0   0   0   0   0   0   0   0   0   0   0  11 190 253  70   0   0   0\n",
      "    0   0   0   0   0   0   0   0   0   0]\n",
      " [  0   0   0   0   0   0   0   0   0   0   0   0  35 241 225 160 108   1\n",
      "    0   0   0   0   0   0   0   0   0   0]\n",
      " [  0   0   0   0   0   0   0   0   0   0   0   0   0  81 240 253 253 119\n",
      "   25   0   0   0   0   0   0   0   0   0]\n",
      " [  0   0   0   0   0   0   0   0   0   0   0   0   0   0  45 186 253 253\n",
      "  150  27   0   0   0   0   0   0   0   0]\n",
      " [  0   0   0   0   0   0   0   0   0   0   0   0   0   0   0  16  93 252\n",
      "  253 187   0   0   0   0   0   0   0   0]\n",
      " [  0   0   0   0   0   0   0   0   0   0   0   0   0   0   0   0   0 249\n",
      "  253 249  64   0   0   0   0   0   0   0]\n",
      " [  0   0   0   0   0   0   0   0   0   0   0   0   0   0  46 130 183 253\n",
      "  253 207   2   0   0   0   0   0   0   0]\n",
      " [  0   0   0   0   0   0   0   0   0   0   0   0  39 148 229 253 253 253\n",
      "  250 182   0   0   0   0   0   0   0   0]\n",
      " [  0   0   0   0   0   0   0   0   0   0  24 114 221 253 253 253 253 201\n",
      "   78   0   0   0   0   0   0   0   0   0]\n",
      " [  0   0   0   0   0   0   0   0  23  66 213 253 253 253 253 198  81   2\n",
      "    0   0   0   0   0   0   0   0   0   0]\n",
      " [  0   0   0   0   0   0  18 171 219 253 253 253 253 195  80   9   0   0\n",
      "    0   0   0   0   0   0   0   0   0   0]\n",
      " [  0   0   0   0  55 172 226 253 253 253 253 244 133  11   0   0   0   0\n",
      "    0   0   0   0   0   0   0   0   0   0]\n",
      " [  0   0   0   0 136 253 253 253 212 135 132  16   0   0   0   0   0   0\n",
      "    0   0   0   0   0   0   0   0   0   0]\n",
      " [  0   0   0   0   0   0   0   0   0   0   0   0   0   0   0   0   0   0\n",
      "    0   0   0   0   0   0   0   0   0   0]\n",
      " [  0   0   0   0   0   0   0   0   0   0   0   0   0   0   0   0   0   0\n",
      "    0   0   0   0   0   0   0   0   0   0]\n",
      " [  0   0   0   0   0   0   0   0   0   0   0   0   0   0   0   0   0   0\n",
      "    0   0   0   0   0   0   0   0   0   0]]\n"
     ]
    }
   ],
   "source": [
    "# 《サンプルコード》\n",
    "print(X_train.shape) # (60000, 28, 28)\n",
    "print(X_test.shape) # (10000, 28, 28)\n",
    "print(X_train[0].dtype) # uint8\n",
    "print(X_train[0])"
   ]
  },
  {
   "cell_type": "markdown",
   "metadata": {},
   "source": [
    "各データは28×28ピクセルの白黒画像です。\n",
    "### 平滑化\n",
    "(1, 28, 28)の各画像を、(1, 784)に変換します。これまで学んできた機械学習手法や、今回扱う全結合層のみのニューラルネットワークではこの形で扱います。全てのピクセルが一列になっていることを、 平滑化（flatten） してあるという風に表現します。\n",
    "\n"
   ]
  },
  {
   "cell_type": "code",
   "execution_count": 4,
   "metadata": {},
   "outputs": [],
   "source": [
    "X_train = X_train.reshape(-1, 784)\n",
    "X_test = X_test.reshape(-1, 784)"
   ]
  },
  {
   "cell_type": "markdown",
   "metadata": {},
   "source": [
    "#### 《補足》\n",
    "ここまで機械学習を学んでくる中で、特徴量の数を「次元」と呼んできました。<br>\n",
    "その視点ではMNISTは784次元のデータです。一方で、NumPyのshapeが(784,)の状態を1次元配列とも呼びます。<br>\n",
    "画像としての縦横の情報を持つ（28, 28)の状態であれば、2次元配列です。この視点では2次元のデータです。<br>\n",
    "さらに、もしもカラー画像であれば(28, 28, 3)ということになり、3次元配列です。<br>\n",
    "先ほどの視点では3次元のデータになります。しかし、白黒でもカラーでも平面画像であり、立体データではないという視点で、2次元のデータです。<br>\n",
    "画像データを扱う際にはこのように「次元」という言葉が複数の意味合いで使われることに注意してください。\n",
    "\n",
    "### 画像データの可視化\n",
    "画像データを可視化します。plt.imshowに渡します。"
   ]
  },
  {
   "cell_type": "code",
   "execution_count": 5,
   "metadata": {},
   "outputs": [
    {
     "data": {
      "image/png": "[encoded data removed]",
      "text/plain": [
       "<Figure size 432x288 with 1 Axes>"
      ]
     },
     "metadata": {
      "needs_background": "light"
     },
     "output_type": "display_data"
    },
    {
     "name": "stdout",
     "output_type": "stream",
     "text": [
      "[[  0   0   0   0   0   0   0   0   0   0   0   0   0   0   0   0   0   0\n",
      "    0   0   0   0   0   0   0   0   0   0]\n",
      " [  0   0   0   0   0   0   0   0   0   0   0   0   0   0   0   0   0   0\n",
      "    0   0   0   0   0   0   0   0   0   0]\n",
      " [  0   0   0   0   0   0   0   0   0   0   0   0   0   0   0   0   0   0\n",
      "    0   0   0   0   0   0   0   0   0   0]\n",
      " [  0   0   0   0   0   0   0   0   0   0   0   0   0   0   0   0   0   0\n",
      "    0   0   0   0   0   0   0   0   0   0]\n",
      " [  0   0   0   0   0   0   0   0   0   0   0   0   0   0   0   0   0   0\n",
      "    0   0   0   0   0   0   0   0   0   0]\n",
      " [  0   0   0   0   0   0   0   0   0   0   0   0   3  18  18  18 126 136\n",
      "  175  26 166 255 247 127   0   0   0   0]\n",
      " [  0   0   0   0   0   0   0   0  30  36  94 154 170 253 253 253 253 253\n",
      "  225 172 253 242 195  64   0   0   0   0]\n",
      " [  0   0   0   0   0   0   0  49 238 253 253 253 253 253 253 253 253 251\n",
      "   93  82  82  56  39   0   0   0   0   0]\n",
      " [  0   0   0   0   0   0   0  18 219 253 253 253 253 253 198 182 247 241\n",
      "    0   0   0   0   0   0   0   0   0   0]\n",
      " [  0   0   0   0   0   0   0   0  80 156 107 253 253 205  11   0  43 154\n",
      "    0   0   0   0   0   0   0   0   0   0]\n",
      " [  0   0   0   0   0   0   0   0   0  14   1 154 253  90   0   0   0   0\n",
      "    0   0   0   0   0   0   0   0   0   0]\n",
      " [  0   0   0   0   0   0   0   0   0   0   0 139 253 190   2   0   0   0\n",
      "    0   0   0   0   0   0   0   0   0   0]\n",
      " [  0   0   0   0   0   0   0   0   0   0   0  11 190 253  70   0   0   0\n",
      "    0   0   0   0   0   0   0   0   0   0]\n",
      " [  0   0   0   0   0   0   0   0   0   0   0   0  35 241 225 160 108   1\n",
      "    0   0   0   0   0   0   0   0   0   0]\n",
      " [  0   0   0   0   0   0   0   0   0   0   0   0   0  81 240 253 253 119\n",
      "   25   0   0   0   0   0   0   0   0   0]\n",
      " [  0   0   0   0   0   0   0   0   0   0   0   0   0   0  45 186 253 253\n",
      "  150  27   0   0   0   0   0   0   0   0]\n",
      " [  0   0   0   0   0   0   0   0   0   0   0   0   0   0   0  16  93 252\n",
      "  253 187   0   0   0   0   0   0   0   0]\n",
      " [  0   0   0   0   0   0   0   0   0   0   0   0   0   0   0   0   0 249\n",
      "  253 249  64   0   0   0   0   0   0   0]\n",
      " [  0   0   0   0   0   0   0   0   0   0   0   0   0   0  46 130 183 253\n",
      "  253 207   2   0   0   0   0   0   0   0]\n",
      " [  0   0   0   0   0   0   0   0   0   0   0   0  39 148 229 253 253 253\n",
      "  250 182   0   0   0   0   0   0   0   0]\n",
      " [  0   0   0   0   0   0   0   0   0   0  24 114 221 253 253 253 253 201\n",
      "   78   0   0   0   0   0   0   0   0   0]\n",
      " [  0   0   0   0   0   0   0   0  23  66 213 253 253 253 253 198  81   2\n",
      "    0   0   0   0   0   0   0   0   0   0]\n",
      " [  0   0   0   0   0   0  18 171 219 253 253 253 253 195  80   9   0   0\n",
      "    0   0   0   0   0   0   0   0   0   0]\n",
      " [  0   0   0   0  55 172 226 253 253 253 253 244 133  11   0   0   0   0\n",
      "    0   0   0   0   0   0   0   0   0   0]\n",
      " [  0   0   0   0 136 253 253 253 212 135 132  16   0   0   0   0   0   0\n",
      "    0   0   0   0   0   0   0   0   0   0]\n",
      " [  0   0   0   0   0   0   0   0   0   0   0   0   0   0   0   0   0   0\n",
      "    0   0   0   0   0   0   0   0   0   0]\n",
      " [  0   0   0   0   0   0   0   0   0   0   0   0   0   0   0   0   0   0\n",
      "    0   0   0   0   0   0   0   0   0   0]\n",
      " [  0   0   0   0   0   0   0   0   0   0   0   0   0   0   0   0   0   0\n",
      "    0   0   0   0   0   0   0   0   0   0]]\n"
     ]
    }
   ],
   "source": [
    "import matplotlib.pyplot as plt\n",
    "%matplotlib inline\n",
    "index = 0\n",
    "image = X_train[index].reshape(28,28)\n",
    "# X_train[index]: (784,)\n",
    "# image: (28, 28)\n",
    "plt.imshow(image, 'gray')\n",
    "plt.title('label : {}'.format(y_train[index]))\n",
    "plt.show()\n",
    "print(image)"
   ]
  },
  {
   "cell_type": "markdown",
   "metadata": {},
   "source": [
    "numpy.reshape — NumPy v1.17 Manual\n",
    "\n",
    "matplotlib.pyplot.imshow — Matplotlib 3.1.1 documentation\n",
    "\n",
    "#### 《発展的話題》\n",
    "画像データは符号なし8ビット整数のuint8型で保持されることが一般的ですが、plt.imshowはより自由な配列を画像として表示することが可能です。<br>\n",
    "例えば、以下のようにマイナスの値を持ったfloat64型の浮動小数点であってもエラーにはならないし、先ほどと全く同じ風に表示されます。"
   ]
  },
  {
   "cell_type": "code",
   "execution_count": 6,
   "metadata": {},
   "outputs": [
    {
     "data": {
      "image/png": "[encoded data removed]",
      "text/plain": [
       "<Figure size 432x288 with 1 Axes>"
      ]
     },
     "metadata": {
      "needs_background": "light"
     },
     "output_type": "display_data"
    },
    {
     "name": "stdout",
     "output_type": "stream",
     "text": [
      "[[-105.35 -105.35 -105.35 -105.35 -105.35 -105.35 -105.35 -105.35 -105.35\n",
      "  -105.35 -105.35 -105.35 -105.35 -105.35 -105.35 -105.35 -105.35 -105.35\n",
      "  -105.35 -105.35 -105.35 -105.35 -105.35 -105.35 -105.35 -105.35 -105.35\n",
      "  -105.35]\n",
      " [-105.35 -105.35 -105.35 -105.35 -105.35 -105.35 -105.35 -105.35 -105.35\n",
      "  -105.35 -105.35 -105.35 -105.35 -105.35 -105.35 -105.35 -105.35 -105.35\n",
      "  -105.35 -105.35 -105.35 -105.35 -105.35 -105.35 -105.35 -105.35 -105.35\n",
      "  -105.35]\n",
      " [-105.35 -105.35 -105.35 -105.35 -105.35 -105.35 -105.35 -105.35 -105.35\n",
      "  -105.35 -105.35 -105.35 -105.35 -105.35 -105.35 -105.35 -105.35 -105.35\n",
      "  -105.35 -105.35 -105.35 -105.35 -105.35 -105.35 -105.35 -105.35 -105.35\n",
      "  -105.35]\n",
      " [-105.35 -105.35 -105.35 -105.35 -105.35 -105.35 -105.35 -105.35 -105.35\n",
      "  -105.35 -105.35 -105.35 -105.35 -105.35 -105.35 -105.35 -105.35 -105.35\n",
      "  -105.35 -105.35 -105.35 -105.35 -105.35 -105.35 -105.35 -105.35 -105.35\n",
      "  -105.35]\n",
      " [-105.35 -105.35 -105.35 -105.35 -105.35 -105.35 -105.35 -105.35 -105.35\n",
      "  -105.35 -105.35 -105.35 -105.35 -105.35 -105.35 -105.35 -105.35 -105.35\n",
      "  -105.35 -105.35 -105.35 -105.35 -105.35 -105.35 -105.35 -105.35 -105.35\n",
      "  -105.35]\n",
      " [-105.35 -105.35 -105.35 -105.35 -105.35 -105.35 -105.35 -105.35 -105.35\n",
      "  -105.35 -105.35 -105.35 -102.35  -87.35  -87.35  -87.35   20.65   30.65\n",
      "    69.65  -79.35   60.65  149.65  141.65   21.65 -105.35 -105.35 -105.35\n",
      "  -105.35]\n",
      " [-105.35 -105.35 -105.35 -105.35 -105.35 -105.35 -105.35 -105.35  -75.35\n",
      "   -69.35  -11.35   48.65   64.65  147.65  147.65  147.65  147.65  147.65\n",
      "   119.65   66.65  147.65  136.65   89.65  -41.35 -105.35 -105.35 -105.35\n",
      "  -105.35]\n",
      " [-105.35 -105.35 -105.35 -105.35 -105.35 -105.35 -105.35  -56.35  132.65\n",
      "   147.65  147.65  147.65  147.65  147.65  147.65  147.65  147.65  145.65\n",
      "   -12.35  -23.35  -23.35  -49.35  -66.35 -105.35 -105.35 -105.35 -105.35\n",
      "  -105.35]\n",
      " [-105.35 -105.35 -105.35 -105.35 -105.35 -105.35 -105.35  -87.35  113.65\n",
      "   147.65  147.65  147.65  147.65  147.65   92.65   76.65  141.65  135.65\n",
      "  -105.35 -105.35 -105.35 -105.35 -105.35 -105.35 -105.35 -105.35 -105.35\n",
      "  -105.35]\n",
      " [-105.35 -105.35 -105.35 -105.35 -105.35 -105.35 -105.35 -105.35  -25.35\n",
      "    50.65    1.65  147.65  147.65   99.65  -94.35 -105.35  -62.35   48.65\n",
      "  -105.35 -105.35 -105.35 -105.35 -105.35 -105.35 -105.35 -105.35 -105.35\n",
      "  -105.35]\n",
      " [-105.35 -105.35 -105.35 -105.35 -105.35 -105.35 -105.35 -105.35 -105.35\n",
      "   -91.35 -104.35   48.65  147.65  -15.35 -105.35 -105.35 -105.35 -105.35\n",
      "  -105.35 -105.35 -105.35 -105.35 -105.35 -105.35 -105.35 -105.35 -105.35\n",
      "  -105.35]\n",
      " [-105.35 -105.35 -105.35 -105.35 -105.35 -105.35 -105.35 -105.35 -105.35\n",
      "  -105.35 -105.35   33.65  147.65   84.65 -103.35 -105.35 -105.35 -105.35\n",
      "  -105.35 -105.35 -105.35 -105.35 -105.35 -105.35 -105.35 -105.35 -105.35\n",
      "  -105.35]\n",
      " [-105.35 -105.35 -105.35 -105.35 -105.35 -105.35 -105.35 -105.35 -105.35\n",
      "  -105.35 -105.35  -94.35   84.65  147.65  -35.35 -105.35 -105.35 -105.35\n",
      "  -105.35 -105.35 -105.35 -105.35 -105.35 -105.35 -105.35 -105.35 -105.35\n",
      "  -105.35]\n",
      " [-105.35 -105.35 -105.35 -105.35 -105.35 -105.35 -105.35 -105.35 -105.35\n",
      "  -105.35 -105.35 -105.35  -70.35  135.65  119.65   54.65    2.65 -104.35\n",
      "  -105.35 -105.35 -105.35 -105.35 -105.35 -105.35 -105.35 -105.35 -105.35\n",
      "  -105.35]\n",
      " [-105.35 -105.35 -105.35 -105.35 -105.35 -105.35 -105.35 -105.35 -105.35\n",
      "  -105.35 -105.35 -105.35 -105.35  -24.35  134.65  147.65  147.65   13.65\n",
      "   -80.35 -105.35 -105.35 -105.35 -105.35 -105.35 -105.35 -105.35 -105.35\n",
      "  -105.35]\n",
      " [-105.35 -105.35 -105.35 -105.35 -105.35 -105.35 -105.35 -105.35 -105.35\n",
      "  -105.35 -105.35 -105.35 -105.35 -105.35  -60.35   80.65  147.65  147.65\n",
      "    44.65  -78.35 -105.35 -105.35 -105.35 -105.35 -105.35 -105.35 -105.35\n",
      "  -105.35]\n",
      " [-105.35 -105.35 -105.35 -105.35 -105.35 -105.35 -105.35 -105.35 -105.35\n",
      "  -105.35 -105.35 -105.35 -105.35 -105.35 -105.35  -89.35  -12.35  146.65\n",
      "   147.65   81.65 -105.35 -105.35 -105.35 -105.35 -105.35 -105.35 -105.35\n",
      "  -105.35]\n",
      " [-105.35 -105.35 -105.35 -105.35 -105.35 -105.35 -105.35 -105.35 -105.35\n",
      "  -105.35 -105.35 -105.35 -105.35 -105.35 -105.35 -105.35 -105.35  143.65\n",
      "   147.65  143.65  -41.35 -105.35 -105.35 -105.35 -105.35 -105.35 -105.35\n",
      "  -105.35]\n",
      " [-105.35 -105.35 -105.35 -105.35 -105.35 -105.35 -105.35 -105.35 -105.35\n",
      "  -105.35 -105.35 -105.35 -105.35 -105.35  -59.35   24.65   77.65  147.65\n",
      "   147.65  101.65 -103.35 -105.35 -105.35 -105.35 -105.35 -105.35 -105.35\n",
      "  -105.35]\n",
      " [-105.35 -105.35 -105.35 -105.35 -105.35 -105.35 -105.35 -105.35 -105.35\n",
      "  -105.35 -105.35 -105.35  -66.35   42.65  123.65  147.65  147.65  147.65\n",
      "   144.65   76.65 -105.35 -105.35 -105.35 -105.35 -105.35 -105.35 -105.35\n",
      "  -105.35]\n",
      " [-105.35 -105.35 -105.35 -105.35 -105.35 -105.35 -105.35 -105.35 -105.35\n",
      "  -105.35  -81.35    8.65  115.65  147.65  147.65  147.65  147.65   95.65\n",
      "   -27.35 -105.35 -105.35 -105.35 -105.35 -105.35 -105.35 -105.35 -105.35\n",
      "  -105.35]\n",
      " [-105.35 -105.35 -105.35 -105.35 -105.35 -105.35 -105.35 -105.35  -82.35\n",
      "   -39.35  107.65  147.65  147.65  147.65  147.65   92.65  -24.35 -103.35\n",
      "  -105.35 -105.35 -105.35 -105.35 -105.35 -105.35 -105.35 -105.35 -105.35\n",
      "  -105.35]\n",
      " [-105.35 -105.35 -105.35 -105.35 -105.35 -105.35  -87.35   65.65  113.65\n",
      "   147.65  147.65  147.65  147.65   89.65  -25.35  -96.35 -105.35 -105.35\n",
      "  -105.35 -105.35 -105.35 -105.35 -105.35 -105.35 -105.35 -105.35 -105.35\n",
      "  -105.35]\n",
      " [-105.35 -105.35 -105.35 -105.35  -50.35   66.65  120.65  147.65  147.65\n",
      "   147.65  147.65  138.65   27.65  -94.35 -105.35 -105.35 -105.35 -105.35\n",
      "  -105.35 -105.35 -105.35 -105.35 -105.35 -105.35 -105.35 -105.35 -105.35\n",
      "  -105.35]\n",
      " [-105.35 -105.35 -105.35 -105.35   30.65  147.65  147.65  147.65  106.65\n",
      "    29.65   26.65  -89.35 -105.35 -105.35 -105.35 -105.35 -105.35 -105.35\n",
      "  -105.35 -105.35 -105.35 -105.35 -105.35 -105.35 -105.35 -105.35 -105.35\n",
      "  -105.35]\n",
      " [-105.35 -105.35 -105.35 -105.35 -105.35 -105.35 -105.35 -105.35 -105.35\n",
      "  -105.35 -105.35 -105.35 -105.35 -105.35 -105.35 -105.35 -105.35 -105.35\n",
      "  -105.35 -105.35 -105.35 -105.35 -105.35 -105.35 -105.35 -105.35 -105.35\n",
      "  -105.35]\n",
      " [-105.35 -105.35 -105.35 -105.35 -105.35 -105.35 -105.35 -105.35 -105.35\n",
      "  -105.35 -105.35 -105.35 -105.35 -105.35 -105.35 -105.35 -105.35 -105.35\n",
      "  -105.35 -105.35 -105.35 -105.35 -105.35 -105.35 -105.35 -105.35 -105.35\n",
      "  -105.35]\n",
      " [-105.35 -105.35 -105.35 -105.35 -105.35 -105.35 -105.35 -105.35 -105.35\n",
      "  -105.35 -105.35 -105.35 -105.35 -105.35 -105.35 -105.35 -105.35 -105.35\n",
      "  -105.35 -105.35 -105.35 -105.35 -105.35 -105.35 -105.35 -105.35 -105.35\n",
      "  -105.35]]\n"
     ]
    }
   ],
   "source": [
    "index = 0\n",
    "image = X_train[index].reshape(28,28)\n",
    "image = image.astype(np.float) # float型に変換\n",
    "image -= 105.35 # 意図的に負の小数値を作り出してみる\n",
    "plt.imshow(image, 'gray')\n",
    "plt.title('label : {}'.format(y_train[index]))\n",
    "plt.show()\n",
    "print(image) # 値を確認"
   ]
  },
  {
   "cell_type": "markdown",
   "metadata": {},
   "source": [
    "これは、自動的に値を0〜255の整数に変換して処理するように作られているからです。<br>\n",
    "uint8型であっても最小値が0、最大値が255でない場合には色合いがおかしくなります。それを防ぐためには次のように引数を入れてください。"
   ]
  },
  {
   "cell_type": "code",
   "execution_count": 7,
   "metadata": {},
   "outputs": [
    {
     "data": {
      "text/plain": [
       "<matplotlib.image.AxesImage at 0x7ffd3b40d550>"
      ]
     },
     "execution_count": 7,
     "metadata": {},
     "output_type": "execute_result"
    },
    {
     "data": {
      "image/png": "[encoded data removed]",
      "text/plain": [
       "<Figure size 432x288 with 1 Axes>"
      ]
     },
     "metadata": {
      "needs_background": "light"
     },
     "output_type": "display_data"
    }
   ],
   "source": [
    "plt.imshow(image, 'gray', vmin = 0, vmax = 255)"
   ]
  },
  {
   "cell_type": "markdown",
   "metadata": {},
   "source": [
    "画像関係のライブラリではこの自動的なスケーリングが思わぬ結果を生むことがあるので、新しいメソッドを使うときには確認しておきましょう。\n",
    "\n",
    "\n",
    "### 前処理\n",
    "画像は0から255のuint8型で表されますが、機械学習をする上では0から1のfloat型で扱うことになります。以下のコードで変換可能です。"
   ]
  },
  {
   "cell_type": "code",
   "execution_count": 8,
   "metadata": {},
   "outputs": [
    {
     "name": "stdout",
     "output_type": "stream",
     "text": [
      "1.0\n",
      "0.0\n"
     ]
    }
   ],
   "source": [
    "X_train = X_train.astype(np.float)\n",
    "X_test = X_test.astype(np.float)\n",
    "X_train /= 255\n",
    "X_test /= 255\n",
    "print(X_train.max()) # 1.0\n",
    "print(X_train.min()) # 0.0"
   ]
  },
  {
   "cell_type": "markdown",
   "metadata": {},
   "source": [
    "また、正解ラベルは0から9の整数ですが、ニューラルネットワークで多クラス分類を行う際には one-hot表現 に変換します。<br>\n",
    "scikit-learnのOneHotEncoderを使用したコードが以下です。<br>\n",
    "このone-hot表現による値はそのラベルである確率を示していることになるため、float型で扱います。"
   ]
  },
  {
   "cell_type": "code",
   "execution_count": 9,
   "metadata": {},
   "outputs": [
    {
     "name": "stdout",
     "output_type": "stream",
     "text": [
      "(60000,)\n",
      "(60000, 10)\n",
      "float64\n",
      "[5 0 4 ... 5 6 8]\n",
      "[[0. 0. 0. ... 0. 0. 0.]\n",
      " [1. 0. 0. ... 0. 0. 0.]\n",
      " [0. 0. 0. ... 0. 0. 0.]\n",
      " ...\n",
      " [0. 0. 0. ... 0. 0. 0.]\n",
      " [0. 0. 0. ... 0. 0. 0.]\n",
      " [0. 0. 0. ... 0. 1. 0.]]\n"
     ]
    }
   ],
   "source": [
    "from sklearn.preprocessing import OneHotEncoder\n",
    "enc = OneHotEncoder(handle_unknown='ignore', sparse=False)\n",
    "y_train_one_hot = enc.fit_transform(y_train[:, np.newaxis])\n",
    "y_test_one_hot = enc.transform(y_test[:, np.newaxis])\n",
    "print(y_train.shape) # (60000,)\n",
    "print(y_train_one_hot.shape) # (60000, 10)\n",
    "print(y_train_one_hot.dtype) # float64\n",
    "print(y_train)\n",
    "print(y_train_one_hot)"
   ]
  },
  {
   "cell_type": "markdown",
   "metadata": {},
   "source": [
    "sklearn.preprocessing.OneHotEncoder — scikit-learn 0.21.3 documentation\n",
    "\n",
    "\n",
    "さらに、訓練データ6万枚の内2割を検証データとして分割してください。訓練データが48000枚、検証データが12000枚となります。"
   ]
  },
  {
   "cell_type": "code",
   "execution_count": 10,
   "metadata": {},
   "outputs": [
    {
     "name": "stdout",
     "output_type": "stream",
     "text": [
      "(48000, 784)\n",
      "(12000, 784)\n"
     ]
    }
   ],
   "source": [
    "from sklearn.model_selection import train_test_split\n",
    "X_train, X_val, y_train, y_val = train_test_split(X_train, y_train, test_size=0.2)\n",
    "print(X_train.shape) # (48000, 784)\n",
    "print(X_val.shape) # (12000, 784)"
   ]
  },
  {
   "cell_type": "markdown",
   "metadata": {},
   "source": [
    "## 3.ニューラルネットワークスクラッチ\n",
    "ニューラルネットワークのクラスをスクラッチで作成していきます。NumPyなど最低限のライブラリのみを使いアルゴリズムを実装していきます。\n",
    "\n",
    "\n",
    "今回は多クラス分類を行う3層のニューラルネットワークを作成します。<br>\n",
    "層の数などは固定した上でニューラルネットワークの基本を学びます。次のSprintで層を自由に変えられる設計にしていきます。\n",
    "\n",
    "\n",
    "以下に雛形を用意してあります。このScratchSimpleNeuralNetrowkClassifierクラスにコードを書き加えていってください。"
   ]
  },
  {
   "cell_type": "markdown",
   "metadata": {},
   "source": [
    "### ミニバッチ処理\n",
    "これまでの機械学習スクラッチでは、全てのサンプルを一度に計算していました。<br>\n",
    "しかし、ニューラルネットワークではデータを分割して入力する 確率的勾配降下法 が一般的です。<br>\n",
    "分割した際のひとかたまりを ミニバッチ 、そのサンプル数を バッチサイズ と呼びます。\n",
    "\n",
    "\n",
    "今回はバッチサイズを20とします。今回使う訓練データは48000枚ですから、48000÷20で2400回の更新を繰り返すことになります。<br>\n",
    "ニューラルネットワークではこれを2400回 イテレーション（iteration） すると呼びます。<br>\n",
    "訓練データを一度全て見ると1回の エポック（epoch） が終わったことになります。このエポックを複数回繰り返し、学習が完了します。\n",
    "\n",
    "\n",
    "これを実現するための簡素なイテレータを用意しました。for文で呼び出すと、ミニバッチを取得できます。"
   ]
  },
  {
   "cell_type": "code",
   "execution_count": 11,
   "metadata": {},
   "outputs": [],
   "source": [
    "class GetMiniBatch:\n",
    "    \"\"\"\n",
    "    ミニバッチを取得するイテレータ\n",
    "\n",
    "    Parameters\n",
    "    ----------\n",
    "    X : 次の形のndarray, shape (n_samples, n_features)\n",
    "      訓練データ\n",
    "    y : 次の形のndarray, shape (n_samples, 1)\n",
    "      正解値\n",
    "    batch_size : int\n",
    "      バッチサイズ\n",
    "    seed : int\n",
    "      NumPyの乱数のシード\n",
    "    \"\"\"\n",
    "    def __init__(self, X, y, batch_size = 20, seed=0):\n",
    "        self.batch_size = batch_size\n",
    "        np.random.seed(seed)\n",
    "        shuffle_index = np.random.permutation(np.arange(X.shape[0]))\n",
    "        self._X = X[shuffle_index]\n",
    "        self._y = y[shuffle_index]\n",
    "        self._stop = np.ceil(X.shape[0]/self.batch_size).astype(np.int)\n",
    "    def __len__(self):\n",
    "        return self._stop\n",
    "    def __getitem__(self,item):\n",
    "        p0 = item*self.batch_size\n",
    "        p1 = item*self.batch_size + self.batch_size\n",
    "        return self._X[p0:p1], self._y[p0:p1]        \n",
    "    def __iter__(self):\n",
    "        self._counter = 0\n",
    "        return self\n",
    "    def __next__(self):\n",
    "        if self._counter >= self._stop:\n",
    "            raise StopIteration()\n",
    "        p0 = self._counter*self.batch_size\n",
    "        p1 = self._counter*self.batch_size + self.batch_size\n",
    "        self._counter += 1\n",
    "        return self._X[p0:p1], self._y[p0:p1]"
   ]
  },
  {
   "cell_type": "markdown",
   "metadata": {},
   "source": [
    "このクラスをインスタンス化し、for文を使うことでミニバッチが取り出せます。"
   ]
  },
  {
   "cell_type": "code",
   "execution_count": 12,
   "metadata": {},
   "outputs": [
    {
     "name": "stdout",
     "output_type": "stream",
     "text": [
      "2400\n",
      "(array([[0., 0., 0., ..., 0., 0., 0.],\n",
      "       [0., 0., 0., ..., 0., 0., 0.],\n",
      "       [0., 0., 0., ..., 0., 0., 0.],\n",
      "       ...,\n",
      "       [0., 0., 0., ..., 0., 0., 0.],\n",
      "       [0., 0., 0., ..., 0., 0., 0.],\n",
      "       [0., 0., 0., ..., 0., 0., 0.]]), array([9, 2, 7, 3, 3, 4, 2, 3, 7, 4, 7, 0, 0, 4, 5, 1, 3, 5, 6, 5],\n",
      "      dtype=uint8))\n",
      "mini_X_train (20, 784)\n",
      "mini_X_train [[0. 0. 0. ... 0. 0. 0.]\n",
      " [0. 0. 0. ... 0. 0. 0.]\n",
      " [0. 0. 0. ... 0. 0. 0.]\n",
      " ...\n",
      " [0. 0. 0. ... 0. 0. 0.]\n",
      " [0. 0. 0. ... 0. 0. 0.]\n",
      " [0. 0. 0. ... 0. 0. 0.]]\n",
      "mini_y_train [6 1 4 3 4 4 8 2 2 2 2 9 3 9 7 4 6 1 6 9]\n"
     ]
    }
   ],
   "source": [
    "get_mini_batch = GetMiniBatch(X_train, y_train, batch_size=20)\n",
    "print(len(get_mini_batch)) # 2400\n",
    "print(get_mini_batch[5]) # 5番目のミニバッチが取得できる\n",
    "for mini_X_train, mini_y_train in get_mini_batch:\n",
    "    # このfor文内でミニバッチが使える\n",
    "    print(\"mini_X_train\", mini_X_train.shape)\n",
    "    print(\"mini_X_train\", mini_X_train)\n",
    "    print(\"mini_y_train\", mini_y_train)\n",
    "    break"
   ]
  },
  {
   "cell_type": "markdown",
   "metadata": {},
   "source": [
    "### 学習\n",
    "ニューラルネットワークの学習はフォワードプロパゲーションとバックプロパゲションの繰り返しになります。"
   ]
  },
  {
   "cell_type": "markdown",
   "metadata": {},
   "source": [
    "## 【問題1】重みの初期値を決めるコードの作成\n",
    "ニューラルネットワークの各層の重みの初期値を決めるコードを作成してください。\n",
    "\n",
    "\n",
    "重みの初期値は様々な方法が提案されていますが、今回はガウス分布（正規分布）による単純な初期化を行います。バイアスに関しても同様です。\n",
    "\n",
    "\n",
    "以下のコードを参考にしてください。標準偏差の値sigmaはハイパーパラメータです。発展的な重みの初期化方法については次のSprintで扱います。"
   ]
  },
  {
   "cell_type": "code",
   "execution_count": 13,
   "metadata": {},
   "outputs": [
    {
     "name": "stdout",
     "output_type": "stream",
     "text": [
      "(784, 400)\n",
      "(400, 200)\n",
      "(200, 10)\n"
     ]
    }
   ],
   "source": [
    "n_features = 784\n",
    "n_nodes1 = 400\n",
    "n_nodes2 = 200\n",
    "n_nodes3 = 10\n",
    "sigma = 0.01 # ガウス分布の標準偏差\n",
    "W1 = sigma * np.random.randn(n_features, n_nodes1)\n",
    "W2 = sigma * np.random.randn(n_nodes1, n_nodes2)\n",
    "W3 = sigma * np.random.randn(n_nodes2, n_nodes3)\n",
    "print(W1.shape)\n",
    "print(W2.shape)\n",
    "print(W3.shape)\n",
    "# W1: (784, 400)"
   ]
  },
  {
   "cell_type": "markdown",
   "metadata": {},
   "source": [
    "numpy.random.randn — NumPy v1.15 Manual\n",
    "## 【問題2】フォワードプロパゲーションの実装\n",
    "三層のニューラルネットワークの フォワードプロパゲーション を作成してください。<br>\n",
    "以下の説明ではノード数は1層目は400、2層目は200としますが、変更しても構いません。\n",
    "\n",
    "\n",
    "各層の数式を以下に示します。今回はそれぞれの記号が表す配列が、実装上どのようなndarrayのshapeになるかを併記してあります。\n",
    "\n",
    "batch_size = 20 # バッチサイズ<br>\n",
    "n_features = 784 # 特徴量の数<br>\n",
    "n_nodes1 = 400 # 1層目のノード数<br>\n",
    "n_nodes2 = 200 # 2層目のノード数<br>\n",
    "n_output = 10 # 出力のクラス数（3層目のノード数）<br>\n",
    "\n",
    "「1層目」\n",
    "$$\n",
    "A_1 = X \\cdot W_1 + B_1\n",
    "$$\n",
    "$X$ : 特徴量ベクトル (batch_size, n_features)\n",
    "\n",
    "\n",
    "$W_1$ : 1層目の重み (n_features, n_nodes1)\n",
    "\n",
    "\n",
    "$B_1$ : 1層目のバイアス (n_nodes1,)\n",
    "\n",
    "\n",
    "$A_1$ : 出力 (batch_size, n_nodes1)\n",
    "「1層目の活性化関数」\n",
    "$$\n",
    "Z_1 = f(A_1)\n",
    "$$\n",
    "$f()$ : 活性化関数\n",
    "\n",
    "\n",
    "$Z_1$ 出力 (batch_size, n_nodes1)\n",
    "\n",
    "\n",
    "「2層目」\n",
    "$$\n",
    "A_2 = Z_1 \\cdot W_2 + B_2\n",
    "$$\n",
    "$W_2$ : 2層目の重み (n_nodes1, n_nodes2)\n",
    "\n",
    "\n",
    "$B_2$ : 2層目のバイアス (n_nodes2,)\n",
    "\n",
    "\n",
    "$A_2$ : 出力 (batch_size, n_nodes2)\n",
    "\n",
    "\n",
    "「2層目の活性化関数」\n",
    "$$\n",
    "Z_2 = f(A_2)\n",
    "$$\n",
    "$f()$ : 活性化関数\n",
    "\n",
    "\n",
    "$Z_2$ 出力 (batch_size, n_nodes2)\n",
    "\n",
    "\n",
    "「3層目（出力層）」\n",
    "$$\n",
    "A_3 = Z_2 \\cdot W_3 + B_3\n",
    "$$\n",
    "\n",
    "$W_3$ : 3層目の重み (n_nodes2, n_output)\n",
    "\n",
    "\n",
    "$B_3$ : 3層目のバイアス (n_output,)\n",
    "\n",
    "\n",
    "$A_3$ : 出力 (batch_size, n_output)\n",
    "\n",
    "\n",
    "「3層目の活性化関数」\n",
    "\n",
    "$$\n",
    "Z_3 = softmax(A_3)\n",
    "$$\n",
    "$softmax()$ : ソフトマックス関数\n",
    "\n",
    "\n",
    "$Z_3$ 出力 (batch_size, n_output)\n",
    "\n",
    "\n",
    "$Z_3$ は各ラベル（0〜9）に対する確率の配列である。"
   ]
  },
  {
   "cell_type": "markdown",
   "metadata": {},
   "source": [
    "### 活性化関数（フォワードプロバゲーション）\n",
    "活性化関数を作成し、フォワードプロパゲーションの中で使用します。切り替えられるように実装することを推奨しますが、片方でも構いません。\n",
    "\n",
    "\n",
    "「シグモイド関数」\n",
    "$$\n",
    "f(Z) = sigmoid(A) = \\frac{1}{1+exp(-A)}\n",
    "$$\n",
    "指数関数 $exp(-A)$ の計算はnp.expを使用してください。\n",
    "\n",
    "\n",
    "numpy.exp — NumPy v1.15 Manual\n",
    "\n",
    "\n",
    "「ハイパボリックタンジェント関数」\n",
    "\n",
    "\n",
    "次の数式で表されますが、np.tanhひとつで実現できます。\n",
    "$$\n",
    "f(Z) = tanh(A) = \\frac{exp(A) - exp(-A)}{exp(A) + exp(-A)}\n",
    "$$\n",
    "numpy.tanh — NumPy v1.15 Manual\n",
    "\n",
    "\n",
    "＊現在ではこれらの代わりにReLUと呼ばれる活性化関数が一般的です。次のSprintで扱います。\n",
    "\n",
    "### ソフトマックス関数\n",
    "ソフトマックス関数を作成し、フォワードプロパゲーションの中で使用します。これも活性化関数の一種ですが、多クラス分類の出力層で使われる特性上、区別して扱われることが多いです。\n",
    "\n",
    "\n",
    "次の数式です。\n",
    "$$\n",
    "Z_{3\\_k} = \\frac{exp(A_{3\\_k})}{\\sum_{i=1}^{n_c}exp(A_{3\\_i})}\n",
    "$$\n",
    "\n",
    "$Z_{3_k}$ : $k$ 番目のクラスの確率ベクトル (batch_size,)\n",
    "\n",
    "\n",
    "$A_{3_k}$ : $k$ 番目のクラスにあたる前の層からのベクトル (batch_size,)\n",
    "\n",
    "\n",
    "$n_c$ : クラスの数、n_output。今回のMNISTでは10。\n",
    "\n",
    "\n",
    "分母は全てのクラスに相当する値を指数関数に通した上で足し合わせたものです。その中で、分子に $k$ 番目のクラスを持ってくることで、 $k$ 番目のクラスである確率が求まります。\n",
    "\n",
    "\n",
    "これを10クラス分計算し、合わせたものが $Z_3$ です。"
   ]
  },
  {
   "cell_type": "markdown",
   "metadata": {},
   "source": [
    "## 【問題3】交差エントロピー誤差の実装\n",
    "目的関数（損失関数）を作成します。\n",
    "\n",
    "\n",
    "多クラス分類の目的関数である交差エントロピー誤差 $L$ は次の数式です。\n",
    "$$\n",
    "L = - \\frac{1}{n_b}\\sum_{j}^{n_b}\\sum_{k}^{n_c}y_{jk} log(z_{3\\_jk})\n",
    "$$\n",
    "$y_{ij}$ : $j$ 番目のサンプルの $k$ 番目のクラスの正解ラベル（one-hot表現で0か1のスカラー）\n",
    "\n",
    "\n",
    "$z_{3_ij}$ : $j$ 番目のサンプルの $k$ 番目のクラスの確率（スカラー）\n",
    "\n",
    "\n",
    "$n_{b}$ : バッチサイズ、batch_size\n",
    "\n",
    "\n",
    "$n_{c}$ : クラスの数、n_output（今回のMNISTでは10）\n",
    "\n",
    "\n",
    "サンプル1つあたりの誤差が求まります。\n",
    "\n"
   ]
  },
  {
   "cell_type": "markdown",
   "metadata": {},
   "source": [
    "## 【問題4】バックプロパゲーションの実装\n",
    "三層のニューラルネットワークのバックプロパゲーションを作成してください。確率的勾配降下法を行う部分です。\n",
    "\n",
    "\n",
    "数式を以下に示します。\n",
    "\n",
    "\n",
    "まず、i層目の重みとバイアスの更新式です。 $W_i$ と $B_i$ に対し、更新後の $W_i^{\\prime}$ と $B_i^{\\prime}$ は次の数式で求められます。\n",
    "\n",
    "$$\n",
    "W_i^{\\prime} = W_i - \\alpha \\frac{\\partial L}{\\partial W_i} \\\\\n",
    "B_i^{\\prime} = B_i - \\alpha \\frac{\\partial L}{\\partial B_i}\n",
    "$$\n",
    "$\\alpha$ : 学習率（層ごとに変えることも可能だが、基本的には全て同じとする）\n",
    "\n",
    "\n",
    "$\\frac{\\partial L}{\\partial W_i}$ : $W_i$ に関する損失 $L$ の勾配\n",
    "\n",
    "\n",
    "$\\frac{\\partial L}{\\partial B_i}$ : $B_i$ に関する損失 $L$ の勾配\n",
    "\n",
    "\n",
    "＊この勾配はミニバッチのサンプル数分の合計または平均を考えます。ここでは合計を計算します。\n",
    "\n",
    "\n",
    "この更新方法はSprint3線形回帰やsprint4ロジスティック回帰における最急降下法と同様です。より効果的な更新方法が知られており、それは次のSprintで扱います。\n",
    "\n",
    "\n",
    "勾配 $\\frac{\\partial L}{\\partial W_i}$ や $\\frac{\\partial L}{\\partial B_i}$ を求めるために、バックプロパゲーションを行います。以下の数式です。ハイパボリックタンジェント関数を使用した例を載せました。シグモイド関数の場合の数式はその後ろにあります。\n",
    "\n",
    "「3層目」\n",
    "$$\n",
    "\\frac{\\partial L}{\\partial A_3} = Z_{3} - Y\\\\\n",
    "\\frac{\\partial L}{\\partial B_3} = \\sum_{j}^{n_b}\\frac{\\partial L}{\\partial A_{3\\_j}}\\\\\n",
    "\\frac{\\partial L}{\\partial W_3} = Z_{2}^{T}\\cdot \\frac{\\partial L}{\\partial A_3}\\\\\n",
    "\\frac{\\partial L}{\\partial Z_2} = \\frac{\\partial L}{\\partial A_3} \\cdot W_3^T\n",
    "$$\n",
    "$\\frac{\\partial L}{\\partial A_3}$ : $A_3$ に関する損失 $L$ の勾配 (batch_size, n_output)\n",
    "\n",
    "\n",
    "$\\frac{\\partial L}{\\partial A_{3_j}}$ : j番目のサンプルの$A_3$ に関する損失 $L$ の勾配 (n_nodes2,)\n",
    "\n",
    "\n",
    "$\\frac{\\partial L}{\\partial B_3}$ : $B_3$ に関する損失 $L$ の勾配 (n_output,)\n",
    "\n",
    "\n",
    "$\\frac{\\partial L}{\\partial W_3}$ : $W_3$ に関する損失 $L$ の勾配 (n_nodes2, n_output)\n",
    "\n",
    "\n",
    "$\\frac{\\partial L}{\\partial Z_2}$ : $Z_2$ に関する損失 $L$ の勾配 (batch_size, n_nodes2)\n",
    "\n",
    "\n",
    "$Z_{3}$ : ソフトマックス関数の出力 (batch_size, n_output)\n",
    "\n",
    "\n",
    "$Y$ : 正解ラベル (batch_size, n_output)\n",
    "\n",
    "\n",
    "$Z_{2}$ : 2層目の活性化関数の出力 (batch_size, n_nodes2)\n",
    "\n",
    "\n",
    "$W_3$ : 3層目の重み (n_nodes2, n_output)\n",
    "\n",
    "\n",
    "「2層目」\n",
    "$$\n",
    "\\frac{\\partial L}{\\partial A_2} = \\frac{\\partial L}{\\partial Z_2} \\odot \\{1-tanh^2(A_{2})\\}\\\\\n",
    "\\frac{\\partial L}{\\partial B_2} = \\sum_{j}^{n_b}\\frac{\\partial L}{\\partial A_{2\\_j}}\\\\\n",
    "\\frac{\\partial L}{\\partial W_2} = Z_{1}^T \\cdot \\frac{\\partial L}{\\partial A_2}\\\\\n",
    "\\frac{\\partial L}{\\partial Z_1} = \\frac{\\partial L}{\\partial A_2} \\cdot W_2^T\n",
    "$$\n",
    "$\\frac{\\partial L}{\\partial A_2}$ : $A_2$ に関する損失 $L$ の勾配 (batch_size, n_nodes2)\n",
    "\n",
    "\n",
    "$\\frac{\\partial L}{\\partial A_{2_j}}$ : j番目のサンプルの$A_2$ に関する損失 $L$ の勾配 (n_nodes2,)\n",
    "\n",
    "\n",
    "$\\frac{\\partial L}{\\partial B_2}$ : $B_2$ に関する損失 $L$ の勾配 (n_output,)\n",
    "\n",
    "\n",
    "$\\frac{\\partial L}{\\partial W_2}$ : $W_2$ に関する損失 $L$ の勾配 (n_nodes1, n_nodes2)\n",
    "\n",
    "\n",
    "$\\frac{\\partial L}{\\partial Z_2}$ : $Z_2$ に関する損失 $L$ の勾配 (batch_size, n_nodes2)\n",
    "\n",
    "\n",
    "$A_2$ : 2層目の出力 (batch_size, n_nodes2)\n",
    "\n",
    "\n",
    "$Z_{1}$ : 1層目の活性化関数の出力 (batch_size, n_nodes1)\n",
    "\n",
    "\n",
    "$W_2$ : 2層目の重み (n_nodes1, n_nodes2)\n",
    "\n",
    "\n",
    "「1層目」\n",
    "$$\n",
    "\\frac{\\partial L}{\\partial A_1} = \\frac{\\partial L}{\\partial Z_1} \\odot \\{1-tanh^2(A_{1})\\}\\\\\n",
    "\\frac{\\partial L}{\\partial B_1} = \\sum_{j}^{n_b}\\frac{\\partial L}{\\partial A_{1\\_j}}\\\\\n",
    "\\frac{\\partial L}{\\partial W_1} = X^T \\cdot \\frac{\\partial L}{\\partial A_1}\\\\\n",
    "$$\n",
    "$\\frac{\\partial L}{\\partial A_1}$ : $A_1$ に関する損失 $L$ の勾配 (batch_size, n_nodes1)\n",
    "\n",
    "\n",
    "$\\frac{\\partial L}{\\partial A_{1_j}}$ : j番目のサンプルの$A_1$ に関する損失 $L$ の勾配 (n_nodes1,)\n",
    "\n",
    "\n",
    "$\\frac{\\partial L}{\\partial B_1}$ : $B_1$ に関する損失 $L$ の勾配 (n_output,)\n",
    "\n",
    "\n",
    "$\\frac{\\partial L}{\\partial W_1}$ : $W_1$ に関する損失 $L$ の勾配 (n_features, n_nodes1)\n",
    "\n",
    "\n",
    "$\\frac{\\partial L}{\\partial Z_1}$ : $Z_1$ に関する損失 $L$ の勾配 (batch_size, n_nodes1)\n",
    "\n",
    "\n",
    "$A_1$ : 1層目の出力 (batch_size, n_nodes1)\n",
    "\n",
    "\n",
    "$X$ : 特徴量ベクトル (batch_size, n_features)\n",
    "\n",
    "\n",
    "$W_1$ : 1層目の重み (n_features, n_nodes1)\n",
    "\n",
    "\n",
    "《補足》\n",
    "\n",
    "\n",
    "活性化関数にシグモイド関数を使用した場合は、次のようになります。\n",
    "$$\n",
    "\\frac{\\partial L}{\\partial A_2} = \\frac{\\partial L}{\\partial Z_2} \\odot  \\{1-sigmoid(A_{2})\\}sigmoid(A_{2})\n",
    "\\\\\n",
    "\\frac{\\partial L}{\\partial A_1} = \\frac{\\partial L}{\\partial Z_1} \\odot  \\{1-sigmoid(A_{1})\\}sigmoid(A_{1})\n",
    "$$"
   ]
  },
  {
   "cell_type": "markdown",
   "metadata": {},
   "source": [
    "### 【問題5】推定\n",
    "推定を行うメソッドを作成してください。\n",
    "\n",
    "\n",
    "フォワードプロパゲーションによって出力された10個の確率の中で、最も高いものはどれかを判定します。\n",
    "\n",
    "\n",
    "numpy.argmax — NumPy v1.17 Manual"
   ]
  },
  {
   "cell_type": "code",
   "execution_count": 48,
   "metadata": {},
   "outputs": [],
   "source": [
    "class MiddleLayer():\n",
    "    \"\"\"\n",
    "    中間層(1,2層)\n",
    "    \"\"\"\n",
    "    def __init__(self, n_upper, n, sigma):\n",
    "        self.w = sigma * np.random.randn(n_upper, n)\n",
    "        self.b = sigma * np.random.randn(n)\n",
    "    \n",
    "    def forward_sigmoid(self, X):    # 順伝播(シグモイド関数)\n",
    "        self.X = X\n",
    "        u = np.dot(X, self.w) + self.b\n",
    "        self.y = 1/(1+np.exp(-u))    # シグモイド関数\n",
    "    \n",
    "    def forward_tanh(self, X):    # 順伝播(tanh)\n",
    "        self.X = X\n",
    "        u = np.dot(X, self.w) + self.b\n",
    "        self.y = np.tanh(u)    # ハイパボリックタンジェント関数\n",
    "        \n",
    "    def backward_sigmoid(self, grad_y):    # 逆伝播(シグモイド関数)\n",
    "        delta = grad_y * (1 - self.y) * self.y    # シグモイド関数の微分\n",
    "        \n",
    "        self.grad_w = np.dot(self.X.T, delta)\n",
    "        self.grad_b = np.sum(delta, axis=0)\n",
    "        \n",
    "        self.grad_x = np.dot(delta, self.w.T)\n",
    "        \n",
    "    def backward_tanh(self, grad_y):    # 逆伝播(tanh)\n",
    "        delta = grad_y * (1 - self.y**2)    #tanh関数の微分\n",
    "        \n",
    "        self.grad_w = np.dot(self.X.T, delta)\n",
    "        self.grad_b = np.sum(delta, axis=0)\n",
    "        \n",
    "        self.grad_x = np.dot(delta, self.w.T)\n",
    "        \n",
    "    def update(self, eta):    # 重みとバイアスの更新\n",
    "        self.w -= eta * self.grad_w\n",
    "        self.b -= eta * self.grad_b"
   ]
  },
  {
   "cell_type": "code",
   "execution_count": 15,
   "metadata": {},
   "outputs": [],
   "source": [
    "class OutputLayer():\n",
    "    \"\"\"\n",
    "    出力層\n",
    "    \"\"\"\n",
    "    def __init__(self, n_upper, n, sigma):\n",
    "        self.w = sigma * np.random.randn(n_upper, n)\n",
    "        self.b = sigma * np.random.randn(n)\n",
    "        \n",
    "    def forward(self, X):    # 順伝播\n",
    "        self.X = X\n",
    "        u = np.dot(X, self.w) + self.b\n",
    "        self.y = np.exp(u)/np.sum(np.exp(u), axis=1, keepdims=True)    #softmax関数\n",
    "        \n",
    "    def backward(self, ty):    # 逆伝播\n",
    "        delta = self.y - ty\n",
    "        \n",
    "        self.grad_w = np.dot(self.X.T, delta)\n",
    "        self.grad_b = np.sum(delta, axis=0)\n",
    "        \n",
    "        self.grad_x = np.dot(delta, self.w.T)\n",
    "        \n",
    "    def update(self, eta):    # 重みとバイアスの更新\n",
    "        self.w -= eta*self.grad_w\n",
    "        self.b -= eta*self.grad_b\n",
    "        "
   ]
  },
  {
   "cell_type": "code",
   "execution_count": 16,
   "metadata": {},
   "outputs": [],
   "source": [
    "ml_1 = MiddleLayer(n_features, n_nodes1, sigma)\n",
    "ml_2 = MiddleLayer(n_nodes1, n_nodes2, sigma)\n",
    "ol_3 = OutputLayer(n_nodes2, n_nodes3, sigma)"
   ]
  },
  {
   "cell_type": "code",
   "execution_count": 17,
   "metadata": {},
   "outputs": [],
   "source": [
    "ml_1.forward_sigmoid(X_train)\n",
    "ml_2.forward_sigmoid(ml_1.y)\n",
    "ol_3.forward(ml_2.y)"
   ]
  },
  {
   "cell_type": "code",
   "execution_count": 18,
   "metadata": {},
   "outputs": [
    {
     "data": {
      "text/plain": [
       "array([0.10675641, 0.1045381 , 0.09597191, 0.09342154, 0.10553048,\n",
       "       0.11183162, 0.08460612, 0.1006554 , 0.1000084 , 0.09668003])"
      ]
     },
     "execution_count": 18,
     "metadata": {},
     "output_type": "execute_result"
    }
   ],
   "source": [
    "ol_3.y[0]"
   ]
  },
  {
   "cell_type": "code",
   "execution_count": 19,
   "metadata": {},
   "outputs": [],
   "source": [
    "ml_1_t = MiddleLayer(n_features, n_nodes1, sigma)\n",
    "ml_2_t = MiddleLayer(n_nodes1, n_nodes2, sigma)\n",
    "ol_3_t = OutputLayer(n_nodes2, n_nodes3, sigma)\n",
    "ml_1_t.forward_tanh(X_train)\n",
    "ml_2_t.forward_tanh(ml_1_t.y)\n",
    "ol_3_t.forward(ml_2_t.y)"
   ]
  },
  {
   "cell_type": "code",
   "execution_count": 20,
   "metadata": {},
   "outputs": [
    {
     "data": {
      "text/plain": [
       "array([0.09806705, 0.09965626, 0.10043702, 0.10185929, 0.09819735,\n",
       "       0.09973124, 0.10117845, 0.09985002, 0.10130963, 0.09971369])"
      ]
     },
     "execution_count": 20,
     "metadata": {},
     "output_type": "execute_result"
    }
   ],
   "source": [
    "ol_3_t.y[0]"
   ]
  },
  {
   "cell_type": "code",
   "execution_count": 51,
   "metadata": {},
   "outputs": [],
   "source": [
    "class ScratchSimpleNeuralNetrowkClassifier():\n",
    "    \"\"\"\n",
    "    シンプルな三層ニューラルネットワーク分類器\n",
    "\n",
    "    Parameters\n",
    "    ----------\n",
    "\n",
    "    Attributes\n",
    "    ----------\n",
    "    \"\"\"\n",
    "    def __init__(self, verbose=True, n_features=784, n_nodes1=400, n_nodes2=200, n_nodes3=10, epoch=1, eta=0.01, sigma=0.01):\n",
    "        self.verbose = verbose\n",
    "        self.n_features = n_features\n",
    "        self.n_nodes1 = n_nodes1    # 1層目のノード数\n",
    "        self.n_nodes2 = n_nodes2\n",
    "        self.n_nodes3 = n_nodes3\n",
    "        self.epoch = epoch\n",
    "        self.eta = eta    # 学習係数\n",
    "        self.sigma = sigma    # 重みとバイアスの広がり具合\n",
    "        \n",
    "    def fit(self, X, y, X_val=None, y_val=None, batch_size=20, layer1_fc=\"sigmoid\",  layer2_fc=\"sigmoid\"):\n",
    "        \"\"\"\n",
    "        ニューラルネットワーク分類器を学習する。\n",
    "\n",
    "        Parameters\n",
    "        ----------\n",
    "        X : 次の形のndarray, shape (n_samples, n_features)\n",
    "            訓練データの特徴量\n",
    "        y : 次の形のndarray, shape (n_samples, )\n",
    "            訓練データの正解値\n",
    "        X_val : 次の形のndarray, shape (n_samples, n_features)\n",
    "            検証データの特徴量\n",
    "        y_val : 次の形のndarray, shape (n_samples, )\n",
    "            検証データの正解値\n",
    "        \"\"\"\n",
    "        self.layer1_fc = layer1_fc\n",
    "        self.layer2_fc = layer2_fc\n",
    "        self.loss = np.zeros(self.epoch)\n",
    "        \n",
    "        # インスタンス生成\n",
    "        self.layer_1 = MiddleLayer(self.n_features, self.n_nodes1, self.sigma)\n",
    "        self.layer_2 = MiddleLayer(self.n_nodes1, self.n_nodes2, self.sigma)\n",
    "        self.layer_3 = OutputLayer(self.n_nodes2, self.n_nodes3, self.sigma)\n",
    "        \n",
    "        # one-hotエンコーディング\n",
    "        enc = OneHotEncoder(handle_unknown=\"ignore\", sparse=False)\n",
    "        y_onehot = enc.fit_transform(y[:, np.newaxis])\n",
    "        \n",
    "        for i in range(self.epoch):    # エポック数回す\n",
    "            get_mini_batch = GetMiniBatch(X, y_onehot, batch_size)    # ミニバッチ生成\n",
    "            count = 0\n",
    "            for mini_X_train, mini_y_train in get_mini_batch:    # ミニバッチ学習則\n",
    "                \n",
    "                # 順伝播--------------------------------------------\n",
    "                if self.layer1_fc == \"sigmoid\":     # 1層目\n",
    "                    self.layer_1.forward_sigmoid(mini_X_train)    \n",
    "                else:\n",
    "                    self.layer_1.forward_tanh(mini_X_train)\n",
    "                    \n",
    "                if self.layer2_fc == \"sigmoid\":    # 2層目\n",
    "                    self.layer_2.forward_sigmoid(self.layer_1.y)\n",
    "                else:\n",
    "                    self.layer_2.forward_tanh(self.layer_1.y)\n",
    "                    \n",
    "                self.layer_3.forward(self.layer_2.y)    # 出力層\n",
    "                #-----------------------------------------------------\n",
    "                    \n",
    "                # 逆伝播--------------------------------------------\n",
    "                self.layer_3.backward(mini_y_train)    # 出力層\n",
    "                \n",
    "                if self.layer2_fc == \"sigmoid\":    # 2層目\n",
    "                    self.layer_2.backward_sigmoid(self.layer_3.grad_x)\n",
    "                else:\n",
    "                    self.layer_2.backward_tanh(self.layer_3.grad_x)\n",
    "                    \n",
    "                if self.layer1_fc == \"sigmoid\":    # 1層目\n",
    "                    self.layer_1.backward_sigmoid(self.layer_2.grad_x)\n",
    "                else:\n",
    "                    self.layer_1.backward_tanh(self.layer_2.grad_x)\n",
    "                #-----------------------------------------------------\n",
    "                \n",
    "                # 重みとバイアスの更新----------------------------\n",
    "                self.layer_1.update(self.eta)\n",
    "                self.layer_2.update(self.eta)\n",
    "                self.layer_3.update(self.eta)\n",
    "                #-----------------------------------------------------\n",
    "                \n",
    "                \n",
    "                if self.verbose:\n",
    "                    #verboseをTrueにした際は学習過程などを出力する\n",
    "                    if count%100==0:\n",
    "                        print(\"ytrue : \", np.argsort(mini_y_train)[:,-1])\n",
    "                        print(\"ypred : \", np.argsort(self.layer_3.y)[:,-1])\n",
    "                        print(\"loss\", -np.sum(mini_y_train * np.log(self.layer_3.y))/ self.layer_3.y.shape[1])\n",
    "                \n",
    "                count += 1\n",
    "            yp = self.predict(X)\n",
    "            # 損失関数\n",
    "            self.loss[i] = -np.sum(y_onehot * np.log(self.layer_3.y))/ self.layer_3.y.shape[1]\n",
    "            if self.verbose:\n",
    "                print(\"self.loss[i]\", self.loss[i])\n",
    "                \n",
    "    def predict(self, X):\n",
    "        \"\"\"\n",
    "        ニューラルネットワーク分類器を使い推定する。\n",
    "\n",
    "        Parameters\n",
    "        ----------\n",
    "        X : 次の形のndarray, shape (n_samples, n_features)\n",
    "            サンプル\n",
    "\n",
    "        Returns\n",
    "        -------\n",
    "            次の形のndarray, shape (n_samples, 1)\n",
    "            推定結果\n",
    "        \"\"\"\n",
    "        # 順伝播--------------------------------------------\n",
    "        if self.layer1_fc == \"sigmoid\":     # 1層目\n",
    "            self.layer_1.forward_sigmoid(X)    \n",
    "        else:\n",
    "            self.layer_1.forward_tanh(X)\n",
    "\n",
    "        if self.layer2_fc == \"sigmoid\":    # 2層目\n",
    "            self.layer_2.forward_sigmoid(self.layer_1.y)\n",
    "        else:\n",
    "            self.layer_2.forward_tanh(self.layer_1.y)\n",
    "\n",
    "        self.layer_3.forward(self.layer_2.y)    # 出力層\n",
    "        #-----------------------------------------------------\n",
    "        \n",
    "        return np.argsort(self.layer_3.y)[:,-1]"
   ]
  },
  {
   "cell_type": "markdown",
   "metadata": {},
   "source": [
    "## 4.検証\n",
    "### 【問題6】学習と推定\n",
    "MNISTのデータを学習・推定し、Accuracyを計算してください。"
   ]
  },
  {
   "cell_type": "code",
   "execution_count": 27,
   "metadata": {
    "scrolled": false
   },
   "outputs": [
    {
     "name": "stdout",
     "output_type": "stream",
     "text": [
      "ytrue :  [6 1 4 3 4 4 8 2 2 2 2 9 3 9 7 4 6 1 6 9]\n",
      "ypred :  [5 5 5 5 5 5 5 5 5 5 5 5 5 5 5 5 5 5 5 5]\n",
      "loss 4.639555506045015\n",
      "ytrue :  [8 5 8 6 1 3 9 1 4 7 8 0 6 0 8 1 0 0 5 8]\n",
      "ypred :  [7 7 7 7 7 7 7 7 7 7 7 7 7 7 7 7 7 7 7 7]\n",
      "loss 4.771847415334909\n",
      "ytrue :  [0 5 3 0 5 4 8 3 2 1 0 3 3 2 5 3 7 3 5 3]\n",
      "ypred :  [6 6 6 6 6 6 6 6 6 6 6 6 6 6 6 6 6 6 6 6]\n",
      "loss 4.7136151596062295\n",
      "ytrue :  [5 1 9 2 4 5 7 1 9 5 4 1 9 9 2 1 2 6 5 9]\n",
      "ypred :  [1 1 1 1 1 1 1 1 1 1 1 1 1 1 1 1 1 1 1 1]\n",
      "loss 4.708073447843065\n",
      "ytrue :  [2 2 1 9 7 9 0 0 1 9 3 3 3 7 7 7 3 9 3 7]\n",
      "ypred :  [1 1 1 1 1 1 1 1 1 1 1 1 1 1 1 1 1 1 1 1]\n",
      "loss 4.5742356074918264\n",
      "ytrue :  [6 3 8 3 0 3 6 4 2 6 1 8 0 2 2 2 4 6 5 3]\n",
      "ypred :  [9 9 9 9 9 9 9 9 9 9 9 9 9 9 9 9 9 9 9 9]\n",
      "loss 4.608548645729514\n",
      "ytrue :  [8 1 8 6 2 0 4 3 2 0 0 0 4 1 4 5 2 5 3 6]\n",
      "ypred :  [1 1 2 2 2 2 1 1 1 2 2 2 2 1 2 2 2 1 1 2]\n",
      "loss 4.604250262923138\n",
      "ytrue :  [0 3 3 8 5 2 5 7 6 9 7 8 3 6 9 3 3 2 1 9]\n",
      "ypred :  [1 2 1 1 1 1 2 1 1 2 1 2 1 2 1 2 1 1 1 1]\n",
      "loss 4.622610734079316\n",
      "ytrue :  [9 9 4 0 9 9 1 3 7 4 5 5 0 8 1 7 7 8 5 1]\n",
      "ypred :  [1 1 2 2 2 2 1 1 1 1 2 1 2 2 1 1 1 1 2 1]\n",
      "loss 4.447807323371864\n",
      "ytrue :  [0 8 2 3 0 5 5 8 7 5 0 9 5 4 9 7 3 8 8 7]\n",
      "ypred :  [0 1 1 8 8 8 8 1 1 8 0 8 1 1 1 1 8 8 8 8]\n",
      "loss 4.5381520098417525\n",
      "ytrue :  [7 2 8 8 4 8 7 6 2 6 7 9 4 2 9 8 5 4 2 5]\n",
      "ypred :  [1 7 0 8 8 8 8 8 8 0 7 7 8 8 7 8 0 8 1 8]\n",
      "loss 4.541549190455527\n",
      "ytrue :  [7 3 1 1 1 6 0 3 4 8 6 8 7 2 1 4 7 2 6 4]\n",
      "ypred :  [3 3 1 1 1 0 0 1 0 3 3 2 1 3 1 3 1 3 3 3]\n",
      "loss 3.746305990379214\n",
      "ytrue :  [6 7 8 7 4 0 9 7 8 0 1 3 7 7 7 8 5 0 7 1]\n",
      "ypred :  [9 1 9 9 0 0 9 0 9 0 1 9 9 1 0 1 9 0 9 1]\n",
      "loss 3.947251625495072\n",
      "ytrue :  [6 7 4 4 0 9 2 8 9 9 5 7 2 9 4 1 2 1 9 6]\n",
      "ypred :  [0 1 8 0 0 8 8 8 8 8 7 8 8 7 8 1 0 1 0 8]\n",
      "loss 4.022647620882665\n",
      "ytrue :  [7 0 9 2 5 3 8 5 6 2 8 1 2 0 1 9 9 4 0 0]\n",
      "ypred :  [2 0 7 2 2 7 1 2 2 2 0 1 0 0 1 2 7 0 0 0]\n",
      "loss 3.832906336003046\n",
      "ytrue :  [8 3 3 7 8 2 5 8 0 6 4 9 2 6 5 9 4 4 1 2]\n",
      "ypred :  [7 0 2 1 7 2 2 9 0 7 7 7 7 7 0 9 0 7 1 7]\n",
      "loss 4.028473830109815\n",
      "ytrue :  [4 1 5 8 1 1 7 1 4 2 1 2 3 2 3 4 4 5 4 9]\n",
      "ypred :  [2 1 0 7 1 1 1 1 2 2 1 6 2 6 2 2 2 6 2 6]\n",
      "loss 3.5024439349649077\n",
      "ytrue :  [0 7 9 3 9 4 2 9 6 0 2 6 9 2 9 3 6 0 0 7]\n",
      "ypred :  [0 2 7 2 7 2 7 6 6 0 2 0 0 2 2 7 7 0 0 2]\n",
      "loss 3.953252052124917\n",
      "ytrue :  [6 3 2 4 3 8 6 8 3 6 0 1 4 4 2 2 2 9 4 7]\n",
      "ypred :  [7 7 7 3 6 3 3 7 3 3 0 1 7 1 3 1 1 0 0 3]\n",
      "loss 4.190291670421767\n",
      "ytrue :  [3 3 3 7 6 4 7 4 9 4 8 5 0 2 8 8 1 1 5 7]\n",
      "ypred :  [0 7 6 1 0 0 7 1 7 7 6 0 0 6 7 6 1 1 0 7]\n",
      "loss 3.874121203300065\n",
      "ytrue :  [5 4 6 4 4 6 6 5 9 1 0 2 7 1 5 6 6 7 8 4]\n",
      "ypred :  [4 4 0 0 4 4 0 4 4 1 0 4 4 8 4 4 4 8 4 8]\n",
      "loss 3.7794662992973445\n",
      "ytrue :  [1 1 3 9 0 3 6 8 3 3 9 2 6 2 7 9 6 2 4 8]\n",
      "ypred :  [1 1 6 4 0 8 0 7 8 4 7 0 6 6 8 8 0 6 4 6]\n",
      "loss 3.711623231837868\n",
      "ytrue :  [5 6 4 3 6 0 5 1 2 6 4 8 0 0 8 1 6 3 4 3]\n",
      "ypred :  [6 0 4 1 0 0 6 1 6 0 9 9 0 0 1 1 0 9 6 9]\n",
      "loss 3.5766733959832755\n",
      "ytrue :  [8 1 8 8 0 0 1 7 8 9 7 8 1 9 6 2 5 8 9 1]\n",
      "ypred :  [7 1 7 7 0 0 1 7 7 7 1 3 1 0 6 7 0 6 7 1]\n",
      "loss 3.2587017675427887\n",
      "self.loss[i] 8390.495610657807\n"
     ]
    }
   ],
   "source": [
    "scNN_ss = ScratchSimpleNeuralNetrowkClassifier()\n",
    "scNN_ss.fit(X_train, y_train)\n",
    "yp_val_ss = scNN_ss.predict(X_val)"
   ]
  },
  {
   "cell_type": "code",
   "execution_count": 29,
   "metadata": {},
   "outputs": [
    {
     "data": {
      "text/plain": [
       "0.33016666666666666"
      ]
     },
     "execution_count": 29,
     "metadata": {},
     "output_type": "execute_result"
    }
   ],
   "source": [
    "# 正解率 sigmid & sigmoid\n",
    "from sklearn.metrics import accuracy_score\n",
    "accuracy_score(y_val, yp_val_ss)"
   ]
  },
  {
   "cell_type": "code",
   "execution_count": 30,
   "metadata": {},
   "outputs": [
    {
     "name": "stdout",
     "output_type": "stream",
     "text": [
      "ytrue :  [6 1 4 3 4 4 8 2 2 2 2 9 3 9 7 4 6 1 6 9]\n",
      "ypred :  [4 4 4 4 4 4 4 4 4 4 4 4 4 4 4 4 4 4 4 4]\n",
      "loss 4.601333240530168\n",
      "ytrue :  [8 5 8 6 1 3 9 1 4 7 8 0 6 0 8 1 0 0 5 8]\n",
      "ypred :  [3 3 8 6 1 7 7 1 6 7 6 0 6 0 7 1 0 0 3 8]\n",
      "loss 2.004935960906303\n",
      "ytrue :  [0 5 3 0 5 4 8 3 2 1 0 3 3 2 5 3 7 3 5 3]\n",
      "ypred :  [0 5 3 0 5 4 5 3 2 1 0 5 3 1 5 5 0 3 5 3]\n",
      "loss 1.919164568873338\n",
      "ytrue :  [5 1 9 2 4 5 7 1 9 5 4 1 9 9 2 1 2 6 5 9]\n",
      "ypred :  [8 1 9 2 4 5 7 1 9 8 4 1 9 9 2 1 2 6 7 9]\n",
      "loss 1.2512201006471473\n",
      "ytrue :  [2 2 1 9 7 9 0 0 1 9 3 3 3 7 7 7 3 9 3 7]\n",
      "ypred :  [2 2 1 9 7 9 0 6 1 4 3 3 3 7 7 7 3 9 3 7]\n",
      "loss 0.9060761427811375\n",
      "ytrue :  [6 3 8 3 0 3 6 4 2 6 1 8 0 2 2 2 4 6 5 3]\n",
      "ypred :  [6 3 8 3 0 3 6 4 9 6 1 9 0 2 2 2 4 6 5 8]\n",
      "loss 0.9685177704639021\n",
      "ytrue :  [8 1 8 6 2 0 4 3 2 0 0 0 4 1 4 5 2 5 3 6]\n",
      "ypred :  [8 1 8 6 2 0 4 9 2 0 0 0 4 1 9 5 2 5 3 5]\n",
      "loss 1.1468546727245648\n",
      "ytrue :  [0 3 3 8 5 2 5 7 6 9 7 8 3 6 9 3 3 2 1 9]\n",
      "ypred :  [5 3 3 8 5 6 5 7 5 9 7 8 5 6 9 3 5 2 1 4]\n",
      "loss 1.5657206500360303\n",
      "ytrue :  [9 9 4 0 9 9 1 3 7 4 5 5 0 8 1 7 7 8 5 1]\n",
      "ypred :  [4 9 4 8 4 9 1 3 7 2 0 5 3 8 1 7 7 8 5 1]\n",
      "loss 2.582599204887381\n",
      "ytrue :  [0 8 2 3 0 5 5 8 7 5 0 9 5 4 9 7 3 8 8 7]\n",
      "ypred :  [0 8 2 3 0 5 5 8 7 3 0 9 5 4 9 7 3 8 8 7]\n",
      "loss 0.33942759889266866\n",
      "ytrue :  [7 2 8 8 4 8 7 6 2 6 7 9 4 2 9 8 5 4 2 5]\n",
      "ypred :  [7 2 8 8 4 8 7 6 2 6 7 9 4 2 9 8 5 4 8 5]\n",
      "loss 0.48405774891142733\n",
      "ytrue :  [7 3 1 1 1 6 0 3 4 8 6 8 7 2 1 4 7 2 6 4]\n",
      "ypred :  [4 3 1 1 1 6 0 3 4 8 6 8 7 2 1 4 7 2 6 4]\n",
      "loss 0.782170299883943\n",
      "ytrue :  [6 7 8 7 4 0 9 7 8 0 1 3 7 7 7 8 5 0 7 1]\n",
      "ypred :  [6 7 8 7 4 0 9 7 5 0 1 3 7 7 7 8 5 0 7 1]\n",
      "loss 0.4135179698443247\n",
      "ytrue :  [6 7 4 4 0 9 2 8 9 9 5 7 2 9 4 1 2 1 9 6]\n",
      "ypred :  [6 7 4 4 0 9 2 8 9 9 5 7 4 9 4 1 2 1 9 6]\n",
      "loss 0.619261058941089\n",
      "ytrue :  [7 0 9 2 5 3 8 5 6 2 8 1 2 0 1 9 9 4 0 0]\n",
      "ypred :  [4 0 9 2 6 3 8 5 6 2 8 1 2 0 1 9 9 4 0 0]\n",
      "loss 0.2204158806017329\n",
      "ytrue :  [8 3 3 7 8 2 5 8 0 6 4 9 2 6 5 9 4 4 1 2]\n",
      "ypred :  [3 3 3 7 8 2 5 8 0 6 4 9 2 6 5 9 4 3 1 2]\n",
      "loss 0.45137012411298805\n",
      "ytrue :  [4 1 5 8 1 1 7 1 4 2 1 2 3 2 3 4 4 5 4 9]\n",
      "ypred :  [6 1 5 8 1 1 7 1 4 2 1 2 3 2 3 4 4 5 4 9]\n",
      "loss 0.4118575305070327\n",
      "ytrue :  [0 7 9 3 9 4 2 9 6 0 2 6 9 2 9 3 6 0 0 7]\n",
      "ypred :  [0 7 4 3 9 4 2 9 6 0 2 6 9 2 9 3 6 0 0 2]\n",
      "loss 0.45232277277675276\n",
      "ytrue :  [6 3 2 4 3 8 6 8 3 6 0 1 4 4 2 2 2 9 4 7]\n",
      "ypred :  [4 3 2 4 5 2 8 8 3 6 0 1 4 4 2 2 2 9 4 7]\n",
      "loss 1.3223884328196474\n",
      "ytrue :  [3 3 3 7 6 4 7 4 9 4 8 5 0 2 8 8 1 1 5 7]\n",
      "ypred :  [3 3 3 7 6 4 7 7 9 4 8 5 0 2 8 8 1 1 5 7]\n",
      "loss 0.49343263854761316\n",
      "ytrue :  [5 4 6 4 4 6 6 5 9 1 0 2 7 1 5 6 6 7 8 4]\n",
      "ypred :  [5 4 6 4 4 6 6 5 9 1 0 2 7 1 5 6 6 7 8 4]\n",
      "loss 0.19782808657224343\n",
      "ytrue :  [1 1 3 9 0 3 6 8 3 3 9 2 6 2 7 9 6 2 4 8]\n",
      "ypred :  [1 1 3 9 0 3 6 2 3 3 9 2 6 2 7 9 6 2 4 8]\n",
      "loss 0.3711177857448706\n",
      "ytrue :  [5 6 4 3 6 0 5 1 2 6 4 8 0 0 8 1 6 3 4 3]\n",
      "ypred :  [5 6 4 3 6 0 5 1 2 6 9 8 0 0 1 1 6 3 4 3]\n",
      "loss 0.3267691688240574\n",
      "ytrue :  [8 1 8 8 0 0 1 7 8 9 7 8 1 9 6 2 5 8 9 1]\n",
      "ypred :  [8 1 8 8 0 0 1 7 8 9 7 8 1 0 6 2 5 8 9 1]\n",
      "loss 0.29575274860941675\n",
      "self.loss[i] 890.2214943548449\n"
     ]
    }
   ],
   "source": [
    "scNN_tt = ScratchSimpleNeuralNetrowkClassifier()\n",
    "scNN_tt.fit(X_train, y_train,layer1_fc=\"tanh\", layer2_fc=\"tanh\")\n",
    "yp_val_tt = scNN_tt.predict(X_val)"
   ]
  },
  {
   "cell_type": "code",
   "execution_count": 31,
   "metadata": {},
   "outputs": [
    {
     "data": {
      "text/plain": [
       "0.93875"
      ]
     },
     "execution_count": 31,
     "metadata": {},
     "output_type": "execute_result"
    }
   ],
   "source": [
    "# 正解率\n",
    "from sklearn.metrics import accuracy_score\n",
    "accuracy_score(y_val, yp_val_tt)"
   ]
  },
  {
   "cell_type": "markdown",
   "metadata": {},
   "source": [
    "### 【問題7】学習曲線のプロット\n",
    "学習曲線をプロットしてください。\n",
    "\n",
    "\n",
    "ニューラルネットワークは過学習が発生しやすいため、学習曲線の確認が重要です。訓練データと検証データに対するエポックごとの損失（交差エントロピー誤差）を記録できるようにする必要があります。"
   ]
  },
  {
   "cell_type": "code",
   "execution_count": 36,
   "metadata": {},
   "outputs": [
    {
     "name": "stdout",
     "output_type": "stream",
     "text": [
      "self.loss[i] 890.2214943548449\n",
      "self.loss[i] 586.8485343576506\n",
      "self.loss[i] 443.67995452491203\n",
      "self.loss[i] 326.49918734056746\n",
      "self.loss[i] 256.1320269608568\n",
      "self.loss[i] 203.04263924887076\n",
      "self.loss[i] 136.98483537766015\n",
      "self.loss[i] 128.9987432199375\n",
      "self.loss[i] 95.0441512222995\n",
      "self.loss[i] 43.205272856621896\n"
     ]
    }
   ],
   "source": [
    "scNN_tt_ep10 = ScratchSimpleNeuralNetrowkClassifier(verbose=False,epoch=10)\n",
    "scNN_tt_ep10.fit(X_train, y_train,layer1_fc=\"tanh\", layer2_fc=\"tanh\")\n",
    "yp_val_tt_ep10 = scNN_tt_ep10.predict(X_val)"
   ]
  },
  {
   "cell_type": "code",
   "execution_count": 37,
   "metadata": {},
   "outputs": [
    {
     "data": {
      "text/plain": [
       "array([890.22149435, 586.84853436, 443.67995452, 326.49918734,\n",
       "       256.13202696, 203.04263925, 136.98483538, 128.99874322,\n",
       "        95.04415122,  43.20527286])"
      ]
     },
     "execution_count": 37,
     "metadata": {},
     "output_type": "execute_result"
    }
   ],
   "source": [
    "scNN_tt_ep10.loss"
   ]
  },
  {
   "cell_type": "code",
   "execution_count": 52,
   "metadata": {},
   "outputs": [
    {
     "data": {
      "image/png": "[encoded data removed]",
      "text/plain": [
       "<Figure size 432x288 with 1 Axes>"
      ]
     },
     "metadata": {
      "needs_background": "light"
     },
     "output_type": "display_data"
    }
   ],
   "source": [
    "# 折れ線グラフを出力\n",
    "trans_x = np.array(range(len(scNN_tt_ep10.loss)))\n",
    "plt.title(\"tanh tanh ep10\")\n",
    "plt.xlabel(\"epoch\")\n",
    "plt.ylabel(\"loss\")\n",
    "plt.plot(trans_x, scNN_tt_ep10.loss)\n",
    "plt.grid(True)\n",
    "plt.show()"
   ]
  },
  {
   "cell_type": "code",
   "execution_count": 44,
   "metadata": {},
   "outputs": [
    {
     "name": "stdout",
     "output_type": "stream",
     "text": [
      "self.loss[i] 890.2214943548449\n",
      "self.loss[i] 586.8485343576506\n",
      "self.loss[i] 443.67995452491203\n",
      "self.loss[i] 326.49918734056746\n",
      "self.loss[i] 256.1320269608568\n",
      "self.loss[i] 203.04263924887076\n",
      "self.loss[i] 136.98483537766015\n",
      "self.loss[i] 128.9987432199375\n",
      "self.loss[i] 95.0441512222995\n",
      "self.loss[i] 43.205272856621896\n",
      "self.loss[i] 31.806913333195133\n",
      "self.loss[i] 21.25728723963012\n",
      "self.loss[i] 16.359441742122957\n",
      "self.loss[i] 13.822571470912383\n",
      "self.loss[i] 4.389035890947314\n",
      "self.loss[i] 3.6166964978265916\n",
      "self.loss[i] 2.9898602902750193\n",
      "self.loss[i] 2.6174637618638377\n",
      "self.loss[i] 2.3376056654230046\n",
      "self.loss[i] 2.1175022511857877\n",
      "self.loss[i] 1.938061685422929\n",
      "self.loss[i] 1.7880542413977092\n",
      "self.loss[i] 1.6603071539815548\n",
      "self.loss[i] 1.5499430389054998\n",
      "self.loss[i] 1.4534862101253552\n",
      "self.loss[i] 1.3683702096118022\n",
      "self.loss[i] 1.2926468876255452\n",
      "self.loss[i] 1.224804427104205\n",
      "self.loss[i] 1.1636481151809401\n",
      "self.loss[i] 1.108219253649289\n"
     ]
    }
   ],
   "source": [
    "scNN_tt_ep30 = ScratchSimpleNeuralNetrowkClassifier(verbose=False,epoch=30)\n",
    "scNN_tt_ep30.fit(X_train, y_train,layer1_fc=\"tanh\", layer2_fc=\"tanh\")\n",
    "yp_val_tt_ep30 = scNN_tt_ep10.predict(X_val)"
   ]
  },
  {
   "cell_type": "code",
   "execution_count": 46,
   "metadata": {},
   "outputs": [
    {
     "data": {
      "text/plain": [
       "0.9766666666666667"
      ]
     },
     "execution_count": 46,
     "metadata": {},
     "output_type": "execute_result"
    }
   ],
   "source": [
    "# 正解率\n",
    "from sklearn.metrics import accuracy_score\n",
    "accuracy_score(y_val, yp_val_tt_ep30)"
   ]
  },
  {
   "cell_type": "code",
   "execution_count": 53,
   "metadata": {},
   "outputs": [
    {
     "data": {
      "image/png": "[encoded data removed]",
      "text/plain": [
       "<Figure size 432x288 with 1 Axes>"
      ]
     },
     "metadata": {
      "needs_background": "light"
     },
     "output_type": "display_data"
    }
   ],
   "source": [
    "# 折れ線グラフを出力\n",
    "trans_x = np.array(range(len(scNN_tt_ep30.loss)))\n",
    "plt.title(\"tanh tanh ep30\")\n",
    "plt.xlabel(\"epoch\")\n",
    "plt.ylabel(\"loss\")\n",
    "plt.plot(trans_x, scNN_tt_ep30.loss)\n",
    "plt.grid(True)\n",
    "plt.show()"
   ]
  },
  {
   "cell_type": "code",
   "execution_count": 54,
   "metadata": {},
   "outputs": [],
   "source": [
    "scNN_ss_ep30 = ScratchSimpleNeuralNetrowkClassifier(verbose=False,epoch=30)\n",
    "scNN_ss_ep30.fit(X_train, y_train,layer1_fc=\"sigmoid\", layer2_fc=\"sigmoid\")\n",
    "yp_val_ss_ep30 = scNN_ss_ep30.predict(X_val)"
   ]
  },
  {
   "cell_type": "code",
   "execution_count": 55,
   "metadata": {},
   "outputs": [
    {
     "data": {
      "text/plain": [
       "0.9764166666666667"
      ]
     },
     "execution_count": 55,
     "metadata": {},
     "output_type": "execute_result"
    }
   ],
   "source": [
    "accuracy_score(y_val, yp_val_ss_ep30)"
   ]
  },
  {
   "cell_type": "code",
   "execution_count": 56,
   "metadata": {},
   "outputs": [
    {
     "data": {
      "image/png": "[encoded data removed]",
      "text/plain": [
       "<Figure size 432x288 with 1 Axes>"
      ]
     },
     "metadata": {
      "needs_background": "light"
     },
     "output_type": "display_data"
    }
   ],
   "source": [
    "# 折れ線グラフを出力\n",
    "trans_x = np.array(range(len(scNN_ss_ep30.loss)))\n",
    "plt.title(\"sigmoid sigmoid ep30\")\n",
    "plt.xlabel(\"epoch\")\n",
    "plt.ylabel(\"loss\")\n",
    "plt.plot(trans_x, scNN_ss_ep30.loss)\n",
    "plt.grid(True)\n",
    "plt.show()"
   ]
  },
  {
   "cell_type": "code",
   "execution_count": 57,
   "metadata": {},
   "outputs": [],
   "source": [
    "scNN_st_ep30 = ScratchSimpleNeuralNetrowkClassifier(verbose=False,epoch=30)\n",
    "scNN_st_ep30.fit(X_train, y_train,layer1_fc=\"sigmoid\", layer2_fc=\"tanh\")\n",
    "yp_val_st_ep30 = scNN_st_ep30.predict(X_val)"
   ]
  },
  {
   "cell_type": "code",
   "execution_count": 58,
   "metadata": {},
   "outputs": [
    {
     "data": {
      "text/plain": [
       "0.9791666666666666"
      ]
     },
     "execution_count": 58,
     "metadata": {},
     "output_type": "execute_result"
    }
   ],
   "source": [
    "accuracy_score(y_val, yp_val_st_ep30)"
   ]
  },
  {
   "cell_type": "code",
   "execution_count": 59,
   "metadata": {},
   "outputs": [
    {
     "data": {
      "image/png": "[encoded data removed]",
      "text/plain": [
       "<Figure size 432x288 with 1 Axes>"
      ]
     },
     "metadata": {
      "needs_background": "light"
     },
     "output_type": "display_data"
    }
   ],
   "source": [
    "# 折れ線グラフを出力\n",
    "trans_x = np.array(range(len(scNN_st_ep30.loss)))\n",
    "plt.title(\"sigmoid tanh ep30\")\n",
    "plt.xlabel(\"epoch\")\n",
    "plt.ylabel(\"loss\")\n",
    "plt.plot(trans_x, scNN_st_ep30.loss)\n",
    "plt.grid(True)\n",
    "plt.show()"
   ]
  },
  {
   "cell_type": "code",
   "execution_count": 60,
   "metadata": {},
   "outputs": [],
   "source": [
    "scNN_ts_ep30 = ScratchSimpleNeuralNetrowkClassifier(verbose=False,epoch=30)\n",
    "scNN_ts_ep30.fit(X_train, y_train,layer1_fc=\"tanh\", layer2_fc=\"sigmoid\")\n",
    "yp_val_ts_ep30 = scNN_ts_ep30.predict(X_val)"
   ]
  },
  {
   "cell_type": "code",
   "execution_count": 62,
   "metadata": {},
   "outputs": [
    {
     "data": {
      "text/plain": [
       "0.9808333333333333"
      ]
     },
     "execution_count": 62,
     "metadata": {},
     "output_type": "execute_result"
    }
   ],
   "source": [
    "accuracy_score(y_val, yp_val_ts_ep30)"
   ]
  },
  {
   "cell_type": "code",
   "execution_count": 61,
   "metadata": {},
   "outputs": [
    {
     "data": {
      "image/png": "[encoded data removed]",
      "text/plain": [
       "<Figure size 432x288 with 1 Axes>"
      ]
     },
     "metadata": {
      "needs_background": "light"
     },
     "output_type": "display_data"
    }
   ],
   "source": [
    "# 折れ線グラフを出力\n",
    "trans_x = np.array(range(len(scNN_ts_ep30.loss)))\n",
    "plt.title(\"tanh sigmoid ep30\")\n",
    "plt.xlabel(\"epoch\")\n",
    "plt.ylabel(\"loss\")\n",
    "plt.plot(trans_x, scNN_ts_ep30.loss)\n",
    "plt.grid(True)\n",
    "plt.show()"
   ]
  },
  {
   "cell_type": "code",
   "execution_count": 76,
   "metadata": {},
   "outputs": [],
   "source": [
    "scNN_ts_ep30_eta001 = ScratchSimpleNeuralNetrowkClassifier(verbose=False,eta=0.001, epoch=30)\n",
    "scNN_ts_ep30_eta001.fit(X_train, y_train,layer1_fc=\"tanh\", layer2_fc=\"sigmoid\")\n",
    "yp_val_ts_ep30_eta001 = scNN_ts_ep30_eta001.predict(X_val)"
   ]
  },
  {
   "cell_type": "code",
   "execution_count": 78,
   "metadata": {},
   "outputs": [
    {
     "data": {
      "image/png": "[encoded data removed]",
      "text/plain": [
       "<Figure size 432x288 with 1 Axes>"
      ]
     },
     "metadata": {
      "needs_background": "light"
     },
     "output_type": "display_data"
    }
   ],
   "source": [
    "# 折れ線グラフを出力\n",
    "trans_x = np.array(range(len(scNN_ts_ep30_eta001.loss)))\n",
    "plt.title(\"tanh sigmoid ep30 eta0.001\")\n",
    "plt.xlabel(\"epoch\")\n",
    "plt.ylabel(\"loss\")\n",
    "plt.plot(trans_x, scNN_ts_ep30_eta001.loss)\n",
    "plt.grid(True)\n",
    "plt.show()"
   ]
  },
  {
   "cell_type": "markdown",
   "metadata": {},
   "source": [
    "#### 【考察】\n",
    "中間層の活性化関数はsigmoidよりtanhを使用した方が最初の誤差が小さかった<br>\n",
    "1層目の活性化関数をtanh、２層目の活性化関数をsigmoidにした結果が一番精度が高かった<br>\n",
    "全体として30エポックほど回せばどの活性化関数を使用しても同じような精度を出すことができた<br>\n",
    "1,2層目をtanhとしたものは、20エポックでも十分な精度となっていた<br>\n",
    "学習係数は30エポックでは0.001より0.01の方が精度が高かった。学習係数が小さいのでもっと回すと結果は変わる可能性が高い"
   ]
  },
  {
   "cell_type": "markdown",
   "metadata": {},
   "source": [
    "### 【問題8】（アドバンス課題）誤分類の確認\n",
    "誤分類した画像はどのようなものだったかを確認してください。推定値を用意し、以下のコードを実行してください。\n",
    "\n"
   ]
  },
  {
   "cell_type": "code",
   "execution_count": 71,
   "metadata": {},
   "outputs": [],
   "source": [
    "\"\"\"\n",
    "誤分類結果を並べて表示する。画像の上の表示は「推定結果/正解」である。\n",
    "\n",
    "Parameters:\n",
    "----------\n",
    "y_pred : 推定値のndarray (n_samples,)\n",
    "y_val : 検証データの正解ラベル(n_samples,)\n",
    "X_val : 検証データの特徴量（n_samples, n_features)\n",
    "\"\"\"\n",
    "def miss_pred(y_pred, y_val):\n",
    "    num = 36 # いくつ表示するか\n",
    "    true_false = y_pred==y_val\n",
    "    false_list = np.where(true_false==False)[0].astype(np.int)\n",
    "    print(\"誤分類数　：　\", false_list.shape[0])\n",
    "    if false_list.shape[0] < num:\n",
    "        num = false_list.shape[0]\n",
    "    fig = plt.figure(figsize=(6, 6))\n",
    "    fig.subplots_adjust(left=0, right=0.8,  bottom=0, top=0.8, hspace=1, wspace=0.5)\n",
    "    for i in range(num):\n",
    "        ax = fig.add_subplot(6, 6, i + 1, xticks=[], yticks=[])\n",
    "        ax.set_title(\"{} / {}\".format(y_pred[false_list[i]],y_val[false_list[i]]))\n",
    "        ax.imshow(X_val.reshape(-1,28,28)[false_list[i]], cmap='gray')"
   ]
  },
  {
   "cell_type": "code",
   "execution_count": 72,
   "metadata": {},
   "outputs": [
    {
     "name": "stdout",
     "output_type": "stream",
     "text": [
      "誤分類数　：　 280\n"
     ]
    },
    {
     "data": {
      "image/png": "[encoded data removed]",
      "text/plain": [
       "<Figure size 432x432 with 36 Axes>"
      ]
     },
     "metadata": {},
     "output_type": "display_data"
    }
   ],
   "source": [
    "# tanh tanh epoch30\n",
    "miss_pred(yp_val_tt_ep30, y_val)"
   ]
  },
  {
   "cell_type": "code",
   "execution_count": 73,
   "metadata": {},
   "outputs": [
    {
     "name": "stdout",
     "output_type": "stream",
     "text": [
      "誤分類数　：　 283\n"
     ]
    },
    {
     "data": {
      "image/png": "[encoded data removed]",
      "text/plain": [
       "<Figure size 432x432 with 36 Axes>"
      ]
     },
     "metadata": {},
     "output_type": "display_data"
    }
   ],
   "source": [
    "# sigmoid sigmoid epoch30\n",
    "miss_pred(yp_val_ss_ep30, y_val)"
   ]
  },
  {
   "cell_type": "code",
   "execution_count": 74,
   "metadata": {},
   "outputs": [
    {
     "name": "stdout",
     "output_type": "stream",
     "text": [
      "誤分類数　：　 230\n"
     ]
    },
    {
     "data": {
      "image/png": "[encoded data removed]",
      "text/plain": [
       "<Figure size 432x432 with 36 Axes>"
      ]
     },
     "metadata": {},
     "output_type": "display_data"
    }
   ],
   "source": [
    "# tanh sigmoid epoch30\n",
    "miss_pred(yp_val_ts_ep30, y_val)"
   ]
  },
  {
   "cell_type": "code",
   "execution_count": 75,
   "metadata": {},
   "outputs": [
    {
     "name": "stdout",
     "output_type": "stream",
     "text": [
      "誤分類数　：　 250\n"
     ]
    },
    {
     "data": {
      "image/png": "[encoded data removed]",
      "text/plain": [
       "<Figure size 432x432 with 36 Axes>"
      ]
     },
     "metadata": {},
     "output_type": "display_data"
    }
   ],
   "source": [
    "# sigmoid tanhepoch30\n",
    "miss_pred(yp_val_st_ep30, y_val)"
   ]
  },
  {
   "cell_type": "code",
   "execution_count": 80,
   "metadata": {},
   "outputs": [
    {
     "name": "stdout",
     "output_type": "stream",
     "text": [
      "誤分類数　：　 350\n"
     ]
    },
    {
     "data": {
      "image/png": "[encoded data removed]",
      "text/plain": [
       "<Figure size 432x432 with 36 Axes>"
      ]
     },
     "metadata": {},
     "output_type": "display_data"
    }
   ],
   "source": [
    "# sigmoid tanhepoch30\n",
    "miss_pred(yp_val_ts_ep30_eta001, y_val)"
   ]
  },
  {
   "cell_type": "code",
   "execution_count": null,
   "metadata": {},
   "outputs": [],
   "source": []
  }
 ],
 "metadata": {
  "kernelspec": {
   "display_name": "Python 3",
   "language": "python",
   "name": "python3"
  },
  "language_info": {
   "codemirror_mode": {
    "name": "ipython",
    "version": 3
   },
   "file_extension": ".py",
   "mimetype": "text/x-python",
   "name": "python",
   "nbconvert_exporter": "python",
   "pygments_lexer": "ipython3",
   "version": "3.7.2"
  }
 },
 "nbformat": 4,
 "nbformat_minor": 2
}
