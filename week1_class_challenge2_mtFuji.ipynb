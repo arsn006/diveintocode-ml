{
 "cells": [
  {
   "cell_type": "markdown",
   "metadata": {},
   "source": [
    "# week1 授業課題2 何回折ったら富士山を超えられるか問題\n",
    "## 【問題1】富士山を超える最小のおる回数\n",
    "厚さが「富士山(3776m)」を超えるのは何回紙を折った時か計算するプログラムを作成してください。"
   ]
  },
  {
   "cell_type": "code",
   "execution_count": 1,
   "metadata": {},
   "outputs": [],
   "source": [
    "import math"
   ]
  },
  {
   "cell_type": "code",
   "execution_count": 2,
   "metadata": {},
   "outputs": [
    {
     "name": "stdout",
     "output_type": "stream",
     "text": [
      "26 回\n"
     ]
    }
   ],
   "source": [
    "THICKNESS = 0.00008\n",
    "a = 3776/THICKNESS\n",
    "b = math.log2(a)\n",
    "print(math.ceil(b),\"回\")"
   ]
  },
  {
   "cell_type": "markdown",
   "metadata": {},
   "source": [
    "# 【問題2】 任意の厚さに対応した関数を作成\n",
    "距離を入力すると、何回折った時に超えるかを出力する関数を作成してください。引数として、折る前の厚さ $t_{0}$ も設定できるようにしましょう。\n",
    "この関数を利用して、「最も近い太陽以外の恒星」に到達するには紙を何回折る必要があるか計算してください。「最も近い太陽以外の恒星」の距離は調査してください。"
   ]
  },
  {
   "cell_type": "code",
   "execution_count": 3,
   "metadata": {},
   "outputs": [],
   "source": [
    "def howtime_fold(thickness, leng):\n",
    "    # 引数：厚さ、距離\n",
    "    a = leng/thickness\n",
    "    b = math.log2(a)\n",
    "    # 小数点以下は切り上げる\n",
    "    #print(math.ceil(b))\n",
    "    return math.ceil(b)"
   ]
  },
  {
   "cell_type": "code",
   "execution_count": 4,
   "metadata": {},
   "outputs": [
    {
     "name": "stdout",
     "output_type": "stream",
     "text": [
      "69 回\n"
     ]
    }
   ],
   "source": [
    "# コピー用紙の厚さ　0.00008\n",
    "# 最も近い惑星　ケンタウルス座アルファ星　4.3光年 = 4.068114e+16\n",
    "# 厚さは変数とするので小文字にした(入力があれば変えられる)\n",
    "thickness = 0.00008\n",
    "ans = howtime_fold(thickness,4.068114e+16)\n",
    "print(ans,\"回\")"
   ]
  },
  {
   "cell_type": "markdown",
   "metadata": {},
   "source": [
    "## 【問題3】必要な紙の長さ\n",
    "実際のところ身近にある紙は43回はおろか10回も折れません。しかし、大きな紙ほどたくさん折ることができ、トイレットペーパーのような長い紙を一方向に折ることを考えた時の折れる回数を求める公式が存在します。\n",
    "厚さ $t_{0}$ の紙をn回折るために必要な紙の長さLは以下の公式で求まります。\n",
    "$$\n",
    "L = \\frac{πt_0}{6}(2^n + 4)(2^n - 1)\n",
    "$$"
   ]
  },
  {
   "cell_type": "code",
   "execution_count": 5,
   "metadata": {},
   "outputs": [],
   "source": [
    "def howlong_fold(thickness, n):\n",
    "    # thickness：厚さ、n:折る回数　必要な長さを返す\n",
    "    length = (thickness*math.pi)/6.0*(2.0**n + 4.0)*(2.0**n - 1.0)\n",
    "    #print((THICKNESS*math.pi)/6.0)\n",
    "    #print((2.0**n + 4.0)*(2.0**n - 1.0))\n",
    "    return length"
   ]
  },
  {
   "cell_type": "code",
   "execution_count": 6,
   "metadata": {},
   "outputs": [
    {
     "name": "stdout",
     "output_type": "stream",
     "text": [
      "月に届くため、必要な紙の長さは\n",
      "58383214404401391934359025273188384768.00m\n",
      "(58383214404401396582938531847995392.00km)\n",
      "\n",
      "富士山に届くため、必要な紙の長さは\n",
      "188646348487.24m\n",
      "(188646348.49km)\n",
      "\n",
      "ケンタウルス座アルファ星に届くため、必要な紙の長さは\n",
      "14595803601100347983589756318297096192.00m\n",
      "(14595803601100349145734632961998848.00km)\n",
      "\n"
     ]
    }
   ],
   "source": [
    "# 何回折るか\n",
    "thickness = 0.00008\n",
    "# 月までの距離　384,400km**3でm\n",
    "# 富士山の高さ 3776m\n",
    "# ケンタウルス座アルファ星までの距離　4.3光年　1光年=9.46*10^15 m\n",
    "measurement_list = [[\"月\",384400**3],\n",
    "                                     [\"富士山\",3776],\n",
    "                                     [\"ケンタウルス座アルファ星\",4.3*9.46*10**15]]\n",
    "\n",
    "for ls in measurement_list:\n",
    "    n = howtime_fold(thickness, ls[1])\n",
    "    length = howlong_fold(thickness, n)\n",
    "    print(\"{}に届くため、必要な紙の長さは\\n{:.2f}m\\n({:.2f}km)\\n\".format(ls[0], length, length*10**-3))"
   ]
  },
  {
   "cell_type": "code",
   "execution_count": null,
   "metadata": {},
   "outputs": [],
   "source": []
  }
 ],
 "metadata": {
  "kernelspec": {
   "display_name": "Python 3",
   "language": "python",
   "name": "python3"
  },
  "language_info": {
   "codemirror_mode": {
    "name": "ipython",
    "version": 3
   },
   "file_extension": ".py",
   "mimetype": "text/x-python",
   "name": "python",
   "nbconvert_exporter": "python",
   "pygments_lexer": "ipython3",
   "version": "3.7.0"
  }
 },
 "nbformat": 4,
 "nbformat_minor": 2
}
