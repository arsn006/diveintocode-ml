{
 "cells": [
  {
   "cell_type": "markdown",
   "metadata": {},
   "source": [
    "# Term1 Sprint5 スクラッチ SVM"
   ]
  },
  {
   "cell_type": "markdown",
   "metadata": {},
   "source": [
    "## 【問題1】ラグランジュの未定乗数法による最急降下\n",
    "SVMの学習は、ラグランジュの未定乗数法を用います。<br>\n",
    "サンプル数分のラグランジュ乗数 $\\lambda$ を用意して、以下の式により更新していきます。<br>\n",
    "この計算を行うメソッドをScratchSVMClassifierクラスに実装してください。<br>\n",
    "$$\n",
    "\\lambda_i^{new} = \\lambda_i + \\alpha(1 - \\sum_{j=1}^{n}{\\lambda_j y_i y_j k(x_i, x_j)})\n",
    "$$\n",
    "ここで $k(x_i, x_j)$ はカーネル関数です。<br>\n",
    "線形カーネルの場合は次のようになります。他のカーネル関数にも対応できるように、この部分は独立したメソッドとしておきましょう。\n",
    "$$\n",
    "k(x_i, x_j) = x_{i}^{T} x_j\n",
    "$$\n",
    "条件として、更新毎に $\\lambda_i >= 0$を満たす必要があります。満たさない場合は $\\lambda_i = 0$とします。\n",
    "\n",
    "\n",
    "$i, j$ : サンプルのインデックス\n",
    "\n",
    "\n",
    "$\\lambda_i^{new}$ : 更新後のi番目のサンプルのラグランジュ乗数\n",
    "\n",
    "\n",
    "$\\lambda_i$ : 更新前のi番目のサンプルのラグランジュ乗数\n",
    "\n",
    "\n",
    "$\\alpha$ : 学習率\n",
    "\n",
    "\n",
    "$\\lambda_j$ : j番目のサンプルのラグランジュ乗数\n",
    "\n",
    "\n",
    "$y_i$ : i番目のサンプルのラベル\n",
    "\n",
    "\n",
    "$y_j$ : j番目のサンプルのラベル\n",
    "\n",
    "\n",
    "$x_i$ : i番目のサンプルの特徴量ベクトル\n",
    "\n",
    "\n",
    "$x_j$ : j番目のサンプルの特徴量ベクトル\n",
    "\n",
    "\n",
    "あるサンプルに対しての全てのサンプルとの関係を計算していくことになります。"
   ]
  },
  {
   "cell_type": "markdown",
   "metadata": {},
   "source": [
    "## 【問題2】サポートベクターの決定\n",
    "計算したラグランジュ乗数 $\\lambda$ が設定した閾値より大きいサンプルをサポートベクターとして扱います。<br>\n",
    "推定時にサポートベクターが必要になります。サポートベクターを決定し、インスタンス変数として保持しておくコードを書いてください。<br>\n",
    "<br>\n",
    "閾値はハイパーパラメータですが、1e-5程度からはじめると良いでしょう。<br>\n",
    "サポートベクターの数を出力させられるようにしておくと学習がうまく行えているかを確認できます"
   ]
  },
  {
   "cell_type": "markdown",
   "metadata": {},
   "source": [
    "## 【問題3】推定\n",
    "推定時には、推定したいデータの特徴量とサポートベクターの特徴量をカーネル関数によって計算します。求めた $f(x)$ の符号が分類結果です。<br>\n",
    "$$\n",
    "f(x) = \\sum_{n=1}^{N}\\lambda_n y_{sv\\_n} k(x, s_n)\n",
    "$$\n",
    "$x$ : 推定したいデータの特徴量ベクトル\n",
    "\n",
    "\n",
    "$N$ : サポートベクターの数\n",
    "\n",
    "\n",
    "$n$ : サポートベクターのインデックス\n",
    "\n",
    "\n",
    "$\\lambda_n$ : $n$番目のサポートベクターのラグランジュ乗数\n",
    "\n",
    "\n",
    "$y_{sv_n}$ : $n$番目のサポートベクターのラベル\n",
    "\n",
    "\n",
    "$k()$ : カーネル関数\n",
    "\n",
    "\n",
    "$s_n$ : $n$番目のサポートベクターの特徴量"
   ]
  },
  {
   "cell_type": "markdown",
   "metadata": {},
   "source": [
    "## 【問題4】学習と推定\n",
    "機械学習スクラッチ入門のSprintで用意したシンプルデータセット1の2値分類に対してスクラッチ実装の学習と推定を行なってください。<br>\n",
    "\n",
    "scikit-learnによる実装と比べ、正しく動いているかを確認してください。<br>\n",
    "\n",
    "AccuracyやPrecision、Recallなどの指標値はscikit-learnを使用してください。<br>"
   ]
  },
  {
   "cell_type": "markdown",
   "metadata": {},
   "source": [
    "## 【問題5】決定領域の可視化\n",
    "決定領域を可視化してください。\n",
    "以下の例のようにサポートベクターは異なる色で示してください。"
   ]
  },
  {
   "cell_type": "code",
   "execution_count": 4,
   "metadata": {},
   "outputs": [],
   "source": [
    "import numpy as np"
   ]
  },
  {
   "cell_type": "code",
   "execution_count": 5,
   "metadata": {},
   "outputs": [
    {
     "name": "stdout",
     "output_type": "stream",
     "text": [
      "X : [[5.  3.2]\n",
      " [5.5 2.3]\n",
      " [6.1 3. ]]\n",
      "X : (3, 2)\n",
      "y : [0 1 1]\n",
      "y : (3,)\n"
     ]
    }
   ],
   "source": [
    "# sampleデータ\n",
    "#X = np.array([[5, 3.2], [5, 3.5], [5, 2.3], [5.5, 2.3], [6.1, 3.0]])\n",
    "#y = np.array([0, 0, 1, 1, 1])\n",
    "X = np.array([[5, 3.2], [5.5, 2.3], [6.1, 3.0]])\n",
    "y = np.array([0, 1, 1])\n",
    "lam = np.array([1, 1, 1])\n",
    "#lam = lam.reshape(3, 1)\n",
    "print(\"X :\", X)\n",
    "print(\"X :\", X.shape)\n",
    "print(\"y :\", y)\n",
    "print(\"y :\", y.shape)"
   ]
  },
  {
   "cell_type": "code",
   "execution_count": 6,
   "metadata": {},
   "outputs": [
    {
     "name": "stdout",
     "output_type": "stream",
     "text": [
      "k 35.24\n",
      "k 34.86\n",
      "k 40.1\n",
      "s: 0.0\n",
      "k 34.86\n",
      "k 35.54\n",
      "k 40.449999999999996\n",
      "s: 75.99\n",
      "k 40.1\n",
      "k 40.449999999999996\n",
      "k 46.209999999999994\n",
      "s: 86.66\n"
     ]
    },
    {
     "data": {
      "text/plain": [
       "array([ 0.01  , -0.7499, -0.8566])"
      ]
     },
     "execution_count": 6,
     "metadata": {},
     "output_type": "execute_result"
    }
   ],
   "source": [
    "nd = np.ones(3)\n",
    "\n",
    "for i in range(len(lam)):\n",
    "    s = 0\n",
    "    for j in range(len(lam)):\n",
    "        k = X[i]@X[j].T\n",
    "        print(\"k\",k)\n",
    "        s += lam[j]*y[i]*y[j]*k\n",
    "    print(\"s:\", s)\n",
    "    ans = (1 - s) * 0.01\n",
    "    nd[i] = ans\n",
    "nd"
   ]
  },
  {
   "cell_type": "code",
   "execution_count": 7,
   "metadata": {},
   "outputs": [],
   "source": [
    "from matplotlib.colors import ListedColormap\n",
    "import matplotlib.patches as mpatches\n",
    "import matplotlib.pyplot as plt\n",
    "from matplotlib.colors import ListedColormap\n",
    "import matplotlib.patches as mpatches"
   ]
  },
  {
   "cell_type": "code",
   "execution_count": 92,
   "metadata": {},
   "outputs": [],
   "source": [
    "class ScratchSVMClassifier():\n",
    "    \"\"\"\n",
    "    SVM分類器のスクラッチ実装\n",
    "\n",
    "    Parameters\n",
    "    ----------\n",
    "    num_iter : int\n",
    "      イテレーション数\n",
    "    lr : float\n",
    "      学習率\n",
    "    kernel : str\n",
    "      カーネルの種類。線形カーネル（linear）か多項式カーネル（polly）\n",
    "    threshold : float\n",
    "      サポートベクターを選ぶための閾値\n",
    "    verbose : bool\n",
    "      学習過程を出力する場合はTrue\n",
    "\n",
    "    Attributes\n",
    "    ----------\n",
    "    self.n_support_vectors : int\n",
    "      サポートベクターの数\n",
    "      \n",
    "    self.index_support_vectors : 次の形のndarray, shape (n_support_vectors,)\n",
    "      サポートベクターのインデックス\n",
    "    \n",
    "    self.index_not_support_vectors\n",
    "      サポートベクターのインデックス以外\n",
    "      \n",
    "    self.X_sv :  次の形のndarray, shape(n_support_vectors, n_features)\n",
    "      サポートベクターの特徴量\n",
    "      \n",
    "    self.lam_sv :  次の形のndarray, shape(n_support_vectors, 1)\n",
    "      サポートベクターの未定乗数\n",
    "      \n",
    "    self.y_sv :  次の形のndarray, shape(n_support_vectors, 1)\n",
    "      サポートベクターのラベル\n",
    "      \n",
    "    self.lam : 次の形のndarray, shape(n_smples, )\n",
    "      ラグランジュ乗数\n",
    "      \n",
    "\n",
    "    \"\"\"\n",
    "    def __init__(self, num_iter=100, lr=0.1, kernel='linear', threshold=1e-5, verbose=False, g=0.1, theta=0.0, d=1.0):\n",
    "        # ハイパーパラメータを属性として記録\n",
    "        self.iter = num_iter\n",
    "        self.lr = lr\n",
    "        self.kernel = kernel\n",
    "        self.threshold = threshold\n",
    "        self.verbose = verbose\n",
    "        \n",
    "        self.g = g\n",
    "        self.theta = theta\n",
    "        self.d = d\n",
    "        \n",
    "    def fit(self, X, y, X_val=None, y_val=None):\n",
    "        \"\"\"\n",
    "        SVM分類器を学習する。検証データが入力された場合はそれに対する精度もイテレーションごとに計算する。\n",
    "\n",
    "        Parameters\n",
    "        ----------\n",
    "        X : 次の形のndarray, shape (n_samples, n_features)\n",
    "            訓練データの特徴量\n",
    "        y : 次の形のndarray, shape (n_samples, )\n",
    "            訓練データの正解値\n",
    "        X_val : 次の形のndarray, shape (n_samples, n_features)\n",
    "            検証データの特徴量\n",
    "        y_val : 次の形のndarray, shape (n_samples, )\n",
    "            検証データの正解値\n",
    "        \"\"\"\n",
    "        # ラグランジュ乗数を初回は0で作成\n",
    "        # self.lam = np.ones(X.shape[0])\n",
    "        self.lam = np.random.rand(X.shape[0])*0.001\n",
    "        #self.lam = np.random.rand(X.shape[0])\n",
    "        #print(\"random lam: \", self.lam)\n",
    "        for i in range(self.iter):\n",
    "            #問1\n",
    "            #print(\"roop i :\", i)\n",
    "            #print(\"bf self.lam : \", self.lam)\n",
    "            self._lagrange(X, y)\n",
    "            #print(\"af self.lam : \", self.lam)\n",
    "            #問2\n",
    "            # 閾値より大きいか\n",
    "            mask = np.where(self.lam > self.threshold, True, False)\n",
    "            # 未定乗数\n",
    "            self.lam_sv = self.lam[mask]\n",
    "            # 数\n",
    "            #self.n_support_vectors = len(self.lam[mask])\n",
    "            self.n_support_vectors = len(self.lam_sv)\n",
    "            # index\n",
    "            \n",
    "            #print(\"self.threshold : \", self.threshold)\n",
    "            #print(\"index : \", np.where(self.lam > self.threshold))\n",
    "            self.index_support_vectors = np.where(self.lam > self.threshold)\n",
    "            #print(\"index : \", self.index_support_vectors)\n",
    "            #print(\"lam : \", self.lam)\n",
    "            self.index_not_support_vectors = np.where(self.lam <= self.threshold)\n",
    "            #print(\"not sv : \", self.index_not_support_vectors)\n",
    "            # X,y\n",
    "            # 特徴量(X)\n",
    "            self.X_sv = np.array(X[self.index_support_vectors])\n",
    "            # ラベル(y)\n",
    "            self.y_sv = np.array(y[self.index_support_vectors])\n",
    "            \n",
    "            \n",
    "            \n",
    "            if self.verbose:\n",
    "                #verboseをTrueにした際は学習過程を出力\n",
    "                if i % 10 ==0:\n",
    "                    print(\"roop:{} sv数 ： {}\".format(i, self.n_support_vectors))\n",
    "                    #print(\"lam : \", self.lam)\n",
    "                #print(\"未定乗数 : \", self.lam_sv)\n",
    "                #print(\"index\", index)\n",
    "                #print(\"X : \", self.X_sv)\n",
    "                #print(\"y : \", self.y_sv)\n",
    "        # 推定\n",
    "        print(\"sv数 : \", self.n_support_vectors)\n",
    "        yp = self.predict(X)\n",
    "        print(\"yp :\", yp)\n",
    "        if X_val is not None and y_val is not None:\n",
    "            yp_val = self.predict(X_val)\n",
    "            print(\"yp_val :\", yp_val)\n",
    "            \n",
    "        \n",
    "    \n",
    "    def _linear_kernel(self, Xi, Xj):\n",
    "        \"\"\"\n",
    "        線型カーネルの計算\n",
    "        Returns\n",
    "        -------\n",
    "            float\n",
    "        \"\"\"\n",
    "        \n",
    "        return Xi@Xj.T\n",
    "    \n",
    "    def _polly_kernel(self, Xi, Xj, g, theta, d):\n",
    "        \"\"\"\n",
    "        多項式カーネルの計算\n",
    "        \"\"\"\n",
    "        return (g*Xi@Xj.T + theta)**d\n",
    "    \n",
    "    def _lagrange(self, X, y):\n",
    "        \"\"\"\n",
    "        ラグランジュの未定乗数法の計算\n",
    "        \"\"\"\n",
    "        \n",
    "        for i in range(self.lam.shape[0]):\n",
    "            s = 0\n",
    "            for j in range(self.lam.shape[0]):\n",
    "                # カーネル関数を呼ぶ\n",
    "                k = 0\n",
    "                if self.kernel == \"linear\":\n",
    "                    k = self._linear_kernel(X[i], X[j])\n",
    "                else:\n",
    "                    k = self._polly_kernel(X[i], X[j], self.g, self.theta, self.d)\n",
    "                s += self.lam[j]*y[i]*y[j]*k\n",
    "                #self.lam[j] += (1 - s) * self.lr \n",
    "                #self.lam[j] = np.where(self.lam[j] < 0, 0, self.lam[j])\n",
    "                #print(\"lam :\", self.lam[j])\n",
    "            #print(\"s:\", s)\n",
    "            self.lam[i] += (1 - s) * self.lr \n",
    "            self.lam[i] = np.where(self.lam[i] < 0, 0, self.lam[i])\n",
    "            #print(\"index{} lam :{}\".format(i, self.lam[i]))\n",
    "        #print(\"lagrange : \", nd)\n",
    "        #print(\"lagrange : \", nd.shape)\n",
    "        #print(\"self.lam :\", self.lam)\n",
    "        #return self\n",
    "    \n",
    "    def predict(self, X):\n",
    "        \"\"\"\n",
    "        SVM分類器を使いラベルを推定する。\n",
    "\n",
    "        Parameters\n",
    "        ----------\n",
    "        X : 次の形のndarray, shape (n_samples, n_features)\n",
    "            サンプル\n",
    "\n",
    "        Returns\n",
    "        -------\n",
    "            次の形のndarray, shape (n_samples, 1)\n",
    "        \"\"\"\n",
    "        \n",
    "        pred = np.ones(X.shape[0])\n",
    "        for i in range(self.n_support_vectors):\n",
    "        #for idx in self.index_support_vectors:\n",
    "            #print(\"idx : \", idx)\n",
    "            # カーネル関数を呼ぶ\n",
    "            k = 0\n",
    "            if self.kernel == \"linear\":\n",
    "                k = self._linear_kernel(X, self.X_sv[i])\n",
    "            else:\n",
    "                k = self._polly_kernel(X, self.X_sv[i], self.g, self.theta, self.d)\n",
    "#             # 線型カーネル関数を呼ぶ\n",
    "#             k = self._linear_kernel(X, self.X_sv[i])\n",
    "            #self.lam[i]*self.y_sv[i]*k\n",
    "            pred += self.lam_sv[i]*self.y_sv[i]*k\n",
    "            #print(pred)\n",
    "        yp = np.where(pred >= 0, 1, -1)\n",
    "        \n",
    "        \n",
    "        #print(\"yp :\", yp)\n",
    "        return yp\n",
    "    \n",
    "    def decision_region(self, X, y, step=0.01, title='decision region', xlabel='xlabel', ylabel='ylabel', target_names=['versicolor', 'virginica']):\n",
    "        \"\"\"\n",
    "        2値分類を2次元の特徴量で学習したモデルの決定領域を描く。\n",
    "        背景の色が学習したモデルによる推定値から描画される。\n",
    "        散布図の点は訓練データまたは検証データである。\n",
    "\n",
    "        Parameters\n",
    "        ----------------\n",
    "        X : ndarray, shape(n_samples, 2)\n",
    "            特徴量\n",
    "        y : ndarray, shape(n_samples,)\n",
    "            ラベル\n",
    "        model : object\n",
    "            学習したモデルのインスンタスを入れる\n",
    "        step : float, (default : 0.1)\n",
    "            推定値を計算する間隔を設定する\n",
    "        title : str\n",
    "            グラフのタイトルの文章を与える\n",
    "        xlabel, ylabel : str\n",
    "            軸ラベルの文章を与える\n",
    "        target_names= : list of str\n",
    "            凡例の一覧を与える\n",
    "        \"\"\"\n",
    "        # setting\n",
    "        scatter_color = ['red', 'blue']\n",
    "        contourf_color = ['pink', 'skyblue', \"yellow\"]\n",
    "        n_class = 2\n",
    "        # pred\n",
    "        mesh_f0, mesh_f1  = np.meshgrid(np.arange(np.min(X[:,0])-0.5, np.max(X[:,0])+0.5, step), np.arange(np.min(X[:,1])-0.5, np.max(X[:,1])+0.5, step))\n",
    "        mesh = np.c_[np.ravel(mesh_f0),np.ravel(mesh_f1)]\n",
    "        y_pred = self.predict(mesh).reshape(mesh_f0.shape)\n",
    "        # plot\n",
    "        plt.title(title)\n",
    "        plt.xlabel(xlabel)\n",
    "        plt.ylabel(ylabel)\n",
    "        plt.contourf(mesh_f0, mesh_f1, y_pred, n_class-1, cmap=ListedColormap(contourf_color))\n",
    "        plt.contour(mesh_f0, mesh_f1, y_pred, n_class-1, colors='y', linewidths=3, alpha=0.5)\n",
    "\n",
    "        for i, target in enumerate(set(y)):\n",
    "            plt.scatter(X[y==target][:, 0], X[y==target][:, 1], s=80, color=scatter_color[i], label=target_names[i], marker='o')\n",
    "#         for i in self.index_not_support_vectors[0]:\n",
    "#             print(\"i : \", i)\n",
    "#             if y[i] == 0:\n",
    "#                 plt.scatter(X[i][:, 0], X[i][:, 1], s=80, color=scatter_color[0], label=target_names[0], marker='o')\n",
    "#             else:\n",
    "#                 plt.scatter(X[i][:, 0], X[i][:, 1], s=80, color=scatter_color[1], label=target_names[1], marker='o')\n",
    "        plt.scatter(X[self.index_support_vectors][:, 0], X[self.index_support_vectors][:, 1], s=80, color=\"y\", label=\"sv\", marker='o')\n",
    "        patches = [mpatches.Patch(color=scatter_color[i], label=target_names[i]) for i in range(n_class)]\n",
    "        plt.legend(handles=patches)\n",
    "        plt.legend()\n",
    "        plt.show()"
   ]
  },
  {
   "cell_type": "code",
   "execution_count": 9,
   "metadata": {},
   "outputs": [
    {
     "name": "stdout",
     "output_type": "stream",
     "text": [
      "sv数 :  2\n",
      "yp : [1 1 1]\n"
     ]
    }
   ],
   "source": [
    "#問1\n",
    "#model = ScratchSVMClassifier(verbose=True)\n",
    "model = ScratchSVMClassifier(num_iter=10, verbose=False)\n",
    "model.fit(X,y)"
   ]
  },
  {
   "cell_type": "code",
   "execution_count": 10,
   "metadata": {},
   "outputs": [
    {
     "name": "stdout",
     "output_type": "stream",
     "text": [
      "mask [ True False  True]\n",
      "lam_sv [1 1]\n",
      "n_support_vectors 2\n",
      "index [[0 2]]\n",
      "index_support_vectors [0 2]\n",
      "X :  [[[5.  3.2]\n",
      "  [6.1 3. ]]]\n",
      "y :  [[0 1]]\n",
      "j 0\n",
      "j 2\n"
     ]
    }
   ],
   "source": [
    "#問2\n",
    "# 閾値より大きいか\n",
    "X = np.array([[5, 3.2], [5.5, 2.3], [6.1, 3.0]])\n",
    "y = np.array([0, 1, 1])\n",
    "lam = np.array([1, 0, 1])\n",
    "mask = np.where(lam > 0, True, False)\n",
    "print(\"mask\", mask)\n",
    "# 未定乗数\n",
    "lam_sv = lam[mask]\n",
    "print(\"lam_sv\", lam_sv)\n",
    "# 数\n",
    "n_support_vectors = len(lam[mask])\n",
    "print(\"n_support_vectors\", n_support_vectors)\n",
    "# index\n",
    "index = np.array(np.where(lam > 0))\n",
    "print(\"index\", index)\n",
    "index_support_vectors = index.reshape(index.shape[1],)\n",
    "print(\"index_support_vectors\", index_support_vectors)\n",
    "# # X,y\n",
    "ls = []\n",
    "ls_y = []\n",
    "print(\"X : \", X[index])\n",
    "print(\"y : \", y[index])\n",
    "for j in index_support_vectors:\n",
    "    print(\"j\", j)\n",
    "#     ls .append(X[j][:])\n",
    "#     ls_y.append(y[j])\n",
    "# # 特徴量(X)\n",
    "# self.X_sv = np.array(ls)\n",
    "# # ラベル(y)\n",
    "# self.y_sv = np.array(ls_y)"
   ]
  },
  {
   "cell_type": "code",
   "execution_count": 11,
   "metadata": {},
   "outputs": [],
   "source": [
    "# シンプルデータセット1作成\n",
    "np.random.seed(seed=0)\n",
    "n_samples = 500\n",
    "f0 = [-1, 2]\n",
    "f1 = [2, -1]\n",
    "cov = [[1.0,0.8], [0.8, 1.0]]\n",
    "f0 = np.random.multivariate_normal(f0, cov, int(n_samples/2))\n",
    "f1 = np.random.multivariate_normal(f1, cov, int(n_samples/2))\n",
    "simple1_X = np.concatenate((f0, f1))\n",
    "simple1_y = np.concatenate((np.ones((int(n_samples/2))), np.ones((int(n_samples/2))) *(-1))).astype(np.int)\n",
    "random_index = np.random.permutation(np.arange(n_samples))\n",
    "simple1_X = simple1_X[random_index]\n",
    "simple1_y = simple1_y[random_index]"
   ]
  },
  {
   "cell_type": "code",
   "execution_count": 12,
   "metadata": {},
   "outputs": [
    {
     "name": "stderr",
     "output_type": "stream",
     "text": [
      "/Users/arisa/.pyenv/versions/anaconda3-5.3.1/lib/python3.7/site-packages/sklearn/model_selection/_split.py:2026: FutureWarning: From version 0.21, test_size will always complement train_size unless both are specified.\n",
      "  FutureWarning)\n"
     ]
    }
   ],
   "source": [
    "# train_test_split\n",
    "from sklearn.model_selection import train_test_split\n",
    "simple1_X_train, simple1_X_val, simple1_y_train, simple1_y_val = train_test_split(simple1_X, simple1_y, train_size=0.75, shuffle=True)"
   ]
  },
  {
   "cell_type": "code",
   "execution_count": 13,
   "metadata": {},
   "outputs": [],
   "source": [
    "# 標準化\n",
    "from sklearn.preprocessing import StandardScaler\n",
    "scaler = StandardScaler()\n",
    "scaler.fit(simple1_X_train)\n",
    "simple1_X_train_std = scaler.transform(simple1_X_train)\n",
    "simple1_X_val_std = scaler.transform(simple1_X_val)"
   ]
  },
  {
   "cell_type": "code",
   "execution_count": 14,
   "metadata": {},
   "outputs": [
    {
     "data": {
      "text/plain": [
       "array([-1, -1, -1,  1,  1, -1, -1, -1,  1,  1,  1, -1, -1, -1, -1,  1,  1,\n",
       "        1, -1, -1, -1,  1,  1, -1,  1,  1, -1, -1,  1,  1, -1, -1, -1,  1,\n",
       "       -1, -1, -1,  1, -1, -1,  1,  1, -1, -1, -1, -1,  1, -1,  1,  1, -1,\n",
       "       -1, -1, -1,  1, -1, -1, -1, -1,  1, -1,  1, -1, -1,  1,  1, -1,  1,\n",
       "        1,  1, -1, -1, -1, -1, -1,  1,  1,  1, -1,  1,  1, -1,  1,  1, -1,\n",
       "       -1, -1,  1,  1,  1, -1, -1,  1,  1, -1, -1,  1, -1, -1, -1, -1,  1,\n",
       "       -1, -1,  1,  1, -1, -1, -1, -1, -1,  1,  1,  1, -1, -1,  1, -1, -1,\n",
       "        1, -1,  1, -1,  1, -1, -1,  1, -1, -1, -1, -1,  1, -1, -1,  1, -1,\n",
       "       -1,  1,  1, -1, -1,  1,  1, -1, -1, -1,  1,  1,  1,  1,  1,  1,  1,\n",
       "        1, -1, -1, -1,  1,  1,  1, -1, -1,  1,  1, -1, -1,  1,  1, -1,  1,\n",
       "        1,  1,  1,  1,  1, -1,  1,  1, -1, -1,  1, -1,  1, -1,  1,  1, -1,\n",
       "        1,  1, -1, -1, -1, -1, -1,  1, -1,  1, -1, -1,  1, -1,  1,  1,  1,\n",
       "        1, -1,  1,  1, -1, -1, -1, -1, -1, -1, -1,  1, -1, -1,  1,  1, -1,\n",
       "       -1, -1, -1,  1,  1,  1, -1, -1, -1,  1,  1,  1,  1,  1,  1,  1,  1,\n",
       "        1,  1,  1, -1, -1,  1,  1,  1,  1, -1,  1,  1,  1, -1, -1,  1, -1,\n",
       "       -1, -1, -1, -1,  1,  1,  1,  1, -1, -1, -1, -1,  1, -1,  1, -1,  1,\n",
       "       -1,  1,  1,  1,  1, -1,  1,  1, -1, -1, -1,  1, -1,  1,  1, -1,  1,\n",
       "       -1,  1,  1,  1, -1,  1,  1, -1,  1, -1, -1,  1,  1,  1, -1, -1,  1,\n",
       "       -1,  1,  1,  1, -1, -1, -1, -1, -1, -1, -1, -1,  1,  1,  1, -1,  1,\n",
       "       -1,  1, -1,  1,  1, -1,  1, -1,  1,  1,  1, -1, -1,  1, -1, -1,  1,\n",
       "        1, -1,  1, -1,  1,  1,  1,  1,  1, -1,  1,  1,  1,  1,  1,  1,  1,\n",
       "       -1,  1,  1, -1, -1, -1,  1,  1, -1, -1,  1, -1, -1,  1, -1, -1,  1,\n",
       "        1])"
      ]
     },
     "execution_count": 14,
     "metadata": {},
     "output_type": "execute_result"
    }
   ],
   "source": [
    "# simple1_y_train = np.where(simple1_y_train == -1, 0,1)\n",
    "# simple1_y_val = np.where(simple1_y_val == -1, 0,1)\n",
    "simple1_y_train"
   ]
  },
  {
   "cell_type": "code",
   "execution_count": 74,
   "metadata": {},
   "outputs": [
    {
     "name": "stdout",
     "output_type": "stream",
     "text": [
      "roop:0 sv数 ： 72\n",
      "roop:10 sv数 ： 17\n",
      "roop:20 sv数 ： 9\n",
      "roop:30 sv数 ： 8\n",
      "roop:40 sv数 ： 8\n",
      "roop:50 sv数 ： 7\n",
      "roop:60 sv数 ： 6\n",
      "roop:70 sv数 ： 5\n",
      "roop:80 sv数 ： 4\n",
      "roop:90 sv数 ： 4\n",
      "sv数 :  4\n",
      "yp : [-1 -1 -1  1  1 -1 -1 -1  1  1  1 -1 -1 -1 -1  1  1  1 -1 -1 -1  1  1 -1\n",
      "  1  1 -1 -1  1  1 -1 -1 -1  1 -1 -1 -1  1 -1 -1  1  1 -1 -1 -1 -1  1 -1\n",
      "  1  1 -1 -1 -1 -1  1 -1 -1 -1 -1  1 -1  1 -1 -1  1  1 -1  1  1  1 -1 -1\n",
      " -1 -1 -1  1  1  1 -1  1  1 -1  1  1 -1 -1 -1  1  1  1 -1 -1  1  1 -1 -1\n",
      "  1 -1 -1 -1 -1  1 -1 -1  1  1 -1 -1 -1 -1 -1  1  1  1 -1 -1  1 -1 -1  1\n",
      " -1  1 -1  1 -1 -1  1 -1 -1 -1 -1  1 -1 -1  1 -1 -1  1  1 -1 -1  1  1 -1\n",
      " -1 -1  1  1  1  1  1  1  1  1 -1 -1 -1  1  1  1 -1 -1  1  1 -1 -1  1  1\n",
      " -1  1  1  1  1  1  1 -1  1  1 -1 -1  1 -1  1 -1  1  1 -1  1  1 -1 -1 -1\n",
      " -1 -1  1 -1  1 -1 -1  1 -1  1  1  1  1 -1  1  1 -1 -1 -1 -1 -1 -1 -1  1\n",
      " -1 -1  1  1 -1 -1 -1 -1  1  1  1 -1 -1 -1  1  1  1  1  1  1  1  1  1  1\n",
      "  1 -1 -1  1  1  1  1 -1  1  1  1 -1 -1  1 -1 -1 -1 -1 -1  1  1  1  1 -1\n",
      " -1 -1 -1  1 -1  1 -1  1 -1  1  1  1  1 -1  1  1 -1 -1 -1  1 -1  1  1 -1\n",
      "  1 -1  1  1  1 -1  1  1 -1  1 -1 -1  1  1  1 -1 -1  1 -1  1  1  1 -1 -1\n",
      " -1 -1 -1 -1 -1 -1  1  1  1 -1  1 -1  1 -1  1  1 -1  1 -1  1  1  1 -1  1\n",
      "  1 -1 -1  1  1 -1  1 -1  1  1  1  1  1 -1  1  1  1  1  1  1  1 -1  1  1\n",
      " -1 -1 -1  1  1 -1 -1  1 -1 -1  1 -1 -1  1  1]\n"
     ]
    }
   ],
   "source": [
    "sc_SVM_1 = ScratchSVMClassifier(num_iter=100, verbose=True)\n",
    "sc_SVM_1.fit(simple1_X_train_std,simple1_y_train)"
   ]
  },
  {
   "cell_type": "code",
   "execution_count": 75,
   "metadata": {},
   "outputs": [
    {
     "data": {
      "text/plain": [
       "array([-1,  1, -1,  1, -1, -1, -1, -1,  1, -1, -1, -1,  1,  1, -1, -1, -1,\n",
       "        1, -1, -1, -1,  1, -1, -1, -1,  1, -1,  1,  1,  1,  1,  1, -1,  1,\n",
       "       -1,  1, -1,  1,  1,  1, -1, -1,  1,  1, -1,  1, -1, -1, -1, -1, -1,\n",
       "        1,  1,  1, -1,  1, -1,  1,  1, -1, -1, -1, -1,  1, -1,  1,  1, -1,\n",
       "       -1,  1,  1,  1,  1, -1,  1,  1,  1,  1, -1,  1, -1, -1, -1, -1, -1,\n",
       "       -1,  1, -1,  1, -1,  1,  1, -1, -1,  1, -1,  1, -1,  1,  1,  1, -1,\n",
       "        1,  1,  1, -1,  1,  1,  1,  1, -1, -1, -1, -1,  1,  1,  1,  1, -1,\n",
       "       -1,  1,  1,  1,  1, -1])"
      ]
     },
     "execution_count": 75,
     "metadata": {},
     "output_type": "execute_result"
    }
   ],
   "source": [
    "sc1_y_pred = sc_SVM_1.predict(simple1_X_val)\n",
    "sc1_y_pred"
   ]
  },
  {
   "cell_type": "code",
   "execution_count": 76,
   "metadata": {},
   "outputs": [
    {
     "data": {
      "text/plain": [
       "array([-1,  1, -1,  1, -1, -1, -1, -1,  1, -1, -1, -1,  1,  1, -1, -1, -1,\n",
       "        1, -1, -1, -1,  1, -1, -1, -1,  1, -1,  1,  1,  1,  1,  1, -1,  1,\n",
       "       -1,  1, -1, -1,  1,  1, -1, -1,  1,  1, -1,  1, -1, -1, -1, -1, -1,\n",
       "        1,  1,  1, -1,  1, -1,  1,  1, -1, -1, -1, -1,  1, -1,  1,  1, -1,\n",
       "       -1,  1,  1,  1,  1, -1,  1,  1,  1,  1, -1,  1, -1, -1, -1, -1, -1,\n",
       "       -1,  1, -1,  1, -1,  1,  1, -1, -1,  1, -1,  1, -1, -1,  1,  1, -1,\n",
       "        1,  1,  1, -1,  1,  1,  1,  1, -1, -1, -1, -1,  1,  1,  1,  1, -1,\n",
       "       -1,  1,  1,  1,  1, -1])"
      ]
     },
     "execution_count": 76,
     "metadata": {},
     "output_type": "execute_result"
    }
   ],
   "source": [
    "# 学習と推定:SVM\n",
    "from sklearn.svm import SVC\n",
    "svc_model = SVC()\n",
    "svc_model.fit(simple1_X_train_std, simple1_y_train)\n",
    "y_val_pred = svc_model.predict(simple1_X_val)\n",
    "y_val_pred"
   ]
  },
  {
   "cell_type": "code",
   "execution_count": 77,
   "metadata": {},
   "outputs": [
    {
     "name": "stdout",
     "output_type": "stream",
     "text": [
      "sklearnの正解率は0.984です\n",
      "スクラッチの正解率は1.0です\n",
      "sklearnの適合率は1.0です\n",
      "スクラッチの適合率は1.0です\n",
      "sklearnの混同行列は\n",
      "[[62  0]\n",
      " [ 2 61]]です\n",
      "スクラッチの混同行列は\n",
      "[[62  0]\n",
      " [ 0 63]]です\n"
     ]
    }
   ],
   "source": [
    "# Accuracy(正解率)\n",
    "from sklearn.metrics import accuracy_score\n",
    "print(\"sklearnの正解率は{}です\".format(accuracy_score(simple1_y_val, y_val_pred)))\n",
    "print(\"スクラッチの正解率は{}です\".format(accuracy_score(simple1_y_val, sc1_y_pred)))\n",
    "# Precision(適合率)\n",
    "from sklearn.metrics import precision_score\n",
    "print(\"sklearnの適合率は{}です\".format(precision_score(simple1_y_val, y_val_pred)))\n",
    "print(\"スクラッチの適合率は{}です\".format(precision_score(simple1_y_val, sc1_y_pred)))\n",
    "# 混同行列\n",
    "from sklearn.metrics import confusion_matrix\n",
    "print(\"sklearnの混同行列は\\n{}です\".format(confusion_matrix(simple1_y_val, y_val_pred)))\n",
    "print(\"スクラッチの混同行列は\\n{}です\".format(confusion_matrix(simple1_y_val, sc1_y_pred)))"
   ]
  },
  {
   "cell_type": "code",
   "execution_count": 78,
   "metadata": {},
   "outputs": [
    {
     "data": {
      "image/png": "[encoded data removed]",
      "text/plain": [
       "<Figure size 432x288 with 1 Axes>"
      ]
     },
     "metadata": {
      "needs_background": "light"
     },
     "output_type": "display_data"
    }
   ],
   "source": [
    "# 可視化\n",
    "sc_SVM_1.decision_region(simple1_X_train_std, simple1_y_train,\n",
    "                title=\"Scratch SVM\", xlabel=\"x 1\", ylabel=\"x 2\", target_names=['x1', 'x2'])"
   ]
  },
  {
   "cell_type": "markdown",
   "metadata": {},
   "source": [
    "## 多項式カーネル関数の検証"
   ]
  },
  {
   "cell_type": "markdown",
   "metadata": {},
   "source": [
    "### γのみ変更"
   ]
  },
  {
   "cell_type": "code",
   "execution_count": 93,
   "metadata": {},
   "outputs": [
    {
     "name": "stdout",
     "output_type": "stream",
     "text": [
      "roop:0 sv数 ： 261\n",
      "roop:10 sv数 ： 85\n",
      "roop:20 sv数 ： 61\n",
      "roop:30 sv数 ： 45\n",
      "roop:40 sv数 ： 40\n",
      "roop:50 sv数 ： 37\n",
      "roop:60 sv数 ： 30\n",
      "roop:70 sv数 ： 24\n",
      "roop:80 sv数 ： 22\n",
      "roop:90 sv数 ： 20\n",
      "sv数 :  16\n",
      "yp : [-1 -1 -1  1  1 -1 -1 -1  1  1  1 -1 -1 -1 -1  1  1  1 -1 -1 -1  1  1 -1\n",
      "  1  1 -1 -1  1  1 -1 -1 -1  1 -1 -1 -1  1 -1 -1  1  1 -1 -1 -1 -1  1 -1\n",
      "  1  1 -1 -1 -1 -1  1 -1 -1 -1 -1  1 -1  1 -1 -1  1  1 -1  1  1  1 -1 -1\n",
      " -1 -1 -1  1  1  1 -1  1  1 -1  1  1 -1 -1 -1  1  1  1 -1 -1  1  1 -1 -1\n",
      "  1 -1 -1 -1 -1  1 -1  1  1  1 -1 -1 -1 -1 -1  1  1  1 -1 -1  1 -1 -1  1\n",
      " -1  1 -1  1 -1 -1  1 -1 -1 -1 -1  1 -1 -1  1 -1 -1  1  1 -1 -1  1  1 -1\n",
      " -1 -1  1  1  1  1  1  1  1  1 -1 -1 -1  1  1  1  1 -1  1  1 -1 -1  1  1\n",
      " -1  1  1  1  1  1  1 -1  1  1 -1 -1  1 -1  1 -1  1  1 -1  1  1 -1 -1 -1\n",
      " -1 -1  1 -1  1 -1 -1  1 -1  1  1  1  1 -1  1  1 -1 -1 -1 -1 -1 -1 -1  1\n",
      " -1 -1  1  1 -1 -1 -1 -1  1  1  1 -1 -1 -1  1  1  1  1  1  1  1  1  1  1\n",
      "  1 -1 -1  1  1  1  1 -1  1  1  1 -1 -1  1 -1 -1 -1 -1 -1  1  1  1  1 -1\n",
      " -1 -1 -1  1 -1  1 -1  1 -1  1  1  1  1 -1  1  1 -1 -1 -1  1 -1  1  1 -1\n",
      "  1 -1  1  1  1 -1  1  1 -1  1 -1 -1  1  1  1 -1 -1  1 -1  1  1  1 -1 -1\n",
      " -1 -1 -1 -1 -1 -1  1  1  1 -1  1 -1  1 -1  1  1 -1  1 -1  1  1  1 -1  1\n",
      "  1 -1 -1  1  1 -1  1 -1  1  1  1  1  1 -1  1  1  1  1  1  1  1 -1  1  1\n",
      " -1 -1 -1  1  1 -1 -1  1 -1 -1  1 -1 -1  1  1]\n"
     ]
    }
   ],
   "source": [
    "sc_SVM_2 = ScratchSVMClassifier(num_iter=100, verbose=True, kernel=\"polly\", g=0.1, theta=0.0, d=1.0)\n",
    "sc_SVM_2.fit(simple1_X_train_std,simple1_y_train)"
   ]
  },
  {
   "cell_type": "code",
   "execution_count": 94,
   "metadata": {},
   "outputs": [
    {
     "data": {
      "image/png": "[encoded data removed]",
      "text/plain": [
       "<Figure size 432x288 with 1 Axes>"
      ]
     },
     "metadata": {
      "needs_background": "light"
     },
     "output_type": "display_data"
    }
   ],
   "source": [
    "# 可視化\n",
    "sc_SVM_2.decision_region(simple1_X_train_std, simple1_y_train,\n",
    "                title=\"Scratch SVM\", xlabel=\"x 1\", ylabel=\"x 2\", target_names=['x1', 'x2'])"
   ]
  },
  {
   "cell_type": "markdown",
   "metadata": {},
   "source": [
    "### θのみ変更"
   ]
  },
  {
   "cell_type": "code",
   "execution_count": 119,
   "metadata": {},
   "outputs": [
    {
     "name": "stdout",
     "output_type": "stream",
     "text": [
      "roop:0 sv数 ： 71\n",
      "roop:10 sv数 ： 15\n",
      "roop:20 sv数 ： 9\n",
      "roop:30 sv数 ： 8\n",
      "roop:40 sv数 ： 7\n",
      "roop:50 sv数 ： 7\n",
      "roop:60 sv数 ： 5\n",
      "roop:70 sv数 ： 5\n",
      "roop:80 sv数 ： 4\n",
      "roop:90 sv数 ： 4\n",
      "sv数 :  4\n",
      "yp : [-1 -1 -1  1  1 -1 -1 -1  1  1  1 -1 -1 -1 -1  1  1  1 -1 -1 -1  1  1 -1\n",
      "  1  1 -1 -1  1  1 -1 -1 -1  1 -1 -1 -1  1 -1 -1  1  1 -1 -1 -1 -1  1 -1\n",
      "  1  1 -1 -1 -1 -1  1 -1 -1 -1 -1  1 -1  1 -1 -1  1  1 -1  1  1  1 -1 -1\n",
      " -1 -1 -1  1  1  1 -1  1  1 -1  1  1 -1 -1 -1  1  1  1 -1 -1  1  1 -1 -1\n",
      "  1 -1 -1 -1 -1  1 -1 -1  1  1 -1 -1 -1 -1 -1  1  1  1 -1 -1  1 -1 -1  1\n",
      " -1  1 -1  1 -1 -1  1 -1 -1 -1 -1  1 -1 -1  1 -1 -1  1  1 -1 -1  1  1 -1\n",
      " -1 -1  1  1  1  1  1  1  1  1 -1 -1 -1  1  1  1 -1 -1  1  1 -1 -1  1  1\n",
      " -1  1  1  1  1  1  1 -1  1  1 -1 -1  1 -1  1 -1  1  1 -1  1  1 -1 -1 -1\n",
      " -1 -1  1 -1  1 -1 -1  1 -1  1  1  1  1 -1  1  1 -1 -1 -1 -1 -1 -1 -1  1\n",
      " -1 -1  1  1 -1 -1 -1 -1  1  1  1 -1 -1 -1  1  1  1  1  1  1  1  1  1  1\n",
      "  1 -1 -1  1  1  1  1 -1  1  1  1 -1 -1  1 -1 -1 -1 -1 -1  1  1  1  1 -1\n",
      " -1 -1 -1  1 -1  1 -1  1 -1  1  1  1  1 -1  1  1 -1 -1 -1  1 -1  1  1 -1\n",
      "  1 -1  1  1  1 -1  1  1 -1  1 -1 -1  1  1  1 -1 -1  1 -1  1  1  1 -1 -1\n",
      " -1 -1 -1 -1 -1 -1  1  1  1 -1  1 -1  1 -1  1  1 -1  1 -1  1  1  1 -1  1\n",
      "  1 -1 -1  1  1 -1  1 -1  1  1  1  1  1 -1  1  1  1  1  1  1  1 -1  1  1\n",
      " -1 -1 -1  1  1 -1 -1  1 -1 -1  1 -1 -1  1  1]\n"
     ]
    }
   ],
   "source": [
    "sc_SVM_3 = ScratchSVMClassifier(num_iter=100, verbose=True, kernel=\"polly\", g=1, theta=0.1, d=1.0)\n",
    "sc_SVM_3.fit(simple1_X_train_std,simple1_y_train)"
   ]
  },
  {
   "cell_type": "code",
   "execution_count": 120,
   "metadata": {},
   "outputs": [
    {
     "data": {
      "image/png": "[encoded data removed]",
      "text/plain": [
       "<Figure size 432x288 with 1 Axes>"
      ]
     },
     "metadata": {
      "needs_background": "light"
     },
     "output_type": "display_data"
    }
   ],
   "source": [
    "# 可視化\n",
    "sc_SVM_3.decision_region(simple1_X_train_std, simple1_y_train,\n",
    "                title=\"Scratch SVM\", xlabel=\"x 1\", ylabel=\"x 2\", target_names=['x1', 'x2'])"
   ]
  },
  {
   "cell_type": "markdown",
   "metadata": {},
   "source": [
    "### dのみ変更"
   ]
  },
  {
   "cell_type": "code",
   "execution_count": 112,
   "metadata": {},
   "outputs": [
    {
     "name": "stdout",
     "output_type": "stream",
     "text": [
      "roop:0 sv数 ： 32\n",
      "roop:10 sv数 ： 9\n",
      "roop:20 sv数 ： 6\n",
      "roop:30 sv数 ： 4\n",
      "roop:40 sv数 ： 4\n",
      "sv数 :  4\n",
      "yp : [-1 -1 -1  1  1 -1 -1 -1  1  1  1 -1 -1 -1 -1  1  1  1 -1 -1 -1  1  1 -1\n",
      "  1  1 -1 -1  1  1 -1 -1 -1  1 -1 -1 -1  1 -1 -1  1  1 -1 -1 -1 -1  1 -1\n",
      "  1  1 -1 -1 -1 -1  1 -1 -1 -1 -1  1 -1  1 -1 -1  1  1 -1  1  1  1 -1 -1\n",
      " -1 -1 -1  1  1  1 -1  1  1 -1  1  1 -1 -1 -1  1  1  1 -1 -1  1  1 -1 -1\n",
      "  1 -1 -1 -1 -1  1 -1 -1  1  1 -1 -1 -1 -1 -1  1  1  1 -1 -1  1 -1 -1  1\n",
      " -1  1 -1  1 -1 -1  1 -1 -1 -1 -1  1 -1 -1  1 -1 -1  1  1 -1 -1  1  1 -1\n",
      " -1 -1  1  1  1  1  1  1  1  1 -1 -1 -1  1  1  1 -1 -1  1  1 -1 -1  1  1\n",
      " -1  1  1  1  1  1  1 -1  1  1 -1 -1  1 -1  1 -1  1  1 -1  1  1 -1 -1 -1\n",
      " -1 -1  1 -1  1 -1 -1  1 -1  1  1  1  1 -1  1  1 -1 -1 -1 -1 -1 -1 -1  1\n",
      " -1 -1  1  1 -1 -1 -1 -1  1  1  1 -1 -1 -1  1  1  1  1  1  1  1  1  1  1\n",
      "  1 -1 -1  1  1  1  1 -1  1  1  1 -1 -1  1 -1 -1 -1 -1 -1  1  1  1  1 -1\n",
      " -1 -1 -1  1 -1  1 -1  1 -1  1  1  1  1 -1  1  1 -1 -1 -1  1 -1  1  1 -1\n",
      "  1 -1  1  1  1 -1  1  1 -1  1 -1 -1  1  1  1 -1 -1  1 -1  1  1  1 -1 -1\n",
      " -1 -1 -1 -1 -1 -1  1  1  1 -1  1 -1  1 -1  1  1 -1  1 -1  1  1  1 -1  1\n",
      "  1 -1 -1  1  1 -1  1 -1  1  1  1  1  1 -1  1  1  1  1  1  1  1 -1  1  1\n",
      " -1 -1 -1  1  1 -1 -1  1 -1 -1  1 -1 -1  1  1]\n"
     ]
    }
   ],
   "source": [
    "sc_SVM_4 = ScratchSVMClassifier(num_iter=50, verbose=True, kernel=\"polly\", g=1, theta=1.0, d=3)\n",
    "sc_SVM_4.fit(simple1_X_train_std,simple1_y_train)"
   ]
  },
  {
   "cell_type": "code",
   "execution_count": 113,
   "metadata": {},
   "outputs": [
    {
     "data": {
      "image/png": "[encoded data removed]",
      "text/plain": [
       "<Figure size 432x288 with 1 Axes>"
      ]
     },
     "metadata": {
      "needs_background": "light"
     },
     "output_type": "display_data"
    }
   ],
   "source": [
    "# 可視化\n",
    "sc_SVM_4.decision_region(simple1_X_train_std, simple1_y_train,\n",
    "                title=\"Scratch SVM\", xlabel=\"x 1\", ylabel=\"x 2\", target_names=['x1', 'x2'])"
   ]
  },
  {
   "cell_type": "code",
   "execution_count": 79,
   "metadata": {},
   "outputs": [],
   "source": [
    "from sklearn import datasets\n",
    "import pandas as pd\n",
    "iris_data = datasets.load_iris()\n",
    "input_data = iris_data.data\n",
    "X = pd.DataFrame(data=input_data, columns=[\"sepal_length\", \"sepal_width\", \"petal_length\", \"petal_width\"])\n",
    "correct = iris_data.target\n",
    "y = pd.DataFrame(data=correct, columns=[\"Species\"])\n",
    "df = pd.concat([X, y], axis=1)\n",
    "df.drop(df.index[df[\"Species\"]==0], inplace=True)\n",
    "df[\"Species\"] = df[\"Species\"] - 1\n",
    "#df"
   ]
  },
  {
   "cell_type": "code",
   "execution_count": 80,
   "metadata": {},
   "outputs": [
    {
     "name": "stderr",
     "output_type": "stream",
     "text": [
      "/Users/arisa/.pyenv/versions/anaconda3-5.3.1/lib/python3.7/site-packages/sklearn/model_selection/_split.py:2026: FutureWarning: From version 0.21, test_size will always complement train_size unless both are specified.\n",
      "  FutureWarning)\n"
     ]
    }
   ],
   "source": [
    "X_train_iris, X_val_iris, y_train_iris, y_val_iris = train_test_split(df.iloc[:, :-1].values, df.iloc[:, -1:].values, train_size=0.75, random_state=1, shuffle=True)"
   ]
  },
  {
   "cell_type": "code",
   "execution_count": 81,
   "metadata": {},
   "outputs": [],
   "source": [
    "# 標準化\n",
    "scaler = StandardScaler()\n",
    "scaler.fit(X_train_iris)\n",
    "X_train_iris_std = scaler.transform(X_train_iris)\n",
    "X_val_iris_std = scaler.transform(X_val_iris)"
   ]
  },
  {
   "cell_type": "code",
   "execution_count": 82,
   "metadata": {},
   "outputs": [],
   "source": [
    "y_train_iris = np.where(y_train_iris == 0, -1,1)\n",
    "#y_train_iris"
   ]
  },
  {
   "cell_type": "code",
   "execution_count": 83,
   "metadata": {},
   "outputs": [
    {
     "name": "stdout",
     "output_type": "stream",
     "text": [
      "roop:0 sv数 ： 44\n",
      "roop:10 sv数 ： 23\n",
      "roop:20 sv数 ： 17\n",
      "roop:30 sv数 ： 14\n",
      "roop:40 sv数 ： 14\n",
      "roop:50 sv数 ： 13\n",
      "roop:60 sv数 ： 13\n",
      "roop:70 sv数 ： 13\n",
      "roop:80 sv数 ： 12\n",
      "roop:90 sv数 ： 11\n",
      "roop:100 sv数 ： 11\n",
      "roop:110 sv数 ： 11\n",
      "roop:120 sv数 ： 10\n",
      "roop:130 sv数 ： 10\n",
      "roop:140 sv数 ： 10\n",
      "sv数 :  10\n",
      "yp : [-1  1  1 -1 -1  1  1  1  1  1 -1 -1  1 -1 -1  1  1  1 -1  1 -1 -1  1 -1\n",
      "  1 -1  1 -1 -1  1 -1 -1  1 -1  1 -1  1  1 -1 -1  1 -1  1 -1  1  1  1  1\n",
      "  1 -1  1 -1  1  1 -1 -1 -1 -1 -1  1  1 -1  1  1  1 -1 -1  1  1 -1  1 -1\n",
      "  1 -1 -1]\n"
     ]
    }
   ],
   "source": [
    "sc_SVM_3 = ScratchSVMClassifier(threshold=1e-5, num_iter=150, verbose=True)\n",
    "sc_SVM_3.fit(X_train_iris_std[:, 2:],y_train_iris)\n",
    "#sc_SVM_3.predict(X_train_iris_std[:, 2:])"
   ]
  },
  {
   "cell_type": "code",
   "execution_count": 84,
   "metadata": {},
   "outputs": [
    {
     "data": {
      "image/png": "[encoded data removed]",
      "text/plain": [
       "<Figure size 432x288 with 1 Axes>"
      ]
     },
     "metadata": {
      "needs_background": "light"
     },
     "output_type": "display_data"
    }
   ],
   "source": [
    "# 可視化\n",
    "sc_SVM_3.decision_region(X_train_iris_std[:, 2:], np.ravel(y_train_iris),title=\"Scratch SVM Iris\", xlabel=\"x 1\", ylabel=\"x 2\", target_names=['x1', 'x2'])"
   ]
  },
  {
   "cell_type": "code",
   "execution_count": 85,
   "metadata": {},
   "outputs": [
    {
     "name": "stderr",
     "output_type": "stream",
     "text": [
      "/Users/arisa/.pyenv/versions/anaconda3-5.3.1/lib/python3.7/site-packages/sklearn/utils/validation.py:578: DataConversionWarning: A column-vector y was passed when a 1d array was expected. Please change the shape of y to (n_samples, ), for example using ravel().\n",
      "  y = column_or_1d(y, warn=True)\n"
     ]
    },
    {
     "data": {
      "text/plain": [
       "array([-1,  1,  1, -1, -1,  1,  1,  1,  1,  1, -1, -1,  1, -1, -1,  1,  1,\n",
       "        1, -1,  1, -1, -1,  1, -1,  1, -1,  1, -1, -1,  1, -1, -1,  1, -1,\n",
       "        1, -1,  1,  1, -1, -1,  1, -1,  1, -1,  1,  1,  1,  1,  1, -1,  1,\n",
       "       -1,  1,  1, -1, -1, -1, -1, -1,  1,  1, -1,  1,  1,  1, -1, -1,  1,\n",
       "        1, -1,  1, -1,  1, -1, -1])"
      ]
     },
     "execution_count": 85,
     "metadata": {},
     "output_type": "execute_result"
    }
   ],
   "source": [
    "# 学習と推定:SVM\n",
    "from sklearn.svm import SVC\n",
    "svc_model = SVC()\n",
    "svc_model.fit(X_train_iris_std[:, 2:],y_train_iris)\n",
    "y_svc3_pred_iris = sc_SVM_3.predict(X_train_iris_std[:, 2:])\n",
    "y_svc3_pred_iris"
   ]
  },
  {
   "cell_type": "code",
   "execution_count": 86,
   "metadata": {},
   "outputs": [
    {
     "data": {
      "text/plain": [
       "array([-1,  1,  1, -1, -1,  1,  1,  1,  1,  1, -1, -1,  1, -1, -1,  1,  1,\n",
       "        1, -1,  1, -1, -1,  1, -1,  1, -1,  1, -1, -1,  1, -1, -1,  1, -1,\n",
       "        1, -1,  1,  1, -1, -1,  1, -1,  1, -1,  1,  1,  1,  1,  1, -1,  1,\n",
       "       -1,  1,  1, -1, -1, -1, -1, -1,  1,  1, -1,  1,  1,  1, -1, -1,  1,\n",
       "        1, -1,  1, -1,  1, -1, -1])"
      ]
     },
     "execution_count": 86,
     "metadata": {},
     "output_type": "execute_result"
    }
   ],
   "source": [
    "sc3_y_pred = sc_SVM_3.predict(X_train_iris_std[:, 2:])\n",
    "sc3_y_pred"
   ]
  },
  {
   "cell_type": "code",
   "execution_count": 87,
   "metadata": {},
   "outputs": [
    {
     "name": "stdout",
     "output_type": "stream",
     "text": [
      "sklearnの正解率は0.9466666666666667です\n",
      "スクラッチの正解率は0.9466666666666667です\n",
      "sklearnの適合率は0.8974358974358975です\n",
      "スクラッチの適合率は0.8974358974358975です\n",
      "sklearnの混同行列は\n",
      "[[36  4]\n",
      " [ 0 35]]です\n",
      "スクラッチの混同行列は\n",
      "[[36  4]\n",
      " [ 0 35]]です\n"
     ]
    }
   ],
   "source": [
    "# Accuracy(正解率)\n",
    "from sklearn.metrics import accuracy_score\n",
    "print(\"sklearnの正解率は{}です\".format(accuracy_score(y_train_iris, y_svc3_pred_iris)))\n",
    "print(\"スクラッチの正解率は{}です\".format(accuracy_score(y_train_iris, sc3_y_pred)))\n",
    "# Precision(適合率)\n",
    "from sklearn.metrics import precision_score\n",
    "print(\"sklearnの適合率は{}です\".format(precision_score(y_train_iris, y_svc3_pred_iris)))\n",
    "print(\"スクラッチの適合率は{}です\".format(precision_score(y_train_iris, sc3_y_pred)))\n",
    "# 混同行列\n",
    "from sklearn.metrics import confusion_matrix\n",
    "print(\"sklearnの混同行列は\\n{}です\".format(confusion_matrix(y_train_iris, y_svc3_pred_iris)))\n",
    "print(\"スクラッチの混同行列は\\n{}です\".format(confusion_matrix(y_train_iris, sc3_y_pred)))"
   ]
  },
  {
   "cell_type": "markdown",
   "metadata": {},
   "source": [
    "# SVMとはどのような仕組みか\n",
    "スクラッチ実装に必要な情報は以上ですが、大まかな仕組みの解説を行います。\n",
    "SVMは決定境界と近くの点の距離（マージン）を最大化する方法です。特徴量が2つであれば以下の図のように線を引くことを考えます。\n",
    "$$y(x) = w^{T}x$$\n",
    "$x$ : 特徴量ベクトル\n",
    "\n",
    "$w$ : 重みベクトル\n",
    "\n",
    "決定境界とある点 $x$ との距離 $r$ は以下の式で求められます。高校数学で学ぶ「点と直線の距離の公式」や「点と平面の距離の公式」を一般化したものです。\n",
    "$$\n",
    "r = \\frac{y_{i}y(x)}{||w||} = \\frac{y_{i}w^{T}x}{||w||}\n",
    "$$\n",
    "$||w||$ はベクトル $w$ の大きさで、特徴量が2つならば $||w|| = \\sqrt{w_{1}^2+w_{2}^2}$ です。また、学習するi番目のデータのラベルを $y_{i}=-1$または$y_{i}=1$ としています。\n",
    "\n",
    "\n",
    "訓練データの中で「最も距離 $r$ が短くなる点x（サポートベクター）の距離 $r$ を最大化する $w$ を求める」ことがSVMによる分類だと言い換えられます。\n",
    "\n",
    "\n",
    "これは非常に複雑な問題です。 $w$ を変化させると、最も距離 $r$ が短くなる点x（サポートベクター）も変化していくからです。計算するためには、問題を扱いやすい形に変形させる必要があります。\n",
    "\n",
    "### 扱いやすい形にする\n",
    "まず定数 $M(>0)$ を置くと、先ほどの問題は、\n",
    "\n",
    "\n",
    "「$\\frac{M}{||w||}$ を $y_{i}(w^{T}x_{i})\\geq M$ という条件の元で最大化する $w$ や $M$ を求める問題」\n",
    "\n",
    "\n",
    "と表現できます。条件式は $x_{i}$ に訓練データの全ての点を入れて成り立つ必要があります。まだまだややこしいですが、これをMで割ってしまいます。そうすると、\n",
    "\n",
    "\n",
    "「$\\frac{1}{||w||}$ を $y_{i}(\\frac{w^{T}}{M}x_{i})\\geq 1$ という条件の元で最大化する $w$ や $M$ を求める問題」\n",
    "\n",
    "\n",
    "になり、さらに $w^{T} \\gets \\frac{w^{T}}{M}$ と置き換えてしまいます。\n",
    "\n",
    "\n",
    "そうすれば、\n",
    "\n",
    "\n",
    "「 $\\frac{1}{||w||}$ を $y_{i}(w^{T}X_{i})\\geq 1$ という条件の元で最大化する $w$を求める問題」\n",
    "\n",
    "\n",
    "まで簡単化できます。 $\\frac{1}{||w||}$ を最大化するというのは $||w||$ を最小化することと同じです。これを後々さらに扱いやすくするために $\\frac{1}{2}||w||^2$ を最小化すると考えます。よって、\n",
    "\n",
    "\n",
    "「 $\\frac{1}{2}||w||^2$ を $y_{i}(w^{T}x_{i})\\geq 1$ という条件の元で最小化する $w$ を求める問題」\n",
    "\n",
    "\n",
    "とすることができます。\n",
    "\n",
    "### 解きやすい問題にする（双対化）\n",
    "こういった不等式制約を持つ最適化問題は次のように ラグランジュの未定乗数法 で置き換えられることが知られています。\n",
    "\n",
    "\n",
    "なお、このように難しい問題を別の簡単な問題に言い換えることを 双対化する といいます。\n",
    "\n",
    "\n",
    "ラグランジュの未定乗数法を用いると以下のラグランジュ関数が得られます。\n",
    "$$L(w,\\lambda) = \\frac{1}{2}||w||^2 - \\sum_{i=1}^{N}\\lambda_{i}\\{y_{i}(w^{T}x_{i})-1\\}$$\n",
    "$\\lambda$ はラグランジュ乗数と呼ばれる数で、0以上の値です。これを $w$について微分し、0に等しいと置くと、次の式が得られます。\n",
    "$$\n",
    "w = \\sum_{i=1}^{N}\\lambda_{i}y_{i}x_{i}\n",
    "$$\n",
    "（この微分のために $||w||$ ではなく $\\frac{1}{2}||w||^2$ としています）\n",
    "\n",
    "\n",
    "これをラグランジュ関数に代入して整理すると\n",
    "$$\n",
    "\\sum_{i=1}^{N}\\lambda_{i}-\\frac{1}{2}\\sum_{i=1}^{N}\\sum_{j=1}^{N}\\lambda_{i}\\lambda_{j}ｙ_{i}ｙ_{j}x_{i}^Tx_{j}\n",
    "$$\n",
    "を $\\lambda_{i} \\geq 0$ かつ $\\sum_{n=1}^{N}\\lambda_{i}y_{i} = 0$ の条件の元で最大化するときの $\\lambda_{i}$ を探す問題に双対化できます。\n",
    "\n",
    "\n",
    "この形になれば、$\\lambda$ を勾配降下法により求めることができます。$w$は出てきませんが、得られる結果は同じです。\n",
    "### カーネル\n",
    "最後の式の $x_{i}^{T} x_j$ の部分を $k(x_i, x_j)$ という関数に置き換えます。この関数を カーネル関数 と呼びます。\n",
    "$$\n",
    "\\sum_{i=1}^{N}\\lambda_{i}-\\frac{1}{2}\\sum_{i=1}^{N}\\sum_{j=1}^{N}\\lambda_{i}\\lambda_{j}ｙ_{i}ｙ_{j}k(x_i, x_j)\n",
    "$$\n",
    "この式が問題1の最急降下法の式の元になります。\n",
    "\n",
    "\n",
    "カーネル関数は $x_{i}^{T} x_j$ ではない様々な計算に置き換えることができます。この部分を置き換えるだけで、元の特徴量を 高次元空間 に移動させたことと同じ結果が得られ、高い分類性能を得ることができます。これを カーネルトリック と呼びます。\n",
    "\n",
    "### 高次元へ移す簡単な例\n",
    "次の図のように1次元上に2色の点があるとします。これらを直線一本を引くことで分けることは不可能です。\n",
    "しかし、例えば以下のように変換してみると直線でも分けられそうです。\n",
    "$x^2=2.5$ あたりに線を引くことになります。\n",
    "これは$x^2$を計算し、それを縦軸にプロットしたグラフです。1次元だったデータを $\\phi(x)=x^2$ の関数により高次元（2次元）へと移動しました。\n",
    "\n",
    "\n",
    "こういったことをSVMはカーネルトリックにより行います。"
   ]
  },
  {
   "cell_type": "code",
   "execution_count": null,
   "metadata": {},
   "outputs": [],
   "source": []
  }
 ],
 "metadata": {
  "kernelspec": {
   "display_name": "Python 3",
   "language": "python",
   "name": "python3"
  },
  "language_info": {
   "codemirror_mode": {
    "name": "ipython",
    "version": 3
   },
   "file_extension": ".py",
   "mimetype": "text/x-python",
   "name": "python",
   "nbconvert_exporter": "python",
   "pygments_lexer": "ipython3",
   "version": "3.7.2"
  }
 },
 "nbformat": 4,
 "nbformat_minor": 2
}
