{
 "cells": [
  {
   "cell_type": "markdown",
   "metadata": {},
   "source": [
    "# week2 授業前課題3 行列積のスクラッチ"
   ]
  },
  {
   "cell_type": "markdown",
   "metadata": {},
   "source": [
    "以下のような行列A、Bを考えます。\n",
    "$$\n",
    "A=\\begin{bmatrix}\n",
    "-1 & 2 & 3 \\\\\n",
    "4 & -5 & 6 \\\\\n",
    "7 & 8 & -9 \\\\\n",
    "\\end{bmatrix}\n",
    ",B=\\begin{bmatrix}\n",
    "0 & 2 & 1 \\\\\n",
    "0 & 2 & -8 \\\\\n",
    "2 & 9 & -1 \\\\\n",
    "\\end{bmatrix}\n",
    "$$\n",
    "NumPyで表すと次のようになります。"
   ]
  },
  {
   "cell_type": "code",
   "execution_count": 9,
   "metadata": {},
   "outputs": [],
   "source": [
    "import numpy as np\n",
    "a_ndarray = np.array([[-1, 2, 3], [4, -5, 6], [7, 8, -9]])\n",
    "b_ndarray = np.array([[0, 2, 1], [0, 2, -8], [2, 9, -1]])"
   ]
  },
  {
   "cell_type": "markdown",
   "metadata": {},
   "source": [
    "## 【問題1】行列積を手計算する\n",
    "AとBの行列積を手計算で解いてください。<br>\n",
    "計算過程もマークダウンテキストを用いて説明してください。"
   ]
  },
  {
   "cell_type": "markdown",
   "metadata": {},
   "source": [
    "$$\n",
    "AB=\\begin{bmatrix}\n",
    "-1\\times0 + 2\\times0 + 3\\times 2  & -1\\times2 + 2\\times2 + 3\\times9 & -1\\times1 + 2\\times-8 + 3\\times-1 \\\\\n",
    "4\\times0 + -5\\times0 + 6\\times2 & 4\\times2 + -5\\times2 + 6\\times9 & 4\\times1 + -5\\times-8 + 6\\times-1 \\\\\n",
    "7\\times0 + 8\\times0 + -9\\times2 & 7\\times2 + 8\\times2 + -9\\times9 & 7 \\times1 + 8\\times-8 + -9\\times-1 \\\\\n",
    "\\end{bmatrix}\n",
    "$$"
   ]
  },
  {
   "cell_type": "markdown",
   "metadata": {},
   "source": [
    "$$\n",
    "=\\begin{bmatrix}\n",
    "6 & 29 & -20 \\\\\n",
    "12 & 52 & 38 \\\\\n",
    "-18 & 51 & -48 \\\\\n",
    "\\end{bmatrix}\n",
    "$$"
   ]
  },
  {
   "cell_type": "markdown",
   "metadata": {},
   "source": [
    "## 【問題2】NumPyの関数による計算\n",
    "この行列積はNumPyのnp.matmul()やnp.dot()、または@演算子を使うことで簡単に計算できます。<br>\n",
    "これらを使い行列積を計算してください。"
   ]
  },
  {
   "cell_type": "code",
   "execution_count": 12,
   "metadata": {},
   "outputs": [
    {
     "data": {
      "text/plain": [
       "array([[  6,  29, -20],\n",
       "       [ 12,  52,  38],\n",
       "       [-18, -51, -48]])"
      ]
     },
     "execution_count": 12,
     "metadata": {},
     "output_type": "execute_result"
    }
   ],
   "source": [
    "# np.matmul()\n",
    "np.matmul(a_ndarray, b_ndarray)"
   ]
  },
  {
   "cell_type": "code",
   "execution_count": 13,
   "metadata": {},
   "outputs": [
    {
     "data": {
      "text/plain": [
       "array([[  6,  29, -20],\n",
       "       [ 12,  52,  38],\n",
       "       [-18, -51, -48]])"
      ]
     },
     "execution_count": 13,
     "metadata": {},
     "output_type": "execute_result"
    }
   ],
   "source": [
    "# np.dot()\n",
    "np.dot(a_ndarray, b_ndarray)"
   ]
  },
  {
   "cell_type": "code",
   "execution_count": 15,
   "metadata": {},
   "outputs": [
    {
     "data": {
      "text/plain": [
       "array([[  6,  29, -20],\n",
       "       [ 12,  52,  38],\n",
       "       [-18, -51, -48]])"
      ]
     },
     "execution_count": 15,
     "metadata": {},
     "output_type": "execute_result"
    }
   ],
   "source": [
    "# @\n",
    "a_ndarray@b_ndarray"
   ]
  },
  {
   "cell_type": "markdown",
   "metadata": {},
   "source": [
    "## 【問題3】ある要素の計算を実装\n",
    "手計算をする際はまず行列Aの0行目と行列Bの0列目に注目し、以下の計算を行ったかと思います。\n",
    "1、行列Aの(0,0)の要素と行列Bの(0,0)の要素を掛け合わせる<br>\n",
    "2、行列Aの(0,1)の要素と行列Bの(1,0)の要素を掛け合わせる<br>\n",
    "3、行列Aの(0,2)の要素と行列Bの(2,0)の要素を掛け合わせる<br>\n",
    "4、それらの値を全て足し合わせる<br>\n",
    "数式で表すと\n",
    "$$\n",
    "\\sum_{k=0}^{2}a_{0,k}b_{k,0}\n",
    "$$\n",
    "です。\n",
    "この計算をnp.matmul()やnp.dot()、または@演算子を使わずに行うコードを書いてください。"
   ]
  },
  {
   "cell_type": "code",
   "execution_count": 17,
   "metadata": {},
   "outputs": [
    {
     "name": "stdout",
     "output_type": "stream",
     "text": [
      "6\n"
     ]
    }
   ],
   "source": [
    "ans = 0\n",
    "for k in range(0, 3):\n",
    "    ans += a_ndarray[0][k]*b_ndarray[k][0]\n",
    "print(ans)"
   ]
  },
  {
   "cell_type": "markdown",
   "metadata": {},
   "source": [
    "## 【問題4】行列積を行う関数の作成\n",
    "問題3のコードを拡張し、行列積のスクラッチ実装を完成させてください。行列AとBを引数に受け取り、行列積を返す関数としてください。<br>\n",
    "行列積を計算する場合は、問題3の計算を異なる行や列に対して繰り返していくことになります。<br>\n",
    "計算結果である 3×3の行列Cの各要素Ci,jは数式で表すと次のようになります。<br>\n",
    "$$\n",
    "c_{i,j} = \\sum_{k=0}^{2}a_{i,k}b_{k,j}\n",
    "$$"
   ]
  },
  {
   "cell_type": "markdown",
   "metadata": {},
   "source": [
    "for文を使い、ndarrayのインデックスを動かしていくことで、合計9つの要素が計算できます。<br>\n",
    "インデックス iや jを1増やすと、次の行や列に移ることができます。"
   ]
  },
  {
   "cell_type": "code",
   "execution_count": 97,
   "metadata": {},
   "outputs": [],
   "source": [
    "# 3x3行列と3x3行列の行列積以外にも対応する\n",
    "def matrix_times(a_ndarray, b_ndarray):\n",
    "    # 行[:, -1]　列[-1] \n",
    "    if len(a_ndarray[-1]) != len(b_ndarray[:, -1]):\n",
    "        print(\"Error:1つ目行列の列サイズと２つ目の行列の行サイズを同じにしてから実行してください\")\n",
    "        pass\n",
    "    else:\n",
    "        matrix_list = []\n",
    "        # 1つめの行列の行でループ\n",
    "        for i in range(len(a_ndarray[:, -1])):\n",
    "            # 2つめの行列の列でループ\n",
    "            for j in range(len(b_ndarray[-1])):\n",
    "                # 1つめの列と２つめの行は同じサイズ\n",
    "                youso = 0\n",
    "                for k in range(len(a_ndarray[-1])):\n",
    "                    youso += a_ndarray[i][k]*b_ndarray[k][j]\n",
    "                matrix_list.append(youso)\n",
    "        list_ndarray = np.array(matrix_list)\n",
    "        matrix_ndarray = list_ndarray.reshape(len(a_ndarray[:, -1]), len(b_ndarray[-1]))\n",
    "        return matrix_ndarray"
   ]
  },
  {
   "cell_type": "code",
   "execution_count": 98,
   "metadata": {},
   "outputs": [
    {
     "name": "stdout",
     "output_type": "stream",
     "text": [
      "[[  6  29 -20]\n",
      " [ 12  52  38]\n",
      " [-18 -51 -48]]\n"
     ]
    }
   ],
   "source": [
    "# 問題1の行列A、Bの積\n",
    "matrix_ndarray = matrix_times(a_ndarray, b_ndarray)\n",
    "print(matrix_ndarray)"
   ]
  },
  {
   "cell_type": "code",
   "execution_count": 99,
   "metadata": {},
   "outputs": [
    {
     "name": "stdout",
     "output_type": "stream",
     "text": [
      "[[ 27  30]\n",
      " [ 61  68]\n",
      " [ 95 106]]\n"
     ]
    },
    {
     "data": {
      "text/plain": [
       "array([[ 27,  30],\n",
       "       [ 61,  68],\n",
       "       [ 95, 106]])"
      ]
     },
     "execution_count": 99,
     "metadata": {},
     "output_type": "execute_result"
    }
   ],
   "source": [
    "# 3x2行列と2x2行列の積\n",
    "c_ndarray = np.array([[1, 2], [3, 4], [5, 6]])\n",
    "d_ndarray = np.array([[7, 8], [10, 11]])\n",
    "matrix_ndarray = matrix_times(c_ndarray, d_ndarray)\n",
    "print(matrix_ndarray)\n",
    "# 答え合わせ\n",
    "np.dot(c_ndarray, d_ndarray)"
   ]
  },
  {
   "cell_type": "code",
   "execution_count": 100,
   "metadata": {},
   "outputs": [
    {
     "name": "stdout",
     "output_type": "stream",
     "text": [
      "[[ 27  30  33]\n",
      " [ 61  68  75]\n",
      " [ 95 106 117]]\n"
     ]
    },
    {
     "data": {
      "text/plain": [
       "array([[ 27,  30,  33],\n",
       "       [ 61,  68,  75],\n",
       "       [ 95, 106, 117]])"
      ]
     },
     "execution_count": 100,
     "metadata": {},
     "output_type": "execute_result"
    }
   ],
   "source": [
    "# 3x2行列と2x3行列の積\n",
    "c_ndarray = np.array([[1, 2], [3, 4], [5, 6]])\n",
    "d_ndarray = np.array([[7, 8, 9], [10, 11, 12]])\n",
    "matrix_ndarray = matrix_times(c_ndarray, d_ndarray)\n",
    "print(matrix_ndarray)\n",
    "# 答え合わせ\n",
    "np.dot(c_ndarray, d_ndarray)"
   ]
  },
  {
   "cell_type": "code",
   "execution_count": 103,
   "metadata": {},
   "outputs": [
    {
     "name": "stdout",
     "output_type": "stream",
     "text": [
      "Error:1つ目行列の列サイズと２つ目の行列の行サイズを同じにしてから実行してください\n",
      "None\n"
     ]
    }
   ],
   "source": [
    "# 計算できない行列積\n",
    "d_ndarray = np.array([[-1, 2, 3], [4, -5, 6]])\n",
    "e_ndarray = np.array([[-9, 8, 7], [6, -5, 4]])\n",
    "matrix_ndarray = matrix_times(d_ndarray, e_ndarray)\n",
    "print(matrix_ndarray)"
   ]
  },
  {
   "cell_type": "markdown",
   "metadata": {},
   "source": [
    "## 【問題5】計算が定義されない入力を判定する\n",
    "問題4で作成した関数は、実装方法によってはこのDとEの配列を入力しても動いてしまう可能性があります。<br>\n",
    "この場合、不適切な計算が行われることになります。<br>\n",
    "また、途中でエラーになる場合でも、なぜエラーになったかが直接的には分かりづらいメッセージが表示されます。<br>\n",
    "if文などによってこれを防ぎ、入力される形に問題があることをprint()を使い表示するコードを書き加えてください。<br>"
   ]
  },
  {
   "cell_type": "markdown",
   "metadata": {},
   "source": [
    "### 問題5の回答はすでに問題4で実装済みです\n"
   ]
  },
  {
   "cell_type": "markdown",
   "metadata": {},
   "source": [
    "## 【問題6】転置\n",
    "片方の行列を転置することで、行列積が計算できるようになります。<br>\n",
    "np.transpose()や.Tアトリビュートを用いて転置し、行列積を計算してください。"
   ]
  },
  {
   "cell_type": "code",
   "execution_count": 106,
   "metadata": {},
   "outputs": [
    {
     "name": "stdout",
     "output_type": "stream",
     "text": [
      "[[ 33 -28   9]\n",
      " [-48  41  -6]\n",
      " [  9  -6  45]]\n"
     ]
    },
    {
     "data": {
      "text/plain": [
       "array([[ 33, -28,   9],\n",
       "       [-48,  41,  -6],\n",
       "       [  9,  -6,  45]])"
      ]
     },
     "execution_count": 106,
     "metadata": {},
     "output_type": "execute_result"
    }
   ],
   "source": [
    "matrix_ndarray = matrix_times(d_ndarray.T, e_ndarray)\n",
    "print(matrix_ndarray)\n",
    "# 答え合わせ\n",
    "np.dot(d_ndarray.T, e_ndarray)"
   ]
  },
  {
   "cell_type": "code",
   "execution_count": null,
   "metadata": {},
   "outputs": [],
   "source": []
  }
 ],
 "metadata": {
  "kernelspec": {
   "display_name": "Python 3",
   "language": "python",
   "name": "python3"
  },
  "language_info": {
   "codemirror_mode": {
    "name": "ipython",
    "version": 3
   },
   "file_extension": ".py",
   "mimetype": "text/x-python",
   "name": "python",
   "nbconvert_exporter": "python",
   "pygments_lexer": "ipython3",
   "version": "3.7.0"
  }
 },
 "nbformat": 4,
 "nbformat_minor": 2
}
