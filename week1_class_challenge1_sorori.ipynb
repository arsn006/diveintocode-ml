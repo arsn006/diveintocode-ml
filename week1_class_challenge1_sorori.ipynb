{
 "cells": [
  {
   "cell_type": "markdown",
   "metadata": {},
   "source": [
    "# week1 授業課題1　曽呂利新左衛門問題"
   ]
  },
  {
   "cell_type": "markdown",
   "metadata": {},
   "source": [
    "## 【問題1】100日目の米粒の数 \n",
    "100日目には合計で米粒をいくつもらっているのかを計算するコードを作成し、答えを出力してください。また、1日目から100日目までの「その日にもらう米の数」と「その日までに累計で貰う米の数」の推移を折れ線グラフで表現してください。（縦軸が米の数、横軸が日数）"
   ]
  },
  {
   "cell_type": "code",
   "execution_count": 23,
   "metadata": {},
   "outputs": [],
   "source": [
    "def compute_sorori_shinzaemon(day=100):\n",
    "    \"\"\"\n",
    "    曽呂利新左衛門の米の逸話を検証する関数。日にちごとの米の粒の数を計算する。\n",
    "\n",
    "    Parameteres\n",
    "    --------------\n",
    "    day: int\n",
    "        米を貰う日数 (default : 100)\n",
    "\n",
    "    Returns\n",
    "    --------------\n",
    "    list_n_grains : list\n",
    "        ある日に貰う米の数のリスト（リストの長さはdayに等しくなる）\n",
    "    list_total_grains : list\n",
    "        ある日までに累計で貰う米の数のリスト（リストの長さはdayに等しくなる）\n",
    "    \"\"\"\n",
    "    # ここにコードを書く。passは何もしないことを意味する命令である。\n",
    "    list_n_grains = []\n",
    "    list_total_grains = []\n",
    "    if day >= 2:\n",
    "        rice = 1\n",
    "        rice_total = 1\n",
    "        list_n_grains.append(1)\n",
    "        list_total_grains.append(1)\n",
    "        for i in range(2,day+1):\n",
    "            rice = rice*2\n",
    "            rice_total += rice\n",
    "            list_n_grains.append(rice)\n",
    "            list_total_grains.append(rice_total)\n",
    "    elif day == 1:\n",
    "        list_n_grains.append(1)\n",
    "        list_total_grains.append(1)\n",
    "    elif day == 0:\n",
    "        list_n_grains.append(0)\n",
    "        list_total_grains.append(0)\n",
    "    else:\n",
    "        pass\n",
    "    \n",
    "    return list_n_grains, list_total_grains"
   ]
  },
  {
   "cell_type": "code",
   "execution_count": 39,
   "metadata": {},
   "outputs": [],
   "source": [
    "def plot_list(list_n_grains,list_total_grains):\n",
    "    import matplotlib.pyplot as plt\n",
    "    %matplotlib inline\n",
    "    plt.plot(list_n_grains, color=\"b\", label=u\"day\")\n",
    "    plt.plot(list_total_grains, color=\"y\", label=u\"total\")\n",
    "    plt.legend()\n",
    "    plt.xlabel(\"days\")\n",
    "    plt.ylabel(\"rice\")\n",
    "    plt.grid(color=\"gray\")\n",
    "    plt.show()"
   ]
  },
  {
   "cell_type": "code",
   "execution_count": 40,
   "metadata": {},
   "outputs": [
    {
     "data": {
      "image/png": "[encoded data removed]",
      "text/plain": [
       "<Figure size 432x288 with 1 Axes>"
      ]
     },
     "metadata": {
      "needs_background": "light"
     },
     "output_type": "display_data"
    }
   ],
   "source": [
    "list_n_grains, list_total_grains = compute_sorori_shinzaemon()\n",
    "plot_list(list_n_grains, list_total_grains)\n",
    "#print(list_n_grains)\n",
    "#print(list_total_grains)"
   ]
  },
  {
   "cell_type": "markdown",
   "metadata": {},
   "source": [
    "## 【問題2】100日目以外の米粒の数\n",
    "この逸話は30日だったり81日だったりと日数が曖昧です。どの話にも対応できるように日数を引数とした 関数 を作成しましょう。関数を作成した上で、コースを受講する日数の間でいくつ米粒をもらえるかを答えてください。前の問題同様に折れ線グラフも出力してください。"
   ]
  },
  {
   "cell_type": "code",
   "execution_count": 41,
   "metadata": {},
   "outputs": [
    {
     "data": {
      "image/png": "[encoded data removed]",
      "text/plain": [
       "<Figure size 432x288 with 1 Axes>"
      ]
     },
     "metadata": {
      "needs_background": "light"
     },
     "output_type": "display_data"
    }
   ],
   "source": [
    "list_n_grains, list_total_grains = compute_sorori_shinzaemon(120)\n",
    "plot_list(list_n_grains, list_total_grains)"
   ]
  },
  {
   "cell_type": "markdown",
   "metadata": {},
   "source": [
    "## 【問題3】貰える米で何人が何日生活できるか\n",
    "この米があれば何人が何日生活できるか計算する関数を作成してください。コースを受講する期間に貰える米粒で、このクラスにいる人数であれば、何日間生活できるかを出力してみましょう。\n",
    "\n",
    "関数の最低限の入力は 米粒の数(int) と 人数(int) 、出力は 生活できる日数(int) です。関数名やコメントなどは分かりやすく考えて作成してください。\n",
    "\n",
    "ここでは1日に必要な米粒の数は提示しません。自分なりに調べて、計算式に落とし込んでください。どう調べ、何を根拠にしたかもコメントを残しておいてください。"
   ]
  },
  {
   "cell_type": "code",
   "execution_count": 53,
   "metadata": {},
   "outputs": [
    {
     "name": "stdout",
     "output_type": "stream",
     "text": [
      "4ヶ月でもらえる米粒は1329227995784915872903807060280344575粒です。\n",
      "ひとり２合を毎日食べた時、クラスメイト９名が生活できる日数は\n",
      "11360923040896717753291596890112日です\n",
      "(31125816550401968158395072512年)\n"
     ]
    }
   ],
   "source": [
    "# 4ヶ月コースなので30日x4=120\n",
    "list_n_grains, list_total_grains = compute_sorori_shinzaemon(120)\n",
    "# print(list_total_grains[-1])\n",
    "total_rice = list_total_grains[-1]\n",
    "# 1日1人13,000粒（2合）*生徒9人\n",
    "oneday_rice = 13000*9\n",
    "how_days = total_rice / oneday_rice\n",
    "how_years = how_days/365\n",
    "print(\"4ヶ月でもらえる米粒は{}粒です。\\nひとり２合を毎日食べた時、クラスメイト９名が生活できる日数は\\n{:.0f}日です\\n({:.0f}年)\".format(total_rice, how_days, how_years))\n",
    "#print(list_n_grains)\n",
    "#print(list_total_grains)"
   ]
  },
  {
   "cell_type": "code",
   "execution_count": null,
   "metadata": {},
   "outputs": [],
   "source": []
  }
 ],
 "metadata": {
  "kernelspec": {
   "display_name": "Python 3",
   "language": "python",
   "name": "python3"
  },
  "language_info": {
   "codemirror_mode": {
    "name": "ipython",
    "version": 3
   },
   "file_extension": ".py",
   "mimetype": "text/x-python",
   "name": "python",
   "nbconvert_exporter": "python",
   "pygments_lexer": "ipython3",
   "version": "3.7.0"
  }
 },
 "nbformat": 4,
 "nbformat_minor": 2
}
