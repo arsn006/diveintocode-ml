{
 "cells": [
  {
   "cell_type": "markdown",
   "metadata": {},
   "source": [
    "\n",
    "# week1 授業課題3 栗まんじゅう問題\n",
    "## 【問題】栗まんじゅうが太陽系を覆う日\n",
    "- 1個の栗まんじゅうにバイバインを振りかけた場合、太陽系が栗まんじゅうで覆われるのは何分後でしょうか。これを計算するプログラムを作成してください。\n",
    "\n",
    "- 栗まんじゅうや太陽系の体積を調査した上で仮定して計算してください。栗まんじゅうの隙間や重力などは考えず、問題を単純化して構いません。\n",
    "\n",
    "- ボールにバイバインを振りかけた時、東京ドームが一杯になる時間など他の状況にも適用できるような汎用的なプログラムを作成してください。また、グラフを表示するなど分かりやすいノートブックを作成してください。"
   ]
  },
  {
   "cell_type": "markdown",
   "metadata": {},
   "source": [
    "## 指数と対数\n",
    "$$\n",
    "2x1→2x2→...2^n\\\\\n",
    "2^{12} = 4096\\\\\n",
    "2を12乗すると4096になる\\\\\n",
    "log_2 4096 = 12\\\\\n",
    "2を何乗すると4096になるか？　2を底とする4096の対数\\\\\n",
    "4096は真数と呼ぶ\n",
    "$$\n",
    "## 条件\n",
    "底の条件：a > 0, a≠ 1\n",
    "真数の条件： x > 0"
   ]
  },
  {
   "cell_type": "markdown",
   "metadata": {},
   "source": [
    "### 公式\n",
    "$$\n",
    "① log_a MN = log_a M + log_a N\\\\\n",
    "log_2 (8 \\times 4) = log_2 32 = 5 = 3 + 2 = log_2 8 + log_2 4\\\\\n",
    "② log_a \\frac{M}{N} = log_a M - log_a N\\\\\n",
    "log_2 \\frac{8}{4} = log_2 2 = 1 = 3 - 2 = log_2 8 - log_2 4\\\\\n",
    "③ log_a M^k = k log_a M\\\\\n",
    "log_2 8^3 = log_2 512 = 9 = 3 \\times 3 = 3 log_2 8\\\\\n",
    "$$"
   ]
  },
  {
   "cell_type": "markdown",
   "metadata": {},
   "source": [
    "\n",
    "- 栗まんじゅうの体積ax2のn乗=太陽系の体積b\n",
    "- ax2を底とする(b - a)の対数\n",
    "$$\n",
    "    a\\times log_2 (b - a)\n",
    "$$"
   ]
  },
  {
   "cell_type": "code",
   "execution_count": 36,
   "metadata": {},
   "outputs": [],
   "source": [
    "import math\n",
    "import matplotlib.pyplot as plt\n",
    "\n",
    "#print(math.log2(4096))\n",
    "#print(2**12)"
   ]
  },
  {
   "cell_type": "markdown",
   "metadata": {},
   "source": [
    "## 栗まんじゅうが太陽系を覆う日　対数を使って解いてみる"
   ]
  },
  {
   "cell_type": "code",
   "execution_count": 122,
   "metadata": {},
   "outputs": [],
   "source": [
    "def baibain(a, s):\n",
    "    # aはバイバインを振りかける物体　sは満たす器の容量\n",
    "    # 1回目の物体aの体積をsから引いておく\n",
    "    # a * 2^n = sなのでs / aをする\n",
    "    x = (s - a)/a\n",
    "    n = math.log2(x)\n",
    "    ans = math.ceil(n)\n",
    "    plotls = []\n",
    "    for i in range(1, ans + 1):\n",
    "        plotls.append(a*2**i)\n",
    "        #print(a*2**i)\n",
    "    return ans,plotls"
   ]
  },
  {
   "cell_type": "code",
   "execution_count": 141,
   "metadata": {},
   "outputs": [],
   "source": [
    "def plot_baibain(plotls,s):\n",
    "    # pltls = プロット用のリスト型、s = 満たす器の容量\n",
    "    %matplotlib inline\n",
    "    plt.plot(plotls)\n",
    "    plt.hlines(y=s, xmin=0, xmax=len(plotls), color=\"y\", linestyle=\"dashed\")\n",
    "    plt.show"
   ]
  },
  {
   "cell_type": "code",
   "execution_count": 142,
   "metadata": {},
   "outputs": [
    {
     "name": "stdout",
     "output_type": "stream",
     "text": [
      "太陽系が栗まんじゅうで満たされるのは710分後です\n"
     ]
    },
    {
     "data": {
      "image/png": "[encoded data removed]",
      "text/plain": [
       "<Figure size 432x288 with 1 Axes>"
      ]
     },
     "metadata": {
      "needs_background": "light"
     },
     "output_type": "display_data"
    }
   ],
   "source": [
    "# 栗まんじゅうは「すや」の栗まんじゅう6cm x 4cm x 3cm\n",
    "kuri = 6*4*3\n",
    "# 太陽系の広さを半径45億km（45 x 10^8）の球と仮定する　mに変換すると（45 x 10^11） cmに変換すると（45 x 10^13）　\n",
    "# 半径45億kmはJAXAの太陽系の構成、太陽から海王星までの距離を参照\n",
    "solar_r = 45*10**13\n",
    "solar = 4/3*math.pi*solar_r**3\n",
    "n,plotls = baibain(kuri, solar)\n",
    "print(\"太陽系が栗まんじゅうで満たされるのは{}分後です\".format(n * 5))\n",
    "#print(plotls[-1])\n",
    "#print(solar)\n",
    "#print(n)\n",
    "plot_baibain(plotls,solar)"
   ]
  },
  {
   "cell_type": "code",
   "execution_count": 143,
   "metadata": {},
   "outputs": [
    {
     "name": "stdout",
     "output_type": "stream",
     "text": [
      "東京ドームが硬式ボールで満たされるのは150分後です\n"
     ]
    },
    {
     "data": {
      "image/png": "[encoded data removed]",
      "text/plain": [
       "<Figure size 432x288 with 1 Axes>"
      ]
     },
     "metadata": {
      "needs_background": "light"
     },
     "output_type": "display_data"
    }
   ],
   "source": [
    "# 東京ドームの体積は124万立法メートル\n",
    "# 野球の硬式ボールの半径は約7.4cm\n",
    "ball = 4/3*math.pi*7.4**3\n",
    "dome = 124*10**10\n",
    "n,plotls = baibain(ball, dome)\n",
    "print(\"東京ドームが硬式ボールで満たされるのは{}分後です\".format(n * 5))\n",
    "#print(\"ball\", ball)\n",
    "#print(\"dome\", dome)\n",
    "#print(n)\n",
    "plot_baibain(plotls,dome)"
   ]
  },
  {
   "cell_type": "markdown",
   "metadata": {},
   "source": [
    "# 栗まんじゅう whileを使って解いてみる"
   ]
  },
  {
   "cell_type": "code",
   "execution_count": 144,
   "metadata": {},
   "outputs": [],
   "source": [
    "def baibain_while(a,s):\n",
    "    # aはバイバインを振りかける物体　sは満たす器の容量\n",
    "    total = a\n",
    "    count = 1\n",
    "    t_list = []\n",
    "    t_list.append(a)\n",
    "    while total <= s:\n",
    "        total += a*2**count\n",
    "        t_list.append(total)\n",
    "        count += 1\n",
    "    return t_list"
   ]
  },
  {
   "cell_type": "code",
   "execution_count": 145,
   "metadata": {},
   "outputs": [
    {
     "name": "stdout",
     "output_type": "stream",
     "text": [
      "太陽系が栗まんじゅうで満たされるのは710分後です\n"
     ]
    },
    {
     "data": {
      "image/png": "[encoded data removed]",
      "text/plain": [
       "<Figure size 432x288 with 1 Axes>"
      ]
     },
     "metadata": {
      "needs_background": "light"
     },
     "output_type": "display_data"
    }
   ],
   "source": [
    "# 栗まんじゅうは「すや」の栗まんじゅう6cm x 4cm x 3cm\n",
    "kuri = 6*4*3\n",
    "# 太陽系の広さを半径45億km（45 x 10^8）の球と仮定する　mに変換すると（45 x 10^11） cmに変換すると（45 x 10^13）　\n",
    "# 半径45億kmはJAXAの太陽系の構成、太陽から海王星までの距離を参照\n",
    "solar_r = 45*10**13\n",
    "solar = 4/3*math.pi*solar_r**3\n",
    "t_list = baibain_while(kuri, solar)\n",
    "print(\"太陽系が栗まんじゅうで満たされるのは{}分後です\".format(len(t_list) * 5))\n",
    "plot_baibain(t_list,solar)"
   ]
  },
  {
   "cell_type": "code",
   "execution_count": 146,
   "metadata": {},
   "outputs": [
    {
     "name": "stdout",
     "output_type": "stream",
     "text": [
      "東京ドームが硬式ボールで満たされるのは150分後です\n"
     ]
    },
    {
     "data": {
      "image/png": "[encoded data removed]",
      "text/plain": [
       "<Figure size 432x288 with 1 Axes>"
      ]
     },
     "metadata": {
      "needs_background": "light"
     },
     "output_type": "display_data"
    }
   ],
   "source": [
    "# 東京ドームの体積は124万立法メートル\n",
    "# 野球の硬式ボールの半径は約7.4cm\n",
    "ball = 4/3*math.pi*7.4**3\n",
    "dome = 124*10**10\n",
    "plotls = baibain_while(ball, dome)\n",
    "print(\"東京ドームが硬式ボールで満たされるのは{}分後です\".format(n * 5))\n",
    "plot_baibain(plotls,dome)"
   ]
  },
  {
   "cell_type": "markdown",
   "metadata": {},
   "source": [
    "結果：logを使用しても、while文で書いても結果は同じであった"
   ]
  }
 ],
 "metadata": {
  "kernelspec": {
   "display_name": "Python 3",
   "language": "python",
   "name": "python3"
  },
  "language_info": {
   "codemirror_mode": {
    "name": "ipython",
    "version": 3
   },
   "file_extension": ".py",
   "mimetype": "text/x-python",
   "name": "python",
   "nbconvert_exporter": "python",
   "pygments_lexer": "ipython3",
   "version": "3.7.0"
  }
 },
 "nbformat": 4,
 "nbformat_minor": 2
}
