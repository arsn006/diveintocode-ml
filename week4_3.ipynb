{
 "cells": [
  {
   "cell_type": "markdown",
   "metadata": {},
   "source": [
    "# week4 授業前課題3 オブジェクト指向の活用"
   ]
  },
  {
   "cell_type": "markdown",
   "metadata": {},
   "source": [
    "## 【問題1】これまで利用してきたクラスの列挙\n",
    "クラスを使う際はインスタンス化を行うことと、クラスの命名法がわかりました。<br>\n",
    "この情報を元に、これまでの課題で利用してきたコードの中でどのようなクラスがあったかを答えてください。<br>\n",
    "Pandas、matplotlib、scikit-learnからそれぞれ1つ以上見つけてください。"
   ]
  },
  {
   "cell_type": "markdown",
   "metadata": {},
   "source": [
    "【回答】<br>\n",
    "- pandas.DataFrame\n",
    "- matplotlib.figure.Figure\n",
    "- sklearn.tree.DecisionTreeRegressor"
   ]
  },
  {
   "cell_type": "markdown",
   "metadata": {},
   "source": [
    "## 【問題2】これまで利用してきたメソッドやインスタンス変数の列挙\n",
    "これまでの課題で利用してきたコードの中でどのようなメソッドやインスタンス変数があったかを答えてください。<br>\n",
    "最低でもそれぞれ5つ以上答えてください。"
   ]
  },
  {
   "cell_type": "markdown",
   "metadata": {},
   "source": [
    "【回答】<br>\n",
    "メソッド\n",
    "- pandas.DataFrame.info()\n",
    "- numpy.sin()\n",
    "- matplotlib.pyplot.plt()\n",
    "- sklearn.tree.DecisionTreeRegressor.fit()\n",
    "- len()\n",
    "\n",
    "インスタンス変数\n",
    "- pandas.DataFrame.columns\n",
    "- pandas.DataFrame.iloc\n",
    "- sklearn.linear_model.LinearRegression.self.copy_X\n",
    "- numpy.array.dtype\n",
    "- numpy.array.size"
   ]
  },
  {
   "cell_type": "markdown",
   "metadata": {},
   "source": [
    "## 【問題3】標準化クラスをスクラッチで作成"
   ]
  },
  {
   "cell_type": "code",
   "execution_count": 59,
   "metadata": {},
   "outputs": [
    {
     "name": "stdout",
     "output_type": "stream",
     "text": [
      "平均 : [4.86 3.31 1.45 0.22]\n",
      "分散 : [0.0764 0.0849 0.0105 0.0056]\n",
      "標準化 : [[ 0.86828953  0.65207831 -0.48795004 -0.26726124]\n",
      " [ 0.14471492 -1.06391725 -0.48795004 -0.26726124]\n",
      " [-0.57885968 -0.37751902 -1.46385011 -0.26726124]\n",
      " [-0.94064699 -0.72071813  0.48795004 -0.26726124]\n",
      " [ 0.50650222  0.99527742 -0.48795004 -0.26726124]\n",
      " [ 1.95365143  2.02487476  2.43975018  2.40535118]\n",
      " [-0.94064699  0.3088792  -0.48795004  1.06904497]\n",
      " [ 0.50650222  0.3088792   0.48795004 -0.26726124]\n",
      " [-1.66422159 -1.40711636 -0.48795004 -0.26726124]\n",
      " [ 0.14471492 -0.72071813  0.48795004 -1.60356745]]\n"
     ]
    }
   ],
   "source": [
    "# StandardScalerの挙動\n",
    "import numpy as np\n",
    "from sklearn.preprocessing import StandardScaler\n",
    "from sklearn.datasets import load_iris\n",
    "data = load_iris()\n",
    "X = data.data[:10]\n",
    "scaler = StandardScaler()\n",
    "scaler.fit(X)\n",
    "print(\"平均 :\", scaler.mean_)\n",
    "print(\"分散 :\", scaler.var_)\n",
    "X_std = scaler.transform(X)\n",
    "print(\"標準化 :\", X_std)"
   ]
  },
  {
   "cell_type": "markdown",
   "metadata": {},
   "source": [
    "### スクラッチ"
   ]
  },
  {
   "cell_type": "code",
   "execution_count": 57,
   "metadata": {},
   "outputs": [],
   "source": [
    "class ScratchStandardScaler():\n",
    "    \"\"\"\n",
    "    標準化のためのクラス\n",
    "    Attributes\n",
    "    -------------\n",
    "    mean_ : 次の形のndarray, shape(n_features,) 平均\n",
    "    ss_       : 平方和\n",
    "    var_     : 次の形のndarray, shape(n_features,) 分散\n",
    "    s_         : 標準偏差\n",
    "    \"\"\"\n",
    "        \n",
    "    def fit(self, X):\n",
    "        \"\"\"\n",
    "        標準化のために平均と標準偏差を計算する\n",
    "        Parameters\n",
    "        --------------\n",
    "        X :次の形のndarray, shape(n_samples, n_features) 訓練データ\n",
    "        \"\"\"\n",
    "        \n",
    "        self.mean_ = X.mean(axis=0)\n",
    "        self.ss_ = np.sum((X - self.mean_)**2, axis=0)\n",
    "        self.var_ = self.ss_ / len(X)\n",
    "        self.s_ = np.sqrt(self.var_)\n",
    "        pass\n",
    "    def transform(self, X):\n",
    "        \"\"\"\n",
    "        fitで求めた値を使い標準化を行う\n",
    "        Parameters\n",
    "        --------------\n",
    "        X: 次の形のndarray, shape(n_samples, n_features) 特徴量\n",
    "        Returns\n",
    "        --------------\n",
    "        X_scaled :次の形のndarray, shape(n_samples, n_features) 標準化された特徴量\n",
    "        \"\"\"\n",
    "        # 標準化= (個々のデータ - 平均)/標準偏差\n",
    "        X_scaled = (X - self.mean_) / self.s_\n",
    "        pass\n",
    "        return X_scaled\n",
    "    "
   ]
  },
  {
   "cell_type": "code",
   "execution_count": 58,
   "metadata": {},
   "outputs": [
    {
     "name": "stdout",
     "output_type": "stream",
     "text": [
      "平均 ： [4.86 3.31 1.45 0.22]\n",
      "平方和 ： [0.764 0.849 0.105 0.056]\n",
      "分散 ： [0.0764 0.0849 0.0105 0.0056]\n",
      "標準偏差 ： [0.2764055  0.29137605 0.10246951 0.07483315]\n",
      "標準化：[[ 0.86828953  0.65207831 -0.48795004 -0.26726124]\n",
      " [ 0.14471492 -1.06391725 -0.48795004 -0.26726124]\n",
      " [-0.57885968 -0.37751902 -1.46385011 -0.26726124]\n",
      " [-0.94064699 -0.72071813  0.48795004 -0.26726124]\n",
      " [ 0.50650222  0.99527742 -0.48795004 -0.26726124]\n",
      " [ 1.95365143  2.02487476  2.43975018  2.40535118]\n",
      " [-0.94064699  0.3088792  -0.48795004  1.06904497]\n",
      " [ 0.50650222  0.3088792   0.48795004 -0.26726124]\n",
      " [-1.66422159 -1.40711636 -0.48795004 -0.26726124]\n",
      " [ 0.14471492 -0.72071813  0.48795004 -1.60356745]]\n"
     ]
    }
   ],
   "source": [
    "import numpy as np\n",
    "from sklearn.datasets import load_iris\n",
    "data = load_iris()\n",
    "X = data.data[: 10]\n",
    "scratch_scaler = ScratchStandardScaler()\n",
    "scratch_scaler.fit(X)\n",
    "print(\"平均 ： {}\".format(scratch_scaler.mean_))\n",
    "print(\"平方和 ： {}\".format(scratch_scaler.ss_))\n",
    "print(\"分散 ： {}\".format(scratch_scaler.var_))\n",
    "print(\"標準偏差 ： {}\".format(scratch_scaler.s_))\n",
    "X_std = scratch_scaler.transform(X)\n",
    "print(\"標準化：{}\".format(X_std))"
   ]
  },
  {
   "cell_type": "markdown",
   "metadata": {},
   "source": [
    "## 【問題4】 四則演算を行うクラスの作成\n",
    "上記ExampleClassは足し算のメソッドを持っていますが、これに引き算、掛け算、割り算のメソッドを加えてください。<br>\n",
    "コンストラクタに入力されたvalueが文字列や配列など数値以外だった場合にはエラーを出すようにしてください。<br>\n",
    "クラス名や説明文も適切に書き換えてください。<br>"
   ]
  },
  {
   "cell_type": "code",
   "execution_count": 77,
   "metadata": {},
   "outputs": [],
   "source": [
    "class ExampleClass():\n",
    "    \"\"\"\n",
    "    四則演算を行うクラス\n",
    "    \n",
    "    Parameters\n",
    "    --------------\n",
    "    value : float or int\n",
    "    　　　　初期値\n",
    "    \n",
    "    Attributes(属性)\n",
    "    -------------\n",
    "    value : float or int\n",
    "    　　　　計算結果\n",
    "    \"\"\"\n",
    "    def __init__(self, value):\n",
    "        self.value = value\n",
    "        print(\"初期値{}が設定されました\".format(self.value))\n",
    "    def add(self, value2):\n",
    "        \"\"\"\n",
    "        受け取った引数をself.valueに加える\n",
    "        \"\"\"\n",
    "        if not isinstance(value2, (int, float)):\n",
    "            warnings.warn(\"数値を入れてください\")\n",
    "        else:\n",
    "            self.value += value2\n",
    "    def subtraction(self, value2):\n",
    "        \"\"\"\n",
    "        受け取った引数をself.valueから引く\n",
    "        \"\"\"\n",
    "        if not isinstance(value2, (int, float)):\n",
    "            warnings.warn(\"数値を入れてください\")\n",
    "        else:\n",
    "            self.value -= value2\n",
    "    def multiplication(self, value2):\n",
    "        \"\"\"\n",
    "        受け取った引数をself.valueにかける\n",
    "        \"\"\"\n",
    "        if not isinstance(value2, (int, float)):\n",
    "            warnings.warn(\"数値を入れてください\")\n",
    "        else:\n",
    "            self.value *= value2\n",
    "    \n",
    "    def division(self, value2):\n",
    "        \"\"\"\n",
    "        受け取った引数でself.valueを割る\n",
    "        \"\"\"\n",
    "        if not isinstance(value2, (int, float)):\n",
    "            warnings.warn(\"数値を入れてください\")\n",
    "        else:\n",
    "            self.value /= value2"
   ]
  },
  {
   "cell_type": "code",
   "execution_count": 78,
   "metadata": {},
   "outputs": [
    {
     "name": "stdout",
     "output_type": "stream",
     "text": [
      "初期値5が設定されました\n",
      "value  :  5\n",
      "value  :  8\n",
      "value  :  6\n",
      "value  :  18\n",
      "value  :  6.0\n",
      "value  :  6.0\n"
     ]
    },
    {
     "name": "stderr",
     "output_type": "stream",
     "text": [
      "/Users/arisa/.pyenv/versions/anaconda3-5.3.1/lib/python3.7/site-packages/ipykernel_launcher.py:39: UserWarning: 数値を入れてください\n"
     ]
    }
   ],
   "source": [
    "import warnings\n",
    "example = ExampleClass(5)\n",
    "print(\"value  :  {}\".format(example.value))\n",
    "example.add(3)\n",
    "print(\"value  :  {}\".format(example.value))\n",
    "example.subtraction(2)\n",
    "print(\"value  :  {}\".format(example.value))\n",
    "example.multiplication(3)\n",
    "print(\"value  :  {}\".format(example.value))\n",
    "example.division(3)\n",
    "print(\"value  :  {}\".format(example.value))\n",
    "example.multiplication(\"str\")\n",
    "print(\"value  :  {}\".format(example.value))"
   ]
  },
  {
   "cell_type": "code",
   "execution_count": null,
   "metadata": {},
   "outputs": [],
   "source": []
  }
 ],
 "metadata": {
  "kernelspec": {
   "display_name": "Python 3",
   "language": "python",
   "name": "python3"
  },
  "language_info": {
   "codemirror_mode": {
    "name": "ipython",
    "version": 3
   },
   "file_extension": ".py",
   "mimetype": "text/x-python",
   "name": "python",
   "nbconvert_exporter": "python",
   "pygments_lexer": "ipython3",
   "version": "3.7.2"
  }
 },
 "nbformat": 4,
 "nbformat_minor": 2
}
