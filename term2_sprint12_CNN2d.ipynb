{
 "cells": [
  {
   "cell_type": "markdown",
   "metadata": {},
   "source": [
    "# sprint12 畳み込みニューラルネットワーク2"
   ]
  },
  {
   "cell_type": "markdown",
   "metadata": {},
   "source": [
    "## 2次元の畳み込みニューラルネットワークスクラッチ\n",
    "\n",
    "2次元に対応した畳み込みニューラルネットワーク（CNN）のクラスをスクラッチで作成していきます。NumPyなど最低限のライブラリのみを使いアルゴリズムを実装していきます。\n",
    "\n",
    "\n",
    "プーリング層なども作成することで、CNNの基本形を完成させます。クラスの名前はScratch2dCNNClassifierとしてください。\n",
    "\n",
    "\n",
    "### データセットの用意\n",
    "引き続きMNISTデータセットを使用します。2次元畳み込み層へは、28×28の状態で入力します。\n",
    "\n",
    "\n",
    "今回は白黒画像ですからチャンネルは1つしかありませんが、チャンネル方向の軸は用意しておく必要があります。\n",
    "\n",
    "\n",
    "(n_samples, n_channels, height, width)のNCHWまたは(n_samples, height, width, n_channels)のNHWCどちらかの形にしてください。"
   ]
  },
  {
   "cell_type": "markdown",
   "metadata": {},
   "source": [
    "## 【問題1】2次元畳み込み層の作成\n",
    "1次元畳み込み層のクラスConv1dを発展させ、2次元畳み込み層のクラスConv2dを作成してください。"
   ]
  },
  {
   "cell_type": "markdown",
   "metadata": {},
   "source": [
    "→SimpleConv2d"
   ]
  },
  {
   "cell_type": "markdown",
   "metadata": {},
   "source": [
    "## 【問題2】2次元畳み込み後の出力サイズ\n",
    "畳み込みを行うと特徴マップのサイズが変化します。どのように変化するかは以下の数式から求められます。この計算を行う関数を作成してください。"
   ]
  },
  {
   "cell_type": "markdown",
   "metadata": {},
   "source": [
    "→Scratch2dCNNClassifierの中"
   ]
  },
  {
   "cell_type": "markdown",
   "metadata": {},
   "source": [
    "## 【問題3】最大プーリング層の作成"
   ]
  },
  {
   "cell_type": "markdown",
   "metadata": {},
   "source": [
    "→MaxPool2D"
   ]
  },
  {
   "cell_type": "markdown",
   "metadata": {},
   "source": [
    "## 【問題5】平滑化"
   ]
  },
  {
   "cell_type": "markdown",
   "metadata": {},
   "source": [
    "→Flatten（問１を動かすために、先にScratch2dCNNClassifierの中で実装してしまったのでクラスは作成しましたが、呼んでいません）"
   ]
  },
  {
   "cell_type": "code",
   "execution_count": 1,
   "metadata": {},
   "outputs": [],
   "source": [
    "import numpy as np\n",
    "import matplotlib.pyplot as plt"
   ]
  },
  {
   "cell_type": "code",
   "execution_count": 2,
   "metadata": {},
   "outputs": [
    {
     "name": "stderr",
     "output_type": "stream",
     "text": [
      "Using TensorFlow backend.\n"
     ]
    }
   ],
   "source": [
    "# 《データセットをダウンロードするコード》 28*28\n",
    "np.set_printoptions(precision=8)    # 小数点以下出力桁数\n",
    "np.set_printoptions(suppress=True)    #指数表示禁止\n",
    "\n",
    "from keras.datasets import mnist\n",
    "(X_train, y_train), (X_test, y_test) = mnist.load_data()"
   ]
  },
  {
   "cell_type": "code",
   "execution_count": 3,
   "metadata": {},
   "outputs": [],
   "source": [
    "X_train = X_train.reshape(60000, 1, 28, 28)\n",
    "X_test = X_test.reshape(10000, 1, 28, 28)"
   ]
  },
  {
   "cell_type": "code",
   "execution_count": 4,
   "metadata": {},
   "outputs": [
    {
     "name": "stdout",
     "output_type": "stream",
     "text": [
      "(48000, 1, 28, 28)\n",
      "(12000, 1, 28, 28)\n"
     ]
    }
   ],
   "source": [
    "# 前処理\n",
    "X_train = X_train.astype(np.float)\n",
    "X_test = X_test.astype(np.float)\n",
    "X_train /= 255\n",
    "X_test /= 255\n",
    "# 分割\n",
    "from sklearn.model_selection import train_test_split\n",
    "X_train, X_val, y_train, y_val = train_test_split(X_train, y_train, test_size=0.2)\n",
    "print(X_train.shape) # (48000, 784)\n",
    "print(X_val.shape) # (12000, 784)"
   ]
  },
  {
   "cell_type": "code",
   "execution_count": 5,
   "metadata": {},
   "outputs": [],
   "source": [
    "from sklearn.preprocessing import OneHotEncoder\n",
    "# one-hotエンコーディング\n",
    "enc = OneHotEncoder(handle_unknown=\"ignore\", sparse=False)\n",
    "y_train_onehot = enc.fit_transform(y_train[:, np.newaxis])"
   ]
  },
  {
   "cell_type": "markdown",
   "metadata": {},
   "source": [
    "### 初期値クラス SimpleInitializer"
   ]
  },
  {
   "cell_type": "code",
   "execution_count": 6,
   "metadata": {},
   "outputs": [],
   "source": [
    "class SimpleInitializer:\n",
    "    \"\"\"\n",
    "    ガウス分布によるシンプルな初期化\n",
    "    Parameters\n",
    "    ----------\n",
    "    sigma : float\n",
    "      ガウス分布の標準偏差\n",
    "    \"\"\"\n",
    "    def __init__(self, sigma):\n",
    "        self.sigma = sigma\n",
    "        \n",
    "    def W(self, n_nodes1, n_nodes2, Fh=None, Fw=None):\n",
    "        \"\"\"\n",
    "        重みの初期化\n",
    "        Parameters\n",
    "        ----------\n",
    "        FC層\n",
    "        n_nodes1 : int\n",
    "          前の層のノード数\n",
    "        n_nodes2 : int\n",
    "          後の層のノード数\n",
    "        \n",
    "        conv層(Out_ch、In_ch、Fil_w)\n",
    "        n_nodes1 : int\n",
    "          後の層のノード数\n",
    "        n_nodes2 : int\n",
    "          前の層のノード数\n",
    "        Fil_w  :  int\n",
    "           フィルタ幅\n",
    "        \n",
    "        Returns\n",
    "        ----------\n",
    "        W :\n",
    "        \"\"\"\n",
    "        if Fh == None:\n",
    "            W = self.sigma * np.random.randn(n_nodes1, n_nodes2)\n",
    "        else:\n",
    "            W = self.sigma * np.random.randn(n_nodes1, n_nodes2, Fh, Fw)\n",
    "\n",
    "        return W\n",
    "    \n",
    "    def B(self, n_nodes2):\n",
    "        \"\"\"\n",
    "        バイアスの初期化\n",
    "        Parameters\n",
    "        ----------\n",
    "        n_nodes2 : int\n",
    "          後の層のノード数\n",
    "\n",
    "        Returns\n",
    "        ----------\n",
    "        B :\n",
    "        \"\"\"\n",
    "        B = self.sigma * np.random.randn(n_nodes2)\n",
    "        return B"
   ]
  },
  {
   "cell_type": "markdown",
   "metadata": {},
   "source": [
    "### 初期値クラス  XavierInitializer"
   ]
  },
  {
   "cell_type": "code",
   "execution_count": 7,
   "metadata": {},
   "outputs": [],
   "source": [
    "class XavierInitializer:\n",
    "    def W(self, n_nodes1, n_nodes2, Fh=None, Fw=None):\n",
    "        self.sigma = 1/np.sqrt(n_nodes1)\n",
    "        if Fh == None:\n",
    "            W = self.sigma * np.random.randn(n_nodes1, n_nodes2)\n",
    "        else:\n",
    "            W = self.sigma * np.random.randn(n_nodes1, n_nodes2, Fh, Fw)\n",
    "        return W\n",
    "    \n",
    "    def B(self, n_nodes2):\n",
    "        B = self.sigma * np.random.randn(n_nodes2)\n",
    "        return B"
   ]
  },
  {
   "cell_type": "markdown",
   "metadata": {},
   "source": [
    "### 初期値クラス  HeInitializer"
   ]
  },
  {
   "cell_type": "code",
   "execution_count": 8,
   "metadata": {},
   "outputs": [],
   "source": [
    "class HeInitializer:\n",
    "    def W(self, n_nodes1, n_nodes2, Fh=None, Fw=None):\n",
    "        self.sigma = np.sqrt(2/n_nodes1)\n",
    "        if Fh == None:\n",
    "            W = self.sigma * np.random.randn(n_nodes1, n_nodes2)\n",
    "        else:\n",
    "            W = self.sigma * np.random.randn(n_nodes1, n_nodes2, Fh, Fw)\n",
    "        return W\n",
    "    \n",
    "    def B(self, n_nodes2):\n",
    "        B = self.sigma * np.random.randn(n_nodes2)\n",
    "        return B"
   ]
  },
  {
   "cell_type": "markdown",
   "metadata": {},
   "source": [
    "### Optimizer SGD"
   ]
  },
  {
   "cell_type": "code",
   "execution_count": 9,
   "metadata": {},
   "outputs": [],
   "source": [
    "class SGD:\n",
    "    \"\"\"\n",
    "    確率的勾配降下法\n",
    "    Parameters\n",
    "    ----------\n",
    "    lr : 学習率\n",
    "    \"\"\"\n",
    "    def __init__(self, lr):\n",
    "        self.lr = lr\n",
    "        \n",
    "    def update(self, layer):\n",
    "        \"\"\"\n",
    "        ある層の重みやバイアスの更新\n",
    "        Parameters\n",
    "        ----------\n",
    "        layer : 更新前の層のインスタンス\n",
    "        \"\"\"\n",
    "        layer.w -= self.lr*layer.dW\n",
    "        layer.b -= self.lr*layer.dB\n",
    "        \n",
    "        return layer"
   ]
  },
  {
   "cell_type": "markdown",
   "metadata": {},
   "source": [
    "### Optimizer AdaGrad"
   ]
  },
  {
   "cell_type": "code",
   "execution_count": 10,
   "metadata": {},
   "outputs": [],
   "source": [
    "class AdaGrad:\n",
    "    \"\"\"\n",
    "    AdaGrad\n",
    "    Parameters\n",
    "    ----------\n",
    "    lr : 学習率\n",
    "    \"\"\"\n",
    "    def __init__(self, lr, hw, hb):\n",
    "        self.lr = lr\n",
    "        self.hw = hw\n",
    "        self.hb = hb\n",
    "        \n",
    "    def update(self, layer):\n",
    "        self.hw = layer.dW**2 + self.hw\n",
    "        layer.w -= self.lr * np.sqrt(self.hw) * layer.dW\n",
    "        \n",
    "        self.hb = layer.dB**2 + self.hb\n",
    "        layer.b -= self.lr * np.sqrt(self.hb) *  layer.dB\n",
    "        \n",
    "        return layer"
   ]
  },
  {
   "cell_type": "markdown",
   "metadata": {},
   "source": [
    "### 活性化関数 ReLU"
   ]
  },
  {
   "cell_type": "code",
   "execution_count": 11,
   "metadata": {},
   "outputs": [],
   "source": [
    "class ReLU:\n",
    "    def __init__(self):\n",
    "        pass\n",
    "    \n",
    "    def forward(self, A):\n",
    "        self.Z = np.maximum(A, 0)\n",
    "        return self.Z\n",
    "    \n",
    "    def backward(self,dZ):\n",
    "        dA = np.where(self.Z > 0, dZ, 0)\n",
    "        return dA"
   ]
  },
  {
   "cell_type": "markdown",
   "metadata": {},
   "source": [
    "### 活性化関数 Softmax"
   ]
  },
  {
   "cell_type": "code",
   "execution_count": 12,
   "metadata": {},
   "outputs": [],
   "source": [
    "class Softmax:\n",
    "    def __init__(self):\n",
    "        pass\n",
    "    \n",
    "    def forward(self, A):\n",
    "        self.Z = np.exp(A)/np.sum(np.exp(A), axis=1, keepdims=True)\n",
    "        return self.Z\n",
    "    \n",
    "    def backward(self, ty):\n",
    "        dA = self.Z - ty\n",
    "        return dA"
   ]
  },
  {
   "cell_type": "markdown",
   "metadata": {},
   "source": [
    "### 活性化関数 Sigmoid"
   ]
  },
  {
   "cell_type": "code",
   "execution_count": 13,
   "metadata": {},
   "outputs": [],
   "source": [
    "class Sigmoid:\n",
    "    def __init__(self):\n",
    "        pass\n",
    "    \n",
    "    def forward(self, A):\n",
    "        self.Z = 1/(1+np.exp(-A)) \n",
    "        return self.Z\n",
    "    \n",
    "    def backward(self, dZ):\n",
    "        dA = dZ * (1 - self.Z) * self.Z\n",
    "        return dA"
   ]
  },
  {
   "cell_type": "markdown",
   "metadata": {},
   "source": [
    "### 活性化関数 Tanh"
   ]
  },
  {
   "cell_type": "code",
   "execution_count": 14,
   "metadata": {},
   "outputs": [],
   "source": [
    "class Tanh:\n",
    "    def __init__(self):\n",
    "        pass\n",
    "    \n",
    "    def forward(self, A):\n",
    "        \n",
    "        self.Z = np.tanh(A)\n",
    "        return self.Z\n",
    "    \n",
    "    def backward(self, dZ):\n",
    "        dA = dZ * (1 - self.Z**2)    #tanh関数の微分\n",
    "        return dA"
   ]
  },
  {
   "cell_type": "markdown",
   "metadata": {},
   "source": [
    "### FC層"
   ]
  },
  {
   "cell_type": "code",
   "execution_count": 15,
   "metadata": {},
   "outputs": [],
   "source": [
    "class FC:\n",
    "    \"\"\"\n",
    "    ノード数n_nodes1からn_nodes2への全結合層\n",
    "    Parameters\n",
    "    ----------\n",
    "    n_nodes1 : int\n",
    "      前の層のノード数\n",
    "    n_nodes2 : int\n",
    "      後の層のノード数\n",
    "    initializer : 初期化方法のインスタンス\n",
    "    optimizer : 最適化手法のインスタンス\n",
    "    \"\"\"\n",
    "        \n",
    "    def __init__(self, n_nodes1, n_nodes2, initializer, optimizer):\n",
    "        self.optimizer = optimizer\n",
    "        # 初期化\n",
    "        # initializerのメソッドを使い、self.Wとself.Bを初期化する\n",
    "        self.w = initializer.W(n_nodes1, n_nodes2)\n",
    "        self.b = initializer.B(n_nodes2)\n",
    "        \n",
    "    def forward(self, X):\n",
    "        \"\"\"\n",
    "        フォワード\n",
    "        Parameters\n",
    "        ----------\n",
    "        X : 次の形のndarray, shape (batch_size, n_nodes1)\n",
    "            入力\n",
    "        Returns\n",
    "        ----------\n",
    "        A : 次の形のndarray, shape (batch_size, n_nodes2)\n",
    "            出力\n",
    "        \"\"\" \n",
    "        self.X = X\n",
    "        A = np.dot(self.X, self.w) + self.b\n",
    "        return A\n",
    "    \n",
    "    def backward(self, dA):\n",
    "        \"\"\"\n",
    "        バックワード\n",
    "        Parameters\n",
    "        ----------\n",
    "        dA : 次の形のndarray, shape (batch_size, n_nodes2)\n",
    "            後ろから流れてきた勾配\n",
    "        Returns\n",
    "        ----------\n",
    "        dZ : 次の形のndarray, shape (batch_size, n_nodes1)\n",
    "            前に流す勾配\n",
    "        \"\"\"\n",
    "        self.dW = np.dot(self.X.T, dA)\n",
    "        self.dB = np.sum(dA, axis=0)\n",
    "        self.dZ = np.dot(dA, self.w.T)\n",
    "        \n",
    "        # 更新\n",
    "        self = self.optimizer.update(self)\n",
    "        \n",
    "        return self.dZ"
   ]
  },
  {
   "cell_type": "markdown",
   "metadata": {},
   "source": [
    "### SimpleConv2d"
   ]
  },
  {
   "cell_type": "code",
   "execution_count": 16,
   "metadata": {},
   "outputs": [],
   "source": [
    "class SimpleConv2d:\n",
    "    \"\"\"\n",
    "    Parameters\n",
    "    ----------\n",
    "    N : サンプル数\n",
    "    In_ch : 入力チャネル数\n",
    "    H : 入力画像の高さ\n",
    "    W : 入力画像の幅\n",
    "    Fn : フィルタ枚数=出力チャネル数\n",
    "    \n",
    "    Out_w : 出力サイズ\n",
    "    Fh : フィルタ高さ\n",
    "    Fw : フィルタ幅\n",
    "    stride : ストライド\n",
    "    pad : パディング\n",
    "    \n",
    "    n_features : 入力特徴量数\n",
    "    Out_w : 出力サイズ（幅）\n",
    "    \n",
    "    X : 次の形のndarray, shape(N, In_ch, H, W)\n",
    "    w : 次の形のndarray, shape(Fn, In_ch, Fh, Fw)\n",
    "    b : 次の形のndarray, shape（Fn）\n",
    "    \"\"\"\n",
    "    def __init__(self, In_ch, Fn, Fh, Fw, stride, pad, initializer, optimizer):\n",
    "        self.stride = stride\n",
    "        self.pad = pad\n",
    "        self.optimizer = optimizer\n",
    "        \n",
    "        # 初期化\n",
    "        # initializerのメソッドを使い、self.Wとself.Bを初期化する\n",
    "        self.w = initializer.W(Fn, In_ch, Fh, Fw) \n",
    "        self.b = initializer.B(Fn)\n",
    "        \n",
    "    \n",
    "    def forward(self, X):\n",
    "        # Xが1次元なら(1, n_features)にreshape\n",
    "        self.X = X\n",
    "        N, In_ch, H, W = X.shape\n",
    "        Fn, In_ch, Fh, Fw = self.w.shape\n",
    "        # 出力サイズの計算\n",
    "        Out_h = int(1 + (H + 2*self.pad - Fh)/self.stride)\n",
    "        Out_w = int(1 + (W + 2*self.pad - Fw)/self.stride)\n",
    "        \n",
    "        A = np.zeros((N, Fn, Out_h, Out_w))    #出力A用の入れ物の用意\n",
    "        self.X_pad = np.lib.pad(X, ((0, 0), (0, 0), (self.pad, self.pad), (self.pad, self.pad)), \"constant\", constant_values=0)\n",
    "\n",
    "        for n in range(N):    # サンプル数\n",
    "            for i in range(Out_h):    # 出力高さ\n",
    "                for j in range(Out_w):    # 出力幅\n",
    "                    for m in range(Fn):    # フィルタ枚数(出力チャネル数)\n",
    "                        A[n, m, i, j] = np.sum(self.X_pad[n, :, i:i+Fh, j:j+Fw]*self.w[m, :, :, :]) + self.b[m]\n",
    "                        \n",
    "        return A\n",
    "    \n",
    "    def backward(self, dA):\n",
    "        N, In_ch, H, W = self.X.shape\n",
    "        Fn, In_ch, Fh, Fw = self.w.shape\n",
    "        N, Fn, Out_h, Out_w = dA.shape\n",
    "        \n",
    "        self.dX = np.zeros(self.X_pad.shape)\n",
    "        self.dB = np.zeros(self.b.shape)\n",
    "        self.dW = np.zeros(self.w.shape)\n",
    "        \n",
    "        # sumされているのでサイズが合わないため、dAを関係のあったところに渡す\n",
    "        for n in range(N):    # サンプル数\n",
    "            for m in range(Fn):    # フィルタ枚数(出力チャネル数)\n",
    "                for i in range(Out_h):    # 出力高さ\n",
    "                    for j in range(Out_w):    # 出力幅\n",
    "                        self.dX[n, :, i : i+Fh, j : j+Fw] += dA[n, m, i, j]*self.w[m, :, :, :]\n",
    "        \n",
    "        del_rows = range(self.pad),range(H+self.pad, H+2*self.pad, 1)\n",
    "        del_cols = range(self.pad),range(W+self.pad, W+2*self.pad, 1)\n",
    "        \n",
    "        self.dX = np.delete(self.dX, del_rows, axis=2)\n",
    "        self.dX = np.delete(self.dX, del_cols, axis=3)\n",
    "\n",
    "        for n in range(N):\n",
    "            for m in range(Fn):\n",
    "                for i in range(Out_h):\n",
    "                    for j in range(Out_w):\n",
    "                        self.dW[m, :, :, :] += dA[n, m, i, j]*self.X_pad[n, :,i:i+Fh, j:j+Fw]\n",
    "                        \n",
    "        \n",
    "        for m in range(Fn):\n",
    "            self.dB[m] = np.sum(dA[:, m, :, :])\n",
    "        # 更新\n",
    "        self = self.optimizer.update(self)\n",
    "        return self.dX"
   ]
  },
  {
   "cell_type": "markdown",
   "metadata": {},
   "source": [
    "### GetMiniBatch"
   ]
  },
  {
   "cell_type": "code",
   "execution_count": 17,
   "metadata": {},
   "outputs": [],
   "source": [
    "class GetMiniBatch:\n",
    "    \"\"\"\n",
    "    ミニバッチを取得するイテレータ\n",
    "\n",
    "    Parameters\n",
    "    ----------\n",
    "    X : 次の形のndarray, shape (n_samples, n_features)\n",
    "      訓練データ\n",
    "    y : 次の形のndarray, shape (n_samples, 1)\n",
    "      正解値\n",
    "    batch_size : int\n",
    "      バッチサイズ\n",
    "    seed : int\n",
    "      NumPyの乱数のシード\n",
    "    \"\"\"\n",
    "    def __init__(self, X, y, batch_size = 20, seed=0):\n",
    "        self.batch_size = batch_size\n",
    "        np.random.seed(seed)\n",
    "        shuffle_index = np.random.permutation(np.arange(X.shape[0]))\n",
    "        self._X = X[shuffle_index]\n",
    "        self._y = y[shuffle_index]\n",
    "        self._stop = np.ceil(X.shape[0]/self.batch_size).astype(np.int)\n",
    "    def __len__(self):\n",
    "        return self._stop\n",
    "    def __getitem__(self,item):\n",
    "        p0 = item*self.batch_size\n",
    "        p1 = item*self.batch_size + self.batch_size\n",
    "        return self._X[p0:p1], self._y[p0:p1]        \n",
    "    def __iter__(self):\n",
    "        self._counter = 0\n",
    "        return self\n",
    "    def __next__(self):\n",
    "        if self._counter >= self._stop:\n",
    "            raise StopIteration()\n",
    "        p0 = self._counter*self.batch_size\n",
    "        p1 = self._counter*self.batch_size + self.batch_size\n",
    "        self._counter += 1\n",
    "        return self._X[p0:p1], self._y[p0:p1]"
   ]
  },
  {
   "cell_type": "code",
   "execution_count": 34,
   "metadata": {},
   "outputs": [],
   "source": [
    "class Flatten:\n",
    "    def __init__(self, filter_list, stride, pad, H, W):\n",
    "        self.filter_list = filter_list\n",
    "        self.stride = stride\n",
    "        self.pad = pad\n",
    "        # conv最後の出力サイズの計算\n",
    "        nh, nw = H, W\n",
    "        for i in range(len(self.filter_list)):\n",
    "            Out_h = int(1 + (nh + 2*self.pad - Fh)/self.stride)\n",
    "            Out_w = int(1 + (nw + 2*self.pad - Fw)/self.stride)\n",
    "            nh, nw = Out_h, Out_w\n",
    "\n",
    "        # conv→FC reshape用 flat_Out_ch=フィルタ枚数\n",
    "        self.flat_Fn, self.flat_Out_h, self.flat_Out_w = self.filter_list[-1], Out_h, Out_w\n",
    "        FC_node1 = int(self.flat_Fn * self.flat_Out_h * self.flat_Out_w)\n",
    "        return FC_node1\n",
    "        \n",
    "    def forward(self, batch):\n",
    "        Z = Z.reshape(batch, self.flat_Fn * self.flat_Out_h * self.flat_Out_w)\n",
    "        return Z\n",
    "    \n",
    "    def backward(self, batch):\n",
    "        dZ = dZ.reshape(batch, self.flat_Fn, self.flat_Out_h, self.flat_Out_w)\n",
    "        return dZ"
   ]
  },
  {
   "cell_type": "markdown",
   "metadata": {},
   "source": [
    "### Scratch2dCNNClassifier"
   ]
  },
  {
   "cell_type": "code",
   "execution_count": 62,
   "metadata": {},
   "outputs": [],
   "source": [
    "class Scratch2dCNNClassifier:\n",
    "    def __init__(self, filter_list, nodes_list, lr=0.01 ,sigma=0.01, n_output=10):\n",
    "        self.lr = lr     # 学習係数\n",
    "        self.sigma = sigma    # 重みとバイアスの広がり具合\n",
    "        self.n_output = n_output\n",
    "        self.filter_list = filter_list    # フィルタ枚数のリスト\n",
    "        self.nodes_list = nodes_list    # FC層数のリスト　\n",
    "    \n",
    "    def fit(self, X, y, Initializers, activations, Fh=3, Fw=3, stride=1, pad=0, opt=\"SGD\", epoch=1, batch=10, Pooling=None):\n",
    "        N, In_ch, H, W = X.shape\n",
    "        self.loss = np.zeros(epoch)\n",
    "        self.activation_list = []\n",
    "        self.FC_list = []\n",
    "        self.conv_list = []\n",
    "        self.Pooling_list = []\n",
    "        self.pad = pad\n",
    "        self.stride = stride\n",
    "        self.Pooling = Pooling\n",
    "        \n",
    "        # conv最後の出力サイズの計算\n",
    "        nh, nw = H, W\n",
    "        for i in range(len(self.filter_list)):\n",
    "            Out_h = int(1 + (nh + 2*self.pad - Fh)/self.stride)\n",
    "            Out_w = int(1 + (nw + 2*self.pad - Fw)/self.stride)\n",
    "            if not self.Pooling == None:\n",
    "                Out_h = Out_h//self.Pooling\n",
    "                Out_w = Out_w//self.Pooling\n",
    "            nh, nw = Out_h, Out_w\n",
    "            \n",
    "        # conv→FC reshape用 flat_Out_ch=フィルタ枚数\n",
    "        self.flat_Fn, self.flat_Out_h, self.flat_Out_w = self.filter_list[-1], Out_h, Out_w\n",
    "        FC_node1 = int(self.flat_Fn * self.flat_Out_h * self.flat_Out_w)\n",
    "        count = 0\n",
    "        # インスタンス生成---------------------------------------------------\n",
    "        for i in range(len(Initializers)):\n",
    "            # 初期値----------------------------------------\n",
    "            if Initializers[i] == \"Simple\":\n",
    "                initializ = SimpleInitializer(self.sigma)\n",
    "            elif Initializers[i] == \"Xavier\":\n",
    "                initializ = XavierInitializer()\n",
    "            else:\n",
    "                initializ = HeInitializer()\n",
    "            # 最適化手法-----------------------------------\n",
    "            if opt == \"SGD\":\n",
    "                optimizer = SGD(self.lr)\n",
    "            else:\n",
    "                optimizer = AdaGrad(self.lr, 0, 0)\n",
    "            # 畳み込み層インスタンス生成-------------------\n",
    "            if i < len(self.filter_list):\n",
    "                self.conv_list.append(SimpleConv2d(In_ch, self.filter_list[i], Fh, Fw, stride, pad, initializ, optimizer))\n",
    "                # プーリング層インスタンス生成\n",
    "                if not self.Pooling == None:\n",
    "                    self.Pooling_list.append(MaxPool2D(self.Pooling))\n",
    "            else:    # FC層インスタンス生成------------------\n",
    "                \n",
    "                if i == len(self.filter_list):\n",
    "                    self.FC_list.append(FC(FC_node1, self.nodes_list[count], initializ, optimizer))    # conv→FC\n",
    "                else:\n",
    "                    self.FC_list.append(FC(self.FC_list[count - 1], self.nodes_list[count], initializ, optimizer))\n",
    "                count += 1\n",
    "                \n",
    "            \n",
    "            # 活性化関数インスタンス生成----------------\n",
    "            if i < len(self.filter_list):\n",
    "                if activations[i] == \"tanh\":\n",
    "                    self.activation_list.append(Tanh() )\n",
    "                elif activations[i] == \"sigmoid\":\n",
    "                    self.activation_list.append(Sigmoid() )\n",
    "                else:\n",
    "                    self.activation_list.append(ReLU() )\n",
    "            else:\n",
    "                self.activation_list.append(Softmax() )\n",
    "        # -----------------------------------------------------------------end\n",
    "           \n",
    "        for i in range(epoch):\n",
    "            get_mini_batch = GetMiniBatch(X, y, batch)    # ミニバッチ生成\n",
    "            for mini_X_train, mini_y_train in get_mini_batch:    # ミニバッチ学習則\n",
    "                # 順伝播-------------------------------------------------------------------\n",
    "                A = self.conv_list[0].forward(mini_X_train)    # 畳み込み層 1層目\n",
    "                Z = self.activation_list[0].forward(A)\n",
    "                if not self.Pooling == None:    # プーリング層\n",
    "                    Z = self.Pooling_list[0].forward(Z)\n",
    "\n",
    "                for j in range(1, len(self.conv_list)):    # 畳み込み層 2層目以降\n",
    "                    A = self.conv_list[j].forward(Z)\n",
    "                    Z = self.activation_list[j].forward(A)\n",
    "                    if not self.Pooling == None:    # プーリング層\n",
    "                        Z = self.Pooling_list[j].forward(Z)\n",
    "                        \n",
    "                # conv→FCのreshape\n",
    "                Z = Z.reshape(batch, self.flat_Fn * self.flat_Out_h * self.flat_Out_w)\n",
    "                \n",
    "                for j in range(0, len(self.FC_list)):    # FC層 \n",
    "                    A = self.FC_list[j].forward(Z)    # 出力層\n",
    "                    Z = self.activation_list[len(self.conv_list)+j].forward(A)\n",
    "                    \n",
    "                # 逆伝播--------------------------------------------------------------------\n",
    "                dZ = mini_y_train\n",
    "                \n",
    "                for j in reversed(range(0, len(self.FC_list))):    # FC層 \n",
    "                    dA = self.activation_list[len(self.conv_list)+j].backward(dZ)\n",
    "                    dZ = self.FC_list[j].backward(dA)    # 出力層\n",
    "                    \n",
    "                # FC→convのreshape\n",
    "                dZ = dZ.reshape(batch, self.flat_Fn, self.flat_Out_h, self.flat_Out_w)\n",
    "                \n",
    "                for j in reversed(range(0, len(self.conv_list))):    # 中間層\n",
    "                    if not self.Pooling == None:    # プーリング層\n",
    "                        dZ = self.Pooling_list[j].backward(dZ)\n",
    "                \n",
    "                    dA = self.activation_list[j].backward(dZ)\n",
    "                    dZ = self.conv_list[j].backward(dA)\n",
    "                # -----------------------------------------------------------------end\n",
    "            yp = self.predict(X)\n",
    "            # 損失関数\n",
    "            self.loss[i] = -np.sum(y * np.log(self.predict_y))/ self.predict_y.shape[1]\n",
    "            \n",
    "    def calc_out_shape(self, n_node1):\n",
    "        # 出力サイズの計算\n",
    "        return int(1 + (n_node1 + 2*self.pad - self.Fil_w)/self.stride)\n",
    "    \n",
    "    def predict(self,X):\n",
    "        # 順伝播-------------------------------------------------------------------\n",
    "        A = self.conv_list[0].forward(X)    # 畳み込み層 1層目\n",
    "        Z = self.activation_list[0].forward(A)\n",
    "        if not self.Pooling == None:    # プーリング層\n",
    "            Z = self.Pooling_list[0].forward(Z)\n",
    "\n",
    "        for j in range(1, len(self.conv_list)):    # 畳み込み層 2層目以降\n",
    "            A = self.conv_list[j].forward(Z)\n",
    "            Z = self.activation_list[j].forward(A)\n",
    "            if not self.Pooling == None:    # プーリング層\n",
    "                Z = self.Pooling_list[j].forward(Z)\n",
    "\n",
    "        # conv→FCのreshape\n",
    "        Z = Z.reshape(X.shape[0], self.flat_Fn * self.flat_Out_h * self.flat_Out_w)\n",
    "\n",
    "        for j in range(0, len(self.FC_list)):    # FC層 \n",
    "            A = self.FC_list[j].forward(Z)    # 出力層\n",
    "            Z = self.activation_list[len(self.conv_list)+j].forward(A)\n",
    "        \n",
    "        self.predict_y = Z.copy()\n",
    "        \n",
    "        return np.argsort(Z)[:,-1]"
   ]
  },
  {
   "cell_type": "markdown",
   "metadata": {},
   "source": [
    "## 【問題1】の動作確認"
   ]
  },
  {
   "cell_type": "code",
   "execution_count": 142,
   "metadata": {},
   "outputs": [],
   "source": [
    "scCNN_1 = Scratch2dCNNClassifier(filter_list=[5], nodes_list=[10])"
   ]
  },
  {
   "cell_type": "code",
   "execution_count": 143,
   "metadata": {},
   "outputs": [],
   "source": [
    "scCNN_1.fit(X_train[0:50], y_train_onehot[0:50], Initializers=[\"Xavier\", \"Xavier\"], activations=[\"ReLU\", \"Softmax\"], epoch=5)"
   ]
  },
  {
   "cell_type": "code",
   "execution_count": 144,
   "metadata": {},
   "outputs": [
    {
     "data": {
      "text/plain": [
       "array([3, 1, 0, 3, 1, 8, 7, 2, 1, 2, 6, 4, 0, 0, 8, 7, 3, 7, 2, 7, 4, 0,\n",
       "       1, 4, 6, 5, 1, 6, 6, 3, 3, 0, 4, 2, 5, 3, 8, 3, 5, 1, 8, 7, 8, 9,\n",
       "       6, 2, 7, 0, 3, 2])"
      ]
     },
     "execution_count": 144,
     "metadata": {},
     "output_type": "execute_result"
    }
   ],
   "source": [
    "scCNN_1.predict(X_train[0:50])"
   ]
  },
  {
   "cell_type": "code",
   "execution_count": 145,
   "metadata": {},
   "outputs": [
    {
     "data": {
      "text/plain": [
       "array([9.90908621, 5.5207547 , 2.04839066, 1.94649068, 0.64184545])"
      ]
     },
     "execution_count": 145,
     "metadata": {},
     "output_type": "execute_result"
    }
   ],
   "source": [
    "scCNN_1.loss"
   ]
  },
  {
   "cell_type": "markdown",
   "metadata": {},
   "source": [
    "## 【問題3】最大プーリング層の作成"
   ]
  },
  {
   "cell_type": "markdown",
   "metadata": {},
   "source": [
    "### MaxPool2D"
   ]
  },
  {
   "cell_type": "code",
   "execution_count": 28,
   "metadata": {},
   "outputs": [],
   "source": [
    "class MaxPool2D:\n",
    "    \n",
    "    def __init__(self, P):\n",
    "        self.P = P\n",
    "    def forward(self, X):\n",
    "        self.X = X\n",
    "        N, C, H, W = X.shape\n",
    "        X_pool = np.zeros([N, C, H//self.P, W//self.P])\n",
    "        self.index_pool = np.zeros(X_pool.shape)\n",
    "        for i in range(H//self.P):\n",
    "            for j in range(W//self.P):\n",
    "    #             m = np.max(X[:,:,i*P : i*P+P, j*P : j*P+P], axis=2)\n",
    "    #             X_pool[:, :, i, j] = np.max(m, axis=2)\n",
    "    #             index_pool_col[:, :, i, j] = np.argmax(m, axis=2)\n",
    "                for k in range(C):\n",
    "                    for n in range(N):\n",
    "                        X_pool[n, k, i, j] = np.max(X[n,k,i*self.P : i*self.P+self.P, j*self.P : j*self.P+self.P])\n",
    "                        self.index_pool[n, k, i, j] = np.argmax(X[n,k,i*self.P : i*self.P+self.P, j*self.P : j*self.P+self.P])\n",
    "\n",
    "        return X_pool\n",
    "    \n",
    "    def backward(self, Z):\n",
    "        N, C, H, W = Z.shape\n",
    "        reX = np.zeros(self.X.shape)\n",
    "        for i in range(H):\n",
    "            for j in range(W):\n",
    "                for k in range(C):\n",
    "                    for n in range(N):\n",
    "                        arr = np.zeros(4)\n",
    "                        arr[int(self.index_pool[n, k, i, j])] = Z[n, k, i, j]\n",
    "                        arr = arr.reshape(reX[n, k, i*self.P: i*self.P+self.P, j*self.P:j*self.P+self.P].shape)\n",
    "                        reX[n, k, i*self.P: i*self.P+self.P, j*self.P:j*self.P+self.P] = arr\n",
    "        return reX\n",
    "        "
   ]
  },
  {
   "cell_type": "code",
   "execution_count": 30,
   "metadata": {},
   "outputs": [
    {
     "data": {
      "text/plain": [
       "array([[[[3, 7, 7, 4, 2, 0, 5, 6],\n",
       "         [9, 2, 8, 2, 1, 5, 7, 2],\n",
       "         [2, 5, 0, 8, 0, 0, 8, 9],\n",
       "         [1, 3, 8, 2, 5, 2, 2, 9],\n",
       "         [2, 9, 5, 0, 1, 1, 1, 2],\n",
       "         [3, 7, 3, 5, 7, 4, 9, 3],\n",
       "         [8, 2, 6, 0, 9, 0, 6, 0],\n",
       "         [2, 4, 5, 8, 1, 9, 9, 8]]],\n",
       "\n",
       "\n",
       "       [[[0, 5, 2, 6, 1, 1, 2, 7],\n",
       "         [9, 7, 2, 7, 4, 6, 0, 3],\n",
       "         [9, 0, 2, 8, 5, 7, 9, 0],\n",
       "         [1, 9, 4, 5, 2, 3, 9, 0],\n",
       "         [6, 3, 3, 1, 4, 1, 0, 8],\n",
       "         [4, 7, 7, 9, 1, 0, 1, 0],\n",
       "         [3, 7, 3, 2, 3, 4, 3, 1],\n",
       "         [7, 0, 1, 2, 9, 8, 3, 2]]]])"
      ]
     },
     "execution_count": 30,
     "metadata": {},
     "output_type": "execute_result"
    }
   ],
   "source": [
    "test_data = np.random.randint(0,10, (2, 1, 8, 8))\n",
    "test_data"
   ]
  },
  {
   "cell_type": "code",
   "execution_count": 31,
   "metadata": {},
   "outputs": [
    {
     "data": {
      "text/plain": [
       "array([[[[9., 8., 5., 7.],\n",
       "         [5., 8., 5., 9.],\n",
       "         [9., 5., 7., 9.],\n",
       "         [8., 8., 9., 9.]]],\n",
       "\n",
       "\n",
       "       [[[9., 7., 6., 7.],\n",
       "         [9., 8., 7., 9.],\n",
       "         [7., 9., 4., 8.],\n",
       "         [7., 3., 9., 3.]]]])"
      ]
     },
     "execution_count": 31,
     "metadata": {},
     "output_type": "execute_result"
    }
   ],
   "source": [
    "m2d = MaxPool2D(P=2)\n",
    "Z = m2d.forward(test_data)\n",
    "Z"
   ]
  },
  {
   "cell_type": "code",
   "execution_count": 33,
   "metadata": {},
   "outputs": [
    {
     "data": {
      "text/plain": [
       "array([[[[0., 0., 0., 0., 0., 0., 0., 0.],\n",
       "         [9., 0., 8., 0., 0., 5., 7., 0.],\n",
       "         [0., 5., 0., 8., 0., 0., 0., 9.],\n",
       "         [0., 0., 0., 0., 5., 0., 0., 0.],\n",
       "         [0., 9., 5., 0., 0., 0., 0., 0.],\n",
       "         [0., 0., 0., 0., 7., 0., 9., 0.],\n",
       "         [8., 0., 0., 0., 9., 0., 0., 0.],\n",
       "         [0., 0., 0., 8., 0., 0., 9., 0.]]],\n",
       "\n",
       "\n",
       "       [[[0., 0., 0., 0., 0., 0., 0., 7.],\n",
       "         [9., 0., 0., 7., 0., 6., 0., 0.],\n",
       "         [9., 0., 0., 8., 0., 7., 9., 0.],\n",
       "         [0., 0., 0., 0., 0., 0., 0., 0.],\n",
       "         [0., 0., 0., 0., 4., 0., 0., 8.],\n",
       "         [0., 7., 0., 9., 0., 0., 0., 0.],\n",
       "         [0., 7., 3., 0., 0., 0., 3., 0.],\n",
       "         [0., 0., 0., 0., 9., 0., 0., 0.]]]])"
      ]
     },
     "execution_count": 33,
     "metadata": {},
     "output_type": "execute_result"
    }
   ],
   "source": [
    "m2d.backward(Z)"
   ]
  },
  {
   "cell_type": "markdown",
   "metadata": {},
   "source": [
    "## 【問題6】学習と推定"
   ]
  },
  {
   "cell_type": "code",
   "execution_count": 63,
   "metadata": {},
   "outputs": [],
   "source": [
    "scCNN_2 = Scratch2dCNNClassifier(filter_list=[5], nodes_list=[10])"
   ]
  },
  {
   "cell_type": "code",
   "execution_count": 64,
   "metadata": {},
   "outputs": [],
   "source": [
    "# 処理に時間がかかるので、データを減らして学習\n",
    "scCNN_2.fit(X_train[0:5000], y_train_onehot[0:5000], Initializers=[\"Xavier\", \"Xavier\"],\n",
    "            activations=[\"ReLU\", \"Softmax\"], epoch=10)"
   ]
  },
  {
   "cell_type": "code",
   "execution_count": 66,
   "metadata": {},
   "outputs": [],
   "source": [
    "yp = scCNN_2.predict(X_test)"
   ]
  },
  {
   "cell_type": "code",
   "execution_count": 67,
   "metadata": {},
   "outputs": [
    {
     "data": {
      "text/plain": [
       "0.9488"
      ]
     },
     "execution_count": 67,
     "metadata": {},
     "output_type": "execute_result"
    }
   ],
   "source": [
    "# 正解率\n",
    "from sklearn.metrics import accuracy_score\n",
    "accuracy_score(y_test, yp)"
   ]
  },
  {
   "cell_type": "code",
   "execution_count": 68,
   "metadata": {},
   "outputs": [
    {
     "data": {
      "image/png": "[encoded data removed]",
      "text/plain": [
       "<Figure size 432x288 with 1 Axes>"
      ]
     },
     "metadata": {
      "needs_background": "light"
     },
     "output_type": "display_data"
    }
   ],
   "source": [
    "import matplotlib.pyplot as plt\n",
    "# 折れ線グラフを出力\n",
    "trans_x = np.array(range(len(scCNN_2.loss)))\n",
    "plt.title(\"ep10\")\n",
    "plt.xlabel(\"epoch\")\n",
    "plt.ylabel(\"loss\")\n",
    "plt.plot(trans_x, scCNN_2.loss)\n",
    "plt.grid(True)\n",
    "plt.show()"
   ]
  },
  {
   "cell_type": "markdown",
   "metadata": {},
   "source": [
    "pooling層ありで学習"
   ]
  },
  {
   "cell_type": "code",
   "execution_count": 69,
   "metadata": {},
   "outputs": [],
   "source": [
    "scCNN_3 = Scratch2dCNNClassifier(filter_list=[5], nodes_list=[10])"
   ]
  },
  {
   "cell_type": "code",
   "execution_count": 70,
   "metadata": {},
   "outputs": [],
   "source": [
    "scCNN_3.fit(X_train[0:100], y_train_onehot[0:100], Initializers=[\"Xavier\", \"Xavier\"],\n",
    "            activations=[\"ReLU\", \"Softmax\"], epoch=10,Pooling=2)\n"
   ]
  },
  {
   "cell_type": "code",
   "execution_count": 71,
   "metadata": {},
   "outputs": [
    {
     "data": {
      "text/plain": [
       "array([20.43231138, 13.5282083 , 10.47565625,  6.415138  ,  3.6902721 ,\n",
       "        2.45279494,  1.51043062,  0.77628572,  0.49368225,  0.38128946])"
      ]
     },
     "execution_count": 71,
     "metadata": {},
     "output_type": "execute_result"
    }
   ],
   "source": [
    "scCNN_3.loss"
   ]
  },
  {
   "cell_type": "code",
   "execution_count": 72,
   "metadata": {},
   "outputs": [
    {
     "data": {
      "image/png": "[encoded data removed]",
      "text/plain": [
       "<Figure size 432x288 with 1 Axes>"
      ]
     },
     "metadata": {
      "needs_background": "light"
     },
     "output_type": "display_data"
    }
   ],
   "source": [
    "# 折れ線グラフを出力\n",
    "trans_x = np.array(range(len(scCNN_3.loss)))\n",
    "plt.title(\"pooling ep10\")\n",
    "plt.xlabel(\"epoch\")\n",
    "plt.ylabel(\"loss\")\n",
    "plt.plot(trans_x, scCNN_3.loss)\n",
    "plt.grid(True)\n",
    "plt.show()"
   ]
  },
  {
   "cell_type": "markdown",
   "metadata": {},
   "source": [
    "## 【問題8】（アドバンス課題）有名な画像認識モデルの調査"
   ]
  },
  {
   "cell_type": "markdown",
   "metadata": {},
   "source": [
    "- AlexNet (2012)　https://papers.nips.cc/paper/2012/file/c399862d3b9d6b76c8436e924a68c45b-Paper.pdf\n",
    "- ZFNet (2013)　https://arxiv.org/pdf/1311.2901.pdf\n",
    "- GoogLeNet (2014) https://arxiv.org/pdf/1409.4842.pdf\n",
    "- VGGNet (2014) https://arxiv.org/pdf/1409.1556.pdf\n",
    "- ResNet (2015) https://arxiv.org/pdf/1512.03385.pdf\n",
    "- SENet (2017) https://arxiv.org/pdf/1511.00561.pdf"
   ]
  },
  {
   "cell_type": "markdown",
   "metadata": {},
   "source": [
    "## 【問題9】出力サイズとパラメータ数の計算"
   ]
  },
  {
   "cell_type": "markdown",
   "metadata": {},
   "source": [
    "以下の3つの畳み込み層の出力サイズとパラメータ数を計算してください。パラメータ数についてはバイアス項も考えてください。\n",
    "\n",
    "\n",
    "### 1.\n",
    "- 入力サイズ : 144×144, 3チャンネル\n",
    "- フィルタサイズ : 3×3, 6チャンネル\n",
    "- ストライド : 1\n",
    "- パディング : なし"
   ]
  },
  {
   "cell_type": "code",
   "execution_count": 74,
   "metadata": {},
   "outputs": [
    {
     "name": "stdout",
     "output_type": "stream",
     "text": [
      "出力高さ 142\n",
      "出力幅 142\n"
     ]
    }
   ],
   "source": [
    "H, W, S, P = 144, 144, 1, 0\n",
    "Fh, Fw = 3, 3\n",
    "# 出力サイズの計算\n",
    "Out_h = int(1 + (H + 2*P - Fh)/S)\n",
    "Out_w = int(1 + (W + 2*P - Fw)/S)\n",
    "print(\"出力高さ\", Out_h)\n",
    "print(\"出力幅\", Out_w)"
   ]
  },
  {
   "cell_type": "markdown",
   "metadata": {},
   "source": [
    "【回答】出力サイズ：142x142x6  パラメータ数：168(w=6x3x3x3　b=6)"
   ]
  },
  {
   "cell_type": "markdown",
   "metadata": {},
   "source": [
    "### 2.\n",
    "- 入力サイズ : 60×60, 24チャンネル\n",
    "- フィルタサイズ : 3×3, 48チャンネル\n",
    "- ストライド　: 1\n",
    "- パディング : なし"
   ]
  },
  {
   "cell_type": "code",
   "execution_count": 76,
   "metadata": {},
   "outputs": [
    {
     "name": "stdout",
     "output_type": "stream",
     "text": [
      "出力高さ 58\n",
      "出力幅 58\n"
     ]
    }
   ],
   "source": [
    "H, W, S, P = 60, 60, 1, 0\n",
    "Fh, Fw = 3, 3\n",
    "# 出力サイズの計算\n",
    "Out_h = int(1 + (H + 2*P - Fh)/S)\n",
    "Out_w = int(1 + (W + 2*P - Fw)/S)\n",
    "print(\"出力高さ\", Out_h)\n",
    "print(\"出力幅\", Out_w)"
   ]
  },
  {
   "cell_type": "markdown",
   "metadata": {},
   "source": [
    "【回答】出力サイズ：58x58x48  パラメータ数：10416(w=48x24x3x3　b=48)"
   ]
  },
  {
   "cell_type": "markdown",
   "metadata": {},
   "source": [
    "### 3.\n",
    "- 入力サイズ : 20×20, 10チャンネル\n",
    "- フィルタサイズ: 3×3, 20チャンネル\n",
    "- ストライド : 2\n",
    "- パディング : なし"
   ]
  },
  {
   "cell_type": "code",
   "execution_count": 79,
   "metadata": {},
   "outputs": [
    {
     "name": "stdout",
     "output_type": "stream",
     "text": [
      "出力高さ 18\n",
      "出力幅 18\n"
     ]
    }
   ],
   "source": [
    "H, W, S, P = 20, 20, 1, 0\n",
    "Fh, Fw = 3, 3\n",
    "# 出力サイズの計算\n",
    "Out_h = int(1 + (H + 2*P - Fh)//S)\n",
    "Out_w = int(1 + (W + 2*P - Fw)//S)\n",
    "print(\"出力高さ\", Out_h)\n",
    "print(\"出力幅\", Out_w)"
   ]
  },
  {
   "cell_type": "markdown",
   "metadata": {},
   "source": [
    "【回答】出力サイズ：18x18x20  パラメータ数：1820(w=20x10x3x3　b=20)"
   ]
  },
  {
   "cell_type": "markdown",
   "metadata": {},
   "source": [
    "## 【問題10】（アドバンス課題）フィルタサイズに関する調査\n",
    "畳み込み層にはフィルタサイズというハイパーパラメータがありますが、2次元畳み込み層において現在では3×3と1×1の使用が大半です。以下のそれぞれを調べたり、自分なりに考えて説明してください。\n",
    "\n",
    "\n",
    "- 7×7などの大きめのものではなく、3×3のフィルタが一般的に使われる理由\n",
    "- 高さや幅方向を持たない1×1のフィルタの効果"
   ]
  },
  {
   "cell_type": "markdown",
   "metadata": {},
   "source": [
    "【回答】<br>\n",
    "フィルタサイズは奇数かつ小さいサイズで精度が出やすい。奇数の理由は中心を取るため。<br>\n",
    "1x1フィルタは畳み込み層の間に挟み、出力チャンネルを減らすことで、パラメータ数の削減に繋がるため<br>"
   ]
  },
  {
   "cell_type": "markdown",
   "metadata": {},
   "source": [
    "## m2col\n",
    "im2colの理解：チャンネル1、バッチサイズ1（画像枚数1）、パディングなし、ストライド1の時"
   ]
  },
  {
   "cell_type": "code",
   "execution_count": 81,
   "metadata": {},
   "outputs": [],
   "source": [
    "def im2col_test(image, flt_h, flt_w, out_h, out_w):\n",
    "    img_h, img_w = image.shape\n",
    "    \n",
    "    cols = np.zeros((flt_h*flt_w, out_h*out_w))\n",
    "    \n",
    "    for h in range(out_h):\n",
    "        h_lim = h + flt_h\n",
    "        for w in range(out_w):\n",
    "            w_lim = w + flt_w\n",
    "            cols[:, h*out_w + w] = img[h: h_lim, w:w_lim].reshape(-1)    #切り取る範囲を指定\n",
    "    print(\"cols\", cols)\n",
    "    return cols"
   ]
  },
  {
   "cell_type": "code",
   "execution_count": 82,
   "metadata": {},
   "outputs": [
    {
     "name": "stdout",
     "output_type": "stream",
     "text": [
      "cols [[ 1.  2.  3.  5.  6.  7.  9. 10. 11.]\n",
      " [ 2.  3.  4.  6.  7.  8. 10. 11. 12.]\n",
      " [ 5.  6.  7.  9. 10. 11. 13. 14. 15.]\n",
      " [ 6.  7.  8. 10. 11. 12. 14. 15. 16.]]\n",
      "[[ 1.  2.  3.  5.  6.  7.  9. 10. 11.]\n",
      " [ 2.  3.  4.  6.  7.  8. 10. 11. 12.]\n",
      " [ 5.  6.  7.  9. 10. 11. 13. 14. 15.]\n",
      " [ 6.  7.  8. 10. 11. 12. 14. 15. 16.]]\n"
     ]
    }
   ],
   "source": [
    "img = np.array([[1, 2, 3, 4],\n",
    "                [5, 6, 7, 8],\n",
    "                [9, 10, 11, 12],\n",
    "                [13, 14, 15, 16]])\n",
    "cols = im2col_test(img, 2, 2, 3, 3)\n",
    "print(cols)"
   ]
  },
  {
   "cell_type": "markdown",
   "metadata": {},
   "source": [
    "フィルタと計算する範囲が列に並んだ\n",
    "次に、for文で回す回数を少なくする"
   ]
  },
  {
   "cell_type": "code",
   "execution_count": 83,
   "metadata": {},
   "outputs": [],
   "source": [
    "def im2col_test2(image, flt_h, flt_w, out_h, out_w):\n",
    "    img_h, img_w = image.shape\n",
    "    \n",
    "    cols = np.zeros((flt_h, flt_w, out_h, out_w))\n",
    "    \n",
    "    for h in range(flt_h):\n",
    "        h_lim = h + out_h\n",
    "        for w in range(flt_w):\n",
    "            w_lim = w + out_w\n",
    "            cols[h, w, :, :] = img[h: h_lim, w:w_lim]    #切り取る範囲を指定\n",
    "    print(\"cols\", cols)\n",
    "    cols = cols.reshape(flt_h*flt_w, out_h*out_w)\n",
    "    return cols"
   ]
  },
  {
   "cell_type": "code",
   "execution_count": 84,
   "metadata": {},
   "outputs": [
    {
     "name": "stdout",
     "output_type": "stream",
     "text": [
      "cols [[[[ 1.  2.  3.]\n",
      "   [ 5.  6.  7.]\n",
      "   [ 9. 10. 11.]]\n",
      "\n",
      "  [[ 2.  3.  4.]\n",
      "   [ 6.  7.  8.]\n",
      "   [10. 11. 12.]]]\n",
      "\n",
      "\n",
      " [[[ 5.  6.  7.]\n",
      "   [ 9. 10. 11.]\n",
      "   [13. 14. 15.]]\n",
      "\n",
      "  [[ 6.  7.  8.]\n",
      "   [10. 11. 12.]\n",
      "   [14. 15. 16.]]]]\n",
      "[[ 1.  2.  3.  5.  6.  7.  9. 10. 11.]\n",
      " [ 2.  3.  4.  6.  7.  8. 10. 11. 12.]\n",
      " [ 5.  6.  7.  9. 10. 11. 13. 14. 15.]\n",
      " [ 6.  7.  8. 10. 11. 12. 14. 15. 16.]]\n"
     ]
    }
   ],
   "source": [
    "img = np.array([[1, 2, 3, 4],\n",
    "                [5, 6, 7, 8],\n",
    "                [9, 10, 11, 12],\n",
    "                [13, 14, 15, 16]])\n",
    "cols = im2col_test2(img, 2, 2, 3, 3)\n",
    "print(cols)"
   ]
  },
  {
   "cell_type": "markdown",
   "metadata": {},
   "source": [
    "フィルタサイズで回すため、ループ回数を減らすことができた。<br>\n",
    "次に、バッチサイズとチャンネル数に対応させる"
   ]
  },
  {
   "cell_type": "code",
   "execution_count": 85,
   "metadata": {},
   "outputs": [],
   "source": [
    "def im2col_bt_ch(images, flt_h, flt_w, out_h, out_w):\n",
    "    n_bt, n_ch, img_h, img_w = images.shape\n",
    "    \n",
    "    cols = np.zeros((n_bt, n_ch, flt_h, flt_w, out_h, out_w))\n",
    "    \n",
    "    for h in range(flt_h):\n",
    "        h_lim = h + out_h\n",
    "        for w in range(flt_w):\n",
    "            w_lim = w + out_w\n",
    "            cols[:, :, h, w, :, :] = images[:, :, h:h_lim, w:w_lim]\n",
    "    print(\"cols\", cols)      \n",
    "    print(\"---------\")\n",
    "    cols = cols.transpose(1, 2, 3, 0, 4, 5).reshape(n_ch*flt_h*flt_w, n_bt*out_h*out_w)\n",
    "    \n",
    "    return cols"
   ]
  },
  {
   "cell_type": "code",
   "execution_count": 86,
   "metadata": {},
   "outputs": [
    {
     "name": "stdout",
     "output_type": "stream",
     "text": [
      "cols [[[[[[ 1.  2.  3.]\n",
      "     [ 5.  6.  7.]\n",
      "     [ 9. 10. 11.]]\n",
      "\n",
      "    [[ 2.  3.  4.]\n",
      "     [ 6.  7.  8.]\n",
      "     [10. 11. 12.]]]\n",
      "\n",
      "\n",
      "   [[[ 5.  6.  7.]\n",
      "     [ 9. 10. 11.]\n",
      "     [13. 14. 15.]]\n",
      "\n",
      "    [[ 6.  7.  8.]\n",
      "     [10. 11. 12.]\n",
      "     [14. 15. 16.]]]]]\n",
      "\n",
      "\n",
      "\n",
      "\n",
      " [[[[[31. 32. 33.]\n",
      "     [35. 36. 37.]\n",
      "     [39. 40. 41.]]\n",
      "\n",
      "    [[32. 33. 34.]\n",
      "     [36. 37. 38.]\n",
      "     [40. 41. 42.]]]\n",
      "\n",
      "\n",
      "   [[[35. 36. 37.]\n",
      "     [39. 40. 41.]\n",
      "     [43. 44. 45.]]\n",
      "\n",
      "    [[36. 37. 38.]\n",
      "     [40. 41. 42.]\n",
      "     [44. 45. 46.]]]]]]\n",
      "---------\n",
      "[[ 1.  2.  3.  5.  6.  7.  9. 10. 11. 31. 32. 33. 35. 36. 37. 39. 40. 41.]\n",
      " [ 2.  3.  4.  6.  7.  8. 10. 11. 12. 32. 33. 34. 36. 37. 38. 40. 41. 42.]\n",
      " [ 5.  6.  7.  9. 10. 11. 13. 14. 15. 35. 36. 37. 39. 40. 41. 43. 44. 45.]\n",
      " [ 6.  7.  8. 10. 11. 12. 14. 15. 16. 36. 37. 38. 40. 41. 42. 44. 45. 46.]]\n"
     ]
    }
   ],
   "source": [
    "img = np.array([[[1, 2, 3, 4],\n",
    "                [5, 6, 7, 8],\n",
    "                [9, 10, 11, 12],\n",
    "                [13, 14, 15, 16]],\n",
    "                [[31, 32, 33, 34],\n",
    "                [35, 36, 37, 38],\n",
    "                [39, 40, 41, 42],\n",
    "                [43, 44, 45, 46]]])\n",
    "img = img.reshape(2, 1, 4, 4)\n",
    "cols = im2col_bt_ch(img, 2, 2, 3, 3)\n",
    "print(cols)"
   ]
  },
  {
   "cell_type": "markdown",
   "metadata": {},
   "source": [
    "ストライドとパディングにも対応させる"
   ]
  },
  {
   "cell_type": "code",
   "execution_count": 87,
   "metadata": {},
   "outputs": [],
   "source": [
    "def im2col_pad_st(images, flt_h, flt_w, out_h, out_w, stride, pad):\n",
    "    n_bt, n_ch, img_h, img_w = images.shape\n",
    "    \n",
    "    img_pad = np.pad(images, [(0, 0), (0, 0), (pad, pad), (pad, pad)],\"constant\")\n",
    "    \n",
    "    cols = np.zeros((n_bt, n_ch, flt_h, flt_w, out_h, out_w))\n",
    "    \n",
    "    for h in range(flt_h):\n",
    "        h_lim = h + stride*out_h\n",
    "        for w in range(flt_w):\n",
    "            w_lim = w + stride*out_w\n",
    "            cols[:, :, h, w, :, :] = img_pad[:, :, h:h_lim:stride, w:w_lim:stride]\n",
    "    print(\"cols.shape\", cols.shape)\n",
    "    print(\"cols\", cols)      \n",
    "    print(\"---------\")\n",
    "    print(\"cols transposeしなかったら\\n\", cols.reshape(n_ch*flt_h*flt_w, n_bt*out_h*out_w))      \n",
    "    print(\"---------\")\n",
    "    #print(\"cols.transpose(1, 2, 3, 0, 4, 5)\", cols.transpose(1, 2, 3, 0, 4, 5))\n",
    "    print(\"---------\")\n",
    "    cols = cols.transpose(1, 2, 3, 0, 4, 5).reshape(n_ch*flt_h*flt_w, n_bt*out_h*out_w)\n",
    "    return cols"
   ]
  },
  {
   "cell_type": "code",
   "execution_count": 88,
   "metadata": {},
   "outputs": [
    {
     "name": "stdout",
     "output_type": "stream",
     "text": [
      "cols.shape (2, 1, 2, 2, 3, 3)\n",
      "cols [[[[[[ 1.  2.  3.]\n",
      "     [ 5.  6.  7.]\n",
      "     [ 9. 10. 11.]]\n",
      "\n",
      "    [[ 2.  3.  4.]\n",
      "     [ 6.  7.  8.]\n",
      "     [10. 11. 12.]]]\n",
      "\n",
      "\n",
      "   [[[ 5.  6.  7.]\n",
      "     [ 9. 10. 11.]\n",
      "     [13. 14. 15.]]\n",
      "\n",
      "    [[ 6.  7.  8.]\n",
      "     [10. 11. 12.]\n",
      "     [14. 15. 16.]]]]]\n",
      "\n",
      "\n",
      "\n",
      "\n",
      " [[[[[31. 32. 33.]\n",
      "     [35. 36. 37.]\n",
      "     [39. 40. 41.]]\n",
      "\n",
      "    [[32. 33. 34.]\n",
      "     [36. 37. 38.]\n",
      "     [40. 41. 42.]]]\n",
      "\n",
      "\n",
      "   [[[35. 36. 37.]\n",
      "     [39. 40. 41.]\n",
      "     [43. 44. 45.]]\n",
      "\n",
      "    [[36. 37. 38.]\n",
      "     [40. 41. 42.]\n",
      "     [44. 45. 46.]]]]]]\n",
      "---------\n",
      "cols transposeしなかったら\n",
      " [[ 1.  2.  3.  5.  6.  7.  9. 10. 11.  2.  3.  4.  6.  7.  8. 10. 11. 12.]\n",
      " [ 5.  6.  7.  9. 10. 11. 13. 14. 15.  6.  7.  8. 10. 11. 12. 14. 15. 16.]\n",
      " [31. 32. 33. 35. 36. 37. 39. 40. 41. 32. 33. 34. 36. 37. 38. 40. 41. 42.]\n",
      " [35. 36. 37. 39. 40. 41. 43. 44. 45. 36. 37. 38. 40. 41. 42. 44. 45. 46.]]\n",
      "---------\n",
      "---------\n",
      "[[ 1.  2.  3.  5.  6.  7.  9. 10. 11. 31. 32. 33. 35. 36. 37. 39. 40. 41.]\n",
      " [ 2.  3.  4.  6.  7.  8. 10. 11. 12. 32. 33. 34. 36. 37. 38. 40. 41. 42.]\n",
      " [ 5.  6.  7.  9. 10. 11. 13. 14. 15. 35. 36. 37. 39. 40. 41. 43. 44. 45.]\n",
      " [ 6.  7.  8. 10. 11. 12. 14. 15. 16. 36. 37. 38. 40. 41. 42. 44. 45. 46.]]\n"
     ]
    }
   ],
   "source": [
    "img = np.array([[[1, 2, 3, 4],\n",
    "                [5, 6, 7, 8],\n",
    "                [9, 10, 11, 12],\n",
    "                [13, 14, 15, 16]],\n",
    "                [[31, 32, 33, 34],\n",
    "                [35, 36, 37, 38],\n",
    "                [39, 40, 41, 42],\n",
    "                [43, 44, 45, 46]]])\n",
    "# チャンネル追加 B,Ch, Ih, Iw\n",
    "img = img.reshape(2, 1, 4, 4)\n",
    "# 入力画像、Fh, Fw, Oh, Ow, S, P\n",
    "cols = im2col_pad_st(img, 2, 2, 3, 3, 1, 0)\n",
    "print(cols)"
   ]
  },
  {
   "cell_type": "code",
   "execution_count": 90,
   "metadata": {},
   "outputs": [],
   "source": [
    "def col2im_test(cols, img_shape, flt_h, flt_w, out_h, out_w, stride, pad):\n",
    "    n_bt, n_ch, img_h, img_w = img_shape\n",
    "    \n",
    "    cols = cols.reshape(n_ch, flt_h, flt_w, n_bt, out_h, out_w).transpose(3, 0, 1, 2, 4, 5)\n",
    "    \n",
    "    images = np.zeros((n_bt, n_ch, img_h+2*pad+stride-1, img_w+2*pad+stride-1))\n",
    "    \n",
    "    for h in range(flt_h):\n",
    "        h_lim = h + stride*out_h\n",
    "        for w in range(flt_w):\n",
    "            w_lim = w + stride*out_w\n",
    "            images[:, :, h:h_lim:stride, w:w_lim:stride] += cols[:, :, h, w, :, :]\n",
    "    return images[:, :, pad:img_h+pad, pad:img_w+pad]"
   ]
  },
  {
   "cell_type": "code",
   "execution_count": 91,
   "metadata": {},
   "outputs": [
    {
     "data": {
      "text/plain": [
       "array([[ 1.,  2.,  3.,  5.,  6.,  7.,  9., 10., 11., 31., 32., 33., 35.,\n",
       "        36., 37., 39., 40., 41.],\n",
       "       [ 2.,  3.,  4.,  6.,  7.,  8., 10., 11., 12., 32., 33., 34., 36.,\n",
       "        37., 38., 40., 41., 42.],\n",
       "       [ 5.,  6.,  7.,  9., 10., 11., 13., 14., 15., 35., 36., 37., 39.,\n",
       "        40., 41., 43., 44., 45.],\n",
       "       [ 6.,  7.,  8., 10., 11., 12., 14., 15., 16., 36., 37., 38., 40.,\n",
       "        41., 42., 44., 45., 46.]])"
      ]
     },
     "execution_count": 91,
     "metadata": {},
     "output_type": "execute_result"
    }
   ],
   "source": [
    "cols"
   ]
  },
  {
   "cell_type": "code",
   "execution_count": 92,
   "metadata": {},
   "outputs": [
    {
     "data": {
      "text/plain": [
       "array([[[[  1.,   4.,   6.,   4.],\n",
       "         [ 10.,  24.,  28.,  16.],\n",
       "         [ 18.,  40.,  44.,  24.],\n",
       "         [ 13.,  28.,  30.,  16.]]],\n",
       "\n",
       "\n",
       "       [[[ 31.,  64.,  66.,  34.],\n",
       "         [ 70., 144., 148.,  76.],\n",
       "         [ 78., 160., 164.,  84.],\n",
       "         [ 43.,  88.,  90.,  46.]]]])"
      ]
     },
     "execution_count": 92,
     "metadata": {},
     "output_type": "execute_result"
    }
   ],
   "source": [
    "# B, Ch, Ih, Iw\n",
    "img_shape = (2, 1, 4, 4)\n",
    "# cols, imageshape, Fh, Fw, Oh, Ow,stride, pad\n",
    "col2im_test(cols, img_shape, 2, 2, 3, 3, 1, 0)"
   ]
  },
  {
   "cell_type": "markdown",
   "metadata": {},
   "source": [
    "重なる部分は加算されていくので正しい結果となった"
   ]
  },
  {
   "cell_type": "markdown",
   "metadata": {},
   "source": [
    "## np.padの理解"
   ]
  },
  {
   "cell_type": "code",
   "execution_count": 89,
   "metadata": {},
   "outputs": [
    {
     "name": "stdout",
     "output_type": "stream",
     "text": [
      "(2, 1, 8, 8)\n"
     ]
    },
    {
     "data": {
      "text/plain": [
       "array([[[[ 0,  0,  0,  0,  0,  0,  0,  0],\n",
       "         [ 0,  0,  0,  0,  0,  0,  0,  0],\n",
       "         [ 0,  0,  1,  2,  3,  4,  0,  0],\n",
       "         [ 0,  0,  5,  6,  7,  8,  0,  0],\n",
       "         [ 0,  0,  9, 10, 11, 12,  0,  0],\n",
       "         [ 0,  0, 13, 14, 15, 16,  0,  0],\n",
       "         [ 0,  0,  0,  0,  0,  0,  0,  0],\n",
       "         [ 0,  0,  0,  0,  0,  0,  0,  0]]],\n",
       "\n",
       "\n",
       "       [[[ 0,  0,  0,  0,  0,  0,  0,  0],\n",
       "         [ 0,  0,  0,  0,  0,  0,  0,  0],\n",
       "         [ 0,  0, 31, 32, 33, 34,  0,  0],\n",
       "         [ 0,  0, 35, 36, 37, 38,  0,  0],\n",
       "         [ 0,  0, 39, 40, 41, 42,  0,  0],\n",
       "         [ 0,  0, 43, 44, 45, 46,  0,  0],\n",
       "         [ 0,  0,  0,  0,  0,  0,  0,  0],\n",
       "         [ 0,  0,  0,  0,  0,  0,  0,  0]]]])"
      ]
     },
     "execution_count": 89,
     "metadata": {},
     "output_type": "execute_result"
    }
   ],
   "source": [
    "pad=2\n",
    "print(np.pad(img, [(0, 0), (0, 0), (pad, pad), (pad, pad)],\"constant\").shape)\n",
    "np.pad(img, [(0, 0), (0, 0), (pad, pad), (pad, pad)],\"constant\")"
   ]
  },
  {
   "cell_type": "code",
   "execution_count": null,
   "metadata": {},
   "outputs": [],
   "source": []
  }
 ],
 "metadata": {
  "kernelspec": {
   "display_name": "Python 3",
   "language": "python",
   "name": "python3"
  },
  "language_info": {
   "codemirror_mode": {
    "name": "ipython",
    "version": 3
   },
   "file_extension": ".py",
   "mimetype": "text/x-python",
   "name": "python",
   "nbconvert_exporter": "python",
   "pygments_lexer": "ipython3",
   "version": "3.7.2"
  },
  "toc": {
   "base_numbering": 1,
   "nav_menu": {},
   "number_sections": true,
   "sideBar": true,
   "skip_h1_title": false,
   "title_cell": "Table of Contents",
   "title_sidebar": "Contents",
   "toc_cell": false,
   "toc_position": {
    "height": "calc(100% - 180px)",
    "left": "10px",
    "top": "150px",
    "width": "227.797px"
   },
   "toc_section_display": true,
   "toc_window_display": true
  }
 },
 "nbformat": 4,
 "nbformat_minor": 2
}
