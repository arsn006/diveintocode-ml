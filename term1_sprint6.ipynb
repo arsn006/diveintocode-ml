{
 "cells": [
  {
   "cell_type": "markdown",
   "metadata": {},
   "source": [
    "# Sprint1 機械学習スクラッチ 決定木"
   ]
  },
  {
   "cell_type": "markdown",
   "metadata": {},
   "source": [
    "## 【問題1】不純度を求める関数\n",
    "ノード の ジニ不純度 を計算する関数を作成してください。ノード \n",
    "$t$に対するジニ不純度 $I(t)$は以下の数式で求まります。クラスが混じり合っているほどジニ不純度は高くなります。\n",
    "$$\n",
    "I(t) = 1-\\sum_{i=1}^{K}P^2(C_i|t) = 1-\\sum_{i=1}^{K}(\\frac{N_{t,i}}{N_{t,all}})^{2}\n",
    "$$\n",
    "$t$ : ノードのインデックス\n",
    "\n",
    "\n",
    "$i$ : クラスのインデックス\n",
    "\n",
    "\n",
    "$K$ : クラスの数\n",
    "\n",
    "\n",
    "$C_i$ : i番目のクラス\n",
    "\n",
    "\n",
    "$P(C_{i}|t)$ :　t番目のノードにおける$Ci$の割合\n",
    "\n",
    "\n",
    "$N_{t,i}$ : t番目のノードのi番目のクラスに属するサンプル数\n",
    "\n",
    "\n",
    "$N_{t,all}$ : t番目のノードのサンプルの総数\n",
    "\n",
    "まずは簡単な例を作り、手計算と関数の結果を比較してください。<br>\n",
    "《例》<br>\n",
    "・クラス1:サンプル数15, クラス2:サンプル数15 → ジニ不純度0.500<br>\n",
    "・クラス1:サンプル数15, クラス2:サンプル数15, クラス3:サンプル数15 → ジニ不純度0.667<br>\n",
    "・クラス1:サンプル数18, クラス2:サンプル数12 → ジニ不純度0.480<br>\n",
    "・クラス1:サンプル数30, クラス2:サンプル数0 → ジニ不純度0.000<br>"
   ]
  },
  {
   "cell_type": "code",
   "execution_count": 7,
   "metadata": {},
   "outputs": [],
   "source": [
    "import numpy as np"
   ]
  },
  {
   "cell_type": "code",
   "execution_count": 29,
   "metadata": {},
   "outputs": [],
   "source": [
    "def test(n1, n2):\n",
    "    print((n1/(n1+n2))**2)\n",
    "    print((n2/(n1+n2))**2)\n",
    "    return 1 - ((n1/(n1+n2))**2 + (n2/(n1+n2))**2)"
   ]
  },
  {
   "cell_type": "code",
   "execution_count": 30,
   "metadata": {},
   "outputs": [
    {
     "name": "stdout",
     "output_type": "stream",
     "text": [
      "0.25\n",
      "0.25\n"
     ]
    },
    {
     "data": {
      "text/plain": [
       "0.5"
      ]
     },
     "execution_count": 30,
     "metadata": {},
     "output_type": "execute_result"
    }
   ],
   "source": [
    "test(15, 15)\n",
    "    "
   ]
  },
  {
   "cell_type": "code",
   "execution_count": 34,
   "metadata": {},
   "outputs": [
    {
     "data": {
      "text/plain": [
       "(10, 2)"
      ]
     },
     "execution_count": 34,
     "metadata": {},
     "output_type": "execute_result"
    }
   ],
   "source": [
    "X = np.array([[1, 5],\n",
    "              [2, 5],\n",
    "              [3, 5],\n",
    "              [1, 3],\n",
    "              [2, 4],\n",
    "              [3, 3],\n",
    "              [5, 3],\n",
    "              [4, 2],\n",
    "              [3, 1],\n",
    "              [5, 1]])\n",
    "X.shape"
   ]
  },
  {
   "cell_type": "code",
   "execution_count": 35,
   "metadata": {},
   "outputs": [
    {
     "data": {
      "text/plain": [
       "(10,)"
      ]
     },
     "execution_count": 35,
     "metadata": {},
     "output_type": "execute_result"
    }
   ],
   "source": [
    "y = np.array([0, 0, 0, 0, 0, 1, 1, 1, 1, 1])\n",
    "y.shape"
   ]
  },
  {
   "cell_type": "code",
   "execution_count": 110,
   "metadata": {},
   "outputs": [
    {
     "name": "stdout",
     "output_type": "stream",
     "text": [
      "target name 0\n",
      "target name 1\n",
      "target 5\n",
      "target 5\n",
      "sum 10\n"
     ]
    },
    {
     "data": {
      "text/plain": [
       "3"
      ]
     },
     "execution_count": 110,
     "metadata": {},
     "output_type": "execute_result"
    }
   ],
   "source": [
    "category_count_array = []\n",
    "\n",
    "for target in np.unique(y):\n",
    "    #array = np.where(y==target)\n",
    "    #print(len(array[0]))\n",
    "    print(\"target name\", target)\n",
    "    category_count_array.append(len(np.where(y==target)[0]))\n",
    "    \n",
    "for target in category_count_array:\n",
    "    print(\"target\", target)\n",
    "print(\"sum\",sum(category_count_array))\n",
    "node_num_array = [[10, 30],[20, 5],[5, 3]]\n",
    "len(node_num_array)"
   ]
  },
  {
   "cell_type": "code",
   "execution_count": 134,
   "metadata": {},
   "outputs": [
    {
     "name": "stdout",
     "output_type": "stream",
     "text": [
      "(array([1, 5]), array([2, 5]))\n",
      "(array([1, 5]), array([3, 5]))\n",
      "(array([1, 5]), array([1, 3]))\n",
      "(array([1, 5]), array([2, 4]))\n",
      "(array([1, 5]), array([3, 3]))\n",
      "(array([1, 5]), array([5, 3]))\n",
      "(array([1, 5]), array([4, 2]))\n",
      "(array([1, 5]), array([3, 1]))\n",
      "(array([1, 5]), array([5, 1]))\n",
      "(array([2, 5]), array([3, 5]))\n",
      "(array([2, 5]), array([1, 3]))\n",
      "(array([2, 5]), array([2, 4]))\n",
      "(array([2, 5]), array([3, 3]))\n",
      "(array([2, 5]), array([5, 3]))\n",
      "(array([2, 5]), array([4, 2]))\n",
      "(array([2, 5]), array([3, 1]))\n",
      "(array([2, 5]), array([5, 1]))\n",
      "(array([3, 5]), array([1, 3]))\n",
      "(array([3, 5]), array([2, 4]))\n",
      "(array([3, 5]), array([3, 3]))\n",
      "(array([3, 5]), array([5, 3]))\n",
      "(array([3, 5]), array([4, 2]))\n",
      "(array([3, 5]), array([3, 1]))\n",
      "(array([3, 5]), array([5, 1]))\n",
      "(array([1, 3]), array([2, 4]))\n",
      "(array([1, 3]), array([3, 3]))\n",
      "(array([1, 3]), array([5, 3]))\n",
      "(array([1, 3]), array([4, 2]))\n",
      "(array([1, 3]), array([3, 1]))\n",
      "(array([1, 3]), array([5, 1]))\n",
      "(array([2, 4]), array([3, 3]))\n",
      "(array([2, 4]), array([5, 3]))\n",
      "(array([2, 4]), array([4, 2]))\n",
      "(array([2, 4]), array([3, 1]))\n",
      "(array([2, 4]), array([5, 1]))\n",
      "(array([3, 3]), array([5, 3]))\n",
      "(array([3, 3]), array([4, 2]))\n",
      "(array([3, 3]), array([3, 1]))\n",
      "(array([3, 3]), array([5, 1]))\n",
      "(array([5, 3]), array([4, 2]))\n",
      "(array([5, 3]), array([3, 1]))\n",
      "(array([5, 3]), array([5, 1]))\n",
      "(array([4, 2]), array([3, 1]))\n",
      "(array([4, 2]), array([5, 1]))\n",
      "(array([3, 1]), array([5, 1]))\n"
     ]
    }
   ],
   "source": [
    "import itertools\n",
    "\n",
    "l = ['a', 'b', 'c', 'd']\n",
    "for v in itertools.combinations(X, 2):\n",
    "    print(v)"
   ]
  },
  {
   "cell_type": "code",
   "execution_count": 125,
   "metadata": {},
   "outputs": [],
   "source": [
    "class ScratchDecesionTreeClassifierDepth1():\n",
    "    \"\"\"\n",
    "    深さ1の決定木分類器のスクラッチ実装\n",
    "\n",
    "    Parameters\n",
    "    ----------\n",
    "    verbose : bool\n",
    "      学習過程を出力する場合はTrue\n",
    "    max_depth : int\n",
    "      木の深さ\n",
    "      \n",
    "    Atrivute\n",
    "    ----------\n",
    "    _node : list(int, int, int,(n_features))\n",
    "      各ノードNo.、親のノードNo.、ジニ不純度、各ラベルに分類された個数\n",
    "      ノード分追加\n",
    "      \n",
    "    _label_name : list(n_features)\n",
    "      正解ラベルの名前\n",
    "    \"\"\"\n",
    "    def __init__(self, verbose=False, max_depth=1, split_num=2):\n",
    "        # ハイパーパラメータを属性として記録\n",
    "        self.verbose = verbose\n",
    "        self.max_depth = max_depth\n",
    "        self.split_num = split_num\n",
    "        \n",
    "    def fit(self, X, y):\n",
    "        \"\"\"\n",
    "        決定木分類器を学習する\n",
    "        Parameters\n",
    "        ----------\n",
    "        X : 次の形のndarray, shape (n_samples, n_features)\n",
    "            訓練データの特徴量\n",
    "        y : 次の形のndarray, shape (n_samples, )\n",
    "            訓練データの正解値\n",
    "        \"\"\"\n",
    "        self._node = []\n",
    "        self._label_name = []\n",
    "        # rootノードの各ラベル数を正解ラベルから取得（正解ラベルに入っていないことは想定しない）\n",
    "        category_count_array = []\n",
    "        for target in np.unique(y):\n",
    "            category_count_array.append(len(np.where(y==target)[0]))\n",
    "            self._label_name.append(target)\n",
    "        \n",
    "        lmp = self._gini_Impure(category_count_array)\n",
    "        print(\"不純度 : \", lmp)\n",
    "        # _nodeにノード情報を保存 : 0:No. / 1:親は無いので親No.-1 / 2:ジニ不純度 /3:各ラベルの個数\n",
    "        self._node.append([0, -1, lmp, category_count_array])\n",
    "        print(\"self._node : \", self._node)\n",
    "        \n",
    "        \n",
    "        for i in range(1, self.max_depth+1):\n",
    "            print(\"木の深さ : \",i)\n",
    "            node_num_array = [[10, 30],[20, 5]]\n",
    "            parent = 0\n",
    "            ig = self._Information_gain(parent, node_num_array)\n",
    "            print(\"情報利得 : \", ig)\n",
    "        \n",
    "        \n",
    "        if self.verbose:\n",
    "            #verboseをTrueにした際は学習過程を出力\n",
    "            print()\n",
    "        pass\n",
    "    \n",
    "    def _gini_Impure(self, category_count_array):\n",
    "        \"\"\"\n",
    "        ジニ不純度を計算\n",
    "        Parameters\n",
    "        ----------\n",
    "        category_count_array : 次の形 list(n_features)\n",
    "          各ラベルの個数\n",
    "        \n",
    "        return float\n",
    "        \"\"\"\n",
    "        lmp = 1\n",
    "        for target in category_count_array:\n",
    "            lmp -= (target/sum(category_count_array))**2\n",
    "        \n",
    "        return lmp\n",
    "    \n",
    "    def _Information_gain(self, parent_i, node_num_array):\n",
    "        \"\"\"\n",
    "        情報利得を計算\n",
    "        Parameters\n",
    "        ----------\n",
    "        node_num_array : list\n",
    "        \"\"\"\n",
    "        \n",
    "        print(\"親のジニ不純度\", self._node[parent_i][2])\n",
    "        \n",
    "        ig = self._node[parent_i][2]\n",
    "        \n",
    "        for target in node_num_array:\n",
    "            print(\"target\", target)\n",
    "            lmp = self._gini_Impure(target)\n",
    "            print(\"lmp\", lmp)\n",
    "            print(\"sum(target)\", sum(target))\n",
    "            print(\"親のサンプル数\", sum(self._node[parent_i][3]))\n",
    "            #ig -= lmp*sum(target)/sum(self._node[parent_i][3])\n",
    "            ig -= lmp*sum(target)/65\n",
    "        \n",
    "        return ig\n",
    "    \n",
    "    def predict(self, X):\n",
    "        \"\"\"\n",
    "        決定木分類器を使いラベルを推定する\n",
    "        \"\"\"\n",
    "        pass\n",
    "        return"
   ]
  },
  {
   "cell_type": "code",
   "execution_count": 126,
   "metadata": {},
   "outputs": [
    {
     "name": "stdout",
     "output_type": "stream",
     "text": [
      "不純度 :  0.5\n",
      "self._node :  [[0, -1, 0.5, [5, 5]]]\n",
      "木の深さ :  1\n",
      "親のジニ不純度 0.5\n",
      "target [10, 30]\n",
      "lmp 0.375\n",
      "sum(target) 40\n",
      "親のサンプル数 10\n",
      "target [20, 5]\n",
      "lmp 0.31999999999999984\n",
      "sum(target) 25\n",
      "親のサンプル数 10\n",
      "情報利得 :  0.1461538461538462\n"
     ]
    }
   ],
   "source": [
    "sc_DT_1 = ScratchDecesionTreeClassifierDepth1()\n",
    "sc_DT_1.fit(X, y)"
   ]
  },
  {
   "cell_type": "code",
   "execution_count": null,
   "metadata": {},
   "outputs": [],
   "source": []
  }
 ],
 "metadata": {
  "kernelspec": {
   "display_name": "Python 3",
   "language": "python",
   "name": "python3"
  },
  "language_info": {
   "codemirror_mode": {
    "name": "ipython",
    "version": 3
   },
   "file_extension": ".py",
   "mimetype": "text/x-python",
   "name": "python",
   "nbconvert_exporter": "python",
   "pygments_lexer": "ipython3",
   "version": "3.7.2"
  }
 },
 "nbformat": 4,
 "nbformat_minor": 2
}
